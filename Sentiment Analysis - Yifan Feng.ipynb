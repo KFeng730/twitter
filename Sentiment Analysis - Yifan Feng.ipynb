{
 "cells": [
  {
   "cell_type": "code",
   "execution_count": 1,
   "metadata": {},
   "outputs": [],
   "source": [
    "#Import Tweet Dataset\n",
    "import pandas as pd\n",
    "ruok_f = 'RUOK_Combined_Location.csv'\n",
    "ruok=pd.read_csv(ruok_f)"
   ]
  },
  {
   "cell_type": "code",
   "execution_count": 2,
   "metadata": {},
   "outputs": [
    {
     "name": "stdout",
     "output_type": "stream",
     "text": [
      "(24798, 28)\n",
      "Index(['query', 'query_type', 'id', 'created_at', 'user_screen_name', 'source',\n",
      "       'lang', 'retweet_count', 'favorite_count', 'in_reply_to_screen_name',\n",
      "       'place', 'coordinates', 'user.time_zone', 'full_text', 'hashtags',\n",
      "       'user_mentions', 'in_reply_to_status_id', 'place_type', 'place_name',\n",
      "       'place_full_name', 'country_code', 'country', 'contained_within',\n",
      "       'coordinate_box', 'x_coor', 'y_coor', 'reply_count', 'level'],\n",
      "      dtype='object')\n"
     ]
    }
   ],
   "source": [
    "#check the size of the tweet dataset\n",
    "print(ruok.shape)\n",
    "#check the column name of the tweet dataset\n",
    "print(ruok.columns)"
   ]
  },
  {
   "cell_type": "code",
   "execution_count": 3,
   "metadata": {},
   "outputs": [
    {
     "data": {
      "text/plain": [
       "0    RT @ruokday: #RUOKDay2019 is Thursday 12 Septe...\n",
       "1    RT @ruokday: #RUOKDay2019 is September 12. \\xe...\n",
       "2    RT @ruokday: #RUOKDay2019 is September 12. \\xe...\n",
       "Name: full_text, dtype: object"
      ]
     },
     "execution_count": 3,
     "metadata": {},
     "output_type": "execute_result"
    }
   ],
   "source": [
    "ruok['full_text'].head(3)"
   ]
  },
  {
   "cell_type": "markdown",
   "metadata": {},
   "source": [
    "# Data Pre-processing"
   ]
  },
  {
   "cell_type": "markdown",
   "metadata": {},
   "source": [
    "1. Remove Twitter handlers & URL\n",
    "2. Remove punctuations\n",
    "3. Tokenisation\n",
    "4. Remove Stopwords\n",
    "5. Stemming"
   ]
  },
  {
   "cell_type": "code",
   "execution_count": 4,
   "metadata": {},
   "outputs": [
    {
     "name": "stderr",
     "output_type": "stream",
     "text": [
      "[nltk_data] Downloading package wordnet to\n",
      "[nltk_data]     /Users/fengyifan/nltk_data...\n",
      "[nltk_data]   Package wordnet is already up-to-date!\n"
     ]
    }
   ],
   "source": [
    "import numpy as np\n",
    "import re\n",
    "import string\n",
    "import nltk \n",
    "nltk.download('wordnet')\n",
    "import warnings\n",
    "warnings.filterwarnings(\"ignore\")"
   ]
  },
  {
   "cell_type": "code",
   "execution_count": 5,
   "metadata": {},
   "outputs": [],
   "source": [
    "#remove Twitter Handles (@user)\n",
    "def remove_pattern(input_txt, pattern):\n",
    "    r = re.findall(pattern, input_txt)\n",
    "    for i in r:\n",
    "        input_txt = re.sub(i, '', input_txt)\n",
    "        \n",
    "    return input_txt  "
   ]
  },
  {
   "cell_type": "code",
   "execution_count": 6,
   "metadata": {},
   "outputs": [
    {
     "data": {
      "text/plain": [
       "0    RT : #RUOKDay2019 is Thursday 12 September. Re...\n",
       "1    RT : #RUOKDay2019 is September 12. \\xe2\\x9d\\xa...\n",
       "2    RT : #RUOKDay2019 is September 12. \\xe2\\x9d\\xa...\n",
       "Name: tidy_tweet, dtype: object"
      ]
     },
     "execution_count": 6,
     "metadata": {},
     "output_type": "execute_result"
    }
   ],
   "source": [
    "ruok['tidy_tweet'] = np.vectorize(remove_pattern)(ruok['full_text'], \"@[\\w]*\")\n",
    "ruok['tidy_tweet'].head(3)"
   ]
  },
  {
   "cell_type": "code",
   "execution_count": 7,
   "metadata": {},
   "outputs": [],
   "source": [
    "#remove url\n",
    "def remove_url(tweet):\n",
    "    \n",
    "    # remove URL\n",
    "    tweet = re.sub(r\"http\\S+\", \"\", tweet)\n",
    "    \n",
    "    return tweet"
   ]
  },
  {
   "cell_type": "code",
   "execution_count": 8,
   "metadata": {},
   "outputs": [],
   "source": [
    "ruok['tidy_tweet'] = ruok['tidy_tweet'].apply(remove_url)"
   ]
  },
  {
   "cell_type": "code",
   "execution_count": 9,
   "metadata": {},
   "outputs": [
    {
     "name": "stdout",
     "output_type": "stream",
     "text": [
      "!\"#$%&'()*+,-./:;<=>?@[\\]^_`{|}~\n"
     ]
    }
   ],
   "source": [
    "print(string.punctuation)\n",
    "#remove punctuations\n",
    "def remove_punct(text):\n",
    "    text  = \"\".join([char for char in text if char not in string.punctuation])\n",
    "    text = re.sub('[0-9]+', '', text)\n",
    "    return text"
   ]
  },
  {
   "cell_type": "code",
   "execution_count": 10,
   "metadata": {},
   "outputs": [],
   "source": [
    "ruok['tidy_tweet'] = ruok['tidy_tweet'].apply(lambda x: remove_punct(x))"
   ]
  },
  {
   "cell_type": "code",
   "execution_count": 11,
   "metadata": {},
   "outputs": [
    {
     "data": {
      "text/plain": [
       "0    RT  RUOKDay is Thursday  September Retweet thi...\n",
       "1    RT  RUOKDay is September  xexdxaxefxbxf this t...\n",
       "2    RT  RUOKDay is September  xexdxaxefxbxf this t...\n",
       "Name: tidy_tweet, dtype: object"
      ]
     },
     "execution_count": 11,
     "metadata": {},
     "output_type": "execute_result"
    }
   ],
   "source": [
    "ruok['tidy_tweet'].head(3)"
   ]
  },
  {
   "cell_type": "code",
   "execution_count": 12,
   "metadata": {},
   "outputs": [],
   "source": [
    "#tokenisation\n",
    "def tokenization(text):\n",
    "    text = re.split('\\W+', text)\n",
    "    return text"
   ]
  },
  {
   "cell_type": "code",
   "execution_count": 13,
   "metadata": {},
   "outputs": [
    {
     "data": {
      "text/plain": [
       "0    [rt, ruokday, is, thursday, september, retweet...\n",
       "1    [rt, ruokday, is, september, xexdxaxefxbxf, th...\n",
       "2    [rt, ruokday, is, september, xexdxaxefxbxf, th...\n",
       "Name: Tweet_tokenized, dtype: object"
      ]
     },
     "execution_count": 13,
     "metadata": {},
     "output_type": "execute_result"
    }
   ],
   "source": [
    "ruok['Tweet_tokenized'] = ruok['tidy_tweet'].apply(lambda x: tokenization(x.lower()))\n",
    "ruok['Tweet_tokenized'].head(3)"
   ]
  },
  {
   "cell_type": "code",
   "execution_count": 14,
   "metadata": {},
   "outputs": [],
   "source": [
    "#remove stop words\n",
    "stopword = nltk.corpus.stopwords.words('english')\n",
    "stopword.extend(['xe2','x80','xa6','b','b\\'rt','xf0','x9f','n','thi','x91','x99','wa','ha','x89','x9d','x8f','his.w',\n",
    "               'nhttp','x98','x8e','xb8','x92','xa4','x8c','xa8','x94','x9c','xa5','see','xa7','v\\'','x86','xb6','...',\n",
    "               'x90','xb7','x8d','x87','xec','x83','xa9','xb0','x89http','TRUE','x8b','x85','x88','x82','x96','x94a',\n",
    "               'x9a','xb5','x9e','xbf','xaf','xeb','xac','xed','xbc','xad','x98lover','x99m','x93','xc2','x8a','x97',\n",
    "               'xa2','x95','xb9','xbd','x81','xa1','x99re','x99re','xba','x9cthi','x99ve','xa3','x99all','xc3','xb3',\n",
    "               'x9cthe','x99ll','xaa','x9clover','x9cyou','x98new','x9c16','xef','x99t','xa0','spotify','https','x99s',\n",
    "               'nthis','htt','nhttps','co','hi','xaq','rt','also','us','go','sp','let','put','get','got','x84','ncheck',\n",
    "               'xbb','x9c','x94','x9','th','gladysb','xexdxaxefxbxf','httxexxa',\"ruoxexxa\",\n",
    "               '5v9mup3qzt','x9care','xgdvgco','x8fthis'])\n",
    "def remove_stopwords(text):\n",
    "    text = [word for word in text if word not in stopword]\n",
    "    return text"
   ]
  },
  {
   "cell_type": "code",
   "execution_count": 15,
   "metadata": {},
   "outputs": [
    {
     "data": {
      "text/plain": [
       "0    [ruokday, thursday, september, retweet, tweet,...\n",
       "1    [ruokday, september, tweet, reminder, day, inf...\n",
       "2    [ruokday, september, tweet, reminder, day, inf...\n",
       "Name: Tweet_nonstop, dtype: object"
      ]
     },
     "execution_count": 15,
     "metadata": {},
     "output_type": "execute_result"
    }
   ],
   "source": [
    "ruok['Tweet_nonstop'] = ruok['Tweet_tokenized'].apply(lambda x: remove_stopwords(x))\n",
    "ruok['Tweet_nonstop'].head(3)"
   ]
  },
  {
   "cell_type": "code",
   "execution_count": 16,
   "metadata": {},
   "outputs": [],
   "source": [
    "#stemming\n",
    "ps = nltk.PorterStemmer()\n",
    "def stemming(text):\n",
    "    text = [ps.stem(word) for word in text]\n",
    "    return text"
   ]
  },
  {
   "cell_type": "code",
   "execution_count": 17,
   "metadata": {},
   "outputs": [
    {
     "data": {
      "text/plain": [
       "0    [ruokday, thursday, septemb, retweet, tweet, r...\n",
       "1    [ruokday, septemb, tweet, remind, day, info, h...\n",
       "2    [ruokday, septemb, tweet, remind, day, info, h...\n",
       "Name: Tweet_stem, dtype: object"
      ]
     },
     "execution_count": 17,
     "metadata": {},
     "output_type": "execute_result"
    }
   ],
   "source": [
    "ruok['Tweet_stem'] = ruok['Tweet_nonstop'].apply(lambda x: stemming(x))\n",
    "ruok['Tweet_stem'].head(3)"
   ]
  },
  {
   "cell_type": "markdown",
   "metadata": {},
   "source": [
    "# Vader Sentiment"
   ]
  },
  {
   "cell_type": "code",
   "execution_count": 18,
   "metadata": {},
   "outputs": [],
   "source": [
    "#convert stemmed tweets to strings\n",
    "def list_to_string(text):\n",
    "    text = ' '.join(text)\n",
    "    return text"
   ]
  },
  {
   "cell_type": "code",
   "execution_count": 19,
   "metadata": {},
   "outputs": [
    {
     "data": {
      "text/html": [
       "<div>\n",
       "<style scoped>\n",
       "    .dataframe tbody tr th:only-of-type {\n",
       "        vertical-align: middle;\n",
       "    }\n",
       "\n",
       "    .dataframe tbody tr th {\n",
       "        vertical-align: top;\n",
       "    }\n",
       "\n",
       "    .dataframe thead th {\n",
       "        text-align: right;\n",
       "    }\n",
       "</style>\n",
       "<table border=\"1\" class=\"dataframe\">\n",
       "  <thead>\n",
       "    <tr style=\"text-align: right;\">\n",
       "      <th></th>\n",
       "      <th>Tweet_stem</th>\n",
       "      <th>Tweet_string</th>\n",
       "    </tr>\n",
       "  </thead>\n",
       "  <tbody>\n",
       "    <tr>\n",
       "      <th>0</th>\n",
       "      <td>[ruokday, thursday, septemb, retweet, tweet, r...</td>\n",
       "      <td>ruokday thursday septemb retweet tweet remind ...</td>\n",
       "    </tr>\n",
       "    <tr>\n",
       "      <th>1</th>\n",
       "      <td>[ruokday, septemb, tweet, remind, day, info, h...</td>\n",
       "      <td>ruokday septemb tweet remind day info help lea...</td>\n",
       "    </tr>\n",
       "    <tr>\n",
       "      <th>2</th>\n",
       "      <td>[ruokday, septemb, tweet, remind, day, info, h...</td>\n",
       "      <td>ruokday septemb tweet remind day info help lea...</td>\n",
       "    </tr>\n",
       "  </tbody>\n",
       "</table>\n",
       "</div>"
      ],
      "text/plain": [
       "                                          Tweet_stem  \\\n",
       "0  [ruokday, thursday, septemb, retweet, tweet, r...   \n",
       "1  [ruokday, septemb, tweet, remind, day, info, h...   \n",
       "2  [ruokday, septemb, tweet, remind, day, info, h...   \n",
       "\n",
       "                                        Tweet_string  \n",
       "0  ruokday thursday septemb retweet tweet remind ...  \n",
       "1  ruokday septemb tweet remind day info help lea...  \n",
       "2  ruokday septemb tweet remind day info help lea...  "
      ]
     },
     "execution_count": 19,
     "metadata": {},
     "output_type": "execute_result"
    }
   ],
   "source": [
    "ruok['Tweet_string'] = ruok['Tweet_stem'].apply(lambda x: list_to_string(x))\n",
    "ruok[['Tweet_stem','Tweet_string']].head(3)"
   ]
  },
  {
   "cell_type": "code",
   "execution_count": 20,
   "metadata": {},
   "outputs": [],
   "source": [
    "from nltk.sentiment.vader import SentimentIntensityAnalyzer"
   ]
  },
  {
   "cell_type": "code",
   "execution_count": 21,
   "metadata": {},
   "outputs": [],
   "source": [
    "#Vader sentiment analysis\n",
    "analyzer = SentimentIntensityAnalyzer()\n",
    "#Compound score between -1 (most negative) and 1 (most positive)\n",
    "ruok['sentiment_compound_polarity']=ruok.Tweet_string.apply(lambda x:analyzer.polarity_scores(x)['compound'])\n",
    "ruok['sentiment_neutral']=ruok.Tweet_string.apply(lambda x:analyzer.polarity_scores(x)['neu'])\n",
    "ruok['sentiment_negative']=ruok.Tweet_string.apply(lambda x:analyzer.polarity_scores(x)['neg'])\n",
    "ruok['sentiment_pos']=ruok.Tweet_string.apply(lambda x:analyzer.polarity_scores(x)['pos'])\n",
    "ruok['sentiment_type']=''\n",
    "#mark the sentiment type for each tweet\n",
    "ruok.loc[ruok.sentiment_compound_polarity>0,'sentiment_type']='Positive'\n",
    "ruok.loc[ruok.sentiment_compound_polarity==0,'sentiment_type']='Neutral'\n",
    "ruok.loc[ruok.sentiment_compound_polarity<0,'sentiment_type']='Negative'"
   ]
  },
  {
   "cell_type": "code",
   "execution_count": 22,
   "metadata": {},
   "outputs": [
    {
     "data": {
      "text/plain": [
       "Positive    16371\n",
       "Neutral      5059\n",
       "Negative     3368\n",
       "Name: sentiment_type, dtype: int64"
      ]
     },
     "execution_count": 22,
     "metadata": {},
     "output_type": "execute_result"
    }
   ],
   "source": [
    "ruok['sentiment_type'].value_counts()"
   ]
  },
  {
   "cell_type": "code",
   "execution_count": 23,
   "metadata": {
    "scrolled": false
   },
   "outputs": [
    {
     "data": {
      "text/html": [
       "        <script type=\"text/javascript\">\n",
       "        window.PlotlyConfig = {MathJaxConfig: 'local'};\n",
       "        if (window.MathJax) {MathJax.Hub.Config({SVG: {font: \"STIX-Web\"}});}\n",
       "        if (typeof require !== 'undefined') {\n",
       "        require.undef(\"plotly\");\n",
       "        requirejs.config({\n",
       "            paths: {\n",
       "                'plotly': ['https://cdn.plot.ly/plotly-latest.min']\n",
       "            }\n",
       "        });\n",
       "        require(['plotly'], function(Plotly) {\n",
       "            window._Plotly = Plotly;\n",
       "        });\n",
       "        }\n",
       "        </script>\n",
       "        "
      ]
     },
     "metadata": {},
     "output_type": "display_data"
    }
   ],
   "source": [
    "import plotly.graph_objs as go\n",
    "from plotly.offline import download_plotlyjs, init_notebook_mode, plot, iplot\n",
    "init_notebook_mode(connected=True)"
   ]
  },
  {
   "cell_type": "code",
   "execution_count": 86,
   "metadata": {},
   "outputs": [
    {
     "data": {
      "application/vnd.plotly.v1+json": {
       "config": {
        "plotlyServerURL": "https://plot.ly"
       },
       "data": [
        {
         "labels": [
          "Positive",
          "Neutral",
          "Negative"
         ],
         "marker": {
          "colors": [
           "blue",
           "gray",
           "red"
          ]
         },
         "type": "pie",
         "values": [
          16221,
          4987,
          3347
         ]
        }
       ],
       "layout": {
        "height": 500,
        "template": {
         "data": {
          "bar": [
           {
            "error_x": {
             "color": "#2a3f5f"
            },
            "error_y": {
             "color": "#2a3f5f"
            },
            "marker": {
             "line": {
              "color": "#E5ECF6",
              "width": 0.5
             }
            },
            "type": "bar"
           }
          ],
          "barpolar": [
           {
            "marker": {
             "line": {
              "color": "#E5ECF6",
              "width": 0.5
             }
            },
            "type": "barpolar"
           }
          ],
          "carpet": [
           {
            "aaxis": {
             "endlinecolor": "#2a3f5f",
             "gridcolor": "white",
             "linecolor": "white",
             "minorgridcolor": "white",
             "startlinecolor": "#2a3f5f"
            },
            "baxis": {
             "endlinecolor": "#2a3f5f",
             "gridcolor": "white",
             "linecolor": "white",
             "minorgridcolor": "white",
             "startlinecolor": "#2a3f5f"
            },
            "type": "carpet"
           }
          ],
          "choropleth": [
           {
            "colorbar": {
             "outlinewidth": 0,
             "ticks": ""
            },
            "type": "choropleth"
           }
          ],
          "contour": [
           {
            "colorbar": {
             "outlinewidth": 0,
             "ticks": ""
            },
            "colorscale": [
             [
              0,
              "#0d0887"
             ],
             [
              0.1111111111111111,
              "#46039f"
             ],
             [
              0.2222222222222222,
              "#7201a8"
             ],
             [
              0.3333333333333333,
              "#9c179e"
             ],
             [
              0.4444444444444444,
              "#bd3786"
             ],
             [
              0.5555555555555556,
              "#d8576b"
             ],
             [
              0.6666666666666666,
              "#ed7953"
             ],
             [
              0.7777777777777778,
              "#fb9f3a"
             ],
             [
              0.8888888888888888,
              "#fdca26"
             ],
             [
              1,
              "#f0f921"
             ]
            ],
            "type": "contour"
           }
          ],
          "contourcarpet": [
           {
            "colorbar": {
             "outlinewidth": 0,
             "ticks": ""
            },
            "type": "contourcarpet"
           }
          ],
          "heatmap": [
           {
            "colorbar": {
             "outlinewidth": 0,
             "ticks": ""
            },
            "colorscale": [
             [
              0,
              "#0d0887"
             ],
             [
              0.1111111111111111,
              "#46039f"
             ],
             [
              0.2222222222222222,
              "#7201a8"
             ],
             [
              0.3333333333333333,
              "#9c179e"
             ],
             [
              0.4444444444444444,
              "#bd3786"
             ],
             [
              0.5555555555555556,
              "#d8576b"
             ],
             [
              0.6666666666666666,
              "#ed7953"
             ],
             [
              0.7777777777777778,
              "#fb9f3a"
             ],
             [
              0.8888888888888888,
              "#fdca26"
             ],
             [
              1,
              "#f0f921"
             ]
            ],
            "type": "heatmap"
           }
          ],
          "heatmapgl": [
           {
            "colorbar": {
             "outlinewidth": 0,
             "ticks": ""
            },
            "colorscale": [
             [
              0,
              "#0d0887"
             ],
             [
              0.1111111111111111,
              "#46039f"
             ],
             [
              0.2222222222222222,
              "#7201a8"
             ],
             [
              0.3333333333333333,
              "#9c179e"
             ],
             [
              0.4444444444444444,
              "#bd3786"
             ],
             [
              0.5555555555555556,
              "#d8576b"
             ],
             [
              0.6666666666666666,
              "#ed7953"
             ],
             [
              0.7777777777777778,
              "#fb9f3a"
             ],
             [
              0.8888888888888888,
              "#fdca26"
             ],
             [
              1,
              "#f0f921"
             ]
            ],
            "type": "heatmapgl"
           }
          ],
          "histogram": [
           {
            "marker": {
             "colorbar": {
              "outlinewidth": 0,
              "ticks": ""
             }
            },
            "type": "histogram"
           }
          ],
          "histogram2d": [
           {
            "colorbar": {
             "outlinewidth": 0,
             "ticks": ""
            },
            "colorscale": [
             [
              0,
              "#0d0887"
             ],
             [
              0.1111111111111111,
              "#46039f"
             ],
             [
              0.2222222222222222,
              "#7201a8"
             ],
             [
              0.3333333333333333,
              "#9c179e"
             ],
             [
              0.4444444444444444,
              "#bd3786"
             ],
             [
              0.5555555555555556,
              "#d8576b"
             ],
             [
              0.6666666666666666,
              "#ed7953"
             ],
             [
              0.7777777777777778,
              "#fb9f3a"
             ],
             [
              0.8888888888888888,
              "#fdca26"
             ],
             [
              1,
              "#f0f921"
             ]
            ],
            "type": "histogram2d"
           }
          ],
          "histogram2dcontour": [
           {
            "colorbar": {
             "outlinewidth": 0,
             "ticks": ""
            },
            "colorscale": [
             [
              0,
              "#0d0887"
             ],
             [
              0.1111111111111111,
              "#46039f"
             ],
             [
              0.2222222222222222,
              "#7201a8"
             ],
             [
              0.3333333333333333,
              "#9c179e"
             ],
             [
              0.4444444444444444,
              "#bd3786"
             ],
             [
              0.5555555555555556,
              "#d8576b"
             ],
             [
              0.6666666666666666,
              "#ed7953"
             ],
             [
              0.7777777777777778,
              "#fb9f3a"
             ],
             [
              0.8888888888888888,
              "#fdca26"
             ],
             [
              1,
              "#f0f921"
             ]
            ],
            "type": "histogram2dcontour"
           }
          ],
          "mesh3d": [
           {
            "colorbar": {
             "outlinewidth": 0,
             "ticks": ""
            },
            "type": "mesh3d"
           }
          ],
          "parcoords": [
           {
            "line": {
             "colorbar": {
              "outlinewidth": 0,
              "ticks": ""
             }
            },
            "type": "parcoords"
           }
          ],
          "scatter": [
           {
            "marker": {
             "colorbar": {
              "outlinewidth": 0,
              "ticks": ""
             }
            },
            "type": "scatter"
           }
          ],
          "scatter3d": [
           {
            "line": {
             "colorbar": {
              "outlinewidth": 0,
              "ticks": ""
             }
            },
            "marker": {
             "colorbar": {
              "outlinewidth": 0,
              "ticks": ""
             }
            },
            "type": "scatter3d"
           }
          ],
          "scattercarpet": [
           {
            "marker": {
             "colorbar": {
              "outlinewidth": 0,
              "ticks": ""
             }
            },
            "type": "scattercarpet"
           }
          ],
          "scattergeo": [
           {
            "marker": {
             "colorbar": {
              "outlinewidth": 0,
              "ticks": ""
             }
            },
            "type": "scattergeo"
           }
          ],
          "scattergl": [
           {
            "marker": {
             "colorbar": {
              "outlinewidth": 0,
              "ticks": ""
             }
            },
            "type": "scattergl"
           }
          ],
          "scattermapbox": [
           {
            "marker": {
             "colorbar": {
              "outlinewidth": 0,
              "ticks": ""
             }
            },
            "type": "scattermapbox"
           }
          ],
          "scatterpolar": [
           {
            "marker": {
             "colorbar": {
              "outlinewidth": 0,
              "ticks": ""
             }
            },
            "type": "scatterpolar"
           }
          ],
          "scatterpolargl": [
           {
            "marker": {
             "colorbar": {
              "outlinewidth": 0,
              "ticks": ""
             }
            },
            "type": "scatterpolargl"
           }
          ],
          "scatterternary": [
           {
            "marker": {
             "colorbar": {
              "outlinewidth": 0,
              "ticks": ""
             }
            },
            "type": "scatterternary"
           }
          ],
          "surface": [
           {
            "colorbar": {
             "outlinewidth": 0,
             "ticks": ""
            },
            "colorscale": [
             [
              0,
              "#0d0887"
             ],
             [
              0.1111111111111111,
              "#46039f"
             ],
             [
              0.2222222222222222,
              "#7201a8"
             ],
             [
              0.3333333333333333,
              "#9c179e"
             ],
             [
              0.4444444444444444,
              "#bd3786"
             ],
             [
              0.5555555555555556,
              "#d8576b"
             ],
             [
              0.6666666666666666,
              "#ed7953"
             ],
             [
              0.7777777777777778,
              "#fb9f3a"
             ],
             [
              0.8888888888888888,
              "#fdca26"
             ],
             [
              1,
              "#f0f921"
             ]
            ],
            "type": "surface"
           }
          ],
          "table": [
           {
            "cells": {
             "fill": {
              "color": "#EBF0F8"
             },
             "line": {
              "color": "white"
             }
            },
            "header": {
             "fill": {
              "color": "#C8D4E3"
             },
             "line": {
              "color": "white"
             }
            },
            "type": "table"
           }
          ]
         },
         "layout": {
          "annotationdefaults": {
           "arrowcolor": "#2a3f5f",
           "arrowhead": 0,
           "arrowwidth": 1
          },
          "colorscale": {
           "diverging": [
            [
             0,
             "#8e0152"
            ],
            [
             0.1,
             "#c51b7d"
            ],
            [
             0.2,
             "#de77ae"
            ],
            [
             0.3,
             "#f1b6da"
            ],
            [
             0.4,
             "#fde0ef"
            ],
            [
             0.5,
             "#f7f7f7"
            ],
            [
             0.6,
             "#e6f5d0"
            ],
            [
             0.7,
             "#b8e186"
            ],
            [
             0.8,
             "#7fbc41"
            ],
            [
             0.9,
             "#4d9221"
            ],
            [
             1,
             "#276419"
            ]
           ],
           "sequential": [
            [
             0,
             "#0d0887"
            ],
            [
             0.1111111111111111,
             "#46039f"
            ],
            [
             0.2222222222222222,
             "#7201a8"
            ],
            [
             0.3333333333333333,
             "#9c179e"
            ],
            [
             0.4444444444444444,
             "#bd3786"
            ],
            [
             0.5555555555555556,
             "#d8576b"
            ],
            [
             0.6666666666666666,
             "#ed7953"
            ],
            [
             0.7777777777777778,
             "#fb9f3a"
            ],
            [
             0.8888888888888888,
             "#fdca26"
            ],
            [
             1,
             "#f0f921"
            ]
           ],
           "sequentialminus": [
            [
             0,
             "#0d0887"
            ],
            [
             0.1111111111111111,
             "#46039f"
            ],
            [
             0.2222222222222222,
             "#7201a8"
            ],
            [
             0.3333333333333333,
             "#9c179e"
            ],
            [
             0.4444444444444444,
             "#bd3786"
            ],
            [
             0.5555555555555556,
             "#d8576b"
            ],
            [
             0.6666666666666666,
             "#ed7953"
            ],
            [
             0.7777777777777778,
             "#fb9f3a"
            ],
            [
             0.8888888888888888,
             "#fdca26"
            ],
            [
             1,
             "#f0f921"
            ]
           ]
          },
          "colorway": [
           "#636efa",
           "#EF553B",
           "#00cc96",
           "#ab63fa",
           "#FFA15A",
           "#19d3f3",
           "#FF6692",
           "#B6E880",
           "#FF97FF",
           "#FECB52"
          ],
          "font": {
           "color": "#2a3f5f"
          },
          "geo": {
           "bgcolor": "white",
           "lakecolor": "white",
           "landcolor": "#E5ECF6",
           "showlakes": true,
           "showland": true,
           "subunitcolor": "white"
          },
          "hoverlabel": {
           "align": "left"
          },
          "hovermode": "closest",
          "mapbox": {
           "style": "light"
          },
          "paper_bgcolor": "white",
          "plot_bgcolor": "#E5ECF6",
          "polar": {
           "angularaxis": {
            "gridcolor": "white",
            "linecolor": "white",
            "ticks": ""
           },
           "bgcolor": "#E5ECF6",
           "radialaxis": {
            "gridcolor": "white",
            "linecolor": "white",
            "ticks": ""
           }
          },
          "scene": {
           "xaxis": {
            "backgroundcolor": "#E5ECF6",
            "gridcolor": "white",
            "gridwidth": 2,
            "linecolor": "white",
            "showbackground": true,
            "ticks": "",
            "zerolinecolor": "white"
           },
           "yaxis": {
            "backgroundcolor": "#E5ECF6",
            "gridcolor": "white",
            "gridwidth": 2,
            "linecolor": "white",
            "showbackground": true,
            "ticks": "",
            "zerolinecolor": "white"
           },
           "zaxis": {
            "backgroundcolor": "#E5ECF6",
            "gridcolor": "white",
            "gridwidth": 2,
            "linecolor": "white",
            "showbackground": true,
            "ticks": "",
            "zerolinecolor": "white"
           }
          },
          "shapedefaults": {
           "line": {
            "color": "#2a3f5f"
           }
          },
          "ternary": {
           "aaxis": {
            "gridcolor": "white",
            "linecolor": "white",
            "ticks": ""
           },
           "baxis": {
            "gridcolor": "white",
            "linecolor": "white",
            "ticks": ""
           },
           "bgcolor": "#E5ECF6",
           "caxis": {
            "gridcolor": "white",
            "linecolor": "white",
            "ticks": ""
           }
          },
          "title": {
           "x": 0.05
          },
          "xaxis": {
           "automargin": true,
           "gridcolor": "white",
           "linecolor": "white",
           "ticks": "",
           "zerolinecolor": "white",
           "zerolinewidth": 2
          },
          "yaxis": {
           "automargin": true,
           "gridcolor": "white",
           "linecolor": "white",
           "ticks": "",
           "zerolinecolor": "white",
           "zerolinewidth": 2
          }
         }
        },
        "width": 500
       }
      },
      "text/html": [
       "<div>\n",
       "        \n",
       "        \n",
       "            <div id=\"5b68a2eb-bdf2-4e87-8a09-d06a03b80a84\" class=\"plotly-graph-div\" style=\"height:500px; width:500px;\"></div>\n",
       "            <script type=\"text/javascript\">\n",
       "                require([\"plotly\"], function(Plotly) {\n",
       "                    window.PLOTLYENV=window.PLOTLYENV || {};\n",
       "                    \n",
       "                if (document.getElementById(\"5b68a2eb-bdf2-4e87-8a09-d06a03b80a84\")) {\n",
       "                    Plotly.newPlot(\n",
       "                        '5b68a2eb-bdf2-4e87-8a09-d06a03b80a84',\n",
       "                        [{\"labels\": [\"Positive\", \"Neutral\", \"Negative\"], \"marker\": {\"colors\": [\"blue\", \"gray\", \"red\"]}, \"type\": \"pie\", \"values\": [16221, 4987, 3347]}],\n",
       "                        {\"height\": 500, \"template\": {\"data\": {\"bar\": [{\"error_x\": {\"color\": \"#2a3f5f\"}, \"error_y\": {\"color\": \"#2a3f5f\"}, \"marker\": {\"line\": {\"color\": \"#E5ECF6\", \"width\": 0.5}}, \"type\": \"bar\"}], \"barpolar\": [{\"marker\": {\"line\": {\"color\": \"#E5ECF6\", \"width\": 0.5}}, \"type\": \"barpolar\"}], \"carpet\": [{\"aaxis\": {\"endlinecolor\": \"#2a3f5f\", \"gridcolor\": \"white\", \"linecolor\": \"white\", \"minorgridcolor\": \"white\", \"startlinecolor\": \"#2a3f5f\"}, \"baxis\": {\"endlinecolor\": \"#2a3f5f\", \"gridcolor\": \"white\", \"linecolor\": \"white\", \"minorgridcolor\": \"white\", \"startlinecolor\": \"#2a3f5f\"}, \"type\": \"carpet\"}], \"choropleth\": [{\"colorbar\": {\"outlinewidth\": 0, \"ticks\": \"\"}, \"type\": \"choropleth\"}], \"contour\": [{\"colorbar\": {\"outlinewidth\": 0, \"ticks\": \"\"}, \"colorscale\": [[0.0, \"#0d0887\"], [0.1111111111111111, \"#46039f\"], [0.2222222222222222, \"#7201a8\"], [0.3333333333333333, \"#9c179e\"], [0.4444444444444444, \"#bd3786\"], [0.5555555555555556, \"#d8576b\"], [0.6666666666666666, \"#ed7953\"], [0.7777777777777778, \"#fb9f3a\"], [0.8888888888888888, \"#fdca26\"], [1.0, \"#f0f921\"]], \"type\": \"contour\"}], \"contourcarpet\": [{\"colorbar\": {\"outlinewidth\": 0, \"ticks\": \"\"}, \"type\": \"contourcarpet\"}], \"heatmap\": [{\"colorbar\": {\"outlinewidth\": 0, \"ticks\": \"\"}, \"colorscale\": [[0.0, \"#0d0887\"], [0.1111111111111111, \"#46039f\"], [0.2222222222222222, \"#7201a8\"], [0.3333333333333333, \"#9c179e\"], [0.4444444444444444, \"#bd3786\"], [0.5555555555555556, \"#d8576b\"], [0.6666666666666666, \"#ed7953\"], [0.7777777777777778, \"#fb9f3a\"], [0.8888888888888888, \"#fdca26\"], [1.0, \"#f0f921\"]], \"type\": \"heatmap\"}], \"heatmapgl\": [{\"colorbar\": {\"outlinewidth\": 0, \"ticks\": \"\"}, \"colorscale\": [[0.0, \"#0d0887\"], [0.1111111111111111, \"#46039f\"], [0.2222222222222222, \"#7201a8\"], [0.3333333333333333, \"#9c179e\"], [0.4444444444444444, \"#bd3786\"], [0.5555555555555556, \"#d8576b\"], [0.6666666666666666, \"#ed7953\"], [0.7777777777777778, \"#fb9f3a\"], [0.8888888888888888, \"#fdca26\"], [1.0, \"#f0f921\"]], \"type\": \"heatmapgl\"}], \"histogram\": [{\"marker\": {\"colorbar\": {\"outlinewidth\": 0, \"ticks\": \"\"}}, \"type\": \"histogram\"}], \"histogram2d\": [{\"colorbar\": {\"outlinewidth\": 0, \"ticks\": \"\"}, \"colorscale\": [[0.0, \"#0d0887\"], [0.1111111111111111, \"#46039f\"], [0.2222222222222222, \"#7201a8\"], [0.3333333333333333, \"#9c179e\"], [0.4444444444444444, \"#bd3786\"], [0.5555555555555556, \"#d8576b\"], [0.6666666666666666, \"#ed7953\"], [0.7777777777777778, \"#fb9f3a\"], [0.8888888888888888, \"#fdca26\"], [1.0, \"#f0f921\"]], \"type\": \"histogram2d\"}], \"histogram2dcontour\": [{\"colorbar\": {\"outlinewidth\": 0, \"ticks\": \"\"}, \"colorscale\": [[0.0, \"#0d0887\"], [0.1111111111111111, \"#46039f\"], [0.2222222222222222, \"#7201a8\"], [0.3333333333333333, \"#9c179e\"], [0.4444444444444444, \"#bd3786\"], [0.5555555555555556, \"#d8576b\"], [0.6666666666666666, \"#ed7953\"], [0.7777777777777778, \"#fb9f3a\"], [0.8888888888888888, \"#fdca26\"], [1.0, \"#f0f921\"]], \"type\": \"histogram2dcontour\"}], \"mesh3d\": [{\"colorbar\": {\"outlinewidth\": 0, \"ticks\": \"\"}, \"type\": \"mesh3d\"}], \"parcoords\": [{\"line\": {\"colorbar\": {\"outlinewidth\": 0, \"ticks\": \"\"}}, \"type\": \"parcoords\"}], \"scatter\": [{\"marker\": {\"colorbar\": {\"outlinewidth\": 0, \"ticks\": \"\"}}, \"type\": \"scatter\"}], \"scatter3d\": [{\"line\": {\"colorbar\": {\"outlinewidth\": 0, \"ticks\": \"\"}}, \"marker\": {\"colorbar\": {\"outlinewidth\": 0, \"ticks\": \"\"}}, \"type\": \"scatter3d\"}], \"scattercarpet\": [{\"marker\": {\"colorbar\": {\"outlinewidth\": 0, \"ticks\": \"\"}}, \"type\": \"scattercarpet\"}], \"scattergeo\": [{\"marker\": {\"colorbar\": {\"outlinewidth\": 0, \"ticks\": \"\"}}, \"type\": \"scattergeo\"}], \"scattergl\": [{\"marker\": {\"colorbar\": {\"outlinewidth\": 0, \"ticks\": \"\"}}, \"type\": \"scattergl\"}], \"scattermapbox\": [{\"marker\": {\"colorbar\": {\"outlinewidth\": 0, \"ticks\": \"\"}}, \"type\": \"scattermapbox\"}], \"scatterpolar\": [{\"marker\": {\"colorbar\": {\"outlinewidth\": 0, \"ticks\": \"\"}}, \"type\": \"scatterpolar\"}], \"scatterpolargl\": [{\"marker\": {\"colorbar\": {\"outlinewidth\": 0, \"ticks\": \"\"}}, \"type\": \"scatterpolargl\"}], \"scatterternary\": [{\"marker\": {\"colorbar\": {\"outlinewidth\": 0, \"ticks\": \"\"}}, \"type\": \"scatterternary\"}], \"surface\": [{\"colorbar\": {\"outlinewidth\": 0, \"ticks\": \"\"}, \"colorscale\": [[0.0, \"#0d0887\"], [0.1111111111111111, \"#46039f\"], [0.2222222222222222, \"#7201a8\"], [0.3333333333333333, \"#9c179e\"], [0.4444444444444444, \"#bd3786\"], [0.5555555555555556, \"#d8576b\"], [0.6666666666666666, \"#ed7953\"], [0.7777777777777778, \"#fb9f3a\"], [0.8888888888888888, \"#fdca26\"], [1.0, \"#f0f921\"]], \"type\": \"surface\"}], \"table\": [{\"cells\": {\"fill\": {\"color\": \"#EBF0F8\"}, \"line\": {\"color\": \"white\"}}, \"header\": {\"fill\": {\"color\": \"#C8D4E3\"}, \"line\": {\"color\": \"white\"}}, \"type\": \"table\"}]}, \"layout\": {\"annotationdefaults\": {\"arrowcolor\": \"#2a3f5f\", \"arrowhead\": 0, \"arrowwidth\": 1}, \"colorscale\": {\"diverging\": [[0, \"#8e0152\"], [0.1, \"#c51b7d\"], [0.2, \"#de77ae\"], [0.3, \"#f1b6da\"], [0.4, \"#fde0ef\"], [0.5, \"#f7f7f7\"], [0.6, \"#e6f5d0\"], [0.7, \"#b8e186\"], [0.8, \"#7fbc41\"], [0.9, \"#4d9221\"], [1, \"#276419\"]], \"sequential\": [[0.0, \"#0d0887\"], [0.1111111111111111, \"#46039f\"], [0.2222222222222222, \"#7201a8\"], [0.3333333333333333, \"#9c179e\"], [0.4444444444444444, \"#bd3786\"], [0.5555555555555556, \"#d8576b\"], [0.6666666666666666, \"#ed7953\"], [0.7777777777777778, \"#fb9f3a\"], [0.8888888888888888, \"#fdca26\"], [1.0, \"#f0f921\"]], \"sequentialminus\": [[0.0, \"#0d0887\"], [0.1111111111111111, \"#46039f\"], [0.2222222222222222, \"#7201a8\"], [0.3333333333333333, \"#9c179e\"], [0.4444444444444444, \"#bd3786\"], [0.5555555555555556, \"#d8576b\"], [0.6666666666666666, \"#ed7953\"], [0.7777777777777778, \"#fb9f3a\"], [0.8888888888888888, \"#fdca26\"], [1.0, \"#f0f921\"]]}, \"colorway\": [\"#636efa\", \"#EF553B\", \"#00cc96\", \"#ab63fa\", \"#FFA15A\", \"#19d3f3\", \"#FF6692\", \"#B6E880\", \"#FF97FF\", \"#FECB52\"], \"font\": {\"color\": \"#2a3f5f\"}, \"geo\": {\"bgcolor\": \"white\", \"lakecolor\": \"white\", \"landcolor\": \"#E5ECF6\", \"showlakes\": true, \"showland\": true, \"subunitcolor\": \"white\"}, \"hoverlabel\": {\"align\": \"left\"}, \"hovermode\": \"closest\", \"mapbox\": {\"style\": \"light\"}, \"paper_bgcolor\": \"white\", \"plot_bgcolor\": \"#E5ECF6\", \"polar\": {\"angularaxis\": {\"gridcolor\": \"white\", \"linecolor\": \"white\", \"ticks\": \"\"}, \"bgcolor\": \"#E5ECF6\", \"radialaxis\": {\"gridcolor\": \"white\", \"linecolor\": \"white\", \"ticks\": \"\"}}, \"scene\": {\"xaxis\": {\"backgroundcolor\": \"#E5ECF6\", \"gridcolor\": \"white\", \"gridwidth\": 2, \"linecolor\": \"white\", \"showbackground\": true, \"ticks\": \"\", \"zerolinecolor\": \"white\"}, \"yaxis\": {\"backgroundcolor\": \"#E5ECF6\", \"gridcolor\": \"white\", \"gridwidth\": 2, \"linecolor\": \"white\", \"showbackground\": true, \"ticks\": \"\", \"zerolinecolor\": \"white\"}, \"zaxis\": {\"backgroundcolor\": \"#E5ECF6\", \"gridcolor\": \"white\", \"gridwidth\": 2, \"linecolor\": \"white\", \"showbackground\": true, \"ticks\": \"\", \"zerolinecolor\": \"white\"}}, \"shapedefaults\": {\"line\": {\"color\": \"#2a3f5f\"}}, \"ternary\": {\"aaxis\": {\"gridcolor\": \"white\", \"linecolor\": \"white\", \"ticks\": \"\"}, \"baxis\": {\"gridcolor\": \"white\", \"linecolor\": \"white\", \"ticks\": \"\"}, \"bgcolor\": \"#E5ECF6\", \"caxis\": {\"gridcolor\": \"white\", \"linecolor\": \"white\", \"ticks\": \"\"}}, \"title\": {\"x\": 0.05}, \"xaxis\": {\"automargin\": true, \"gridcolor\": \"white\", \"linecolor\": \"white\", \"ticks\": \"\", \"zerolinecolor\": \"white\", \"zerolinewidth\": 2}, \"yaxis\": {\"automargin\": true, \"gridcolor\": \"white\", \"linecolor\": \"white\", \"ticks\": \"\", \"zerolinecolor\": \"white\", \"zerolinewidth\": 2}}}, \"width\": 500},\n",
       "                        {\"responsive\": true}\n",
       "                    ).then(function(){\n",
       "                            \n",
       "var gd = document.getElementById('5b68a2eb-bdf2-4e87-8a09-d06a03b80a84');\n",
       "var x = new MutationObserver(function (mutations, observer) {{\n",
       "        var display = window.getComputedStyle(gd).display;\n",
       "        if (!display || display === 'none') {{\n",
       "            console.log([gd, 'removed!']);\n",
       "            Plotly.purge(gd);\n",
       "            observer.disconnect();\n",
       "        }}\n",
       "}});\n",
       "\n",
       "// Listen for the removal of the full notebook cells\n",
       "var notebookContainer = gd.closest('#notebook-container');\n",
       "if (notebookContainer) {{\n",
       "    x.observe(notebookContainer, {childList: true});\n",
       "}}\n",
       "\n",
       "// Listen for the clearing of the current output cell\n",
       "var outputEl = gd.closest('.output');\n",
       "if (outputEl) {{\n",
       "    x.observe(outputEl, {childList: true});\n",
       "}}\n",
       "\n",
       "                        })\n",
       "                };\n",
       "                });\n",
       "            </script>\n",
       "        </div>"
      ]
     },
     "metadata": {},
     "output_type": "display_data"
    }
   ],
   "source": [
    "#pie chart\n",
    "labels = ['Positive', 'Neutral', 'Negative']\n",
    "colors = ['blue', 'gray', 'red']\n",
    "values = [16221,4987,3347]\n",
    "fig = go.Figure(data=[go.Pie(labels=labels, values=values)])\n",
    "fig.update_traces(marker=dict(colors=colors))\n",
    "fig.update_layout(height=500,width=500)\n",
    "fig.show()"
   ]
  },
  {
   "cell_type": "code",
   "execution_count": 25,
   "metadata": {},
   "outputs": [],
   "source": [
    "#convert to the date format\n",
    "ruok['created_at'] = pd.to_datetime(ruok['created_at'])\n",
    "#keep only the date\n",
    "ruok['created_at_date'] = ruok['created_at'].dt.date\n",
    "#keep only the hour\n",
    "ruok['created_at_hour'] = ruok['created_at'].dt.hour"
   ]
  },
  {
   "cell_type": "code",
   "execution_count": 26,
   "metadata": {},
   "outputs": [],
   "source": [
    "#Mean compound polarity by date\n",
    "senti_date= ruok[['created_at_date','sentiment_compound_polarity']]\n",
    "senti_date = senti_date.groupby(\"created_at_date\",as_index=True).sentiment_compound_polarity.mean()\n",
    "#print(senti_date)"
   ]
  },
  {
   "cell_type": "code",
   "execution_count": 27,
   "metadata": {},
   "outputs": [],
   "source": [
    "# Mean compound polarity by hour\n",
    "senti_hour = ruok[['created_at_hour','sentiment_compound_polarity']]\n",
    "senti_hour = senti_hour.groupby(\"created_at_hour\",as_index=True).sentiment_compound_polarity.mean()\n",
    "#print(senti_hour)"
   ]
  },
  {
   "cell_type": "code",
   "execution_count": 87,
   "metadata": {},
   "outputs": [
    {
     "data": {
      "application/vnd.plotly.v1+json": {
       "config": {
        "plotlyServerURL": "https://plot.ly"
       },
       "data": [
        {
         "mode": "lines+markers",
         "name": "citations",
         "type": "scatter",
         "x": [
          "2019-09-03",
          "2019-09-04",
          "2019-09-05",
          "2019-09-06",
          "2019-09-07",
          "2019-09-08",
          "2019-09-09",
          "2019-09-10",
          "2019-09-11",
          "2019-09-12",
          "2019-09-13",
          "2019-09-14",
          "2019-09-15",
          "2019-09-16",
          "2019-09-17",
          "2019-09-18",
          "2019-09-19",
          "2019-09-20",
          "2019-09-21",
          "2019-09-22",
          "2019-09-23",
          "2019-09-24",
          "2019-09-25",
          "2019-09-26",
          "2019-09-27",
          "2019-09-28",
          "2019-09-29",
          "2019-09-30",
          "2019-10-01",
          "2019-10-02",
          "2019-10-03",
          "2019-10-04",
          "2019-10-05"
         ],
         "xaxis": "x",
         "y": [
          0.61675,
          0.4447207207207205,
          0.42772879310344686,
          0.41601797235023014,
          0.35805477178423195,
          0.4349926724137925,
          0.2990237516869102,
          0.24615602322206245,
          0.36862992432432284,
          0.2758409650021901,
          0.16307100840336133,
          0.20303369175627217,
          0.25959273743016725,
          0.09036878612716763,
          0.23164563106796132,
          0.4066885714285708,
          0.4354524752475247,
          0.21698770949720647,
          0.29628000000000004,
          0.3401058823529412,
          0.09208857142857144,
          0.0603235294117647,
          0.05020746268656721,
          0.28066938775510203,
          0.1433020408163265,
          0.20255185185185184,
          0.18020833333333333,
          0.2819891891891892,
          0.18159591836734695,
          0.3008344827586207,
          0.1807791666666668,
          0.26919999999999994,
          0.002855555555555537
         ],
         "yaxis": "y"
        },
        {
         "mode": "lines+markers",
         "name": "citations",
         "type": "scatter",
         "x": [
          0,
          1,
          2,
          3,
          4,
          5,
          6,
          7,
          8,
          9,
          10,
          11,
          12,
          13,
          14,
          15,
          16,
          17,
          18,
          19,
          20,
          21,
          22,
          23
         ],
         "xaxis": "x2",
         "y": [
          0.32266317512275056,
          0.29103349619978336,
          0.29670614355231206,
          0.2837798283261805,
          0.28822257438551135,
          0.2760011716057891,
          0.33852914046121496,
          0.28861991935483866,
          0.259036470588235,
          0.252882597173145,
          0.2654454000000008,
          0.2715604550379201,
          0.2741546321525887,
          0.1756892988929887,
          0.20035100222717114,
          0.1862970037453182,
          0.10464595744680857,
          0.19216081871345037,
          0.10436282722513095,
          0.19762754237288122,
          0.3101780973451325,
          0.36545267605634046,
          0.34265576496674205,
          0.34263184965380794
         ],
         "yaxis": "y2"
        }
       ],
       "layout": {
        "height": 500,
        "shapes": [
         {
          "layer": "above",
          "line": {
           "color": "RoyalBlue",
           "dash": "dot",
           "width": 3
          },
          "type": "line",
          "x0": "2019-09-12",
          "x1": "2019-09-12",
          "y0": -0.1,
          "y1": 0.65
         }
        ],
        "showlegend": false,
        "template": {
         "data": {
          "bar": [
           {
            "error_x": {
             "color": "#2a3f5f"
            },
            "error_y": {
             "color": "#2a3f5f"
            },
            "marker": {
             "line": {
              "color": "#E5ECF6",
              "width": 0.5
             }
            },
            "type": "bar"
           }
          ],
          "barpolar": [
           {
            "marker": {
             "line": {
              "color": "#E5ECF6",
              "width": 0.5
             }
            },
            "type": "barpolar"
           }
          ],
          "carpet": [
           {
            "aaxis": {
             "endlinecolor": "#2a3f5f",
             "gridcolor": "white",
             "linecolor": "white",
             "minorgridcolor": "white",
             "startlinecolor": "#2a3f5f"
            },
            "baxis": {
             "endlinecolor": "#2a3f5f",
             "gridcolor": "white",
             "linecolor": "white",
             "minorgridcolor": "white",
             "startlinecolor": "#2a3f5f"
            },
            "type": "carpet"
           }
          ],
          "choropleth": [
           {
            "colorbar": {
             "outlinewidth": 0,
             "ticks": ""
            },
            "type": "choropleth"
           }
          ],
          "contour": [
           {
            "colorbar": {
             "outlinewidth": 0,
             "ticks": ""
            },
            "colorscale": [
             [
              0,
              "#0d0887"
             ],
             [
              0.1111111111111111,
              "#46039f"
             ],
             [
              0.2222222222222222,
              "#7201a8"
             ],
             [
              0.3333333333333333,
              "#9c179e"
             ],
             [
              0.4444444444444444,
              "#bd3786"
             ],
             [
              0.5555555555555556,
              "#d8576b"
             ],
             [
              0.6666666666666666,
              "#ed7953"
             ],
             [
              0.7777777777777778,
              "#fb9f3a"
             ],
             [
              0.8888888888888888,
              "#fdca26"
             ],
             [
              1,
              "#f0f921"
             ]
            ],
            "type": "contour"
           }
          ],
          "contourcarpet": [
           {
            "colorbar": {
             "outlinewidth": 0,
             "ticks": ""
            },
            "type": "contourcarpet"
           }
          ],
          "heatmap": [
           {
            "colorbar": {
             "outlinewidth": 0,
             "ticks": ""
            },
            "colorscale": [
             [
              0,
              "#0d0887"
             ],
             [
              0.1111111111111111,
              "#46039f"
             ],
             [
              0.2222222222222222,
              "#7201a8"
             ],
             [
              0.3333333333333333,
              "#9c179e"
             ],
             [
              0.4444444444444444,
              "#bd3786"
             ],
             [
              0.5555555555555556,
              "#d8576b"
             ],
             [
              0.6666666666666666,
              "#ed7953"
             ],
             [
              0.7777777777777778,
              "#fb9f3a"
             ],
             [
              0.8888888888888888,
              "#fdca26"
             ],
             [
              1,
              "#f0f921"
             ]
            ],
            "type": "heatmap"
           }
          ],
          "heatmapgl": [
           {
            "colorbar": {
             "outlinewidth": 0,
             "ticks": ""
            },
            "colorscale": [
             [
              0,
              "#0d0887"
             ],
             [
              0.1111111111111111,
              "#46039f"
             ],
             [
              0.2222222222222222,
              "#7201a8"
             ],
             [
              0.3333333333333333,
              "#9c179e"
             ],
             [
              0.4444444444444444,
              "#bd3786"
             ],
             [
              0.5555555555555556,
              "#d8576b"
             ],
             [
              0.6666666666666666,
              "#ed7953"
             ],
             [
              0.7777777777777778,
              "#fb9f3a"
             ],
             [
              0.8888888888888888,
              "#fdca26"
             ],
             [
              1,
              "#f0f921"
             ]
            ],
            "type": "heatmapgl"
           }
          ],
          "histogram": [
           {
            "marker": {
             "colorbar": {
              "outlinewidth": 0,
              "ticks": ""
             }
            },
            "type": "histogram"
           }
          ],
          "histogram2d": [
           {
            "colorbar": {
             "outlinewidth": 0,
             "ticks": ""
            },
            "colorscale": [
             [
              0,
              "#0d0887"
             ],
             [
              0.1111111111111111,
              "#46039f"
             ],
             [
              0.2222222222222222,
              "#7201a8"
             ],
             [
              0.3333333333333333,
              "#9c179e"
             ],
             [
              0.4444444444444444,
              "#bd3786"
             ],
             [
              0.5555555555555556,
              "#d8576b"
             ],
             [
              0.6666666666666666,
              "#ed7953"
             ],
             [
              0.7777777777777778,
              "#fb9f3a"
             ],
             [
              0.8888888888888888,
              "#fdca26"
             ],
             [
              1,
              "#f0f921"
             ]
            ],
            "type": "histogram2d"
           }
          ],
          "histogram2dcontour": [
           {
            "colorbar": {
             "outlinewidth": 0,
             "ticks": ""
            },
            "colorscale": [
             [
              0,
              "#0d0887"
             ],
             [
              0.1111111111111111,
              "#46039f"
             ],
             [
              0.2222222222222222,
              "#7201a8"
             ],
             [
              0.3333333333333333,
              "#9c179e"
             ],
             [
              0.4444444444444444,
              "#bd3786"
             ],
             [
              0.5555555555555556,
              "#d8576b"
             ],
             [
              0.6666666666666666,
              "#ed7953"
             ],
             [
              0.7777777777777778,
              "#fb9f3a"
             ],
             [
              0.8888888888888888,
              "#fdca26"
             ],
             [
              1,
              "#f0f921"
             ]
            ],
            "type": "histogram2dcontour"
           }
          ],
          "mesh3d": [
           {
            "colorbar": {
             "outlinewidth": 0,
             "ticks": ""
            },
            "type": "mesh3d"
           }
          ],
          "parcoords": [
           {
            "line": {
             "colorbar": {
              "outlinewidth": 0,
              "ticks": ""
             }
            },
            "type": "parcoords"
           }
          ],
          "scatter": [
           {
            "marker": {
             "colorbar": {
              "outlinewidth": 0,
              "ticks": ""
             }
            },
            "type": "scatter"
           }
          ],
          "scatter3d": [
           {
            "line": {
             "colorbar": {
              "outlinewidth": 0,
              "ticks": ""
             }
            },
            "marker": {
             "colorbar": {
              "outlinewidth": 0,
              "ticks": ""
             }
            },
            "type": "scatter3d"
           }
          ],
          "scattercarpet": [
           {
            "marker": {
             "colorbar": {
              "outlinewidth": 0,
              "ticks": ""
             }
            },
            "type": "scattercarpet"
           }
          ],
          "scattergeo": [
           {
            "marker": {
             "colorbar": {
              "outlinewidth": 0,
              "ticks": ""
             }
            },
            "type": "scattergeo"
           }
          ],
          "scattergl": [
           {
            "marker": {
             "colorbar": {
              "outlinewidth": 0,
              "ticks": ""
             }
            },
            "type": "scattergl"
           }
          ],
          "scattermapbox": [
           {
            "marker": {
             "colorbar": {
              "outlinewidth": 0,
              "ticks": ""
             }
            },
            "type": "scattermapbox"
           }
          ],
          "scatterpolar": [
           {
            "marker": {
             "colorbar": {
              "outlinewidth": 0,
              "ticks": ""
             }
            },
            "type": "scatterpolar"
           }
          ],
          "scatterpolargl": [
           {
            "marker": {
             "colorbar": {
              "outlinewidth": 0,
              "ticks": ""
             }
            },
            "type": "scatterpolargl"
           }
          ],
          "scatterternary": [
           {
            "marker": {
             "colorbar": {
              "outlinewidth": 0,
              "ticks": ""
             }
            },
            "type": "scatterternary"
           }
          ],
          "surface": [
           {
            "colorbar": {
             "outlinewidth": 0,
             "ticks": ""
            },
            "colorscale": [
             [
              0,
              "#0d0887"
             ],
             [
              0.1111111111111111,
              "#46039f"
             ],
             [
              0.2222222222222222,
              "#7201a8"
             ],
             [
              0.3333333333333333,
              "#9c179e"
             ],
             [
              0.4444444444444444,
              "#bd3786"
             ],
             [
              0.5555555555555556,
              "#d8576b"
             ],
             [
              0.6666666666666666,
              "#ed7953"
             ],
             [
              0.7777777777777778,
              "#fb9f3a"
             ],
             [
              0.8888888888888888,
              "#fdca26"
             ],
             [
              1,
              "#f0f921"
             ]
            ],
            "type": "surface"
           }
          ],
          "table": [
           {
            "cells": {
             "fill": {
              "color": "#EBF0F8"
             },
             "line": {
              "color": "white"
             }
            },
            "header": {
             "fill": {
              "color": "#C8D4E3"
             },
             "line": {
              "color": "white"
             }
            },
            "type": "table"
           }
          ]
         },
         "layout": {
          "annotationdefaults": {
           "arrowcolor": "#2a3f5f",
           "arrowhead": 0,
           "arrowwidth": 1
          },
          "colorscale": {
           "diverging": [
            [
             0,
             "#8e0152"
            ],
            [
             0.1,
             "#c51b7d"
            ],
            [
             0.2,
             "#de77ae"
            ],
            [
             0.3,
             "#f1b6da"
            ],
            [
             0.4,
             "#fde0ef"
            ],
            [
             0.5,
             "#f7f7f7"
            ],
            [
             0.6,
             "#e6f5d0"
            ],
            [
             0.7,
             "#b8e186"
            ],
            [
             0.8,
             "#7fbc41"
            ],
            [
             0.9,
             "#4d9221"
            ],
            [
             1,
             "#276419"
            ]
           ],
           "sequential": [
            [
             0,
             "#0d0887"
            ],
            [
             0.1111111111111111,
             "#46039f"
            ],
            [
             0.2222222222222222,
             "#7201a8"
            ],
            [
             0.3333333333333333,
             "#9c179e"
            ],
            [
             0.4444444444444444,
             "#bd3786"
            ],
            [
             0.5555555555555556,
             "#d8576b"
            ],
            [
             0.6666666666666666,
             "#ed7953"
            ],
            [
             0.7777777777777778,
             "#fb9f3a"
            ],
            [
             0.8888888888888888,
             "#fdca26"
            ],
            [
             1,
             "#f0f921"
            ]
           ],
           "sequentialminus": [
            [
             0,
             "#0d0887"
            ],
            [
             0.1111111111111111,
             "#46039f"
            ],
            [
             0.2222222222222222,
             "#7201a8"
            ],
            [
             0.3333333333333333,
             "#9c179e"
            ],
            [
             0.4444444444444444,
             "#bd3786"
            ],
            [
             0.5555555555555556,
             "#d8576b"
            ],
            [
             0.6666666666666666,
             "#ed7953"
            ],
            [
             0.7777777777777778,
             "#fb9f3a"
            ],
            [
             0.8888888888888888,
             "#fdca26"
            ],
            [
             1,
             "#f0f921"
            ]
           ]
          },
          "colorway": [
           "#636efa",
           "#EF553B",
           "#00cc96",
           "#ab63fa",
           "#FFA15A",
           "#19d3f3",
           "#FF6692",
           "#B6E880",
           "#FF97FF",
           "#FECB52"
          ],
          "font": {
           "color": "#2a3f5f"
          },
          "geo": {
           "bgcolor": "white",
           "lakecolor": "white",
           "landcolor": "#E5ECF6",
           "showlakes": true,
           "showland": true,
           "subunitcolor": "white"
          },
          "hoverlabel": {
           "align": "left"
          },
          "hovermode": "closest",
          "mapbox": {
           "style": "light"
          },
          "paper_bgcolor": "white",
          "plot_bgcolor": "#E5ECF6",
          "polar": {
           "angularaxis": {
            "gridcolor": "white",
            "linecolor": "white",
            "ticks": ""
           },
           "bgcolor": "#E5ECF6",
           "radialaxis": {
            "gridcolor": "white",
            "linecolor": "white",
            "ticks": ""
           }
          },
          "scene": {
           "xaxis": {
            "backgroundcolor": "#E5ECF6",
            "gridcolor": "white",
            "gridwidth": 2,
            "linecolor": "white",
            "showbackground": true,
            "ticks": "",
            "zerolinecolor": "white"
           },
           "yaxis": {
            "backgroundcolor": "#E5ECF6",
            "gridcolor": "white",
            "gridwidth": 2,
            "linecolor": "white",
            "showbackground": true,
            "ticks": "",
            "zerolinecolor": "white"
           },
           "zaxis": {
            "backgroundcolor": "#E5ECF6",
            "gridcolor": "white",
            "gridwidth": 2,
            "linecolor": "white",
            "showbackground": true,
            "ticks": "",
            "zerolinecolor": "white"
           }
          },
          "shapedefaults": {
           "line": {
            "color": "#2a3f5f"
           }
          },
          "ternary": {
           "aaxis": {
            "gridcolor": "white",
            "linecolor": "white",
            "ticks": ""
           },
           "baxis": {
            "gridcolor": "white",
            "linecolor": "white",
            "ticks": ""
           },
           "bgcolor": "#E5ECF6",
           "caxis": {
            "gridcolor": "white",
            "linecolor": "white",
            "ticks": ""
           }
          },
          "title": {
           "x": 0.05
          },
          "xaxis": {
           "automargin": true,
           "gridcolor": "white",
           "linecolor": "white",
           "ticks": "",
           "zerolinecolor": "white",
           "zerolinewidth": 2
          },
          "yaxis": {
           "automargin": true,
           "gridcolor": "white",
           "linecolor": "white",
           "ticks": "",
           "zerolinecolor": "white",
           "zerolinewidth": 2
          }
         }
        },
        "width": 1000,
        "xaxis": {
         "anchor": "y",
         "domain": [
          0,
          0.45
         ],
         "range": [
          "2019-09-02",
          "2019-10-06"
         ],
         "title": {
          "text": "Date"
         }
        },
        "xaxis2": {
         "anchor": "y2",
         "domain": [
          0.55,
          1
         ],
         "range": [
          -0.5,
          24
         ],
         "title": {
          "text": "Hour"
         }
        },
        "yaxis": {
         "anchor": "x",
         "domain": [
          0,
          1
         ],
         "range": [
          -0.1,
          0.65
         ],
         "title": {
          "text": "Average Compound Scores"
         }
        },
        "yaxis2": {
         "anchor": "x2",
         "domain": [
          0,
          1
         ],
         "range": [
          -0.1,
          0.65
         ]
        }
       }
      },
      "text/html": [
       "<div>\n",
       "        \n",
       "        \n",
       "            <div id=\"b1ce3de8-e628-4773-9de6-11f436595634\" class=\"plotly-graph-div\" style=\"height:500px; width:1000px;\"></div>\n",
       "            <script type=\"text/javascript\">\n",
       "                require([\"plotly\"], function(Plotly) {\n",
       "                    window.PLOTLYENV=window.PLOTLYENV || {};\n",
       "                    \n",
       "                if (document.getElementById(\"b1ce3de8-e628-4773-9de6-11f436595634\")) {\n",
       "                    Plotly.newPlot(\n",
       "                        'b1ce3de8-e628-4773-9de6-11f436595634',\n",
       "                        [{\"mode\": \"lines+markers\", \"name\": \"citations\", \"type\": \"scatter\", \"x\": [\"2019-09-03\", \"2019-09-04\", \"2019-09-05\", \"2019-09-06\", \"2019-09-07\", \"2019-09-08\", \"2019-09-09\", \"2019-09-10\", \"2019-09-11\", \"2019-09-12\", \"2019-09-13\", \"2019-09-14\", \"2019-09-15\", \"2019-09-16\", \"2019-09-17\", \"2019-09-18\", \"2019-09-19\", \"2019-09-20\", \"2019-09-21\", \"2019-09-22\", \"2019-09-23\", \"2019-09-24\", \"2019-09-25\", \"2019-09-26\", \"2019-09-27\", \"2019-09-28\", \"2019-09-29\", \"2019-09-30\", \"2019-10-01\", \"2019-10-02\", \"2019-10-03\", \"2019-10-04\", \"2019-10-05\"], \"xaxis\": \"x\", \"y\": [0.61675, 0.4447207207207205, 0.42772879310344686, 0.41601797235023014, 0.35805477178423195, 0.4349926724137925, 0.2990237516869102, 0.24615602322206245, 0.36862992432432284, 0.2758409650021901, 0.16307100840336133, 0.20303369175627217, 0.25959273743016725, 0.09036878612716763, 0.23164563106796132, 0.4066885714285708, 0.4354524752475247, 0.21698770949720647, 0.29628000000000004, 0.3401058823529412, 0.09208857142857144, 0.0603235294117647, 0.05020746268656721, 0.28066938775510203, 0.1433020408163265, 0.20255185185185184, 0.18020833333333333, 0.2819891891891892, 0.18159591836734695, 0.3008344827586207, 0.1807791666666668, 0.26919999999999994, 0.002855555555555537], \"yaxis\": \"y\"}, {\"mode\": \"lines+markers\", \"name\": \"citations\", \"type\": \"scatter\", \"x\": [0, 1, 2, 3, 4, 5, 6, 7, 8, 9, 10, 11, 12, 13, 14, 15, 16, 17, 18, 19, 20, 21, 22, 23], \"xaxis\": \"x2\", \"y\": [0.32266317512275056, 0.29103349619978336, 0.29670614355231206, 0.2837798283261805, 0.28822257438551135, 0.2760011716057891, 0.33852914046121496, 0.28861991935483866, 0.259036470588235, 0.252882597173145, 0.2654454000000008, 0.2715604550379201, 0.2741546321525887, 0.1756892988929887, 0.20035100222717114, 0.1862970037453182, 0.10464595744680857, 0.19216081871345037, 0.10436282722513095, 0.19762754237288122, 0.3101780973451325, 0.36545267605634046, 0.34265576496674205, 0.34263184965380794], \"yaxis\": \"y2\"}],\n",
       "                        {\"height\": 500, \"shapes\": [{\"layer\": \"above\", \"line\": {\"color\": \"RoyalBlue\", \"dash\": \"dot\", \"width\": 3}, \"type\": \"line\", \"x0\": \"2019-09-12\", \"x1\": \"2019-09-12\", \"y0\": -0.1, \"y1\": 0.65}], \"showlegend\": false, \"template\": {\"data\": {\"bar\": [{\"error_x\": {\"color\": \"#2a3f5f\"}, \"error_y\": {\"color\": \"#2a3f5f\"}, \"marker\": {\"line\": {\"color\": \"#E5ECF6\", \"width\": 0.5}}, \"type\": \"bar\"}], \"barpolar\": [{\"marker\": {\"line\": {\"color\": \"#E5ECF6\", \"width\": 0.5}}, \"type\": \"barpolar\"}], \"carpet\": [{\"aaxis\": {\"endlinecolor\": \"#2a3f5f\", \"gridcolor\": \"white\", \"linecolor\": \"white\", \"minorgridcolor\": \"white\", \"startlinecolor\": \"#2a3f5f\"}, \"baxis\": {\"endlinecolor\": \"#2a3f5f\", \"gridcolor\": \"white\", \"linecolor\": \"white\", \"minorgridcolor\": \"white\", \"startlinecolor\": \"#2a3f5f\"}, \"type\": \"carpet\"}], \"choropleth\": [{\"colorbar\": {\"outlinewidth\": 0, \"ticks\": \"\"}, \"type\": \"choropleth\"}], \"contour\": [{\"colorbar\": {\"outlinewidth\": 0, \"ticks\": \"\"}, \"colorscale\": [[0.0, \"#0d0887\"], [0.1111111111111111, \"#46039f\"], [0.2222222222222222, \"#7201a8\"], [0.3333333333333333, \"#9c179e\"], [0.4444444444444444, \"#bd3786\"], [0.5555555555555556, \"#d8576b\"], [0.6666666666666666, \"#ed7953\"], [0.7777777777777778, \"#fb9f3a\"], [0.8888888888888888, \"#fdca26\"], [1.0, \"#f0f921\"]], \"type\": \"contour\"}], \"contourcarpet\": [{\"colorbar\": {\"outlinewidth\": 0, \"ticks\": \"\"}, \"type\": \"contourcarpet\"}], \"heatmap\": [{\"colorbar\": {\"outlinewidth\": 0, \"ticks\": \"\"}, \"colorscale\": [[0.0, \"#0d0887\"], [0.1111111111111111, \"#46039f\"], [0.2222222222222222, \"#7201a8\"], [0.3333333333333333, \"#9c179e\"], [0.4444444444444444, \"#bd3786\"], [0.5555555555555556, \"#d8576b\"], [0.6666666666666666, \"#ed7953\"], [0.7777777777777778, \"#fb9f3a\"], [0.8888888888888888, \"#fdca26\"], [1.0, \"#f0f921\"]], \"type\": \"heatmap\"}], \"heatmapgl\": [{\"colorbar\": {\"outlinewidth\": 0, \"ticks\": \"\"}, \"colorscale\": [[0.0, \"#0d0887\"], [0.1111111111111111, \"#46039f\"], [0.2222222222222222, \"#7201a8\"], [0.3333333333333333, \"#9c179e\"], [0.4444444444444444, \"#bd3786\"], [0.5555555555555556, \"#d8576b\"], [0.6666666666666666, \"#ed7953\"], [0.7777777777777778, \"#fb9f3a\"], [0.8888888888888888, \"#fdca26\"], [1.0, \"#f0f921\"]], \"type\": \"heatmapgl\"}], \"histogram\": [{\"marker\": {\"colorbar\": {\"outlinewidth\": 0, \"ticks\": \"\"}}, \"type\": \"histogram\"}], \"histogram2d\": [{\"colorbar\": {\"outlinewidth\": 0, \"ticks\": \"\"}, \"colorscale\": [[0.0, \"#0d0887\"], [0.1111111111111111, \"#46039f\"], [0.2222222222222222, \"#7201a8\"], [0.3333333333333333, \"#9c179e\"], [0.4444444444444444, \"#bd3786\"], [0.5555555555555556, \"#d8576b\"], [0.6666666666666666, \"#ed7953\"], [0.7777777777777778, \"#fb9f3a\"], [0.8888888888888888, \"#fdca26\"], [1.0, \"#f0f921\"]], \"type\": \"histogram2d\"}], \"histogram2dcontour\": [{\"colorbar\": {\"outlinewidth\": 0, \"ticks\": \"\"}, \"colorscale\": [[0.0, \"#0d0887\"], [0.1111111111111111, \"#46039f\"], [0.2222222222222222, \"#7201a8\"], [0.3333333333333333, \"#9c179e\"], [0.4444444444444444, \"#bd3786\"], [0.5555555555555556, \"#d8576b\"], [0.6666666666666666, \"#ed7953\"], [0.7777777777777778, \"#fb9f3a\"], [0.8888888888888888, \"#fdca26\"], [1.0, \"#f0f921\"]], \"type\": \"histogram2dcontour\"}], \"mesh3d\": [{\"colorbar\": {\"outlinewidth\": 0, \"ticks\": \"\"}, \"type\": \"mesh3d\"}], \"parcoords\": [{\"line\": {\"colorbar\": {\"outlinewidth\": 0, \"ticks\": \"\"}}, \"type\": \"parcoords\"}], \"scatter\": [{\"marker\": {\"colorbar\": {\"outlinewidth\": 0, \"ticks\": \"\"}}, \"type\": \"scatter\"}], \"scatter3d\": [{\"line\": {\"colorbar\": {\"outlinewidth\": 0, \"ticks\": \"\"}}, \"marker\": {\"colorbar\": {\"outlinewidth\": 0, \"ticks\": \"\"}}, \"type\": \"scatter3d\"}], \"scattercarpet\": [{\"marker\": {\"colorbar\": {\"outlinewidth\": 0, \"ticks\": \"\"}}, \"type\": \"scattercarpet\"}], \"scattergeo\": [{\"marker\": {\"colorbar\": {\"outlinewidth\": 0, \"ticks\": \"\"}}, \"type\": \"scattergeo\"}], \"scattergl\": [{\"marker\": {\"colorbar\": {\"outlinewidth\": 0, \"ticks\": \"\"}}, \"type\": \"scattergl\"}], \"scattermapbox\": [{\"marker\": {\"colorbar\": {\"outlinewidth\": 0, \"ticks\": \"\"}}, \"type\": \"scattermapbox\"}], \"scatterpolar\": [{\"marker\": {\"colorbar\": {\"outlinewidth\": 0, \"ticks\": \"\"}}, \"type\": \"scatterpolar\"}], \"scatterpolargl\": [{\"marker\": {\"colorbar\": {\"outlinewidth\": 0, \"ticks\": \"\"}}, \"type\": \"scatterpolargl\"}], \"scatterternary\": [{\"marker\": {\"colorbar\": {\"outlinewidth\": 0, \"ticks\": \"\"}}, \"type\": \"scatterternary\"}], \"surface\": [{\"colorbar\": {\"outlinewidth\": 0, \"ticks\": \"\"}, \"colorscale\": [[0.0, \"#0d0887\"], [0.1111111111111111, \"#46039f\"], [0.2222222222222222, \"#7201a8\"], [0.3333333333333333, \"#9c179e\"], [0.4444444444444444, \"#bd3786\"], [0.5555555555555556, \"#d8576b\"], [0.6666666666666666, \"#ed7953\"], [0.7777777777777778, \"#fb9f3a\"], [0.8888888888888888, \"#fdca26\"], [1.0, \"#f0f921\"]], \"type\": \"surface\"}], \"table\": [{\"cells\": {\"fill\": {\"color\": \"#EBF0F8\"}, \"line\": {\"color\": \"white\"}}, \"header\": {\"fill\": {\"color\": \"#C8D4E3\"}, \"line\": {\"color\": \"white\"}}, \"type\": \"table\"}]}, \"layout\": {\"annotationdefaults\": {\"arrowcolor\": \"#2a3f5f\", \"arrowhead\": 0, \"arrowwidth\": 1}, \"colorscale\": {\"diverging\": [[0, \"#8e0152\"], [0.1, \"#c51b7d\"], [0.2, \"#de77ae\"], [0.3, \"#f1b6da\"], [0.4, \"#fde0ef\"], [0.5, \"#f7f7f7\"], [0.6, \"#e6f5d0\"], [0.7, \"#b8e186\"], [0.8, \"#7fbc41\"], [0.9, \"#4d9221\"], [1, \"#276419\"]], \"sequential\": [[0.0, \"#0d0887\"], [0.1111111111111111, \"#46039f\"], [0.2222222222222222, \"#7201a8\"], [0.3333333333333333, \"#9c179e\"], [0.4444444444444444, \"#bd3786\"], [0.5555555555555556, \"#d8576b\"], [0.6666666666666666, \"#ed7953\"], [0.7777777777777778, \"#fb9f3a\"], [0.8888888888888888, \"#fdca26\"], [1.0, \"#f0f921\"]], \"sequentialminus\": [[0.0, \"#0d0887\"], [0.1111111111111111, \"#46039f\"], [0.2222222222222222, \"#7201a8\"], [0.3333333333333333, \"#9c179e\"], [0.4444444444444444, \"#bd3786\"], [0.5555555555555556, \"#d8576b\"], [0.6666666666666666, \"#ed7953\"], [0.7777777777777778, \"#fb9f3a\"], [0.8888888888888888, \"#fdca26\"], [1.0, \"#f0f921\"]]}, \"colorway\": [\"#636efa\", \"#EF553B\", \"#00cc96\", \"#ab63fa\", \"#FFA15A\", \"#19d3f3\", \"#FF6692\", \"#B6E880\", \"#FF97FF\", \"#FECB52\"], \"font\": {\"color\": \"#2a3f5f\"}, \"geo\": {\"bgcolor\": \"white\", \"lakecolor\": \"white\", \"landcolor\": \"#E5ECF6\", \"showlakes\": true, \"showland\": true, \"subunitcolor\": \"white\"}, \"hoverlabel\": {\"align\": \"left\"}, \"hovermode\": \"closest\", \"mapbox\": {\"style\": \"light\"}, \"paper_bgcolor\": \"white\", \"plot_bgcolor\": \"#E5ECF6\", \"polar\": {\"angularaxis\": {\"gridcolor\": \"white\", \"linecolor\": \"white\", \"ticks\": \"\"}, \"bgcolor\": \"#E5ECF6\", \"radialaxis\": {\"gridcolor\": \"white\", \"linecolor\": \"white\", \"ticks\": \"\"}}, \"scene\": {\"xaxis\": {\"backgroundcolor\": \"#E5ECF6\", \"gridcolor\": \"white\", \"gridwidth\": 2, \"linecolor\": \"white\", \"showbackground\": true, \"ticks\": \"\", \"zerolinecolor\": \"white\"}, \"yaxis\": {\"backgroundcolor\": \"#E5ECF6\", \"gridcolor\": \"white\", \"gridwidth\": 2, \"linecolor\": \"white\", \"showbackground\": true, \"ticks\": \"\", \"zerolinecolor\": \"white\"}, \"zaxis\": {\"backgroundcolor\": \"#E5ECF6\", \"gridcolor\": \"white\", \"gridwidth\": 2, \"linecolor\": \"white\", \"showbackground\": true, \"ticks\": \"\", \"zerolinecolor\": \"white\"}}, \"shapedefaults\": {\"line\": {\"color\": \"#2a3f5f\"}}, \"ternary\": {\"aaxis\": {\"gridcolor\": \"white\", \"linecolor\": \"white\", \"ticks\": \"\"}, \"baxis\": {\"gridcolor\": \"white\", \"linecolor\": \"white\", \"ticks\": \"\"}, \"bgcolor\": \"#E5ECF6\", \"caxis\": {\"gridcolor\": \"white\", \"linecolor\": \"white\", \"ticks\": \"\"}}, \"title\": {\"x\": 0.05}, \"xaxis\": {\"automargin\": true, \"gridcolor\": \"white\", \"linecolor\": \"white\", \"ticks\": \"\", \"zerolinecolor\": \"white\", \"zerolinewidth\": 2}, \"yaxis\": {\"automargin\": true, \"gridcolor\": \"white\", \"linecolor\": \"white\", \"ticks\": \"\", \"zerolinecolor\": \"white\", \"zerolinewidth\": 2}}}, \"width\": 1000, \"xaxis\": {\"anchor\": \"y\", \"domain\": [0.0, 0.45], \"range\": [\"2019-09-02\", \"2019-10-06\"], \"title\": {\"text\": \"Date\"}}, \"xaxis2\": {\"anchor\": \"y2\", \"domain\": [0.55, 1.0], \"range\": [-0.5, 24], \"title\": {\"text\": \"Hour\"}}, \"yaxis\": {\"anchor\": \"x\", \"domain\": [0.0, 1.0], \"range\": [-0.1, 0.65], \"title\": {\"text\": \"Average Compound Scores\"}}, \"yaxis2\": {\"anchor\": \"x2\", \"domain\": [0.0, 1.0], \"range\": [-0.1, 0.65]}},\n",
       "                        {\"responsive\": true}\n",
       "                    ).then(function(){\n",
       "                            \n",
       "var gd = document.getElementById('b1ce3de8-e628-4773-9de6-11f436595634');\n",
       "var x = new MutationObserver(function (mutations, observer) {{\n",
       "        var display = window.getComputedStyle(gd).display;\n",
       "        if (!display || display === 'none') {{\n",
       "            console.log([gd, 'removed!']);\n",
       "            Plotly.purge(gd);\n",
       "            observer.disconnect();\n",
       "        }}\n",
       "}});\n",
       "\n",
       "// Listen for the removal of the full notebook cells\n",
       "var notebookContainer = gd.closest('#notebook-container');\n",
       "if (notebookContainer) {{\n",
       "    x.observe(notebookContainer, {childList: true});\n",
       "}}\n",
       "\n",
       "// Listen for the clearing of the current output cell\n",
       "var outputEl = gd.closest('.output');\n",
       "if (outputEl) {{\n",
       "    x.observe(outputEl, {childList: true});\n",
       "}}\n",
       "\n",
       "                        })\n",
       "                };\n",
       "                });\n",
       "            </script>\n",
       "        </div>"
      ]
     },
     "metadata": {},
     "output_type": "display_data"
    }
   ],
   "source": [
    "from plotly.subplots import make_subplots\n",
    "\n",
    "fig = make_subplots(rows=1, cols=2)\n",
    "\n",
    "fig.add_trace(go.Scatter(x = senti_date.index,\n",
    "                         y = senti_date.values,\n",
    "                         mode = \"lines+markers\",\n",
    "                         name = \"citations\"), row=1, col=1)\n",
    "\n",
    "fig.add_trace(go.Scatter(x = senti_hour.index,\n",
    "                         y = senti_hour.values,\n",
    "                         mode = \"lines+markers\",\n",
    "                        name = \"citations\"), row=1, col=2)\n",
    "\n",
    "fig.update_xaxes(title_text=\"Hour\",range=[-0.5,24],row=1, col=2)\n",
    "fig.update_xaxes(title_text=\"Date\",range=['2019-09-02','2019-10-06'], row=1, col=1)\n",
    "\n",
    "fig.update_yaxes(title_text=\"Average Compound Scores\", range=[-0.1,0.65], row=1, col=1)\n",
    "fig.update_yaxes(range=[-0.1,0.65], row=1, col=2)\n",
    "\n",
    "fig.update_layout(\n",
    "    shapes=[\n",
    "        # Line Vertical\n",
    "        go.layout.Shape(\n",
    "            type=\"line\",\n",
    "            x0=\"2019-09-12\",\n",
    "            y0=-0.1,\n",
    "            x1=\"2019-09-12\",\n",
    "            y1=0.65,\n",
    "            line=dict(color=\"RoyalBlue\",width=3,dash=\"dot\"),\n",
    "            layer='above')\n",
    "    ]\n",
    ")\n",
    "fig.update_layout(height=500, width=1000,showlegend=False)\n",
    "#fig.update_layout(height=500, width=1000, title_text=\"Vader Sentiment Analysis: Average Compound Scores\",showlegend=False)\n",
    "fig.show()"
   ]
  },
  {
   "cell_type": "code",
   "execution_count": 29,
   "metadata": {},
   "outputs": [
    {
     "data": {
      "text/html": [
       "<div>\n",
       "<style scoped>\n",
       "    .dataframe tbody tr th:only-of-type {\n",
       "        vertical-align: middle;\n",
       "    }\n",
       "\n",
       "    .dataframe tbody tr th {\n",
       "        vertical-align: top;\n",
       "    }\n",
       "\n",
       "    .dataframe thead th {\n",
       "        text-align: right;\n",
       "    }\n",
       "</style>\n",
       "<table border=\"1\" class=\"dataframe\">\n",
       "  <thead>\n",
       "    <tr style=\"text-align: right;\">\n",
       "      <th></th>\n",
       "      <th>name</th>\n",
       "      <th>lat</th>\n",
       "      <th>long</th>\n",
       "    </tr>\n",
       "  </thead>\n",
       "  <tbody>\n",
       "    <tr>\n",
       "      <th>0</th>\n",
       "      <td>Brisbane, Queensland</td>\n",
       "      <td>-27.469771</td>\n",
       "      <td>153.025124</td>\n",
       "    </tr>\n",
       "    <tr>\n",
       "      <th>1</th>\n",
       "      <td>Wollongong, NSW, AUSTRALIA</td>\n",
       "      <td>-34.427812</td>\n",
       "      <td>150.893061</td>\n",
       "    </tr>\n",
       "    <tr>\n",
       "      <th>2</th>\n",
       "      <td>Melbourne</td>\n",
       "      <td>-37.813628</td>\n",
       "      <td>144.963058</td>\n",
       "    </tr>\n",
       "    <tr>\n",
       "      <th>3</th>\n",
       "      <td>Philippines</td>\n",
       "      <td>12.879721</td>\n",
       "      <td>121.774017</td>\n",
       "    </tr>\n",
       "    <tr>\n",
       "      <th>4</th>\n",
       "      <td>Australia</td>\n",
       "      <td>-25.274398</td>\n",
       "      <td>133.775136</td>\n",
       "    </tr>\n",
       "    <tr>\n",
       "      <th>5</th>\n",
       "      <td>Nevada, USA</td>\n",
       "      <td>38.802610</td>\n",
       "      <td>-116.419389</td>\n",
       "    </tr>\n",
       "    <tr>\n",
       "      <th>6</th>\n",
       "      <td>Melbourne Australia</td>\n",
       "      <td>-37.813628</td>\n",
       "      <td>144.963058</td>\n",
       "    </tr>\n",
       "    <tr>\n",
       "      <th>7</th>\n",
       "      <td>United States</td>\n",
       "      <td>37.090240</td>\n",
       "      <td>-95.712891</td>\n",
       "    </tr>\n",
       "    <tr>\n",
       "      <th>8</th>\n",
       "      <td>California,orlando</td>\n",
       "      <td>28.485102</td>\n",
       "      <td>-81.432300</td>\n",
       "    </tr>\n",
       "    <tr>\n",
       "      <th>9</th>\n",
       "      <td>Lower Saxony, Germany</td>\n",
       "      <td>52.636704</td>\n",
       "      <td>9.845077</td>\n",
       "    </tr>\n",
       "  </tbody>\n",
       "</table>\n",
       "</div>"
      ],
      "text/plain": [
       "                         name        lat        long\n",
       "0        Brisbane, Queensland -27.469771  153.025124\n",
       "1  Wollongong, NSW, AUSTRALIA -34.427812  150.893061\n",
       "2                   Melbourne -37.813628  144.963058\n",
       "3                 Philippines  12.879721  121.774017\n",
       "4                   Australia -25.274398  133.775136\n",
       "5                 Nevada, USA  38.802610 -116.419389\n",
       "6         Melbourne Australia -37.813628  144.963058\n",
       "7               United States  37.090240  -95.712891\n",
       "8          California,orlando  28.485102  -81.432300\n",
       "9       Lower Saxony, Germany  52.636704    9.845077"
      ]
     },
     "execution_count": 29,
     "metadata": {},
     "output_type": "execute_result"
    }
   ],
   "source": [
    "# Heat Map: Mean Polarity by location\n",
    "geo = pd.read_csv(\"location_geocode.csv\")\n",
    "geo.head(10)"
   ]
  },
  {
   "cell_type": "code",
   "execution_count": 30,
   "metadata": {},
   "outputs": [],
   "source": [
    "ruok_place = ruok.dropna(subset=['place_full_name'])\n",
    "ruok_place = ruok_place.merge(geo, how='inner', left_on='place_full_name', right_on='name')"
   ]
  },
  {
   "cell_type": "code",
   "execution_count": 31,
   "metadata": {},
   "outputs": [],
   "source": [
    "#ruok_place.to_csv('ruok_place.csv')"
   ]
  },
  {
   "cell_type": "code",
   "execution_count": 32,
   "metadata": {},
   "outputs": [
    {
     "name": "stdout",
     "output_type": "stream",
     "text": [
      "Sydney        124\n",
      "Melbourne     111\n",
      "Brisbane       61\n",
      "Perth          37\n",
      "Canberra       22\n",
      "Gold Coast     20\n",
      "Adelaide       11\n",
      "Name: place_name, dtype: int64\n"
     ]
    }
   ],
   "source": [
    "#citygraph\n",
    "city_df=ruok_place[['place_name','created_at_date','sentiment_compound_polarity','sentiment_type']]\n",
    "city_df['place_name'].replace('Perth (WA)','Perth',inplace=True)\n",
    "city_senti = city_df[city_df.sentiment_type.isin(['Positive','Negative'])]\n",
    "#select cities with the most number of tweets\n",
    "cities = ['Sydney', 'Melbourne','Brisbane','Canberra','Perth','Gold Coast','Adelaide']\n",
    "city_df= city_df[city_df.place_name.isin(cities)]\n",
    "print(city_df['place_name'].value_counts())"
   ]
  },
  {
   "cell_type": "code",
   "execution_count": 33,
   "metadata": {},
   "outputs": [
    {
     "data": {
      "application/vnd.plotly.v1+json": {
       "config": {
        "plotlyServerURL": "https://plot.ly"
       },
       "data": [
        {
         "alignmentgroup": "True",
         "hoverlabel": {
          "namelength": 0
         },
         "hovertemplate": "sentiment_type=Positive<br>place_name=%{x}<br>sentiment_compound_polarity=%{y}",
         "legendgroup": "sentiment_type=Positive",
         "marker": {
          "color": "#636efa"
         },
         "name": "sentiment_type=Positive",
         "offsetgroup": "sentiment_type=Positive",
         "orientation": "v",
         "showlegend": true,
         "textposition": "auto",
         "type": "bar",
         "x": [
          "Sydney",
          "Sydney",
          "Sydney",
          "Sydney",
          "Sydney",
          "Sydney",
          "Sydney",
          "Sydney",
          "Sydney",
          "Sydney",
          "Sydney",
          "Sydney",
          "Sydney",
          "Sydney",
          "Sydney",
          "Sydney",
          "Sydney",
          "Sydney",
          "Sydney",
          "Sydney",
          "Sydney",
          "Sydney",
          "Sydney",
          "Sydney",
          "Sydney",
          "Sydney",
          "Sydney",
          "Sydney",
          "Sydney",
          "Sydney",
          "Sydney",
          "Sydney",
          "Sydney",
          "Sydney",
          "Sydney",
          "Sydney",
          "Sydney",
          "Sydney",
          "Sydney",
          "Sydney",
          "Sydney",
          "Sydney",
          "Sydney",
          "Sydney",
          "Sydney",
          "Sydney",
          "Sydney",
          "Sydney",
          "Sydney",
          "Sydney",
          "Sydney",
          "Sydney",
          "Sydney",
          "Sydney",
          "Sydney",
          "Sydney",
          "Sydney",
          "Sydney",
          "Sydney",
          "Sydney",
          "Sydney",
          "Sydney",
          "Sydney",
          "Sydney",
          "Sydney",
          "Sydney",
          "Sydney",
          "Sydney",
          "Sydney",
          "Sydney",
          "Sydney",
          "Sydney",
          "Sydney",
          "Sydney",
          "Sydney",
          "Sydney",
          "Sydney",
          "Sydney",
          "Sydney",
          "Sydney",
          "Sydney",
          "Sydney",
          "Sydney",
          "Sydney",
          "Sydney",
          "Sydney",
          "Sydney",
          "Brisbane",
          "Brisbane",
          "Brisbane",
          "Brisbane",
          "Brisbane",
          "Brisbane",
          "Brisbane",
          "Brisbane",
          "Brisbane",
          "Brisbane",
          "Brisbane",
          "Brisbane",
          "Brisbane",
          "Brisbane",
          "Brisbane",
          "Brisbane",
          "Brisbane",
          "Brisbane",
          "Brisbane",
          "Brisbane",
          "Brisbane",
          "Brisbane",
          "Brisbane",
          "Brisbane",
          "Brisbane",
          "Brisbane",
          "Brisbane",
          "Brisbane",
          "Brisbane",
          "Brisbane",
          "Brisbane",
          "Brisbane",
          "Brisbane",
          "Brisbane",
          "Brisbane",
          "Brisbane",
          "Brisbane",
          "Brisbane",
          "Brisbane",
          "Brisbane",
          "Brisbane",
          "Brisbane",
          "Melbourne",
          "Melbourne",
          "Melbourne",
          "Melbourne",
          "Melbourne",
          "Melbourne",
          "Melbourne",
          "Melbourne",
          "Melbourne",
          "Melbourne",
          "Melbourne",
          "Melbourne",
          "Melbourne",
          "Melbourne",
          "Melbourne",
          "Melbourne",
          "Melbourne",
          "Melbourne",
          "Melbourne",
          "Melbourne",
          "Melbourne",
          "Melbourne",
          "Melbourne",
          "Melbourne",
          "Melbourne",
          "Melbourne",
          "Melbourne",
          "Melbourne",
          "Melbourne",
          "Melbourne",
          "Melbourne",
          "Melbourne",
          "Melbourne",
          "Melbourne",
          "Melbourne",
          "Melbourne",
          "Melbourne",
          "Melbourne",
          "Melbourne",
          "Melbourne",
          "Melbourne",
          "Melbourne",
          "Melbourne",
          "Melbourne",
          "Melbourne",
          "Melbourne",
          "Melbourne",
          "Melbourne",
          "Melbourne",
          "Melbourne",
          "Melbourne",
          "Melbourne",
          "Melbourne",
          "Melbourne",
          "Melbourne",
          "Melbourne",
          "Melbourne",
          "Melbourne",
          "Melbourne",
          "Melbourne",
          "Melbourne",
          "Melbourne",
          "Melbourne",
          "Melbourne",
          "Melbourne",
          "Melbourne",
          "Melbourne",
          "Melbourne",
          "Melbourne",
          "Melbourne",
          "Melbourne",
          "Melbourne",
          "Melbourne",
          "Melbourne",
          "Perth",
          "Perth",
          "Perth",
          "Perth",
          "Perth",
          "Perth",
          "Perth",
          "Perth",
          "Perth",
          "Perth",
          "Perth",
          "Perth",
          "Perth",
          "Perth",
          "Perth",
          "Perth",
          "Perth",
          "Perth",
          "Perth",
          "Adelaide",
          "Adelaide",
          "Adelaide",
          "Adelaide",
          "Adelaide",
          "Adelaide",
          "Adelaide",
          "Adelaide",
          "Adelaide",
          "Adelaide",
          "Canberra",
          "Canberra",
          "Canberra",
          "Canberra",
          "Canberra",
          "Canberra",
          "Canberra",
          "Canberra",
          "Canberra",
          "Canberra",
          "Canberra",
          "Canberra",
          "Canberra",
          "Gold Coast",
          "Gold Coast",
          "Gold Coast",
          "Gold Coast",
          "Gold Coast",
          "Gold Coast",
          "Gold Coast",
          "Gold Coast",
          "Gold Coast",
          "Gold Coast",
          "Gold Coast",
          "Gold Coast"
         ],
         "xaxis": "x",
         "y": [
          0.8316,
          0.6369,
          0.3818,
          0.6249,
          0.8519,
          0.6597,
          0.296,
          0.1027,
          0.6369,
          0.4939,
          0.5719,
          0.5267,
          0.3612,
          0.6369,
          0.6597,
          0.4215,
          0.765,
          0.6705,
          0.1506,
          0.8316,
          0.6369,
          0.4588,
          0.8225,
          0.4939,
          0.8126,
          0.2263,
          0.4404,
          0.296,
          0.6124,
          0.7964,
          0.7964,
          0.2263,
          0.5106,
          0.3818,
          0.296,
          0.4939,
          0.4019,
          0.4939,
          0.9432,
          0.2732,
          0.5106,
          0.1779,
          0.6705,
          0.6597,
          0.2263,
          0.8834,
          0.6369,
          0.4939,
          0.9169,
          0.3182,
          0.7579,
          0.6369,
          0.3612,
          0.8176,
          0.8176,
          0.9393,
          0.7506,
          0.5719,
          0.6908,
          0.4939,
          0.8519,
          0.6808,
          0.6124,
          0.1779,
          0.3612,
          0.836,
          0.8979,
          0.3612,
          0.4404,
          0.3612,
          0.7506,
          0.6908,
          0.5859,
          0.6369,
          0.7783,
          0.0258,
          0.6369,
          0.8625,
          0.2263,
          0.6369,
          0.8271,
          0.5574,
          0.7506,
          0.4482,
          0.7906,
          0.4019,
          0.7717,
          0.5859,
          0.6597,
          0.3612,
          0.8402,
          0.7269,
          0.8225,
          0.2732,
          0.7351,
          0.5859,
          0.4939,
          0.6597,
          0.5719,
          0.8689,
          0.6694,
          0.1531,
          0.4939,
          0.8481,
          0.228,
          0.6815,
          0.5106,
          0.7184,
          0.7964,
          0.6369,
          0.296,
          0.34,
          0.4215,
          0.0258,
          0.6486,
          0.8176,
          0.4588,
          0.2263,
          0.6124,
          0.7096,
          0.872,
          0.7351,
          0.9067,
          0.4019,
          0.4019,
          0.4404,
          0.5423,
          0.8126,
          0.6249,
          0.6808,
          0.0516,
          0.8481,
          0.8625,
          0.296,
          0.0772,
          0.2732,
          0.5719,
          0.3612,
          0.3612,
          0.3612,
          0.4404,
          0.4404,
          0.891,
          0.4215,
          0.7579,
          0.6124,
          0.2732,
          0.8689,
          0.296,
          0.2263,
          0.3182,
          0.9062,
          0.765,
          0.8402,
          0.8779,
          0.8316,
          0.8404,
          0.4767,
          0.836,
          0.6705,
          0.4019,
          0.6808,
          0.8658,
          0.296,
          0.6124,
          0.5106,
          0.6124,
          0.5267,
          0.5106,
          0.6597,
          0.8481,
          0.6369,
          0.8689,
          0.6369,
          0.872,
          0.3612,
          0.6597,
          0.296,
          0.5719,
          0.4215,
          0.6597,
          0.7964,
          0.3612,
          0.296,
          0.4939,
          0.8225,
          0.7845,
          0.9552,
          0.4019,
          0.8402,
          0.3182,
          0.296,
          0.5106,
          0.296,
          0.7506,
          0.7003,
          0.4215,
          0.5267,
          0.3182,
          0.4215,
          0.8481,
          0.7096,
          0.296,
          0.6249,
          0.9042,
          0.7964,
          0.5994,
          0.2023,
          0.25,
          0.6705,
          0.7351,
          0.5994,
          0.8885,
          0.4404,
          0.5267,
          0.4404,
          0.5106,
          0.4404,
          0.4588,
          0.296,
          0.34,
          0.4939,
          0.5267,
          0.7783,
          0.4404,
          0.91,
          0.8442,
          0.8316,
          0.8074,
          0.6597,
          0.8074,
          0.765,
          0.5859,
          0.4404,
          0.8316,
          0.128,
          0.4019,
          0.2023,
          0.8442,
          0.7184,
          0.5994,
          0.8402,
          0.0772,
          0.7096,
          0.4404,
          0.296,
          0.802,
          0.5719,
          0.2263,
          0.3612,
          0.3612,
          0.4404,
          0.6249,
          0.5267,
          0.8126,
          0.5859,
          0.0258
         ],
         "yaxis": "y"
        },
        {
         "alignmentgroup": "True",
         "hoverlabel": {
          "namelength": 0
         },
         "hovertemplate": "sentiment_type=Negative<br>place_name=%{x}<br>sentiment_compound_polarity=%{y}",
         "legendgroup": "sentiment_type=Negative",
         "marker": {
          "color": "#EF553B"
         },
         "name": "sentiment_type=Negative",
         "offsetgroup": "sentiment_type=Negative",
         "orientation": "v",
         "showlegend": true,
         "textposition": "auto",
         "type": "bar",
         "x": [
          "Sydney",
          "Sydney",
          "Sydney",
          "Sydney",
          "Sydney",
          "Sydney",
          "Sydney",
          "Sydney",
          "Sydney",
          "Sydney",
          "Sydney",
          "Sydney",
          "Brisbane",
          "Brisbane",
          "Brisbane",
          "Brisbane",
          "Brisbane",
          "Brisbane",
          "Melbourne",
          "Melbourne",
          "Melbourne",
          "Melbourne",
          "Melbourne",
          "Melbourne",
          "Melbourne",
          "Melbourne",
          "Melbourne",
          "Melbourne",
          "Melbourne",
          "Melbourne",
          "Melbourne",
          "Melbourne",
          "Melbourne",
          "Melbourne",
          "Melbourne",
          "Perth",
          "Perth",
          "Perth",
          "Perth",
          "Perth",
          "Perth",
          "Perth",
          "Perth",
          "Perth",
          "Adelaide",
          "Canberra",
          "Canberra",
          "Gold Coast",
          "Gold Coast",
          "Gold Coast",
          "Gold Coast",
          "Gold Coast",
          "Gold Coast",
          "Gold Coast"
         ],
         "xaxis": "x",
         "y": [
          -0.8442,
          -0.4588,
          -0.0516,
          -0.5106,
          -0.1531,
          -0.4215,
          -0.5719,
          -0.5859,
          -0.1098,
          -0.4019,
          -0.5267,
          -0.4585,
          -0.4215,
          -0.0258,
          -0.5719,
          -0.5609,
          -0.5574,
          -0.0516,
          -0.5994,
          -0.25,
          -0.2263,
          -0.6369,
          -0.4215,
          -0.6319,
          -0.2023,
          -0.2411,
          -0.0516,
          -0.8625,
          -0.5994,
          -0.1027,
          -0.8316,
          -0.0258,
          -0.128,
          -0.6597,
          -0.5859,
          -0.296,
          -0.25,
          -0.4939,
          -0.6249,
          -0.296,
          -0.296,
          -0.031,
          -0.1531,
          -0.4019,
          -0.9022,
          -0.2263,
          -0.1027,
          -0.3182,
          -0.9217,
          -0.4215,
          -0.7506,
          -0.3182,
          -0.5267,
          -0.5719
         ],
         "yaxis": "y"
        }
       ],
       "layout": {
        "barmode": "relative",
        "height": 600,
        "legend": {
         "tracegroupgap": 0
        },
        "margin": {
         "t": 60
        },
        "template": {
         "data": {
          "bar": [
           {
            "error_x": {
             "color": "#2a3f5f"
            },
            "error_y": {
             "color": "#2a3f5f"
            },
            "marker": {
             "line": {
              "color": "#E5ECF6",
              "width": 0.5
             }
            },
            "type": "bar"
           }
          ],
          "barpolar": [
           {
            "marker": {
             "line": {
              "color": "#E5ECF6",
              "width": 0.5
             }
            },
            "type": "barpolar"
           }
          ],
          "carpet": [
           {
            "aaxis": {
             "endlinecolor": "#2a3f5f",
             "gridcolor": "white",
             "linecolor": "white",
             "minorgridcolor": "white",
             "startlinecolor": "#2a3f5f"
            },
            "baxis": {
             "endlinecolor": "#2a3f5f",
             "gridcolor": "white",
             "linecolor": "white",
             "minorgridcolor": "white",
             "startlinecolor": "#2a3f5f"
            },
            "type": "carpet"
           }
          ],
          "choropleth": [
           {
            "colorbar": {
             "outlinewidth": 0,
             "ticks": ""
            },
            "type": "choropleth"
           }
          ],
          "contour": [
           {
            "colorbar": {
             "outlinewidth": 0,
             "ticks": ""
            },
            "colorscale": [
             [
              0,
              "#0d0887"
             ],
             [
              0.1111111111111111,
              "#46039f"
             ],
             [
              0.2222222222222222,
              "#7201a8"
             ],
             [
              0.3333333333333333,
              "#9c179e"
             ],
             [
              0.4444444444444444,
              "#bd3786"
             ],
             [
              0.5555555555555556,
              "#d8576b"
             ],
             [
              0.6666666666666666,
              "#ed7953"
             ],
             [
              0.7777777777777778,
              "#fb9f3a"
             ],
             [
              0.8888888888888888,
              "#fdca26"
             ],
             [
              1,
              "#f0f921"
             ]
            ],
            "type": "contour"
           }
          ],
          "contourcarpet": [
           {
            "colorbar": {
             "outlinewidth": 0,
             "ticks": ""
            },
            "type": "contourcarpet"
           }
          ],
          "heatmap": [
           {
            "colorbar": {
             "outlinewidth": 0,
             "ticks": ""
            },
            "colorscale": [
             [
              0,
              "#0d0887"
             ],
             [
              0.1111111111111111,
              "#46039f"
             ],
             [
              0.2222222222222222,
              "#7201a8"
             ],
             [
              0.3333333333333333,
              "#9c179e"
             ],
             [
              0.4444444444444444,
              "#bd3786"
             ],
             [
              0.5555555555555556,
              "#d8576b"
             ],
             [
              0.6666666666666666,
              "#ed7953"
             ],
             [
              0.7777777777777778,
              "#fb9f3a"
             ],
             [
              0.8888888888888888,
              "#fdca26"
             ],
             [
              1,
              "#f0f921"
             ]
            ],
            "type": "heatmap"
           }
          ],
          "heatmapgl": [
           {
            "colorbar": {
             "outlinewidth": 0,
             "ticks": ""
            },
            "colorscale": [
             [
              0,
              "#0d0887"
             ],
             [
              0.1111111111111111,
              "#46039f"
             ],
             [
              0.2222222222222222,
              "#7201a8"
             ],
             [
              0.3333333333333333,
              "#9c179e"
             ],
             [
              0.4444444444444444,
              "#bd3786"
             ],
             [
              0.5555555555555556,
              "#d8576b"
             ],
             [
              0.6666666666666666,
              "#ed7953"
             ],
             [
              0.7777777777777778,
              "#fb9f3a"
             ],
             [
              0.8888888888888888,
              "#fdca26"
             ],
             [
              1,
              "#f0f921"
             ]
            ],
            "type": "heatmapgl"
           }
          ],
          "histogram": [
           {
            "marker": {
             "colorbar": {
              "outlinewidth": 0,
              "ticks": ""
             }
            },
            "type": "histogram"
           }
          ],
          "histogram2d": [
           {
            "colorbar": {
             "outlinewidth": 0,
             "ticks": ""
            },
            "colorscale": [
             [
              0,
              "#0d0887"
             ],
             [
              0.1111111111111111,
              "#46039f"
             ],
             [
              0.2222222222222222,
              "#7201a8"
             ],
             [
              0.3333333333333333,
              "#9c179e"
             ],
             [
              0.4444444444444444,
              "#bd3786"
             ],
             [
              0.5555555555555556,
              "#d8576b"
             ],
             [
              0.6666666666666666,
              "#ed7953"
             ],
             [
              0.7777777777777778,
              "#fb9f3a"
             ],
             [
              0.8888888888888888,
              "#fdca26"
             ],
             [
              1,
              "#f0f921"
             ]
            ],
            "type": "histogram2d"
           }
          ],
          "histogram2dcontour": [
           {
            "colorbar": {
             "outlinewidth": 0,
             "ticks": ""
            },
            "colorscale": [
             [
              0,
              "#0d0887"
             ],
             [
              0.1111111111111111,
              "#46039f"
             ],
             [
              0.2222222222222222,
              "#7201a8"
             ],
             [
              0.3333333333333333,
              "#9c179e"
             ],
             [
              0.4444444444444444,
              "#bd3786"
             ],
             [
              0.5555555555555556,
              "#d8576b"
             ],
             [
              0.6666666666666666,
              "#ed7953"
             ],
             [
              0.7777777777777778,
              "#fb9f3a"
             ],
             [
              0.8888888888888888,
              "#fdca26"
             ],
             [
              1,
              "#f0f921"
             ]
            ],
            "type": "histogram2dcontour"
           }
          ],
          "mesh3d": [
           {
            "colorbar": {
             "outlinewidth": 0,
             "ticks": ""
            },
            "type": "mesh3d"
           }
          ],
          "parcoords": [
           {
            "line": {
             "colorbar": {
              "outlinewidth": 0,
              "ticks": ""
             }
            },
            "type": "parcoords"
           }
          ],
          "scatter": [
           {
            "marker": {
             "colorbar": {
              "outlinewidth": 0,
              "ticks": ""
             }
            },
            "type": "scatter"
           }
          ],
          "scatter3d": [
           {
            "line": {
             "colorbar": {
              "outlinewidth": 0,
              "ticks": ""
             }
            },
            "marker": {
             "colorbar": {
              "outlinewidth": 0,
              "ticks": ""
             }
            },
            "type": "scatter3d"
           }
          ],
          "scattercarpet": [
           {
            "marker": {
             "colorbar": {
              "outlinewidth": 0,
              "ticks": ""
             }
            },
            "type": "scattercarpet"
           }
          ],
          "scattergeo": [
           {
            "marker": {
             "colorbar": {
              "outlinewidth": 0,
              "ticks": ""
             }
            },
            "type": "scattergeo"
           }
          ],
          "scattergl": [
           {
            "marker": {
             "colorbar": {
              "outlinewidth": 0,
              "ticks": ""
             }
            },
            "type": "scattergl"
           }
          ],
          "scattermapbox": [
           {
            "marker": {
             "colorbar": {
              "outlinewidth": 0,
              "ticks": ""
             }
            },
            "type": "scattermapbox"
           }
          ],
          "scatterpolar": [
           {
            "marker": {
             "colorbar": {
              "outlinewidth": 0,
              "ticks": ""
             }
            },
            "type": "scatterpolar"
           }
          ],
          "scatterpolargl": [
           {
            "marker": {
             "colorbar": {
              "outlinewidth": 0,
              "ticks": ""
             }
            },
            "type": "scatterpolargl"
           }
          ],
          "scatterternary": [
           {
            "marker": {
             "colorbar": {
              "outlinewidth": 0,
              "ticks": ""
             }
            },
            "type": "scatterternary"
           }
          ],
          "surface": [
           {
            "colorbar": {
             "outlinewidth": 0,
             "ticks": ""
            },
            "colorscale": [
             [
              0,
              "#0d0887"
             ],
             [
              0.1111111111111111,
              "#46039f"
             ],
             [
              0.2222222222222222,
              "#7201a8"
             ],
             [
              0.3333333333333333,
              "#9c179e"
             ],
             [
              0.4444444444444444,
              "#bd3786"
             ],
             [
              0.5555555555555556,
              "#d8576b"
             ],
             [
              0.6666666666666666,
              "#ed7953"
             ],
             [
              0.7777777777777778,
              "#fb9f3a"
             ],
             [
              0.8888888888888888,
              "#fdca26"
             ],
             [
              1,
              "#f0f921"
             ]
            ],
            "type": "surface"
           }
          ],
          "table": [
           {
            "cells": {
             "fill": {
              "color": "#EBF0F8"
             },
             "line": {
              "color": "white"
             }
            },
            "header": {
             "fill": {
              "color": "#C8D4E3"
             },
             "line": {
              "color": "white"
             }
            },
            "type": "table"
           }
          ]
         },
         "layout": {
          "annotationdefaults": {
           "arrowcolor": "#2a3f5f",
           "arrowhead": 0,
           "arrowwidth": 1
          },
          "colorscale": {
           "diverging": [
            [
             0,
             "#8e0152"
            ],
            [
             0.1,
             "#c51b7d"
            ],
            [
             0.2,
             "#de77ae"
            ],
            [
             0.3,
             "#f1b6da"
            ],
            [
             0.4,
             "#fde0ef"
            ],
            [
             0.5,
             "#f7f7f7"
            ],
            [
             0.6,
             "#e6f5d0"
            ],
            [
             0.7,
             "#b8e186"
            ],
            [
             0.8,
             "#7fbc41"
            ],
            [
             0.9,
             "#4d9221"
            ],
            [
             1,
             "#276419"
            ]
           ],
           "sequential": [
            [
             0,
             "#0d0887"
            ],
            [
             0.1111111111111111,
             "#46039f"
            ],
            [
             0.2222222222222222,
             "#7201a8"
            ],
            [
             0.3333333333333333,
             "#9c179e"
            ],
            [
             0.4444444444444444,
             "#bd3786"
            ],
            [
             0.5555555555555556,
             "#d8576b"
            ],
            [
             0.6666666666666666,
             "#ed7953"
            ],
            [
             0.7777777777777778,
             "#fb9f3a"
            ],
            [
             0.8888888888888888,
             "#fdca26"
            ],
            [
             1,
             "#f0f921"
            ]
           ],
           "sequentialminus": [
            [
             0,
             "#0d0887"
            ],
            [
             0.1111111111111111,
             "#46039f"
            ],
            [
             0.2222222222222222,
             "#7201a8"
            ],
            [
             0.3333333333333333,
             "#9c179e"
            ],
            [
             0.4444444444444444,
             "#bd3786"
            ],
            [
             0.5555555555555556,
             "#d8576b"
            ],
            [
             0.6666666666666666,
             "#ed7953"
            ],
            [
             0.7777777777777778,
             "#fb9f3a"
            ],
            [
             0.8888888888888888,
             "#fdca26"
            ],
            [
             1,
             "#f0f921"
            ]
           ]
          },
          "colorway": [
           "#636efa",
           "#EF553B",
           "#00cc96",
           "#ab63fa",
           "#FFA15A",
           "#19d3f3",
           "#FF6692",
           "#B6E880",
           "#FF97FF",
           "#FECB52"
          ],
          "font": {
           "color": "#2a3f5f"
          },
          "geo": {
           "bgcolor": "white",
           "lakecolor": "white",
           "landcolor": "#E5ECF6",
           "showlakes": true,
           "showland": true,
           "subunitcolor": "white"
          },
          "hoverlabel": {
           "align": "left"
          },
          "hovermode": "closest",
          "mapbox": {
           "style": "light"
          },
          "paper_bgcolor": "white",
          "plot_bgcolor": "#E5ECF6",
          "polar": {
           "angularaxis": {
            "gridcolor": "white",
            "linecolor": "white",
            "ticks": ""
           },
           "bgcolor": "#E5ECF6",
           "radialaxis": {
            "gridcolor": "white",
            "linecolor": "white",
            "ticks": ""
           }
          },
          "scene": {
           "xaxis": {
            "backgroundcolor": "#E5ECF6",
            "gridcolor": "white",
            "gridwidth": 2,
            "linecolor": "white",
            "showbackground": true,
            "ticks": "",
            "zerolinecolor": "white"
           },
           "yaxis": {
            "backgroundcolor": "#E5ECF6",
            "gridcolor": "white",
            "gridwidth": 2,
            "linecolor": "white",
            "showbackground": true,
            "ticks": "",
            "zerolinecolor": "white"
           },
           "zaxis": {
            "backgroundcolor": "#E5ECF6",
            "gridcolor": "white",
            "gridwidth": 2,
            "linecolor": "white",
            "showbackground": true,
            "ticks": "",
            "zerolinecolor": "white"
           }
          },
          "shapedefaults": {
           "line": {
            "color": "#2a3f5f"
           }
          },
          "ternary": {
           "aaxis": {
            "gridcolor": "white",
            "linecolor": "white",
            "ticks": ""
           },
           "baxis": {
            "gridcolor": "white",
            "linecolor": "white",
            "ticks": ""
           },
           "bgcolor": "#E5ECF6",
           "caxis": {
            "gridcolor": "white",
            "linecolor": "white",
            "ticks": ""
           }
          },
          "title": {
           "x": 0.05
          },
          "xaxis": {
           "automargin": true,
           "gridcolor": "white",
           "linecolor": "white",
           "ticks": "",
           "zerolinecolor": "white",
           "zerolinewidth": 2
          },
          "yaxis": {
           "automargin": true,
           "gridcolor": "white",
           "linecolor": "white",
           "ticks": "",
           "zerolinecolor": "white",
           "zerolinewidth": 2
          }
         }
        },
        "title": {
         "text": "Vader Sentiment Analysis: Sum of Sentiment Compound Scores"
        },
        "xaxis": {
         "anchor": "y",
         "domain": [
          0,
          0.98
         ],
         "title": {
          "text": "City"
         }
        },
        "yaxis": {
         "anchor": "x",
         "domain": [
          0,
          1
         ],
         "title": {
          "text": "Sum of Compound Sentiment Scores"
         }
        }
       }
      },
      "text/html": [
       "<div>\n",
       "        \n",
       "        \n",
       "            <div id=\"54ce12f4-86d2-4e5a-8a60-c89d89c8c52d\" class=\"plotly-graph-div\" style=\"height:600px; width:100%;\"></div>\n",
       "            <script type=\"text/javascript\">\n",
       "                require([\"plotly\"], function(Plotly) {\n",
       "                    window.PLOTLYENV=window.PLOTLYENV || {};\n",
       "                    \n",
       "                if (document.getElementById(\"54ce12f4-86d2-4e5a-8a60-c89d89c8c52d\")) {\n",
       "                    Plotly.newPlot(\n",
       "                        '54ce12f4-86d2-4e5a-8a60-c89d89c8c52d',\n",
       "                        [{\"alignmentgroup\": \"True\", \"hoverlabel\": {\"namelength\": 0}, \"hovertemplate\": \"sentiment_type=Positive<br>place_name=%{x}<br>sentiment_compound_polarity=%{y}\", \"legendgroup\": \"sentiment_type=Positive\", \"marker\": {\"color\": \"#636efa\"}, \"name\": \"sentiment_type=Positive\", \"offsetgroup\": \"sentiment_type=Positive\", \"orientation\": \"v\", \"showlegend\": true, \"textposition\": \"auto\", \"type\": \"bar\", \"x\": [\"Sydney\", \"Sydney\", \"Sydney\", \"Sydney\", \"Sydney\", \"Sydney\", \"Sydney\", \"Sydney\", \"Sydney\", \"Sydney\", \"Sydney\", \"Sydney\", \"Sydney\", \"Sydney\", \"Sydney\", \"Sydney\", \"Sydney\", \"Sydney\", \"Sydney\", \"Sydney\", \"Sydney\", \"Sydney\", \"Sydney\", \"Sydney\", \"Sydney\", \"Sydney\", \"Sydney\", \"Sydney\", \"Sydney\", \"Sydney\", \"Sydney\", \"Sydney\", \"Sydney\", \"Sydney\", \"Sydney\", \"Sydney\", \"Sydney\", \"Sydney\", \"Sydney\", \"Sydney\", \"Sydney\", \"Sydney\", \"Sydney\", \"Sydney\", \"Sydney\", \"Sydney\", \"Sydney\", \"Sydney\", \"Sydney\", \"Sydney\", \"Sydney\", \"Sydney\", \"Sydney\", \"Sydney\", \"Sydney\", \"Sydney\", \"Sydney\", \"Sydney\", \"Sydney\", \"Sydney\", \"Sydney\", \"Sydney\", \"Sydney\", \"Sydney\", \"Sydney\", \"Sydney\", \"Sydney\", \"Sydney\", \"Sydney\", \"Sydney\", \"Sydney\", \"Sydney\", \"Sydney\", \"Sydney\", \"Sydney\", \"Sydney\", \"Sydney\", \"Sydney\", \"Sydney\", \"Sydney\", \"Sydney\", \"Sydney\", \"Sydney\", \"Sydney\", \"Sydney\", \"Sydney\", \"Sydney\", \"Brisbane\", \"Brisbane\", \"Brisbane\", \"Brisbane\", \"Brisbane\", \"Brisbane\", \"Brisbane\", \"Brisbane\", \"Brisbane\", \"Brisbane\", \"Brisbane\", \"Brisbane\", \"Brisbane\", \"Brisbane\", \"Brisbane\", \"Brisbane\", \"Brisbane\", \"Brisbane\", \"Brisbane\", \"Brisbane\", \"Brisbane\", \"Brisbane\", \"Brisbane\", \"Brisbane\", \"Brisbane\", \"Brisbane\", \"Brisbane\", \"Brisbane\", \"Brisbane\", \"Brisbane\", \"Brisbane\", \"Brisbane\", \"Brisbane\", \"Brisbane\", \"Brisbane\", \"Brisbane\", \"Brisbane\", \"Brisbane\", \"Brisbane\", \"Brisbane\", \"Brisbane\", \"Brisbane\", \"Melbourne\", \"Melbourne\", \"Melbourne\", \"Melbourne\", \"Melbourne\", \"Melbourne\", \"Melbourne\", \"Melbourne\", \"Melbourne\", \"Melbourne\", \"Melbourne\", \"Melbourne\", \"Melbourne\", \"Melbourne\", \"Melbourne\", \"Melbourne\", \"Melbourne\", \"Melbourne\", \"Melbourne\", \"Melbourne\", \"Melbourne\", \"Melbourne\", \"Melbourne\", \"Melbourne\", \"Melbourne\", \"Melbourne\", \"Melbourne\", \"Melbourne\", \"Melbourne\", \"Melbourne\", \"Melbourne\", \"Melbourne\", \"Melbourne\", \"Melbourne\", \"Melbourne\", \"Melbourne\", \"Melbourne\", \"Melbourne\", \"Melbourne\", \"Melbourne\", \"Melbourne\", \"Melbourne\", \"Melbourne\", \"Melbourne\", \"Melbourne\", \"Melbourne\", \"Melbourne\", \"Melbourne\", \"Melbourne\", \"Melbourne\", \"Melbourne\", \"Melbourne\", \"Melbourne\", \"Melbourne\", \"Melbourne\", \"Melbourne\", \"Melbourne\", \"Melbourne\", \"Melbourne\", \"Melbourne\", \"Melbourne\", \"Melbourne\", \"Melbourne\", \"Melbourne\", \"Melbourne\", \"Melbourne\", \"Melbourne\", \"Melbourne\", \"Melbourne\", \"Melbourne\", \"Melbourne\", \"Melbourne\", \"Melbourne\", \"Melbourne\", \"Perth\", \"Perth\", \"Perth\", \"Perth\", \"Perth\", \"Perth\", \"Perth\", \"Perth\", \"Perth\", \"Perth\", \"Perth\", \"Perth\", \"Perth\", \"Perth\", \"Perth\", \"Perth\", \"Perth\", \"Perth\", \"Perth\", \"Adelaide\", \"Adelaide\", \"Adelaide\", \"Adelaide\", \"Adelaide\", \"Adelaide\", \"Adelaide\", \"Adelaide\", \"Adelaide\", \"Adelaide\", \"Canberra\", \"Canberra\", \"Canberra\", \"Canberra\", \"Canberra\", \"Canberra\", \"Canberra\", \"Canberra\", \"Canberra\", \"Canberra\", \"Canberra\", \"Canberra\", \"Canberra\", \"Gold Coast\", \"Gold Coast\", \"Gold Coast\", \"Gold Coast\", \"Gold Coast\", \"Gold Coast\", \"Gold Coast\", \"Gold Coast\", \"Gold Coast\", \"Gold Coast\", \"Gold Coast\", \"Gold Coast\"], \"xaxis\": \"x\", \"y\": [0.8316, 0.6369, 0.3818, 0.6249, 0.8519, 0.6597, 0.296, 0.1027, 0.6369, 0.4939, 0.5719, 0.5267, 0.3612, 0.6369, 0.6597, 0.4215, 0.765, 0.6705, 0.1506, 0.8316, 0.6369, 0.4588, 0.8225, 0.4939, 0.8126, 0.2263, 0.4404, 0.296, 0.6124, 0.7964, 0.7964, 0.2263, 0.5106, 0.3818, 0.296, 0.4939, 0.4019, 0.4939, 0.9432, 0.2732, 0.5106, 0.1779, 0.6705, 0.6597, 0.2263, 0.8834, 0.6369, 0.4939, 0.9169, 0.3182, 0.7579, 0.6369, 0.3612, 0.8176, 0.8176, 0.9393, 0.7506, 0.5719, 0.6908, 0.4939, 0.8519, 0.6808, 0.6124, 0.1779, 0.3612, 0.836, 0.8979, 0.3612, 0.4404, 0.3612, 0.7506, 0.6908, 0.5859, 0.6369, 0.7783, 0.0258, 0.6369, 0.8625, 0.2263, 0.6369, 0.8271, 0.5574, 0.7506, 0.4482, 0.7906, 0.4019, 0.7717, 0.5859, 0.6597, 0.3612, 0.8402, 0.7269, 0.8225, 0.2732, 0.7351, 0.5859, 0.4939, 0.6597, 0.5719, 0.8689, 0.6694, 0.1531, 0.4939, 0.8481, 0.228, 0.6815, 0.5106, 0.7184, 0.7964, 0.6369, 0.296, 0.34, 0.4215, 0.0258, 0.6486, 0.8176, 0.4588, 0.2263, 0.6124, 0.7096, 0.872, 0.7351, 0.9067, 0.4019, 0.4019, 0.4404, 0.5423, 0.8126, 0.6249, 0.6808, 0.0516, 0.8481, 0.8625, 0.296, 0.0772, 0.2732, 0.5719, 0.3612, 0.3612, 0.3612, 0.4404, 0.4404, 0.891, 0.4215, 0.7579, 0.6124, 0.2732, 0.8689, 0.296, 0.2263, 0.3182, 0.9062, 0.765, 0.8402, 0.8779, 0.8316, 0.8404, 0.4767, 0.836, 0.6705, 0.4019, 0.6808, 0.8658, 0.296, 0.6124, 0.5106, 0.6124, 0.5267, 0.5106, 0.6597, 0.8481, 0.6369, 0.8689, 0.6369, 0.872, 0.3612, 0.6597, 0.296, 0.5719, 0.4215, 0.6597, 0.7964, 0.3612, 0.296, 0.4939, 0.8225, 0.7845, 0.9552, 0.4019, 0.8402, 0.3182, 0.296, 0.5106, 0.296, 0.7506, 0.7003, 0.4215, 0.5267, 0.3182, 0.4215, 0.8481, 0.7096, 0.296, 0.6249, 0.9042, 0.7964, 0.5994, 0.2023, 0.25, 0.6705, 0.7351, 0.5994, 0.8885, 0.4404, 0.5267, 0.4404, 0.5106, 0.4404, 0.4588, 0.296, 0.34, 0.4939, 0.5267, 0.7783, 0.4404, 0.91, 0.8442, 0.8316, 0.8074, 0.6597, 0.8074, 0.765, 0.5859, 0.4404, 0.8316, 0.128, 0.4019, 0.2023, 0.8442, 0.7184, 0.5994, 0.8402, 0.0772, 0.7096, 0.4404, 0.296, 0.802, 0.5719, 0.2263, 0.3612, 0.3612, 0.4404, 0.6249, 0.5267, 0.8126, 0.5859, 0.0258], \"yaxis\": \"y\"}, {\"alignmentgroup\": \"True\", \"hoverlabel\": {\"namelength\": 0}, \"hovertemplate\": \"sentiment_type=Negative<br>place_name=%{x}<br>sentiment_compound_polarity=%{y}\", \"legendgroup\": \"sentiment_type=Negative\", \"marker\": {\"color\": \"#EF553B\"}, \"name\": \"sentiment_type=Negative\", \"offsetgroup\": \"sentiment_type=Negative\", \"orientation\": \"v\", \"showlegend\": true, \"textposition\": \"auto\", \"type\": \"bar\", \"x\": [\"Sydney\", \"Sydney\", \"Sydney\", \"Sydney\", \"Sydney\", \"Sydney\", \"Sydney\", \"Sydney\", \"Sydney\", \"Sydney\", \"Sydney\", \"Sydney\", \"Brisbane\", \"Brisbane\", \"Brisbane\", \"Brisbane\", \"Brisbane\", \"Brisbane\", \"Melbourne\", \"Melbourne\", \"Melbourne\", \"Melbourne\", \"Melbourne\", \"Melbourne\", \"Melbourne\", \"Melbourne\", \"Melbourne\", \"Melbourne\", \"Melbourne\", \"Melbourne\", \"Melbourne\", \"Melbourne\", \"Melbourne\", \"Melbourne\", \"Melbourne\", \"Perth\", \"Perth\", \"Perth\", \"Perth\", \"Perth\", \"Perth\", \"Perth\", \"Perth\", \"Perth\", \"Adelaide\", \"Canberra\", \"Canberra\", \"Gold Coast\", \"Gold Coast\", \"Gold Coast\", \"Gold Coast\", \"Gold Coast\", \"Gold Coast\", \"Gold Coast\"], \"xaxis\": \"x\", \"y\": [-0.8442, -0.4588, -0.0516, -0.5106, -0.1531, -0.4215, -0.5719, -0.5859, -0.1098, -0.4019, -0.5267, -0.4585, -0.4215, -0.0258, -0.5719, -0.5609, -0.5574, -0.0516, -0.5994, -0.25, -0.2263, -0.6369, -0.4215, -0.6319, -0.2023, -0.2411, -0.0516, -0.8625, -0.5994, -0.1027, -0.8316, -0.0258, -0.128, -0.6597, -0.5859, -0.296, -0.25, -0.4939, -0.6249, -0.296, -0.296, -0.031, -0.1531, -0.4019, -0.9022, -0.2263, -0.1027, -0.3182, -0.9217, -0.4215, -0.7506, -0.3182, -0.5267, -0.5719], \"yaxis\": \"y\"}],\n",
       "                        {\"barmode\": \"relative\", \"height\": 600, \"legend\": {\"tracegroupgap\": 0}, \"margin\": {\"t\": 60}, \"template\": {\"data\": {\"bar\": [{\"error_x\": {\"color\": \"#2a3f5f\"}, \"error_y\": {\"color\": \"#2a3f5f\"}, \"marker\": {\"line\": {\"color\": \"#E5ECF6\", \"width\": 0.5}}, \"type\": \"bar\"}], \"barpolar\": [{\"marker\": {\"line\": {\"color\": \"#E5ECF6\", \"width\": 0.5}}, \"type\": \"barpolar\"}], \"carpet\": [{\"aaxis\": {\"endlinecolor\": \"#2a3f5f\", \"gridcolor\": \"white\", \"linecolor\": \"white\", \"minorgridcolor\": \"white\", \"startlinecolor\": \"#2a3f5f\"}, \"baxis\": {\"endlinecolor\": \"#2a3f5f\", \"gridcolor\": \"white\", \"linecolor\": \"white\", \"minorgridcolor\": \"white\", \"startlinecolor\": \"#2a3f5f\"}, \"type\": \"carpet\"}], \"choropleth\": [{\"colorbar\": {\"outlinewidth\": 0, \"ticks\": \"\"}, \"type\": \"choropleth\"}], \"contour\": [{\"colorbar\": {\"outlinewidth\": 0, \"ticks\": \"\"}, \"colorscale\": [[0.0, \"#0d0887\"], [0.1111111111111111, \"#46039f\"], [0.2222222222222222, \"#7201a8\"], [0.3333333333333333, \"#9c179e\"], [0.4444444444444444, \"#bd3786\"], [0.5555555555555556, \"#d8576b\"], [0.6666666666666666, \"#ed7953\"], [0.7777777777777778, \"#fb9f3a\"], [0.8888888888888888, \"#fdca26\"], [1.0, \"#f0f921\"]], \"type\": \"contour\"}], \"contourcarpet\": [{\"colorbar\": {\"outlinewidth\": 0, \"ticks\": \"\"}, \"type\": \"contourcarpet\"}], \"heatmap\": [{\"colorbar\": {\"outlinewidth\": 0, \"ticks\": \"\"}, \"colorscale\": [[0.0, \"#0d0887\"], [0.1111111111111111, \"#46039f\"], [0.2222222222222222, \"#7201a8\"], [0.3333333333333333, \"#9c179e\"], [0.4444444444444444, \"#bd3786\"], [0.5555555555555556, \"#d8576b\"], [0.6666666666666666, \"#ed7953\"], [0.7777777777777778, \"#fb9f3a\"], [0.8888888888888888, \"#fdca26\"], [1.0, \"#f0f921\"]], \"type\": \"heatmap\"}], \"heatmapgl\": [{\"colorbar\": {\"outlinewidth\": 0, \"ticks\": \"\"}, \"colorscale\": [[0.0, \"#0d0887\"], [0.1111111111111111, \"#46039f\"], [0.2222222222222222, \"#7201a8\"], [0.3333333333333333, \"#9c179e\"], [0.4444444444444444, \"#bd3786\"], [0.5555555555555556, \"#d8576b\"], [0.6666666666666666, \"#ed7953\"], [0.7777777777777778, \"#fb9f3a\"], [0.8888888888888888, \"#fdca26\"], [1.0, \"#f0f921\"]], \"type\": \"heatmapgl\"}], \"histogram\": [{\"marker\": {\"colorbar\": {\"outlinewidth\": 0, \"ticks\": \"\"}}, \"type\": \"histogram\"}], \"histogram2d\": [{\"colorbar\": {\"outlinewidth\": 0, \"ticks\": \"\"}, \"colorscale\": [[0.0, \"#0d0887\"], [0.1111111111111111, \"#46039f\"], [0.2222222222222222, \"#7201a8\"], [0.3333333333333333, \"#9c179e\"], [0.4444444444444444, \"#bd3786\"], [0.5555555555555556, \"#d8576b\"], [0.6666666666666666, \"#ed7953\"], [0.7777777777777778, \"#fb9f3a\"], [0.8888888888888888, \"#fdca26\"], [1.0, \"#f0f921\"]], \"type\": \"histogram2d\"}], \"histogram2dcontour\": [{\"colorbar\": {\"outlinewidth\": 0, \"ticks\": \"\"}, \"colorscale\": [[0.0, \"#0d0887\"], [0.1111111111111111, \"#46039f\"], [0.2222222222222222, \"#7201a8\"], [0.3333333333333333, \"#9c179e\"], [0.4444444444444444, \"#bd3786\"], [0.5555555555555556, \"#d8576b\"], [0.6666666666666666, \"#ed7953\"], [0.7777777777777778, \"#fb9f3a\"], [0.8888888888888888, \"#fdca26\"], [1.0, \"#f0f921\"]], \"type\": \"histogram2dcontour\"}], \"mesh3d\": [{\"colorbar\": {\"outlinewidth\": 0, \"ticks\": \"\"}, \"type\": \"mesh3d\"}], \"parcoords\": [{\"line\": {\"colorbar\": {\"outlinewidth\": 0, \"ticks\": \"\"}}, \"type\": \"parcoords\"}], \"scatter\": [{\"marker\": {\"colorbar\": {\"outlinewidth\": 0, \"ticks\": \"\"}}, \"type\": \"scatter\"}], \"scatter3d\": [{\"line\": {\"colorbar\": {\"outlinewidth\": 0, \"ticks\": \"\"}}, \"marker\": {\"colorbar\": {\"outlinewidth\": 0, \"ticks\": \"\"}}, \"type\": \"scatter3d\"}], \"scattercarpet\": [{\"marker\": {\"colorbar\": {\"outlinewidth\": 0, \"ticks\": \"\"}}, \"type\": \"scattercarpet\"}], \"scattergeo\": [{\"marker\": {\"colorbar\": {\"outlinewidth\": 0, \"ticks\": \"\"}}, \"type\": \"scattergeo\"}], \"scattergl\": [{\"marker\": {\"colorbar\": {\"outlinewidth\": 0, \"ticks\": \"\"}}, \"type\": \"scattergl\"}], \"scattermapbox\": [{\"marker\": {\"colorbar\": {\"outlinewidth\": 0, \"ticks\": \"\"}}, \"type\": \"scattermapbox\"}], \"scatterpolar\": [{\"marker\": {\"colorbar\": {\"outlinewidth\": 0, \"ticks\": \"\"}}, \"type\": \"scatterpolar\"}], \"scatterpolargl\": [{\"marker\": {\"colorbar\": {\"outlinewidth\": 0, \"ticks\": \"\"}}, \"type\": \"scatterpolargl\"}], \"scatterternary\": [{\"marker\": {\"colorbar\": {\"outlinewidth\": 0, \"ticks\": \"\"}}, \"type\": \"scatterternary\"}], \"surface\": [{\"colorbar\": {\"outlinewidth\": 0, \"ticks\": \"\"}, \"colorscale\": [[0.0, \"#0d0887\"], [0.1111111111111111, \"#46039f\"], [0.2222222222222222, \"#7201a8\"], [0.3333333333333333, \"#9c179e\"], [0.4444444444444444, \"#bd3786\"], [0.5555555555555556, \"#d8576b\"], [0.6666666666666666, \"#ed7953\"], [0.7777777777777778, \"#fb9f3a\"], [0.8888888888888888, \"#fdca26\"], [1.0, \"#f0f921\"]], \"type\": \"surface\"}], \"table\": [{\"cells\": {\"fill\": {\"color\": \"#EBF0F8\"}, \"line\": {\"color\": \"white\"}}, \"header\": {\"fill\": {\"color\": \"#C8D4E3\"}, \"line\": {\"color\": \"white\"}}, \"type\": \"table\"}]}, \"layout\": {\"annotationdefaults\": {\"arrowcolor\": \"#2a3f5f\", \"arrowhead\": 0, \"arrowwidth\": 1}, \"colorscale\": {\"diverging\": [[0, \"#8e0152\"], [0.1, \"#c51b7d\"], [0.2, \"#de77ae\"], [0.3, \"#f1b6da\"], [0.4, \"#fde0ef\"], [0.5, \"#f7f7f7\"], [0.6, \"#e6f5d0\"], [0.7, \"#b8e186\"], [0.8, \"#7fbc41\"], [0.9, \"#4d9221\"], [1, \"#276419\"]], \"sequential\": [[0.0, \"#0d0887\"], [0.1111111111111111, \"#46039f\"], [0.2222222222222222, \"#7201a8\"], [0.3333333333333333, \"#9c179e\"], [0.4444444444444444, \"#bd3786\"], [0.5555555555555556, \"#d8576b\"], [0.6666666666666666, \"#ed7953\"], [0.7777777777777778, \"#fb9f3a\"], [0.8888888888888888, \"#fdca26\"], [1.0, \"#f0f921\"]], \"sequentialminus\": [[0.0, \"#0d0887\"], [0.1111111111111111, \"#46039f\"], [0.2222222222222222, \"#7201a8\"], [0.3333333333333333, \"#9c179e\"], [0.4444444444444444, \"#bd3786\"], [0.5555555555555556, \"#d8576b\"], [0.6666666666666666, \"#ed7953\"], [0.7777777777777778, \"#fb9f3a\"], [0.8888888888888888, \"#fdca26\"], [1.0, \"#f0f921\"]]}, \"colorway\": [\"#636efa\", \"#EF553B\", \"#00cc96\", \"#ab63fa\", \"#FFA15A\", \"#19d3f3\", \"#FF6692\", \"#B6E880\", \"#FF97FF\", \"#FECB52\"], \"font\": {\"color\": \"#2a3f5f\"}, \"geo\": {\"bgcolor\": \"white\", \"lakecolor\": \"white\", \"landcolor\": \"#E5ECF6\", \"showlakes\": true, \"showland\": true, \"subunitcolor\": \"white\"}, \"hoverlabel\": {\"align\": \"left\"}, \"hovermode\": \"closest\", \"mapbox\": {\"style\": \"light\"}, \"paper_bgcolor\": \"white\", \"plot_bgcolor\": \"#E5ECF6\", \"polar\": {\"angularaxis\": {\"gridcolor\": \"white\", \"linecolor\": \"white\", \"ticks\": \"\"}, \"bgcolor\": \"#E5ECF6\", \"radialaxis\": {\"gridcolor\": \"white\", \"linecolor\": \"white\", \"ticks\": \"\"}}, \"scene\": {\"xaxis\": {\"backgroundcolor\": \"#E5ECF6\", \"gridcolor\": \"white\", \"gridwidth\": 2, \"linecolor\": \"white\", \"showbackground\": true, \"ticks\": \"\", \"zerolinecolor\": \"white\"}, \"yaxis\": {\"backgroundcolor\": \"#E5ECF6\", \"gridcolor\": \"white\", \"gridwidth\": 2, \"linecolor\": \"white\", \"showbackground\": true, \"ticks\": \"\", \"zerolinecolor\": \"white\"}, \"zaxis\": {\"backgroundcolor\": \"#E5ECF6\", \"gridcolor\": \"white\", \"gridwidth\": 2, \"linecolor\": \"white\", \"showbackground\": true, \"ticks\": \"\", \"zerolinecolor\": \"white\"}}, \"shapedefaults\": {\"line\": {\"color\": \"#2a3f5f\"}}, \"ternary\": {\"aaxis\": {\"gridcolor\": \"white\", \"linecolor\": \"white\", \"ticks\": \"\"}, \"baxis\": {\"gridcolor\": \"white\", \"linecolor\": \"white\", \"ticks\": \"\"}, \"bgcolor\": \"#E5ECF6\", \"caxis\": {\"gridcolor\": \"white\", \"linecolor\": \"white\", \"ticks\": \"\"}}, \"title\": {\"x\": 0.05}, \"xaxis\": {\"automargin\": true, \"gridcolor\": \"white\", \"linecolor\": \"white\", \"ticks\": \"\", \"zerolinecolor\": \"white\", \"zerolinewidth\": 2}, \"yaxis\": {\"automargin\": true, \"gridcolor\": \"white\", \"linecolor\": \"white\", \"ticks\": \"\", \"zerolinecolor\": \"white\", \"zerolinewidth\": 2}}}, \"title\": {\"text\": \"Vader Sentiment Analysis: Sum of Sentiment Compound Scores\"}, \"xaxis\": {\"anchor\": \"y\", \"domain\": [0.0, 0.98], \"title\": {\"text\": \"City\"}}, \"yaxis\": {\"anchor\": \"x\", \"domain\": [0.0, 1.0], \"title\": {\"text\": \"Sum of Compound Sentiment Scores\"}}},\n",
       "                        {\"responsive\": true}\n",
       "                    ).then(function(){\n",
       "                            \n",
       "var gd = document.getElementById('54ce12f4-86d2-4e5a-8a60-c89d89c8c52d');\n",
       "var x = new MutationObserver(function (mutations, observer) {{\n",
       "        var display = window.getComputedStyle(gd).display;\n",
       "        if (!display || display === 'none') {{\n",
       "            console.log([gd, 'removed!']);\n",
       "            Plotly.purge(gd);\n",
       "            observer.disconnect();\n",
       "        }}\n",
       "}});\n",
       "\n",
       "// Listen for the removal of the full notebook cells\n",
       "var notebookContainer = gd.closest('#notebook-container');\n",
       "if (notebookContainer) {{\n",
       "    x.observe(notebookContainer, {childList: true});\n",
       "}}\n",
       "\n",
       "// Listen for the clearing of the current output cell\n",
       "var outputEl = gd.closest('.output');\n",
       "if (outputEl) {{\n",
       "    x.observe(outputEl, {childList: true});\n",
       "}}\n",
       "\n",
       "                        })\n",
       "                };\n",
       "                });\n",
       "            </script>\n",
       "        </div>"
      ]
     },
     "metadata": {},
     "output_type": "display_data"
    }
   ],
   "source": [
    "import plotly.express as px\n",
    "city_senti = city_df[city_df.sentiment_type.isin(['Positive','Negative'])]\n",
    "fig = px.bar(city_senti, x=\"place_name\", y=\"sentiment_compound_polarity\", color='sentiment_type')\n",
    "fig.update_xaxes(title='City')\n",
    "fig.update_yaxes(title='Sum of Compound Sentiment Scores')\n",
    "fig.update_layout(title_text=\"Vader Sentiment Analysis: Sum of Sentiment Compound Scores\")\n",
    "fig.show()"
   ]
  },
  {
   "cell_type": "code",
   "execution_count": 34,
   "metadata": {},
   "outputs": [],
   "source": [
    "city_df = city_df.groupby(['created_at_date','place_name']).agg({'sentiment_compound_polarity': 'mean'}).reset_index()"
   ]
  },
  {
   "cell_type": "code",
   "execution_count": 35,
   "metadata": {},
   "outputs": [],
   "source": [
    "bris_df=city_df[city_df.place_name=='Brisbane']\n",
    "melb_df=city_df[city_df.place_name=='Melbourne']\n",
    "sy_df=city_df[city_df.place_name=='Sydney']\n",
    "can_df=city_df[city_df.place_name=='Canberra']"
   ]
  },
  {
   "cell_type": "code",
   "execution_count": 36,
   "metadata": {},
   "outputs": [
    {
     "data": {
      "application/vnd.plotly.v1+json": {
       "config": {
        "plotlyServerURL": "https://plot.ly"
       },
       "data": [
        {
         "mode": "lines",
         "type": "scatter",
         "x": [
          "2019-09-08",
          "2019-09-09",
          "2019-09-10",
          "2019-09-11",
          "2019-09-12",
          "2019-09-13",
          "2019-09-14",
          "2019-09-15",
          "2019-09-17",
          "2019-09-18",
          "2019-09-25",
          "2019-09-26"
         ],
         "xaxis": "x",
         "y": [
          0.296,
          0.3548,
          0.12781666666666666,
          0.346925,
          0.3571919354838709,
          0.06515999999999997,
          0.0516,
          0.7764,
          0.6369,
          -0.6597,
          -0.5859,
          0
         ],
         "yaxis": "y"
        },
        {
         "mode": "lines",
         "type": "scatter",
         "x": [
          "2019-09-05",
          "2019-09-10",
          "2019-09-11",
          "2019-09-12",
          "2019-09-13",
          "2019-09-15",
          "2019-09-24"
         ],
         "xaxis": "x3",
         "y": [
          0.5859,
          0.39835000000000004,
          0.16911874999999998,
          0.45800882352941175,
          0.1568,
          0.4588,
          0
         ],
         "yaxis": "y3"
        },
        {
         "mode": "lines",
         "type": "scatter",
         "x": [
          "2019-09-06",
          "2019-09-07",
          "2019-09-08",
          "2019-09-09",
          "2019-09-10",
          "2019-09-11",
          "2019-09-12",
          "2019-09-13",
          "2019-09-14",
          "2019-09-15",
          "2019-09-16",
          "2019-09-18",
          "2019-09-20",
          "2019-09-27",
          "2019-09-30",
          "2019-10-04"
         ],
         "xaxis": "x2",
         "y": [
          0,
          0.21230000000000002,
          0.4019,
          0.50845,
          0.1765,
          0.34564883720930234,
          0.3553310344827587,
          0.3182,
          0.8316,
          0.6825666666666667,
          0.4546,
          0,
          0,
          0.7783,
          0.8316,
          0.7717
         ],
         "yaxis": "y2"
        },
        {
         "mode": "lines",
         "type": "scatter",
         "x": [
          "2019-09-09",
          "2019-09-11",
          "2019-09-12",
          "2019-09-14"
         ],
         "xaxis": "x4",
         "y": [
          0,
          0.3117857142857143,
          0.35900000000000004,
          0
         ],
         "yaxis": "y4"
        }
       ],
       "layout": {
        "annotations": [
         {
          "font": {
           "size": 16
          },
          "showarrow": false,
          "text": "Melbourne",
          "x": 0.225,
          "xanchor": "center",
          "xref": "paper",
          "y": 1,
          "yanchor": "bottom",
          "yref": "paper"
         },
         {
          "font": {
           "size": 16
          },
          "showarrow": false,
          "text": "Sydney",
          "x": 0.775,
          "xanchor": "center",
          "xref": "paper",
          "y": 1,
          "yanchor": "bottom",
          "yref": "paper"
         },
         {
          "font": {
           "size": 16
          },
          "showarrow": false,
          "text": "Brisbane",
          "x": 0.225,
          "xanchor": "center",
          "xref": "paper",
          "y": 0.375,
          "yanchor": "bottom",
          "yref": "paper"
         },
         {
          "font": {
           "size": 16
          },
          "showarrow": false,
          "text": "Canberra",
          "x": 0.775,
          "xanchor": "center",
          "xref": "paper",
          "y": 0.375,
          "yanchor": "bottom",
          "yref": "paper"
         }
        ],
        "height": 800,
        "showlegend": false,
        "template": {
         "data": {
          "bar": [
           {
            "error_x": {
             "color": "#2a3f5f"
            },
            "error_y": {
             "color": "#2a3f5f"
            },
            "marker": {
             "line": {
              "color": "#E5ECF6",
              "width": 0.5
             }
            },
            "type": "bar"
           }
          ],
          "barpolar": [
           {
            "marker": {
             "line": {
              "color": "#E5ECF6",
              "width": 0.5
             }
            },
            "type": "barpolar"
           }
          ],
          "carpet": [
           {
            "aaxis": {
             "endlinecolor": "#2a3f5f",
             "gridcolor": "white",
             "linecolor": "white",
             "minorgridcolor": "white",
             "startlinecolor": "#2a3f5f"
            },
            "baxis": {
             "endlinecolor": "#2a3f5f",
             "gridcolor": "white",
             "linecolor": "white",
             "minorgridcolor": "white",
             "startlinecolor": "#2a3f5f"
            },
            "type": "carpet"
           }
          ],
          "choropleth": [
           {
            "colorbar": {
             "outlinewidth": 0,
             "ticks": ""
            },
            "type": "choropleth"
           }
          ],
          "contour": [
           {
            "colorbar": {
             "outlinewidth": 0,
             "ticks": ""
            },
            "colorscale": [
             [
              0,
              "#0d0887"
             ],
             [
              0.1111111111111111,
              "#46039f"
             ],
             [
              0.2222222222222222,
              "#7201a8"
             ],
             [
              0.3333333333333333,
              "#9c179e"
             ],
             [
              0.4444444444444444,
              "#bd3786"
             ],
             [
              0.5555555555555556,
              "#d8576b"
             ],
             [
              0.6666666666666666,
              "#ed7953"
             ],
             [
              0.7777777777777778,
              "#fb9f3a"
             ],
             [
              0.8888888888888888,
              "#fdca26"
             ],
             [
              1,
              "#f0f921"
             ]
            ],
            "type": "contour"
           }
          ],
          "contourcarpet": [
           {
            "colorbar": {
             "outlinewidth": 0,
             "ticks": ""
            },
            "type": "contourcarpet"
           }
          ],
          "heatmap": [
           {
            "colorbar": {
             "outlinewidth": 0,
             "ticks": ""
            },
            "colorscale": [
             [
              0,
              "#0d0887"
             ],
             [
              0.1111111111111111,
              "#46039f"
             ],
             [
              0.2222222222222222,
              "#7201a8"
             ],
             [
              0.3333333333333333,
              "#9c179e"
             ],
             [
              0.4444444444444444,
              "#bd3786"
             ],
             [
              0.5555555555555556,
              "#d8576b"
             ],
             [
              0.6666666666666666,
              "#ed7953"
             ],
             [
              0.7777777777777778,
              "#fb9f3a"
             ],
             [
              0.8888888888888888,
              "#fdca26"
             ],
             [
              1,
              "#f0f921"
             ]
            ],
            "type": "heatmap"
           }
          ],
          "heatmapgl": [
           {
            "colorbar": {
             "outlinewidth": 0,
             "ticks": ""
            },
            "colorscale": [
             [
              0,
              "#0d0887"
             ],
             [
              0.1111111111111111,
              "#46039f"
             ],
             [
              0.2222222222222222,
              "#7201a8"
             ],
             [
              0.3333333333333333,
              "#9c179e"
             ],
             [
              0.4444444444444444,
              "#bd3786"
             ],
             [
              0.5555555555555556,
              "#d8576b"
             ],
             [
              0.6666666666666666,
              "#ed7953"
             ],
             [
              0.7777777777777778,
              "#fb9f3a"
             ],
             [
              0.8888888888888888,
              "#fdca26"
             ],
             [
              1,
              "#f0f921"
             ]
            ],
            "type": "heatmapgl"
           }
          ],
          "histogram": [
           {
            "marker": {
             "colorbar": {
              "outlinewidth": 0,
              "ticks": ""
             }
            },
            "type": "histogram"
           }
          ],
          "histogram2d": [
           {
            "colorbar": {
             "outlinewidth": 0,
             "ticks": ""
            },
            "colorscale": [
             [
              0,
              "#0d0887"
             ],
             [
              0.1111111111111111,
              "#46039f"
             ],
             [
              0.2222222222222222,
              "#7201a8"
             ],
             [
              0.3333333333333333,
              "#9c179e"
             ],
             [
              0.4444444444444444,
              "#bd3786"
             ],
             [
              0.5555555555555556,
              "#d8576b"
             ],
             [
              0.6666666666666666,
              "#ed7953"
             ],
             [
              0.7777777777777778,
              "#fb9f3a"
             ],
             [
              0.8888888888888888,
              "#fdca26"
             ],
             [
              1,
              "#f0f921"
             ]
            ],
            "type": "histogram2d"
           }
          ],
          "histogram2dcontour": [
           {
            "colorbar": {
             "outlinewidth": 0,
             "ticks": ""
            },
            "colorscale": [
             [
              0,
              "#0d0887"
             ],
             [
              0.1111111111111111,
              "#46039f"
             ],
             [
              0.2222222222222222,
              "#7201a8"
             ],
             [
              0.3333333333333333,
              "#9c179e"
             ],
             [
              0.4444444444444444,
              "#bd3786"
             ],
             [
              0.5555555555555556,
              "#d8576b"
             ],
             [
              0.6666666666666666,
              "#ed7953"
             ],
             [
              0.7777777777777778,
              "#fb9f3a"
             ],
             [
              0.8888888888888888,
              "#fdca26"
             ],
             [
              1,
              "#f0f921"
             ]
            ],
            "type": "histogram2dcontour"
           }
          ],
          "mesh3d": [
           {
            "colorbar": {
             "outlinewidth": 0,
             "ticks": ""
            },
            "type": "mesh3d"
           }
          ],
          "parcoords": [
           {
            "line": {
             "colorbar": {
              "outlinewidth": 0,
              "ticks": ""
             }
            },
            "type": "parcoords"
           }
          ],
          "scatter": [
           {
            "marker": {
             "colorbar": {
              "outlinewidth": 0,
              "ticks": ""
             }
            },
            "type": "scatter"
           }
          ],
          "scatter3d": [
           {
            "line": {
             "colorbar": {
              "outlinewidth": 0,
              "ticks": ""
             }
            },
            "marker": {
             "colorbar": {
              "outlinewidth": 0,
              "ticks": ""
             }
            },
            "type": "scatter3d"
           }
          ],
          "scattercarpet": [
           {
            "marker": {
             "colorbar": {
              "outlinewidth": 0,
              "ticks": ""
             }
            },
            "type": "scattercarpet"
           }
          ],
          "scattergeo": [
           {
            "marker": {
             "colorbar": {
              "outlinewidth": 0,
              "ticks": ""
             }
            },
            "type": "scattergeo"
           }
          ],
          "scattergl": [
           {
            "marker": {
             "colorbar": {
              "outlinewidth": 0,
              "ticks": ""
             }
            },
            "type": "scattergl"
           }
          ],
          "scattermapbox": [
           {
            "marker": {
             "colorbar": {
              "outlinewidth": 0,
              "ticks": ""
             }
            },
            "type": "scattermapbox"
           }
          ],
          "scatterpolar": [
           {
            "marker": {
             "colorbar": {
              "outlinewidth": 0,
              "ticks": ""
             }
            },
            "type": "scatterpolar"
           }
          ],
          "scatterpolargl": [
           {
            "marker": {
             "colorbar": {
              "outlinewidth": 0,
              "ticks": ""
             }
            },
            "type": "scatterpolargl"
           }
          ],
          "scatterternary": [
           {
            "marker": {
             "colorbar": {
              "outlinewidth": 0,
              "ticks": ""
             }
            },
            "type": "scatterternary"
           }
          ],
          "surface": [
           {
            "colorbar": {
             "outlinewidth": 0,
             "ticks": ""
            },
            "colorscale": [
             [
              0,
              "#0d0887"
             ],
             [
              0.1111111111111111,
              "#46039f"
             ],
             [
              0.2222222222222222,
              "#7201a8"
             ],
             [
              0.3333333333333333,
              "#9c179e"
             ],
             [
              0.4444444444444444,
              "#bd3786"
             ],
             [
              0.5555555555555556,
              "#d8576b"
             ],
             [
              0.6666666666666666,
              "#ed7953"
             ],
             [
              0.7777777777777778,
              "#fb9f3a"
             ],
             [
              0.8888888888888888,
              "#fdca26"
             ],
             [
              1,
              "#f0f921"
             ]
            ],
            "type": "surface"
           }
          ],
          "table": [
           {
            "cells": {
             "fill": {
              "color": "#EBF0F8"
             },
             "line": {
              "color": "white"
             }
            },
            "header": {
             "fill": {
              "color": "#C8D4E3"
             },
             "line": {
              "color": "white"
             }
            },
            "type": "table"
           }
          ]
         },
         "layout": {
          "annotationdefaults": {
           "arrowcolor": "#2a3f5f",
           "arrowhead": 0,
           "arrowwidth": 1
          },
          "colorscale": {
           "diverging": [
            [
             0,
             "#8e0152"
            ],
            [
             0.1,
             "#c51b7d"
            ],
            [
             0.2,
             "#de77ae"
            ],
            [
             0.3,
             "#f1b6da"
            ],
            [
             0.4,
             "#fde0ef"
            ],
            [
             0.5,
             "#f7f7f7"
            ],
            [
             0.6,
             "#e6f5d0"
            ],
            [
             0.7,
             "#b8e186"
            ],
            [
             0.8,
             "#7fbc41"
            ],
            [
             0.9,
             "#4d9221"
            ],
            [
             1,
             "#276419"
            ]
           ],
           "sequential": [
            [
             0,
             "#0d0887"
            ],
            [
             0.1111111111111111,
             "#46039f"
            ],
            [
             0.2222222222222222,
             "#7201a8"
            ],
            [
             0.3333333333333333,
             "#9c179e"
            ],
            [
             0.4444444444444444,
             "#bd3786"
            ],
            [
             0.5555555555555556,
             "#d8576b"
            ],
            [
             0.6666666666666666,
             "#ed7953"
            ],
            [
             0.7777777777777778,
             "#fb9f3a"
            ],
            [
             0.8888888888888888,
             "#fdca26"
            ],
            [
             1,
             "#f0f921"
            ]
           ],
           "sequentialminus": [
            [
             0,
             "#0d0887"
            ],
            [
             0.1111111111111111,
             "#46039f"
            ],
            [
             0.2222222222222222,
             "#7201a8"
            ],
            [
             0.3333333333333333,
             "#9c179e"
            ],
            [
             0.4444444444444444,
             "#bd3786"
            ],
            [
             0.5555555555555556,
             "#d8576b"
            ],
            [
             0.6666666666666666,
             "#ed7953"
            ],
            [
             0.7777777777777778,
             "#fb9f3a"
            ],
            [
             0.8888888888888888,
             "#fdca26"
            ],
            [
             1,
             "#f0f921"
            ]
           ]
          },
          "colorway": [
           "#636efa",
           "#EF553B",
           "#00cc96",
           "#ab63fa",
           "#FFA15A",
           "#19d3f3",
           "#FF6692",
           "#B6E880",
           "#FF97FF",
           "#FECB52"
          ],
          "font": {
           "color": "#2a3f5f"
          },
          "geo": {
           "bgcolor": "white",
           "lakecolor": "white",
           "landcolor": "#E5ECF6",
           "showlakes": true,
           "showland": true,
           "subunitcolor": "white"
          },
          "hoverlabel": {
           "align": "left"
          },
          "hovermode": "closest",
          "mapbox": {
           "style": "light"
          },
          "paper_bgcolor": "white",
          "plot_bgcolor": "#E5ECF6",
          "polar": {
           "angularaxis": {
            "gridcolor": "white",
            "linecolor": "white",
            "ticks": ""
           },
           "bgcolor": "#E5ECF6",
           "radialaxis": {
            "gridcolor": "white",
            "linecolor": "white",
            "ticks": ""
           }
          },
          "scene": {
           "xaxis": {
            "backgroundcolor": "#E5ECF6",
            "gridcolor": "white",
            "gridwidth": 2,
            "linecolor": "white",
            "showbackground": true,
            "ticks": "",
            "zerolinecolor": "white"
           },
           "yaxis": {
            "backgroundcolor": "#E5ECF6",
            "gridcolor": "white",
            "gridwidth": 2,
            "linecolor": "white",
            "showbackground": true,
            "ticks": "",
            "zerolinecolor": "white"
           },
           "zaxis": {
            "backgroundcolor": "#E5ECF6",
            "gridcolor": "white",
            "gridwidth": 2,
            "linecolor": "white",
            "showbackground": true,
            "ticks": "",
            "zerolinecolor": "white"
           }
          },
          "shapedefaults": {
           "line": {
            "color": "#2a3f5f"
           }
          },
          "ternary": {
           "aaxis": {
            "gridcolor": "white",
            "linecolor": "white",
            "ticks": ""
           },
           "baxis": {
            "gridcolor": "white",
            "linecolor": "white",
            "ticks": ""
           },
           "bgcolor": "#E5ECF6",
           "caxis": {
            "gridcolor": "white",
            "linecolor": "white",
            "ticks": ""
           }
          },
          "title": {
           "x": 0.05
          },
          "xaxis": {
           "automargin": true,
           "gridcolor": "white",
           "linecolor": "white",
           "ticks": "",
           "zerolinecolor": "white",
           "zerolinewidth": 2
          },
          "yaxis": {
           "automargin": true,
           "gridcolor": "white",
           "linecolor": "white",
           "ticks": "",
           "zerolinecolor": "white",
           "zerolinewidth": 2
          }
         }
        },
        "title": {
         "text": "Vader Sentiment Analysis: Average Compound Scores by City"
        },
        "width": 900,
        "xaxis": {
         "anchor": "y",
         "domain": [
          0,
          0.45
         ],
         "range": [
          "2019-09-03",
          "2019-10-05"
         ]
        },
        "xaxis2": {
         "anchor": "y2",
         "domain": [
          0.55,
          1
         ],
         "range": [
          "2019-09-03",
          "2019-10-05"
         ]
        },
        "xaxis3": {
         "anchor": "y3",
         "domain": [
          0,
          0.45
         ],
         "range": [
          "2019-09-03",
          "2019-10-05"
         ]
        },
        "xaxis4": {
         "anchor": "y4",
         "domain": [
          0.55,
          1
         ],
         "range": [
          "2019-09-03",
          "2019-10-05"
         ]
        },
        "yaxis": {
         "anchor": "x",
         "domain": [
          0.625,
          1
         ],
         "range": [
          -1,
          1
         ]
        },
        "yaxis2": {
         "anchor": "x2",
         "domain": [
          0.625,
          1
         ],
         "range": [
          -1,
          1
         ]
        },
        "yaxis3": {
         "anchor": "x3",
         "domain": [
          0,
          0.375
         ],
         "range": [
          -1,
          1
         ]
        },
        "yaxis4": {
         "anchor": "x4",
         "domain": [
          0,
          0.375
         ],
         "range": [
          -1,
          1
         ]
        }
       }
      },
      "text/html": [
       "<div>\n",
       "        \n",
       "        \n",
       "            <div id=\"2b00cee5-a663-48f5-8a72-c7d6f38c1c9c\" class=\"plotly-graph-div\" style=\"height:800px; width:900px;\"></div>\n",
       "            <script type=\"text/javascript\">\n",
       "                require([\"plotly\"], function(Plotly) {\n",
       "                    window.PLOTLYENV=window.PLOTLYENV || {};\n",
       "                    \n",
       "                if (document.getElementById(\"2b00cee5-a663-48f5-8a72-c7d6f38c1c9c\")) {\n",
       "                    Plotly.newPlot(\n",
       "                        '2b00cee5-a663-48f5-8a72-c7d6f38c1c9c',\n",
       "                        [{\"mode\": \"lines\", \"type\": \"scatter\", \"x\": [\"2019-09-08\", \"2019-09-09\", \"2019-09-10\", \"2019-09-11\", \"2019-09-12\", \"2019-09-13\", \"2019-09-14\", \"2019-09-15\", \"2019-09-17\", \"2019-09-18\", \"2019-09-25\", \"2019-09-26\"], \"xaxis\": \"x\", \"y\": [0.296, 0.3548, 0.12781666666666666, 0.346925, 0.3571919354838709, 0.06515999999999997, 0.0516, 0.7764, 0.6369, -0.6597, -0.5859, 0.0], \"yaxis\": \"y\"}, {\"mode\": \"lines\", \"type\": \"scatter\", \"x\": [\"2019-09-05\", \"2019-09-10\", \"2019-09-11\", \"2019-09-12\", \"2019-09-13\", \"2019-09-15\", \"2019-09-24\"], \"xaxis\": \"x3\", \"y\": [0.5859, 0.39835000000000004, 0.16911874999999998, 0.45800882352941175, 0.1568, 0.4588, 0.0], \"yaxis\": \"y3\"}, {\"mode\": \"lines\", \"type\": \"scatter\", \"x\": [\"2019-09-06\", \"2019-09-07\", \"2019-09-08\", \"2019-09-09\", \"2019-09-10\", \"2019-09-11\", \"2019-09-12\", \"2019-09-13\", \"2019-09-14\", \"2019-09-15\", \"2019-09-16\", \"2019-09-18\", \"2019-09-20\", \"2019-09-27\", \"2019-09-30\", \"2019-10-04\"], \"xaxis\": \"x2\", \"y\": [0.0, 0.21230000000000002, 0.4019, 0.50845, 0.1765, 0.34564883720930234, 0.3553310344827587, 0.3182, 0.8316, 0.6825666666666667, 0.4546, 0.0, 0.0, 0.7783, 0.8316, 0.7717], \"yaxis\": \"y2\"}, {\"mode\": \"lines\", \"type\": \"scatter\", \"x\": [\"2019-09-09\", \"2019-09-11\", \"2019-09-12\", \"2019-09-14\"], \"xaxis\": \"x4\", \"y\": [0.0, 0.3117857142857143, 0.35900000000000004, 0.0], \"yaxis\": \"y4\"}],\n",
       "                        {\"annotations\": [{\"font\": {\"size\": 16}, \"showarrow\": false, \"text\": \"Melbourne\", \"x\": 0.225, \"xanchor\": \"center\", \"xref\": \"paper\", \"y\": 1.0, \"yanchor\": \"bottom\", \"yref\": \"paper\"}, {\"font\": {\"size\": 16}, \"showarrow\": false, \"text\": \"Sydney\", \"x\": 0.775, \"xanchor\": \"center\", \"xref\": \"paper\", \"y\": 1.0, \"yanchor\": \"bottom\", \"yref\": \"paper\"}, {\"font\": {\"size\": 16}, \"showarrow\": false, \"text\": \"Brisbane\", \"x\": 0.225, \"xanchor\": \"center\", \"xref\": \"paper\", \"y\": 0.375, \"yanchor\": \"bottom\", \"yref\": \"paper\"}, {\"font\": {\"size\": 16}, \"showarrow\": false, \"text\": \"Canberra\", \"x\": 0.775, \"xanchor\": \"center\", \"xref\": \"paper\", \"y\": 0.375, \"yanchor\": \"bottom\", \"yref\": \"paper\"}], \"height\": 800, \"showlegend\": false, \"template\": {\"data\": {\"bar\": [{\"error_x\": {\"color\": \"#2a3f5f\"}, \"error_y\": {\"color\": \"#2a3f5f\"}, \"marker\": {\"line\": {\"color\": \"#E5ECF6\", \"width\": 0.5}}, \"type\": \"bar\"}], \"barpolar\": [{\"marker\": {\"line\": {\"color\": \"#E5ECF6\", \"width\": 0.5}}, \"type\": \"barpolar\"}], \"carpet\": [{\"aaxis\": {\"endlinecolor\": \"#2a3f5f\", \"gridcolor\": \"white\", \"linecolor\": \"white\", \"minorgridcolor\": \"white\", \"startlinecolor\": \"#2a3f5f\"}, \"baxis\": {\"endlinecolor\": \"#2a3f5f\", \"gridcolor\": \"white\", \"linecolor\": \"white\", \"minorgridcolor\": \"white\", \"startlinecolor\": \"#2a3f5f\"}, \"type\": \"carpet\"}], \"choropleth\": [{\"colorbar\": {\"outlinewidth\": 0, \"ticks\": \"\"}, \"type\": \"choropleth\"}], \"contour\": [{\"colorbar\": {\"outlinewidth\": 0, \"ticks\": \"\"}, \"colorscale\": [[0.0, \"#0d0887\"], [0.1111111111111111, \"#46039f\"], [0.2222222222222222, \"#7201a8\"], [0.3333333333333333, \"#9c179e\"], [0.4444444444444444, \"#bd3786\"], [0.5555555555555556, \"#d8576b\"], [0.6666666666666666, \"#ed7953\"], [0.7777777777777778, \"#fb9f3a\"], [0.8888888888888888, \"#fdca26\"], [1.0, \"#f0f921\"]], \"type\": \"contour\"}], \"contourcarpet\": [{\"colorbar\": {\"outlinewidth\": 0, \"ticks\": \"\"}, \"type\": \"contourcarpet\"}], \"heatmap\": [{\"colorbar\": {\"outlinewidth\": 0, \"ticks\": \"\"}, \"colorscale\": [[0.0, \"#0d0887\"], [0.1111111111111111, \"#46039f\"], [0.2222222222222222, \"#7201a8\"], [0.3333333333333333, \"#9c179e\"], [0.4444444444444444, \"#bd3786\"], [0.5555555555555556, \"#d8576b\"], [0.6666666666666666, \"#ed7953\"], [0.7777777777777778, \"#fb9f3a\"], [0.8888888888888888, \"#fdca26\"], [1.0, \"#f0f921\"]], \"type\": \"heatmap\"}], \"heatmapgl\": [{\"colorbar\": {\"outlinewidth\": 0, \"ticks\": \"\"}, \"colorscale\": [[0.0, \"#0d0887\"], [0.1111111111111111, \"#46039f\"], [0.2222222222222222, \"#7201a8\"], [0.3333333333333333, \"#9c179e\"], [0.4444444444444444, \"#bd3786\"], [0.5555555555555556, \"#d8576b\"], [0.6666666666666666, \"#ed7953\"], [0.7777777777777778, \"#fb9f3a\"], [0.8888888888888888, \"#fdca26\"], [1.0, \"#f0f921\"]], \"type\": \"heatmapgl\"}], \"histogram\": [{\"marker\": {\"colorbar\": {\"outlinewidth\": 0, \"ticks\": \"\"}}, \"type\": \"histogram\"}], \"histogram2d\": [{\"colorbar\": {\"outlinewidth\": 0, \"ticks\": \"\"}, \"colorscale\": [[0.0, \"#0d0887\"], [0.1111111111111111, \"#46039f\"], [0.2222222222222222, \"#7201a8\"], [0.3333333333333333, \"#9c179e\"], [0.4444444444444444, \"#bd3786\"], [0.5555555555555556, \"#d8576b\"], [0.6666666666666666, \"#ed7953\"], [0.7777777777777778, \"#fb9f3a\"], [0.8888888888888888, \"#fdca26\"], [1.0, \"#f0f921\"]], \"type\": \"histogram2d\"}], \"histogram2dcontour\": [{\"colorbar\": {\"outlinewidth\": 0, \"ticks\": \"\"}, \"colorscale\": [[0.0, \"#0d0887\"], [0.1111111111111111, \"#46039f\"], [0.2222222222222222, \"#7201a8\"], [0.3333333333333333, \"#9c179e\"], [0.4444444444444444, \"#bd3786\"], [0.5555555555555556, \"#d8576b\"], [0.6666666666666666, \"#ed7953\"], [0.7777777777777778, \"#fb9f3a\"], [0.8888888888888888, \"#fdca26\"], [1.0, \"#f0f921\"]], \"type\": \"histogram2dcontour\"}], \"mesh3d\": [{\"colorbar\": {\"outlinewidth\": 0, \"ticks\": \"\"}, \"type\": \"mesh3d\"}], \"parcoords\": [{\"line\": {\"colorbar\": {\"outlinewidth\": 0, \"ticks\": \"\"}}, \"type\": \"parcoords\"}], \"scatter\": [{\"marker\": {\"colorbar\": {\"outlinewidth\": 0, \"ticks\": \"\"}}, \"type\": \"scatter\"}], \"scatter3d\": [{\"line\": {\"colorbar\": {\"outlinewidth\": 0, \"ticks\": \"\"}}, \"marker\": {\"colorbar\": {\"outlinewidth\": 0, \"ticks\": \"\"}}, \"type\": \"scatter3d\"}], \"scattercarpet\": [{\"marker\": {\"colorbar\": {\"outlinewidth\": 0, \"ticks\": \"\"}}, \"type\": \"scattercarpet\"}], \"scattergeo\": [{\"marker\": {\"colorbar\": {\"outlinewidth\": 0, \"ticks\": \"\"}}, \"type\": \"scattergeo\"}], \"scattergl\": [{\"marker\": {\"colorbar\": {\"outlinewidth\": 0, \"ticks\": \"\"}}, \"type\": \"scattergl\"}], \"scattermapbox\": [{\"marker\": {\"colorbar\": {\"outlinewidth\": 0, \"ticks\": \"\"}}, \"type\": \"scattermapbox\"}], \"scatterpolar\": [{\"marker\": {\"colorbar\": {\"outlinewidth\": 0, \"ticks\": \"\"}}, \"type\": \"scatterpolar\"}], \"scatterpolargl\": [{\"marker\": {\"colorbar\": {\"outlinewidth\": 0, \"ticks\": \"\"}}, \"type\": \"scatterpolargl\"}], \"scatterternary\": [{\"marker\": {\"colorbar\": {\"outlinewidth\": 0, \"ticks\": \"\"}}, \"type\": \"scatterternary\"}], \"surface\": [{\"colorbar\": {\"outlinewidth\": 0, \"ticks\": \"\"}, \"colorscale\": [[0.0, \"#0d0887\"], [0.1111111111111111, \"#46039f\"], [0.2222222222222222, \"#7201a8\"], [0.3333333333333333, \"#9c179e\"], [0.4444444444444444, \"#bd3786\"], [0.5555555555555556, \"#d8576b\"], [0.6666666666666666, \"#ed7953\"], [0.7777777777777778, \"#fb9f3a\"], [0.8888888888888888, \"#fdca26\"], [1.0, \"#f0f921\"]], \"type\": \"surface\"}], \"table\": [{\"cells\": {\"fill\": {\"color\": \"#EBF0F8\"}, \"line\": {\"color\": \"white\"}}, \"header\": {\"fill\": {\"color\": \"#C8D4E3\"}, \"line\": {\"color\": \"white\"}}, \"type\": \"table\"}]}, \"layout\": {\"annotationdefaults\": {\"arrowcolor\": \"#2a3f5f\", \"arrowhead\": 0, \"arrowwidth\": 1}, \"colorscale\": {\"diverging\": [[0, \"#8e0152\"], [0.1, \"#c51b7d\"], [0.2, \"#de77ae\"], [0.3, \"#f1b6da\"], [0.4, \"#fde0ef\"], [0.5, \"#f7f7f7\"], [0.6, \"#e6f5d0\"], [0.7, \"#b8e186\"], [0.8, \"#7fbc41\"], [0.9, \"#4d9221\"], [1, \"#276419\"]], \"sequential\": [[0.0, \"#0d0887\"], [0.1111111111111111, \"#46039f\"], [0.2222222222222222, \"#7201a8\"], [0.3333333333333333, \"#9c179e\"], [0.4444444444444444, \"#bd3786\"], [0.5555555555555556, \"#d8576b\"], [0.6666666666666666, \"#ed7953\"], [0.7777777777777778, \"#fb9f3a\"], [0.8888888888888888, \"#fdca26\"], [1.0, \"#f0f921\"]], \"sequentialminus\": [[0.0, \"#0d0887\"], [0.1111111111111111, \"#46039f\"], [0.2222222222222222, \"#7201a8\"], [0.3333333333333333, \"#9c179e\"], [0.4444444444444444, \"#bd3786\"], [0.5555555555555556, \"#d8576b\"], [0.6666666666666666, \"#ed7953\"], [0.7777777777777778, \"#fb9f3a\"], [0.8888888888888888, \"#fdca26\"], [1.0, \"#f0f921\"]]}, \"colorway\": [\"#636efa\", \"#EF553B\", \"#00cc96\", \"#ab63fa\", \"#FFA15A\", \"#19d3f3\", \"#FF6692\", \"#B6E880\", \"#FF97FF\", \"#FECB52\"], \"font\": {\"color\": \"#2a3f5f\"}, \"geo\": {\"bgcolor\": \"white\", \"lakecolor\": \"white\", \"landcolor\": \"#E5ECF6\", \"showlakes\": true, \"showland\": true, \"subunitcolor\": \"white\"}, \"hoverlabel\": {\"align\": \"left\"}, \"hovermode\": \"closest\", \"mapbox\": {\"style\": \"light\"}, \"paper_bgcolor\": \"white\", \"plot_bgcolor\": \"#E5ECF6\", \"polar\": {\"angularaxis\": {\"gridcolor\": \"white\", \"linecolor\": \"white\", \"ticks\": \"\"}, \"bgcolor\": \"#E5ECF6\", \"radialaxis\": {\"gridcolor\": \"white\", \"linecolor\": \"white\", \"ticks\": \"\"}}, \"scene\": {\"xaxis\": {\"backgroundcolor\": \"#E5ECF6\", \"gridcolor\": \"white\", \"gridwidth\": 2, \"linecolor\": \"white\", \"showbackground\": true, \"ticks\": \"\", \"zerolinecolor\": \"white\"}, \"yaxis\": {\"backgroundcolor\": \"#E5ECF6\", \"gridcolor\": \"white\", \"gridwidth\": 2, \"linecolor\": \"white\", \"showbackground\": true, \"ticks\": \"\", \"zerolinecolor\": \"white\"}, \"zaxis\": {\"backgroundcolor\": \"#E5ECF6\", \"gridcolor\": \"white\", \"gridwidth\": 2, \"linecolor\": \"white\", \"showbackground\": true, \"ticks\": \"\", \"zerolinecolor\": \"white\"}}, \"shapedefaults\": {\"line\": {\"color\": \"#2a3f5f\"}}, \"ternary\": {\"aaxis\": {\"gridcolor\": \"white\", \"linecolor\": \"white\", \"ticks\": \"\"}, \"baxis\": {\"gridcolor\": \"white\", \"linecolor\": \"white\", \"ticks\": \"\"}, \"bgcolor\": \"#E5ECF6\", \"caxis\": {\"gridcolor\": \"white\", \"linecolor\": \"white\", \"ticks\": \"\"}}, \"title\": {\"x\": 0.05}, \"xaxis\": {\"automargin\": true, \"gridcolor\": \"white\", \"linecolor\": \"white\", \"ticks\": \"\", \"zerolinecolor\": \"white\", \"zerolinewidth\": 2}, \"yaxis\": {\"automargin\": true, \"gridcolor\": \"white\", \"linecolor\": \"white\", \"ticks\": \"\", \"zerolinecolor\": \"white\", \"zerolinewidth\": 2}}}, \"title\": {\"text\": \"Vader Sentiment Analysis: Average Compound Scores by City\"}, \"width\": 900, \"xaxis\": {\"anchor\": \"y\", \"domain\": [0.0, 0.45], \"range\": [\"2019-09-03\", \"2019-10-05\"]}, \"xaxis2\": {\"anchor\": \"y2\", \"domain\": [0.55, 1.0], \"range\": [\"2019-09-03\", \"2019-10-05\"]}, \"xaxis3\": {\"anchor\": \"y3\", \"domain\": [0.0, 0.45], \"range\": [\"2019-09-03\", \"2019-10-05\"]}, \"xaxis4\": {\"anchor\": \"y4\", \"domain\": [0.55, 1.0], \"range\": [\"2019-09-03\", \"2019-10-05\"]}, \"yaxis\": {\"anchor\": \"x\", \"domain\": [0.625, 1.0], \"range\": [-1, 1]}, \"yaxis2\": {\"anchor\": \"x2\", \"domain\": [0.625, 1.0], \"range\": [-1, 1]}, \"yaxis3\": {\"anchor\": \"x3\", \"domain\": [0.0, 0.375], \"range\": [-1, 1]}, \"yaxis4\": {\"anchor\": \"x4\", \"domain\": [0.0, 0.375], \"range\": [-1, 1]}},\n",
       "                        {\"responsive\": true}\n",
       "                    ).then(function(){\n",
       "                            \n",
       "var gd = document.getElementById('2b00cee5-a663-48f5-8a72-c7d6f38c1c9c');\n",
       "var x = new MutationObserver(function (mutations, observer) {{\n",
       "        var display = window.getComputedStyle(gd).display;\n",
       "        if (!display || display === 'none') {{\n",
       "            console.log([gd, 'removed!']);\n",
       "            Plotly.purge(gd);\n",
       "            observer.disconnect();\n",
       "        }}\n",
       "}});\n",
       "\n",
       "// Listen for the removal of the full notebook cells\n",
       "var notebookContainer = gd.closest('#notebook-container');\n",
       "if (notebookContainer) {{\n",
       "    x.observe(notebookContainer, {childList: true});\n",
       "}}\n",
       "\n",
       "// Listen for the clearing of the current output cell\n",
       "var outputEl = gd.closest('.output');\n",
       "if (outputEl) {{\n",
       "    x.observe(outputEl, {childList: true});\n",
       "}}\n",
       "\n",
       "                        })\n",
       "                };\n",
       "                });\n",
       "            </script>\n",
       "        </div>"
      ]
     },
     "metadata": {},
     "output_type": "display_data"
    }
   ],
   "source": [
    "fig = make_subplots(rows=2, cols=2, subplot_titles=(\"Melbourne\", \"Sydney\", \"Brisbane\", \n",
    "                                                    \"Canberra\"))\n",
    "\n",
    "fig.append_trace(go.Scatter(\n",
    "    x = melb_df.created_at_date,\n",
    "    y = melb_df.sentiment_compound_polarity,\n",
    "    mode=\"lines\"), row=1, col=1)\n",
    "\n",
    "fig.append_trace(go.Scatter(\n",
    "    x = bris_df.created_at_date,\n",
    "    y = bris_df.sentiment_compound_polarity,\n",
    "    mode=\"lines\"), row=2, col=1)\n",
    "\n",
    "fig.append_trace(go.Scatter(\n",
    "    x = sy_df.created_at_date,\n",
    "    y = sy_df.sentiment_compound_polarity,\n",
    "    mode=\"lines\"), row=1, col=2)\n",
    "\n",
    "fig.append_trace(go.Scatter(\n",
    "    x = can_df.created_at_date,\n",
    "    y = can_df.sentiment_compound_polarity,\n",
    "    mode=\"lines\"), row=2, col=2)\n",
    "\n",
    "fig.update_yaxes(range=[-1,1],row=1, col=1)\n",
    "fig.update_yaxes(range=[-1,1],row=2, col=1)\n",
    "fig.update_yaxes(range=[-1,1],row=1, col=2)\n",
    "fig.update_yaxes(range=[-1,1],row=2, col=2)\n",
    "\n",
    "fig.update_xaxes(range=['2019-09-03','2019-10-05'],row=1, col=2)\n",
    "fig.update_xaxes(range=['2019-09-03','2019-10-05'],row=2, col=1)\n",
    "fig.update_xaxes(range=['2019-09-03','2019-10-05'],row=1, col=1)\n",
    "fig.update_xaxes(range=['2019-09-03','2019-10-05'],row=2, col=2)\n",
    "\n",
    "fig.update_layout(height=800, width=900, title_text=\"Vader Sentiment Analysis: Average Compound Scores by City\",showlegend=False)\n",
    "fig.show()"
   ]
  },
  {
   "cell_type": "code",
   "execution_count": 37,
   "metadata": {},
   "outputs": [],
   "source": [
    "map_df = ruok_place[['place_full_name','lat','long','sentiment_compound_polarity']]\n",
    "map_df['place_full_name'].replace('Perth, Perth (WA)','Perth, Western Australia',inplace=True)\n",
    "map_df = map_df.groupby(['place_full_name','lat', 'long']).agg({'sentiment_compound_polarity': 'mean'}).reset_index()\n",
    "#create a new column to indicate the sentiment type\n",
    "map_df.loc[map_df.sentiment_compound_polarity>0,'sentiment_type']='Positive'\n",
    "map_df.loc[map_df.sentiment_compound_polarity==0,'sentiment_type']='Neutral'\n",
    "map_df.loc[map_df.sentiment_compound_polarity<0,'sentiment_type']='Negative'"
   ]
  },
  {
   "cell_type": "code",
   "execution_count": 38,
   "metadata": {},
   "outputs": [
    {
     "data": {
      "text/plain": [
       "Positive    60\n",
       "Neutral     10\n",
       "Negative    10\n",
       "Name: sentiment_type, dtype: int64"
      ]
     },
     "execution_count": 38,
     "metadata": {},
     "output_type": "execute_result"
    }
   ],
   "source": [
    "map_df['sentiment_type'].value_counts()"
   ]
  },
  {
   "cell_type": "code",
   "execution_count": 39,
   "metadata": {},
   "outputs": [
    {
     "data": {
      "text/plain": [
       "(70, 6)"
      ]
     },
     "execution_count": 39,
     "metadata": {},
     "output_type": "execute_result"
    }
   ],
   "source": [
    "map_df=map_df[map_df.sentiment_type!='Neutral']\n",
    "map_df['polarity_abs']=map_df['sentiment_compound_polarity'].abs()\n",
    "map_df['polarity_abs']=map_df['polarity_abs']*20\n",
    "map_df.shape"
   ]
  },
  {
   "cell_type": "code",
   "execution_count": 40,
   "metadata": {},
   "outputs": [],
   "source": [
    "import folium \n",
    "import webbrowser"
   ]
  },
  {
   "cell_type": "code",
   "execution_count": 41,
   "metadata": {},
   "outputs": [],
   "source": [
    "latitude = -25.734968\n",
    "longitude = 134.489563\n",
    "sentiment_map = folium.Map(location=[latitude, longitude], zoom_start=3)"
   ]
  },
  {
   "cell_type": "code",
   "execution_count": 42,
   "metadata": {},
   "outputs": [
    {
     "data": {
      "text/html": [
       "<div style=\"width:100%;\"><div style=\"position:relative;width:100%;height:0;padding-bottom:60%;\"><iframe src=\"data:text/html;charset=utf-8;base64,PCFET0NUWVBFIGh0bWw+CjxoZWFkPiAgICAKICAgIDxtZXRhIGh0dHAtZXF1aXY9ImNvbnRlbnQtdHlwZSIgY29udGVudD0idGV4dC9odG1sOyBjaGFyc2V0PVVURi04IiAvPgogICAgCiAgICAgICAgPHNjcmlwdD4KICAgICAgICAgICAgTF9OT19UT1VDSCA9IGZhbHNlOwogICAgICAgICAgICBMX0RJU0FCTEVfM0QgPSBmYWxzZTsKICAgICAgICA8L3NjcmlwdD4KICAgIAogICAgPHNjcmlwdCBzcmM9Imh0dHBzOi8vY2RuLmpzZGVsaXZyLm5ldC9ucG0vbGVhZmxldEAxLjUuMS9kaXN0L2xlYWZsZXQuanMiPjwvc2NyaXB0PgogICAgPHNjcmlwdCBzcmM9Imh0dHBzOi8vY29kZS5qcXVlcnkuY29tL2pxdWVyeS0xLjEyLjQubWluLmpzIj48L3NjcmlwdD4KICAgIDxzY3JpcHQgc3JjPSJodHRwczovL21heGNkbi5ib290c3RyYXBjZG4uY29tL2Jvb3RzdHJhcC8zLjIuMC9qcy9ib290c3RyYXAubWluLmpzIj48L3NjcmlwdD4KICAgIDxzY3JpcHQgc3JjPSJodHRwczovL2NkbmpzLmNsb3VkZmxhcmUuY29tL2FqYXgvbGlicy9MZWFmbGV0LmF3ZXNvbWUtbWFya2Vycy8yLjAuMi9sZWFmbGV0LmF3ZXNvbWUtbWFya2Vycy5qcyI+PC9zY3JpcHQ+CiAgICA8bGluayByZWw9InN0eWxlc2hlZXQiIGhyZWY9Imh0dHBzOi8vY2RuLmpzZGVsaXZyLm5ldC9ucG0vbGVhZmxldEAxLjUuMS9kaXN0L2xlYWZsZXQuY3NzIi8+CiAgICA8bGluayByZWw9InN0eWxlc2hlZXQiIGhyZWY9Imh0dHBzOi8vbWF4Y2RuLmJvb3RzdHJhcGNkbi5jb20vYm9vdHN0cmFwLzMuMi4wL2Nzcy9ib290c3RyYXAubWluLmNzcyIvPgogICAgPGxpbmsgcmVsPSJzdHlsZXNoZWV0IiBocmVmPSJodHRwczovL21heGNkbi5ib290c3RyYXBjZG4uY29tL2Jvb3RzdHJhcC8zLjIuMC9jc3MvYm9vdHN0cmFwLXRoZW1lLm1pbi5jc3MiLz4KICAgIDxsaW5rIHJlbD0ic3R5bGVzaGVldCIgaHJlZj0iaHR0cHM6Ly9tYXhjZG4uYm9vdHN0cmFwY2RuLmNvbS9mb250LWF3ZXNvbWUvNC42LjMvY3NzL2ZvbnQtYXdlc29tZS5taW4uY3NzIi8+CiAgICA8bGluayByZWw9InN0eWxlc2hlZXQiIGhyZWY9Imh0dHBzOi8vY2RuanMuY2xvdWRmbGFyZS5jb20vYWpheC9saWJzL0xlYWZsZXQuYXdlc29tZS1tYXJrZXJzLzIuMC4yL2xlYWZsZXQuYXdlc29tZS1tYXJrZXJzLmNzcyIvPgogICAgPGxpbmsgcmVsPSJzdHlsZXNoZWV0IiBocmVmPSJodHRwczovL3Jhd2Nkbi5naXRoYWNrLmNvbS9weXRob24tdmlzdWFsaXphdGlvbi9mb2xpdW0vbWFzdGVyL2ZvbGl1bS90ZW1wbGF0ZXMvbGVhZmxldC5hd2Vzb21lLnJvdGF0ZS5jc3MiLz4KICAgIDxzdHlsZT5odG1sLCBib2R5IHt3aWR0aDogMTAwJTtoZWlnaHQ6IDEwMCU7bWFyZ2luOiAwO3BhZGRpbmc6IDA7fTwvc3R5bGU+CiAgICA8c3R5bGU+I21hcCB7cG9zaXRpb246YWJzb2x1dGU7dG9wOjA7Ym90dG9tOjA7cmlnaHQ6MDtsZWZ0OjA7fTwvc3R5bGU+CiAgICAKICAgICAgICAgICAgPG1ldGEgbmFtZT0idmlld3BvcnQiIGNvbnRlbnQ9IndpZHRoPWRldmljZS13aWR0aCwKICAgICAgICAgICAgICAgIGluaXRpYWwtc2NhbGU9MS4wLCBtYXhpbXVtLXNjYWxlPTEuMCwgdXNlci1zY2FsYWJsZT1ubyIgLz4KICAgICAgICAgICAgPHN0eWxlPgogICAgICAgICAgICAgICAgI21hcF84ZGRmODgxMGU4NWE0MmU2YjA4ODgyZTc3Yjc2YTQzNSB7CiAgICAgICAgICAgICAgICAgICAgcG9zaXRpb246IHJlbGF0aXZlOwogICAgICAgICAgICAgICAgICAgIHdpZHRoOiAxMDAuMCU7CiAgICAgICAgICAgICAgICAgICAgaGVpZ2h0OiAxMDAuMCU7CiAgICAgICAgICAgICAgICAgICAgbGVmdDogMC4wJTsKICAgICAgICAgICAgICAgICAgICB0b3A6IDAuMCU7CiAgICAgICAgICAgICAgICB9CiAgICAgICAgICAgIDwvc3R5bGU+CiAgICAgICAgCjwvaGVhZD4KPGJvZHk+ICAgIAogICAgCiAgICAgICAgICAgIDxkaXYgY2xhc3M9ImZvbGl1bS1tYXAiIGlkPSJtYXBfOGRkZjg4MTBlODVhNDJlNmIwODg4MmU3N2I3NmE0MzUiID48L2Rpdj4KICAgICAgICAKPC9ib2R5Pgo8c2NyaXB0PiAgICAKICAgIAogICAgICAgICAgICB2YXIgbWFwXzhkZGY4ODEwZTg1YTQyZTZiMDg4ODJlNzdiNzZhNDM1ID0gTC5tYXAoCiAgICAgICAgICAgICAgICAibWFwXzhkZGY4ODEwZTg1YTQyZTZiMDg4ODJlNzdiNzZhNDM1IiwKICAgICAgICAgICAgICAgIHsKICAgICAgICAgICAgICAgICAgICBjZW50ZXI6IFstMjUuNzM0OTY4LCAxMzQuNDg5NTYzXSwKICAgICAgICAgICAgICAgICAgICBjcnM6IEwuQ1JTLkVQU0czODU3LAogICAgICAgICAgICAgICAgICAgIHpvb206IDMsCiAgICAgICAgICAgICAgICAgICAgem9vbUNvbnRyb2w6IHRydWUsCiAgICAgICAgICAgICAgICAgICAgcHJlZmVyQ2FudmFzOiBmYWxzZSwKICAgICAgICAgICAgICAgIH0KICAgICAgICAgICAgKTsKCiAgICAgICAgICAgIAoKICAgICAgICAKICAgIAogICAgICAgICAgICB2YXIgdGlsZV9sYXllcl85NDYzOTUyZGEzZmY0ZDE2ODY4NTk4OTIyMTMzM2UwZSA9IEwudGlsZUxheWVyKAogICAgICAgICAgICAgICAgImh0dHBzOi8ve3N9LnRpbGUub3BlbnN0cmVldG1hcC5vcmcve3p9L3t4fS97eX0ucG5nIiwKICAgICAgICAgICAgICAgIHsiYXR0cmlidXRpb24iOiAiRGF0YSBieSBcdTAwMjZjb3B5OyBcdTAwM2NhIGhyZWY9XCJodHRwOi8vb3BlbnN0cmVldG1hcC5vcmdcIlx1MDAzZU9wZW5TdHJlZXRNYXBcdTAwM2MvYVx1MDAzZSwgdW5kZXIgXHUwMDNjYSBocmVmPVwiaHR0cDovL3d3dy5vcGVuc3RyZWV0bWFwLm9yZy9jb3B5cmlnaHRcIlx1MDAzZU9EYkxcdTAwM2MvYVx1MDAzZS4iLCAiZGV0ZWN0UmV0aW5hIjogZmFsc2UsICJtYXhOYXRpdmVab29tIjogMTgsICJtYXhab29tIjogMTgsICJtaW5ab29tIjogMCwgIm5vV3JhcCI6IGZhbHNlLCAib3BhY2l0eSI6IDEsICJzdWJkb21haW5zIjogImFiYyIsICJ0bXMiOiBmYWxzZX0KICAgICAgICAgICAgKS5hZGRUbyhtYXBfOGRkZjg4MTBlODVhNDJlNmIwODg4MmU3N2I3NmE0MzUpOwogICAgICAgIAogICAgCiAgICAgICAgICAgIHZhciBjaXJjbGVfbWFya2VyX2Y2NzMyNmU2ODI4NDRlNDY5Mjk2YmMwNjNjNTJmN2U0ID0gTC5jaXJjbGVNYXJrZXIoCiAgICAgICAgICAgICAgICBbLTM0LjkyODQ5ODksIDEzOC42MDA3NDU2XSwKICAgICAgICAgICAgICAgIHsiYnViYmxpbmdNb3VzZUV2ZW50cyI6IHRydWUsICJjb2xvciI6ICJiIiwgImRhc2hBcnJheSI6IG51bGwsICJkYXNoT2Zmc2V0IjogbnVsbCwgImZpbGwiOiB0cnVlLCAiZmlsbENvbG9yIjogImJsdWUiLCAiZmlsbE9wYWNpdHkiOiAwLjcsICJmaWxsUnVsZSI6ICJldmVub2RkIiwgImxpbmVDYXAiOiAicm91bmQiLCAibGluZUpvaW4iOiAicm91bmQiLCAib3BhY2l0eSI6IDEuMCwgInJhZGl1cyI6IDExLjc2MDkwOTA5MDkwOTA5MiwgInN0cm9rZSI6IHRydWUsICJ3ZWlnaHQiOiAzfQogICAgICAgICAgICApLmFkZFRvKG1hcF84ZGRmODgxMGU4NWE0MmU2YjA4ODgyZTc3Yjc2YTQzNSk7CiAgICAgICAgCiAgICAKICAgICAgICB2YXIgcG9wdXBfNjgyZWZmM2Q3MjFlNGU3M2FiYzY0ZTNjOTNjOGUyNGYgPSBMLnBvcHVwKHsibWF4V2lkdGgiOiAiMTAwJSJ9KTsKCiAgICAgICAgCiAgICAgICAgICAgIHZhciBodG1sXzUzYTExMjU0ZDVmOTQ3NWY4ZTlmNGNjMGI2N2IxYTdiID0gJChgPGRpdiBpZD0iaHRtbF81M2ExMTI1NGQ1Zjk0NzVmOGU5ZjRjYzBiNjdiMWE3YiIgc3R5bGU9IndpZHRoOiAxMDAuMCU7IGhlaWdodDogMTAwLjAlOyI+QWRlbGFpZGUsIFNvdXRoIEF1c3RyYWxpYTowLjU4ODA0NTQ1NDU0NTQ1NDU8L2Rpdj5gKVswXTsKICAgICAgICAgICAgcG9wdXBfNjgyZWZmM2Q3MjFlNGU3M2FiYzY0ZTNjOTNjOGUyNGYuc2V0Q29udGVudChodG1sXzUzYTExMjU0ZDVmOTQ3NWY4ZTlmNGNjMGI2N2IxYTdiKTsKICAgICAgICAKCiAgICAgICAgY2lyY2xlX21hcmtlcl9mNjczMjZlNjgyODQ0ZTQ2OTI5NmJjMDYzYzUyZjdlNC5iaW5kUG9wdXAocG9wdXBfNjgyZWZmM2Q3MjFlNGU3M2FiYzY0ZTNjOTNjOGUyNGYpCiAgICAgICAgOwoKICAgICAgICAKICAgIAogICAgCiAgICAgICAgICAgIHZhciBjaXJjbGVfbWFya2VyX2JlZjZkMzQ1MWMxYTQ1NmM4NGI2ZjVjMDJlNDlmZmViID0gTC5jaXJjbGVNYXJrZXIoCiAgICAgICAgICAgICAgICBbLTM2LjA3MzcyOTMsIDE0Ni45MTM1NDE4MDAwMDAwMl0sCiAgICAgICAgICAgICAgICB7ImJ1YmJsaW5nTW91c2VFdmVudHMiOiB0cnVlLCAiY29sb3IiOiAiYiIsICJkYXNoQXJyYXkiOiBudWxsLCAiZGFzaE9mZnNldCI6IG51bGwsICJmaWxsIjogdHJ1ZSwgImZpbGxDb2xvciI6ICJyZWQiLCAiZmlsbE9wYWNpdHkiOiAwLjcsICJmaWxsUnVsZSI6ICJldmVub2RkIiwgImxpbmVDYXAiOiAicm91bmQiLCAibGluZUpvaW4iOiAicm91bmQiLCAib3BhY2l0eSI6IDEuMCwgInJhZGl1cyI6IDQuNzY3LCAic3Ryb2tlIjogdHJ1ZSwgIndlaWdodCI6IDN9CiAgICAgICAgICAgICkuYWRkVG8obWFwXzhkZGY4ODEwZTg1YTQyZTZiMDg4ODJlNzdiNzZhNDM1KTsKICAgICAgICAKICAgIAogICAgICAgIHZhciBwb3B1cF84OTMzNGEwN2E5YjI0ODQzOTIwZDVhMDQ3MzcyZDJiMSA9IEwucG9wdXAoeyJtYXhXaWR0aCI6ICIxMDAlIn0pOwoKICAgICAgICAKICAgICAgICAgICAgdmFyIGh0bWxfNDA5NjIxNjU1ZWZkNDljNmI1Njc0NWFlNWRmNGY0NmUgPSAkKGA8ZGl2IGlkPSJodG1sXzQwOTYyMTY1NWVmZDQ5YzZiNTY3NDVhZTVkZjRmNDZlIiBzdHlsZT0id2lkdGg6IDEwMC4wJTsgaGVpZ2h0OiAxMDAuMCU7Ij5BbGJ1cnksIE5ldyBTb3V0aCBXYWxlczotMC4yMzgzNTwvZGl2PmApWzBdOwogICAgICAgICAgICBwb3B1cF84OTMzNGEwN2E5YjI0ODQzOTIwZDVhMDQ3MzcyZDJiMS5zZXRDb250ZW50KGh0bWxfNDA5NjIxNjU1ZWZkNDljNmI1Njc0NWFlNWRmNGY0NmUpOwogICAgICAgIAoKICAgICAgICBjaXJjbGVfbWFya2VyX2JlZjZkMzQ1MWMxYTQ1NmM4NGI2ZjVjMDJlNDlmZmViLmJpbmRQb3B1cChwb3B1cF84OTMzNGEwN2E5YjI0ODQzOTIwZDVhMDQ3MzcyZDJiMSkKICAgICAgICA7CgogICAgICAgIAogICAgCiAgICAKICAgICAgICAgICAgdmFyIGNpcmNsZV9tYXJrZXJfN2NkNjFhOTAyZDU4NDU1ZGEwOTY1MGJhZDhjYzQ5ZTkgPSBMLmNpcmNsZU1hcmtlcigKICAgICAgICAgICAgICAgIFstMjMuNjk4MDQyLCAxMzMuODgwNzQ3MDk5OTk5OThdLAogICAgICAgICAgICAgICAgeyJidWJibGluZ01vdXNlRXZlbnRzIjogdHJ1ZSwgImNvbG9yIjogImIiLCAiZGFzaEFycmF5IjogbnVsbCwgImRhc2hPZmZzZXQiOiBudWxsLCAiZmlsbCI6IHRydWUsICJmaWxsQ29sb3IiOiAiYmx1ZSIsICJmaWxsT3BhY2l0eSI6IDAuNywgImZpbGxSdWxlIjogImV2ZW5vZGQiLCAibGluZUNhcCI6ICJyb3VuZCIsICJsaW5lSm9pbiI6ICJyb3VuZCIsICJvcGFjaXR5IjogMS4wLCAicmFkaXVzIjogOS44NzgsICJzdHJva2UiOiB0cnVlLCAid2VpZ2h0IjogM30KICAgICAgICAgICAgKS5hZGRUbyhtYXBfOGRkZjg4MTBlODVhNDJlNmIwODg4MmU3N2I3NmE0MzUpOwogICAgICAgIAogICAgCiAgICAgICAgdmFyIHBvcHVwX2QyNmMyY2Q2NjhlZDQyMzc5MWE2MjkzYzRkMWJiZDY0ID0gTC5wb3B1cCh7Im1heFdpZHRoIjogIjEwMCUifSk7CgogICAgICAgIAogICAgICAgICAgICB2YXIgaHRtbF8yOTVkMTVjNTliODc0ZTk2YTYyN2ViMWUxODc5NjBhNyA9ICQoYDxkaXYgaWQ9Imh0bWxfMjk1ZDE1YzU5Yjg3NGU5NmE2MjdlYjFlMTg3OTYwYTciIHN0eWxlPSJ3aWR0aDogMTAwLjAlOyBoZWlnaHQ6IDEwMC4wJTsiPkFsaWNlIFNwcmluZ3MsIE5vcnRoZXJuIFRlcnJpdG9yeTowLjQ5Mzk8L2Rpdj5gKVswXTsKICAgICAgICAgICAgcG9wdXBfZDI2YzJjZDY2OGVkNDIzNzkxYTYyOTNjNGQxYmJkNjQuc2V0Q29udGVudChodG1sXzI5NWQxNWM1OWI4NzRlOTZhNjI3ZWIxZTE4Nzk2MGE3KTsKICAgICAgICAKCiAgICAgICAgY2lyY2xlX21hcmtlcl83Y2Q2MWE5MDJkNTg0NTVkYTA5NjUwYmFkOGNjNDllOS5iaW5kUG9wdXAocG9wdXBfZDI2YzJjZDY2OGVkNDIzNzkxYTYyOTNjNGQxYmJkNjQpCiAgICAgICAgOwoKICAgICAgICAKICAgIAogICAgCiAgICAgICAgICAgIHZhciBjaXJjbGVfbWFya2VyX2Y2Y2Y5ZTgwNTQ0NjRhZTM5OWQ3ZTFiZDMzMWYzNTAzID0gTC5jaXJjbGVNYXJrZXIoCiAgICAgICAgICAgICAgICBbLTM2Ljg0ODQ1OTcsIDE3NC43NjMzMzE1XSwKICAgICAgICAgICAgICAgIHsiYnViYmxpbmdNb3VzZUV2ZW50cyI6IHRydWUsICJjb2xvciI6ICJiIiwgImRhc2hBcnJheSI6IG51bGwsICJkYXNoT2Zmc2V0IjogbnVsbCwgImZpbGwiOiB0cnVlLCAiZmlsbENvbG9yIjogImJsdWUiLCAiZmlsbE9wYWNpdHkiOiAwLjcsICJmaWxsUnVsZSI6ICJldmVub2RkIiwgImxpbmVDYXAiOiAicm91bmQiLCAibGluZUpvaW4iOiAicm91bmQiLCAib3BhY2l0eSI6IDEuMCwgInJhZGl1cyI6IDEyLjQ5ODAwMDAwMDAwMDAwMSwgInN0cm9rZSI6IHRydWUsICJ3ZWlnaHQiOiAzfQogICAgICAgICAgICApLmFkZFRvKG1hcF84ZGRmODgxMGU4NWE0MmU2YjA4ODgyZTc3Yjc2YTQzNSk7CiAgICAgICAgCiAgICAKICAgICAgICB2YXIgcG9wdXBfZGFhMDU3ZDI2MjQyNDA3NmExODNmMzhmYTFlZGUzNWYgPSBMLnBvcHVwKHsibWF4V2lkdGgiOiAiMTAwJSJ9KTsKCiAgICAgICAgCiAgICAgICAgICAgIHZhciBodG1sXzRlNDgxYzU1MWFiODQ3N2U5M2IyNDBiMDA4YWY5OTgxID0gJChgPGRpdiBpZD0iaHRtbF80ZTQ4MWM1NTFhYjg0NzdlOTNiMjQwYjAwOGFmOTk4MSIgc3R5bGU9IndpZHRoOiAxMDAuMCU7IGhlaWdodDogMTAwLjAlOyI+QXVja2xhbmQsIE5ldyBaZWFsYW5kOjAuNjI0OTwvZGl2PmApWzBdOwogICAgICAgICAgICBwb3B1cF9kYWEwNTdkMjYyNDI0MDc2YTE4M2YzOGZhMWVkZTM1Zi5zZXRDb250ZW50KGh0bWxfNGU0ODFjNTUxYWI4NDc3ZTkzYjI0MGIwMDhhZjk5ODEpOwogICAgICAgIAoKICAgICAgICBjaXJjbGVfbWFya2VyX2Y2Y2Y5ZTgwNTQ0NjRhZTM5OWQ3ZTFiZDMzMWYzNTAzLmJpbmRQb3B1cChwb3B1cF9kYWEwNTdkMjYyNDI0MDc2YTE4M2YzOGZhMWVkZTM1ZikKICAgICAgICA7CgogICAgICAgIAogICAgCiAgICAKICAgICAgICAgICAgdmFyIGNpcmNsZV9tYXJrZXJfMjc5NzU4NzVjY2ZmNDEyNGIwOTM0NzE4ODJhODUxNTcgPSBMLmNpcmNsZU1hcmtlcigKICAgICAgICAgICAgICAgIFstMjUuMjc0Mzk4LCAxMzMuNzc1MTM2XSwKICAgICAgICAgICAgICAgIHsiYnViYmxpbmdNb3VzZUV2ZW50cyI6IHRydWUsICJjb2xvciI6ICJiIiwgImRhc2hBcnJheSI6IG51bGwsICJkYXNoT2Zmc2V0IjogbnVsbCwgImZpbGwiOiB0cnVlLCAiZmlsbENvbG9yIjogImJsdWUiLCAiZmlsbE9wYWNpdHkiOiAwLjcsICJmaWxsUnVsZSI6ICJldmVub2RkIiwgImxpbmVDYXAiOiAicm91bmQiLCAibGluZUpvaW4iOiAicm91bmQiLCAib3BhY2l0eSI6IDEuMCwgInJhZGl1cyI6IDE0LjkyNywgInN0cm9rZSI6IHRydWUsICJ3ZWlnaHQiOiAzfQogICAgICAgICAgICApLmFkZFRvKG1hcF84ZGRmODgxMGU4NWE0MmU2YjA4ODgyZTc3Yjc2YTQzNSk7CiAgICAgICAgCiAgICAKICAgICAgICB2YXIgcG9wdXBfY2U4ZTcwYWYxYzk2NDRhNzkzM2YwZDBjZmQ2YTA2MTQgPSBMLnBvcHVwKHsibWF4V2lkdGgiOiAiMTAwJSJ9KTsKCiAgICAgICAgCiAgICAgICAgICAgIHZhciBodG1sXzQ4OWU0NmQ4N2NlOTQ2MTc5ZDMyYjljNDMyNjk0Y2M0ID0gJChgPGRpdiBpZD0iaHRtbF80ODllNDZkODdjZTk0NjE3OWQzMmI5YzQzMjY5NGNjNCIgc3R5bGU9IndpZHRoOiAxMDAuMCU7IGhlaWdodDogMTAwLjAlOyI+QXVzdHJhbGlhOjAuNzQ2MzU8L2Rpdj5gKVswXTsKICAgICAgICAgICAgcG9wdXBfY2U4ZTcwYWYxYzk2NDRhNzkzM2YwZDBjZmQ2YTA2MTQuc2V0Q29udGVudChodG1sXzQ4OWU0NmQ4N2NlOTQ2MTc5ZDMyYjljNDMyNjk0Y2M0KTsKICAgICAgICAKCiAgICAgICAgY2lyY2xlX21hcmtlcl8yNzk3NTg3NWNjZmY0MTI0YjA5MzQ3MTg4MmE4NTE1Ny5iaW5kUG9wdXAocG9wdXBfY2U4ZTcwYWYxYzk2NDRhNzkzM2YwZDBjZmQ2YTA2MTQpCiAgICAgICAgOwoKICAgICAgICAKICAgIAogICAgCiAgICAgICAgICAgIHZhciBjaXJjbGVfbWFya2VyXzBiNmI5ZDZkMDMwNTQwYWRiOTkwODU2ODA5NTk2NTVlID0gTC5jaXJjbGVNYXJrZXIoCiAgICAgICAgICAgICAgICBbLTMyLjMzNCwgMTE1LjgxMjAwMDAwMDAwMDAxXSwKICAgICAgICAgICAgICAgIHsiYnViYmxpbmdNb3VzZUV2ZW50cyI6IHRydWUsICJjb2xvciI6ICJiIiwgImRhc2hBcnJheSI6IG51bGwsICJkYXNoT2Zmc2V0IjogbnVsbCwgImZpbGwiOiB0cnVlLCAiZmlsbENvbG9yIjogImJsdWUiLCAiZmlsbE9wYWNpdHkiOiAwLjcsICJmaWxsUnVsZSI6ICJldmVub2RkIiwgImxpbmVDYXAiOiAicm91bmQiLCAibGluZUpvaW4iOiAicm91bmQiLCAib3BhY2l0eSI6IDEuMCwgInJhZGl1cyI6IDEzLjE5Mzk5OTk5OTk5OTk5OSwgInN0cm9rZSI6IHRydWUsICJ3ZWlnaHQiOiAzfQogICAgICAgICAgICApLmFkZFRvKG1hcF84ZGRmODgxMGU4NWE0MmU2YjA4ODgyZTc3Yjc2YTQzNSk7CiAgICAgICAgCiAgICAKICAgICAgICB2YXIgcG9wdXBfNDE5Mzg0NDllNjRmNDcyOGI1ZWUyNDE4YzNjMzkxNTggPSBMLnBvcHVwKHsibWF4V2lkdGgiOiAiMTAwJSJ9KTsKCiAgICAgICAgCiAgICAgICAgICAgIHZhciBodG1sX2EzZThjMDhlMmZiZTQ2MWY4MWMzNDAxMDYzN2IyOTNlID0gJChgPGRpdiBpZD0iaHRtbF9hM2U4YzA4ZTJmYmU0NjFmODFjMzQwMTA2MzdiMjkzZSIgc3R5bGU9IndpZHRoOiAxMDAuMCU7IGhlaWdodDogMTAwLjAlOyI+QmFsZGl2aXMsIFdlc3Rlcm4gQXVzdHJhbGlhOjAuNjU5NzwvZGl2PmApWzBdOwogICAgICAgICAgICBwb3B1cF80MTkzODQ0OWU2NGY0NzI4YjVlZTI0MThjM2MzOTE1OC5zZXRDb250ZW50KGh0bWxfYTNlOGMwOGUyZmJlNDYxZjgxYzM0MDEwNjM3YjI5M2UpOwogICAgICAgIAoKICAgICAgICBjaXJjbGVfbWFya2VyXzBiNmI5ZDZkMDMwNTQwYWRiOTkwODU2ODA5NTk2NTVlLmJpbmRQb3B1cChwb3B1cF80MTkzODQ0OWU2NGY0NzI4YjVlZTI0MThjM2MzOTE1OCkKICAgICAgICA7CgogICAgICAgIAogICAgCiAgICAKICAgICAgICAgICAgdmFyIGNpcmNsZV9tYXJrZXJfYThlOTMzZTE1YThjNDYxMDkzOWZiMGYzZTgxYWU4MzIgPSBMLmNpcmNsZU1hcmtlcigKICAgICAgICAgICAgICAgIFstMjguODM3OTY1Mzk5OTk5OTk4LCAxNTMuNTYyOTA2Njk5OTk5OThdLAogICAgICAgICAgICAgICAgeyJidWJibGluZ01vdXNlRXZlbnRzIjogdHJ1ZSwgImNvbG9yIjogImIiLCAiZGFzaEFycmF5IjogbnVsbCwgImRhc2hPZmZzZXQiOiBudWxsLCAiZmlsbCI6IHRydWUsICJmaWxsQ29sb3IiOiAiYmx1ZSIsICJmaWxsT3BhY2l0eSI6IDAuNywgImZpbGxSdWxlIjogImV2ZW5vZGQiLCAibGluZUNhcCI6ICJyb3VuZCIsICJsaW5lSm9pbiI6ICJyb3VuZCIsICJvcGFjaXR5IjogMS4wLCAicmFkaXVzIjogMTUuMTU4MDAwMDAwMDAwMDAxLCAic3Ryb2tlIjogdHJ1ZSwgIndlaWdodCI6IDN9CiAgICAgICAgICAgICkuYWRkVG8obWFwXzhkZGY4ODEwZTg1YTQyZTZiMDg4ODJlNzdiNzZhNDM1KTsKICAgICAgICAKICAgIAogICAgICAgIHZhciBwb3B1cF9iNmQwNTYxNjc3OWQ0NjYzOTNhZmFjZGVmNzljODUyZSA9IEwucG9wdXAoeyJtYXhXaWR0aCI6ICIxMDAlIn0pOwoKICAgICAgICAKICAgICAgICAgICAgdmFyIGh0bWxfYzYxZGY1YTllZjcyNGU5YWFmMDcxNWM0MzAzODFiNTQgPSAkKGA8ZGl2IGlkPSJodG1sX2M2MWRmNWE5ZWY3MjRlOWFhZjA3MTVjNDMwMzgxYjU0IiBzdHlsZT0id2lkdGg6IDEwMC4wJTsgaGVpZ2h0OiAxMDAuMCU7Ij5CYWxsaW5hLCBOZXcgU291dGggV2FsZXM6MC43NTc5PC9kaXY+YClbMF07CiAgICAgICAgICAgIHBvcHVwX2I2ZDA1NjE2Nzc5ZDQ2NjM5M2FmYWNkZWY3OWM4NTJlLnNldENvbnRlbnQoaHRtbF9jNjFkZjVhOWVmNzI0ZTlhYWYwNzE1YzQzMDM4MWI1NCk7CiAgICAgICAgCgogICAgICAgIGNpcmNsZV9tYXJrZXJfYThlOTMzZTE1YThjNDYxMDkzOWZiMGYzZTgxYWU4MzIuYmluZFBvcHVwKHBvcHVwX2I2ZDA1NjE2Nzc5ZDQ2NjM5M2FmYWNkZWY3OWM4NTJlKQogICAgICAgIDsKCiAgICAgICAgCiAgICAKICAgIAogICAgICAgICAgICB2YXIgY2lyY2xlX21hcmtlcl84ODBmNTJmMzIwNjY0YzkzYTQ3ZTY2Nzk4MTc3N2MzOCA9IEwuY2lyY2xlTWFya2VyKAogICAgICAgICAgICAgICAgWzU0LjU5NzI4NTAwMDAwMDAxLCAtNS45MzAxMl0sCiAgICAgICAgICAgICAgICB7ImJ1YmJsaW5nTW91c2VFdmVudHMiOiB0cnVlLCAiY29sb3IiOiAiYiIsICJkYXNoQXJyYXkiOiBudWxsLCAiZGFzaE9mZnNldCI6IG51bGwsICJmaWxsIjogdHJ1ZSwgImZpbGxDb2xvciI6ICJibHVlIiwgImZpbGxPcGFjaXR5IjogMC43LCAiZmlsbFJ1bGUiOiAiZXZlbm9kZCIsICJsaW5lQ2FwIjogInJvdW5kIiwgImxpbmVKb2luIjogInJvdW5kIiwgIm9wYWNpdHkiOiAxLjAsICJyYWRpdXMiOiAxMi43MzgsICJzdHJva2UiOiB0cnVlLCAid2VpZ2h0IjogM30KICAgICAgICAgICAgKS5hZGRUbyhtYXBfOGRkZjg4MTBlODVhNDJlNmIwODg4MmU3N2I3NmE0MzUpOwogICAgICAgIAogICAgCiAgICAgICAgdmFyIHBvcHVwXzkxYjMxZmZjZjU3YjQwZTBiYzU5NmIyNGI4OTQxODdmID0gTC5wb3B1cCh7Im1heFdpZHRoIjogIjEwMCUifSk7CgogICAgICAgIAogICAgICAgICAgICB2YXIgaHRtbF9hY2M3ZTE2ZWIwMzI0YjA2YmNhZDdmMzQ2MjE0ODA3YyA9ICQoYDxkaXYgaWQ9Imh0bWxfYWNjN2UxNmViMDMyNGIwNmJjYWQ3ZjM0NjIxNDgwN2MiIHN0eWxlPSJ3aWR0aDogMTAwLjAlOyBoZWlnaHQ6IDEwMC4wJTsiPkJlbGZhc3QsIE5vcnRoZXJuIElyZWxhbmQ6MC42MzY5PC9kaXY+YClbMF07CiAgICAgICAgICAgIHBvcHVwXzkxYjMxZmZjZjU3YjQwZTBiYzU5NmIyNGI4OTQxODdmLnNldENvbnRlbnQoaHRtbF9hY2M3ZTE2ZWIwMzI0YjA2YmNhZDdmMzQ2MjE0ODA3Yyk7CiAgICAgICAgCgogICAgICAgIGNpcmNsZV9tYXJrZXJfODgwZjUyZjMyMDY2NGM5M2E0N2U2Njc5ODE3NzdjMzguYmluZFBvcHVwKHBvcHVwXzkxYjMxZmZjZjU3YjQwZTBiYzU5NmIyNGI4OTQxODdmKQogICAgICAgIDsKCiAgICAgICAgCiAgICAKICAgIAogICAgICAgICAgICB2YXIgY2lyY2xlX21hcmtlcl8yZGFkYzVmNWExYTM0OGUxYjU3ZjEyYjBmZGFkZjk3MyA9IEwuY2lyY2xlTWFya2VyKAogICAgICAgICAgICAgICAgWy0zNi43NTcwMTU3MDAwMDAwMDQsIDE0NC4yNzkzOTA2XSwKICAgICAgICAgICAgICAgIHsiYnViYmxpbmdNb3VzZUV2ZW50cyI6IHRydWUsICJjb2xvciI6ICJiIiwgImRhc2hBcnJheSI6IG51bGwsICJkYXNoT2Zmc2V0IjogbnVsbCwgImZpbGwiOiB0cnVlLCAiZmlsbENvbG9yIjogImJsdWUiLCAiZmlsbE9wYWNpdHkiOiAwLjcsICJmaWxsUnVsZSI6ICJldmVub2RkIiwgImxpbmVDYXAiOiAicm91bmQiLCAibGluZUpvaW4iOiAicm91bmQiLCAib3BhY2l0eSI6IDEuMCwgInJhZGl1cyI6IDguMjI3LCAic3Ryb2tlIjogdHJ1ZSwgIndlaWdodCI6IDN9CiAgICAgICAgICAgICkuYWRkVG8obWFwXzhkZGY4ODEwZTg1YTQyZTZiMDg4ODJlNzdiNzZhNDM1KTsKICAgICAgICAKICAgIAogICAgICAgIHZhciBwb3B1cF9kNjA4OTk2YjI5OTU0MDgxODBmYzk5NWM0OWE5MjlkYiA9IEwucG9wdXAoeyJtYXhXaWR0aCI6ICIxMDAlIn0pOwoKICAgICAgICAKICAgICAgICAgICAgdmFyIGh0bWxfNzhkMGVlYzc0NmI2NDA5Nzg2Zjk5MDIyY2Y4Mjg3YzcgPSAkKGA8ZGl2IGlkPSJodG1sXzc4ZDBlZWM3NDZiNjQwOTc4NmY5OTAyMmNmODI4N2M3IiBzdHlsZT0id2lkdGg6IDEwMC4wJTsgaGVpZ2h0OiAxMDAuMCU7Ij5CZW5kaWdvLCBWaWN0b3JpYTowLjQxMTM1PC9kaXY+YClbMF07CiAgICAgICAgICAgIHBvcHVwX2Q2MDg5OTZiMjk5NTQwODE4MGZjOTk1YzQ5YTkyOWRiLnNldENvbnRlbnQoaHRtbF83OGQwZWVjNzQ2YjY0MDk3ODZmOTkwMjJjZjgyODdjNyk7CiAgICAgICAgCgogICAgICAgIGNpcmNsZV9tYXJrZXJfMmRhZGM1ZjVhMWEzNDhlMWI1N2YxMmIwZmRhZGY5NzMuYmluZFBvcHVwKHBvcHVwX2Q2MDg5OTZiMjk5NTQwODE4MGZjOTk1YzQ5YTkyOWRiKQogICAgICAgIDsKCiAgICAgICAgCiAgICAKICAgIAogICAgICAgICAgICB2YXIgY2lyY2xlX21hcmtlcl84N2E3MTlhNWZmYTg0NGYxOGQ3ZTFjMWEyOTNhM2VjYiA9IEwuY2lyY2xlTWFya2VyKAogICAgICAgICAgICAgICAgWy0yNy40NzU3NDU2LCAxNTMuMDMwMDAzNjk5OTk5OThdLAogICAgICAgICAgICAgICAgeyJidWJibGluZ01vdXNlRXZlbnRzIjogdHJ1ZSwgImNvbG9yIjogImIiLCAiZGFzaEFycmF5IjogbnVsbCwgImRhc2hPZmZzZXQiOiBudWxsLCAiZmlsbCI6IHRydWUsICJmaWxsQ29sb3IiOiAiYmx1ZSIsICJmaWxsT3BhY2l0eSI6IDAuNywgImZpbGxSdWxlIjogImV2ZW5vZGQiLCAibGluZUNhcCI6ICJyb3VuZCIsICJsaW5lSm9pbiI6ICJyb3VuZCIsICJvcGFjaXR5IjogMS4wLCAicmFkaXVzIjogMTYuODg0LCAic3Ryb2tlIjogdHJ1ZSwgIndlaWdodCI6IDN9CiAgICAgICAgICAgICkuYWRkVG8obWFwXzhkZGY4ODEwZTg1YTQyZTZiMDg4ODJlNzdiNzZhNDM1KTsKICAgICAgICAKICAgIAogICAgICAgIHZhciBwb3B1cF8xNGQ4MWMxMTlkOWI0OTBhODQ3YzkxZDNmYjY3OWEwYiA9IEwucG9wdXAoeyJtYXhXaWR0aCI6ICIxMDAlIn0pOwoKICAgICAgICAKICAgICAgICAgICAgdmFyIGh0bWxfMzFkYTUzYmNhNjZlNDgwZjlmMTcxMmM3MGQxYmNjMGIgPSAkKGA8ZGl2IGlkPSJodG1sXzMxZGE1M2JjYTY2ZTQ4MGY5ZjE3MTJjNzBkMWJjYzBiIiBzdHlsZT0id2lkdGg6IDEwMC4wJTsgaGVpZ2h0OiAxMDAuMCU7Ij5CcmlzYmFuZSBDaXR5LCBCcmlzYmFuZTowLjg0NDI8L2Rpdj5gKVswXTsKICAgICAgICAgICAgcG9wdXBfMTRkODFjMTE5ZDliNDkwYTg0N2M5MWQzZmI2NzlhMGIuc2V0Q29udGVudChodG1sXzMxZGE1M2JjYTY2ZTQ4MGY5ZjE3MTJjNzBkMWJjYzBiKTsKICAgICAgICAKCiAgICAgICAgY2lyY2xlX21hcmtlcl84N2E3MTlhNWZmYTg0NGYxOGQ3ZTFjMWEyOTNhM2VjYi5iaW5kUG9wdXAocG9wdXBfMTRkODFjMTE5ZDliNDkwYTg0N2M5MWQzZmI2NzlhMGIpCiAgICAgICAgOwoKICAgICAgICAKICAgIAogICAgCiAgICAgICAgICAgIHZhciBjaXJjbGVfbWFya2VyX2VmZTZkMzQ5NTI1YTRjOGM4MDkzZTdiZDliY2VjNjAwID0gTC5jaXJjbGVNYXJrZXIoCiAgICAgICAgICAgICAgICBbLTI3LjQ2OTc3MDY5OTk5OTk5OCwgMTUzLjAyNTEyMzVdLAogICAgICAgICAgICAgICAgeyJidWJibGluZ01vdXNlRXZlbnRzIjogdHJ1ZSwgImNvbG9yIjogImIiLCAiZGFzaEFycmF5IjogbnVsbCwgImRhc2hPZmZzZXQiOiBudWxsLCAiZmlsbCI6IHRydWUsICJmaWxsQ29sb3IiOiAiYmx1ZSIsICJmaWxsT3BhY2l0eSI6IDAuNywgImZpbGxSdWxlIjogImV2ZW5vZGQiLCAibGluZUNhcCI6ICJyb3VuZCIsICJsaW5lSm9pbiI6ICJyb3VuZCIsICJvcGFjaXR5IjogMS4wLCAicmFkaXVzIjogNy4yMjE4MzYwNjU1NzM3NzIsICJzdHJva2UiOiB0cnVlLCAid2VpZ2h0IjogM30KICAgICAgICAgICAgKS5hZGRUbyhtYXBfOGRkZjg4MTBlODVhNDJlNmIwODg4MmU3N2I3NmE0MzUpOwogICAgICAgIAogICAgCiAgICAgICAgdmFyIHBvcHVwX2Y5NDlkZjI2ZTg3MDQyZjhiNDM5N2RlYmU0NmY0NjdhID0gTC5wb3B1cCh7Im1heFdpZHRoIjogIjEwMCUifSk7CgogICAgICAgIAogICAgICAgICAgICB2YXIgaHRtbF82YTAzNmU0MWY2OTA0ZDI0YmNlOWRmYjliNzFkNzQ5MSA9ICQoYDxkaXYgaWQ9Imh0bWxfNmEwMzZlNDFmNjkwNGQyNGJjZTlkZmI5YjcxZDc0OTEiIHN0eWxlPSJ3aWR0aDogMTAwLjAlOyBoZWlnaHQ6IDEwMC4wJTsiPkJyaXNiYW5lLCBRdWVlbnNsYW5kOjAuMzYxMDkxODAzMjc4Njg4NjwvZGl2PmApWzBdOwogICAgICAgICAgICBwb3B1cF9mOTQ5ZGYyNmU4NzA0MmY4YjQzOTdkZWJlNDZmNDY3YS5zZXRDb250ZW50KGh0bWxfNmEwMzZlNDFmNjkwNGQyNGJjZTlkZmI5YjcxZDc0OTEpOwogICAgICAgIAoKICAgICAgICBjaXJjbGVfbWFya2VyX2VmZTZkMzQ5NTI1YTRjOGM4MDkzZTdiZDliY2VjNjAwLmJpbmRQb3B1cChwb3B1cF9mOTQ5ZGYyNmU4NzA0MmY4YjQzOTdkZWJlNDZmNDY3YSkKICAgICAgICA7CgogICAgICAgIAogICAgCiAgICAKICAgICAgICAgICAgdmFyIGNpcmNsZV9tYXJrZXJfYjQwZWYyNGE3NTA3NGNjNmE5YzQwZmI1NWM2ZjlmOTcgPSBMLmNpcmNsZU1hcmtlcigKICAgICAgICAgICAgICAgIFstMzcuMjExMDUyOCwgMTQ1LjA2MzA4OV0sCiAgICAgICAgICAgICAgICB7ImJ1YmJsaW5nTW91c2VFdmVudHMiOiB0cnVlLCAiY29sb3IiOiAiYiIsICJkYXNoQXJyYXkiOiBudWxsLCAiZGFzaE9mZnNldCI6IG51bGwsICJmaWxsIjogdHJ1ZSwgImZpbGxDb2xvciI6ICJibHVlIiwgImZpbGxPcGFjaXR5IjogMC43LCAiZmlsbFJ1bGUiOiAiZXZlbm9kZCIsICJsaW5lQ2FwIjogInJvdW5kIiwgImxpbmVKb2luIjogInJvdW5kIiwgIm9wYWNpdHkiOiAxLjAsICJyYWRpdXMiOiA5Ljg3OCwgInN0cm9rZSI6IHRydWUsICJ3ZWlnaHQiOiAzfQogICAgICAgICAgICApLmFkZFRvKG1hcF84ZGRmODgxMGU4NWE0MmU2YjA4ODgyZTc3Yjc2YTQzNSk7CiAgICAgICAgCiAgICAKICAgICAgICB2YXIgcG9wdXBfY2Q2ZmM5MDJkMGYyNGVhYjkyYmFjNTJjNmUxODQyZTEgPSBMLnBvcHVwKHsibWF4V2lkdGgiOiAiMTAwJSJ9KTsKCiAgICAgICAgCiAgICAgICAgICAgIHZhciBodG1sXzliMzdhMTJhZDUyMDRlYzY5Y2YwZmVmODgxNzA4ZTUwID0gJChgPGRpdiBpZD0iaHRtbF85YjM3YTEyYWQ1MjA0ZWM2OWNmMGZlZjg4MTcwOGU1MCIgc3R5bGU9IndpZHRoOiAxMDAuMCU7IGhlaWdodDogMTAwLjAlOyI+QnJvYWRmb3JkLCBWaWN0b3JpYTowLjQ5Mzk8L2Rpdj5gKVswXTsKICAgICAgICAgICAgcG9wdXBfY2Q2ZmM5MDJkMGYyNGVhYjkyYmFjNTJjNmUxODQyZTEuc2V0Q29udGVudChodG1sXzliMzdhMTJhZDUyMDRlYzY5Y2YwZmVmODgxNzA4ZTUwKTsKICAgICAgICAKCiAgICAgICAgY2lyY2xlX21hcmtlcl9iNDBlZjI0YTc1MDc0Y2M2YTljNDBmYjU1YzZmOWY5Ny5iaW5kUG9wdXAocG9wdXBfY2Q2ZmM5MDJkMGYyNGVhYjkyYmFjNTJjNmUxODQyZTEpCiAgICAgICAgOwoKICAgICAgICAKICAgIAogICAgCiAgICAgICAgICAgIHZhciBjaXJjbGVfbWFya2VyX2IxMTlhYzQ4Mjg3YzRkNGFiMjc2MTdkZWQ0MDcxZWQyID0gTC5jaXJjbGVNYXJrZXIoCiAgICAgICAgICAgICAgICBbLTE3Ljk2MTQzMzYsIDEyMi4yMzU4NTIwMDAwMDAwMV0sCiAgICAgICAgICAgICAgICB7ImJ1YmJsaW5nTW91c2VFdmVudHMiOiB0cnVlLCAiY29sb3IiOiAiYiIsICJkYXNoQXJyYXkiOiBudWxsLCAiZGFzaE9mZnNldCI6IG51bGwsICJmaWxsIjogdHJ1ZSwgImZpbGxDb2xvciI6ICJyZWQiLCAiZmlsbE9wYWNpdHkiOiAwLjcsICJmaWxsUnVsZSI6ICJldmVub2RkIiwgImxpbmVDYXAiOiAicm91bmQiLCAibGluZUpvaW4iOiAicm91bmQiLCAib3BhY2l0eSI6IDEuMCwgInJhZGl1cyI6IDAuOTgyMDAwMDAwMDAwMDAwNywgInN0cm9rZSI6IHRydWUsICJ3ZWlnaHQiOiAzfQogICAgICAgICAgICApLmFkZFRvKG1hcF84ZGRmODgxMGU4NWE0MmU2YjA4ODgyZTc3Yjc2YTQzNSk7CiAgICAgICAgCiAgICAKICAgICAgICB2YXIgcG9wdXBfMmM2ZjI1MTVjNzgwNDNhZDljYjY3MWY2OTk0OGQzYmEgPSBMLnBvcHVwKHsibWF4V2lkdGgiOiAiMTAwJSJ9KTsKCiAgICAgICAgCiAgICAgICAgICAgIHZhciBodG1sX2VhZWFmN2E1NDI4YzQ0ODRiZTg3ODg4ZjUyODgzNmQ0ID0gJChgPGRpdiBpZD0iaHRtbF9lYWVhZjdhNTQyOGM0NDg0YmU4Nzg4OGY1Mjg4MzZkNCIgc3R5bGU9IndpZHRoOiAxMDAuMCU7IGhlaWdodDogMTAwLjAlOyI+QnJvb21lLCBXZXN0ZXJuIEF1c3RyYWxpYTotMC4wNDkxMDAwMDAwMDAwMDAwMzwvZGl2PmApWzBdOwogICAgICAgICAgICBwb3B1cF8yYzZmMjUxNWM3ODA0M2FkOWNiNjcxZjY5OTQ4ZDNiYS5zZXRDb250ZW50KGh0bWxfZWFlYWY3YTU0MjhjNDQ4NGJlODc4ODhmNTI4ODM2ZDQpOwogICAgICAgIAoKICAgICAgICBjaXJjbGVfbWFya2VyX2IxMTlhYzQ4Mjg3YzRkNGFiMjc2MTdkZWQ0MDcxZWQyLmJpbmRQb3B1cChwb3B1cF8yYzZmMjUxNWM3ODA0M2FkOWNiNjcxZjY5OTQ4ZDNiYSkKICAgICAgICA7CgogICAgICAgIAogICAgCiAgICAKICAgICAgICAgICAgdmFyIGNpcmNsZV9tYXJrZXJfZDg5NTBlNmM2NWNiNDA3NTgzMWUxYzk5MGU4MmM2YzEgPSBMLmNpcmNsZU1hcmtlcigKICAgICAgICAgICAgICAgIFstMzMuMzI1NjM1OTk5OTk5OTk2LCAxMTUuNjM5NjQ5NF0sCiAgICAgICAgICAgICAgICB7ImJ1YmJsaW5nTW91c2VFdmVudHMiOiB0cnVlLCAiY29sb3IiOiAiYiIsICJkYXNoQXJyYXkiOiBudWxsLCAiZGFzaE9mZnNldCI6IG51bGwsICJmaWxsIjogdHJ1ZSwgImZpbGxDb2xvciI6ICJibHVlIiwgImZpbGxPcGFjaXR5IjogMC43LCAiZmlsbFJ1bGUiOiAiZXZlbm9kZCIsICJsaW5lQ2FwIjogInJvdW5kIiwgImxpbmVKb2luIjogInJvdW5kIiwgIm9wYWNpdHkiOiAxLjAsICJyYWRpdXMiOiAxMy40MSwgInN0cm9rZSI6IHRydWUsICJ3ZWlnaHQiOiAzfQogICAgICAgICAgICApLmFkZFRvKG1hcF84ZGRmODgxMGU4NWE0MmU2YjA4ODgyZTc3Yjc2YTQzNSk7CiAgICAgICAgCiAgICAKICAgICAgICB2YXIgcG9wdXBfOGMzYTc1MGUwNjBjNDY0NTk1NjUwODcyYWY3ZTg1YTggPSBMLnBvcHVwKHsibWF4V2lkdGgiOiAiMTAwJSJ9KTsKCiAgICAgICAgCiAgICAgICAgICAgIHZhciBodG1sX2IxZjVlOTJmYzhmOTQzZjBhNzBmOWQ1ZTkzYWQxMzFhID0gJChgPGRpdiBpZD0iaHRtbF9iMWY1ZTkyZmM4Zjk0M2YwYTcwZjlkNWU5M2FkMTMxYSIgc3R5bGU9IndpZHRoOiAxMDAuMCU7IGhlaWdodDogMTAwLjAlOyI+QnVuYnVyeSwgV2VzdGVybiBBdXN0cmFsaWE6MC42NzA1PC9kaXY+YClbMF07CiAgICAgICAgICAgIHBvcHVwXzhjM2E3NTBlMDYwYzQ2NDU5NTY1MDg3MmFmN2U4NWE4LnNldENvbnRlbnQoaHRtbF9iMWY1ZTkyZmM4Zjk0M2YwYTcwZjlkNWU5M2FkMTMxYSk7CiAgICAgICAgCgogICAgICAgIGNpcmNsZV9tYXJrZXJfZDg5NTBlNmM2NWNiNDA3NTgzMWUxYzk5MGU4MmM2YzEuYmluZFBvcHVwKHBvcHVwXzhjM2E3NTBlMDYwYzQ2NDU5NTY1MDg3MmFmN2U4NWE4KQogICAgICAgIDsKCiAgICAgICAgCiAgICAKICAgIAogICAgICAgICAgICB2YXIgY2lyY2xlX21hcmtlcl80MzQ1MGE1ZWJiN2Y0ODY5YTQ0MGNhMWQ4YjUyNjY0NCA9IEwuY2lyY2xlTWFya2VyKAogICAgICAgICAgICAgICAgWy0yOC42NDczNjcxMDAwMDAwMDQsIDE1My42MDE5NzddLAogICAgICAgICAgICAgICAgeyJidWJibGluZ01vdXNlRXZlbnRzIjogdHJ1ZSwgImNvbG9yIjogImIiLCAiZGFzaEFycmF5IjogbnVsbCwgImRhc2hPZmZzZXQiOiBudWxsLCAiZmlsbCI6IHRydWUsICJmaWxsQ29sb3IiOiAiYmx1ZSIsICJmaWxsT3BhY2l0eSI6IDAuNywgImZpbGxSdWxlIjogImV2ZW5vZGQiLCAibGluZUNhcCI6ICJyb3VuZCIsICJsaW5lSm9pbiI6ICJyb3VuZCIsICJvcGFjaXR5IjogMS4wLCAicmFkaXVzIjogMTIuNDk4MDAwMDAwMDAwMDAxLCAic3Ryb2tlIjogdHJ1ZSwgIndlaWdodCI6IDN9CiAgICAgICAgICAgICkuYWRkVG8obWFwXzhkZGY4ODEwZTg1YTQyZTZiMDg4ODJlNzdiNzZhNDM1KTsKICAgICAgICAKICAgIAogICAgICAgIHZhciBwb3B1cF9mOWVhNTJmYWQ2ZDM0N2EwYjJmYmU0ZWYwMWViYmM3OSA9IEwucG9wdXAoeyJtYXhXaWR0aCI6ICIxMDAlIn0pOwoKICAgICAgICAKICAgICAgICAgICAgdmFyIGh0bWxfNDBmMGI1Yzk3YjU3NDcyNDlkYWQyMjgwZWU5MTY0OTYgPSAkKGA8ZGl2IGlkPSJodG1sXzQwZjBiNWM5N2I1NzQ3MjQ5ZGFkMjI4MGVlOTE2NDk2IiBzdHlsZT0id2lkdGg6IDEwMC4wJTsgaGVpZ2h0OiAxMDAuMCU7Ij5CeXJvbiBCYXksIE5ldyBTb3V0aCBXYWxlczowLjYyNDk8L2Rpdj5gKVswXTsKICAgICAgICAgICAgcG9wdXBfZjllYTUyZmFkNmQzNDdhMGIyZmJlNGVmMDFlYmJjNzkuc2V0Q29udGVudChodG1sXzQwZjBiNWM5N2I1NzQ3MjQ5ZGFkMjI4MGVlOTE2NDk2KTsKICAgICAgICAKCiAgICAgICAgY2lyY2xlX21hcmtlcl80MzQ1MGE1ZWJiN2Y0ODY5YTQ0MGNhMWQ4YjUyNjY0NC5iaW5kUG9wdXAocG9wdXBfZjllYTUyZmFkNmQzNDdhMGIyZmJlNGVmMDFlYmJjNzkpCiAgICAgICAgOwoKICAgICAgICAKICAgIAogICAgCiAgICAgICAgICAgIHZhciBjaXJjbGVfbWFya2VyXzljYWQwNmRkMDk1ZjQ0YjJiZWY1OGE5YjMwNjNlNWNhID0gTC5jaXJjbGVNYXJrZXIoCiAgICAgICAgICAgICAgICBbLTE2LjkxODU1MTQsIDE0NS43NzgwNTQ4XSwKICAgICAgICAgICAgICAgIHsiYnViYmxpbmdNb3VzZUV2ZW50cyI6IHRydWUsICJjb2xvciI6ICJiIiwgImRhc2hBcnJheSI6IG51bGwsICJkYXNoT2Zmc2V0IjogbnVsbCwgImZpbGwiOiB0cnVlLCAiZmlsbENvbG9yIjogImJsdWUiLCAiZmlsbE9wYWNpdHkiOiAwLjcsICJmaWxsUnVsZSI6ICJldmVub2RkIiwgImxpbmVDYXAiOiAicm91bmQiLCAibGluZUpvaW4iOiAicm91bmQiLCAib3BhY2l0eSI6IDEuMCwgInJhZGl1cyI6IDMuMjkyNjY2NjY2NjY2NjY2NCwgInN0cm9rZSI6IHRydWUsICJ3ZWlnaHQiOiAzfQogICAgICAgICAgICApLmFkZFRvKG1hcF84ZGRmODgxMGU4NWE0MmU2YjA4ODgyZTc3Yjc2YTQzNSk7CiAgICAgICAgCiAgICAKICAgICAgICB2YXIgcG9wdXBfMjAwMjI0YjBiMGQ1NGM1NWIxYjY5MWE0YzY2ZDM4NjIgPSBMLnBvcHVwKHsibWF4V2lkdGgiOiAiMTAwJSJ9KTsKCiAgICAgICAgCiAgICAgICAgICAgIHZhciBodG1sX2M1NDYyM2I3NWZmYTRiZTQ5YjlhOGNmZjg3MWJkM2I3ID0gJChgPGRpdiBpZD0iaHRtbF9jNTQ2MjNiNzVmZmE0YmU0OWI5YThjZmY4NzFiZDNiNyIgc3R5bGU9IndpZHRoOiAxMDAuMCU7IGhlaWdodDogMTAwLjAlOyI+Q2Fpcm5zLCBRdWVlbnNsYW5kOjAuMTY0NjMzMzMzMzMzMzMzMzM8L2Rpdj5gKVswXTsKICAgICAgICAgICAgcG9wdXBfMjAwMjI0YjBiMGQ1NGM1NWIxYjY5MWE0YzY2ZDM4NjIuc2V0Q29udGVudChodG1sX2M1NDYyM2I3NWZmYTRiZTQ5YjlhOGNmZjg3MWJkM2I3KTsKICAgICAgICAKCiAgICAgICAgY2lyY2xlX21hcmtlcl85Y2FkMDZkZDA5NWY0NGIyYmVmNThhOWIzMDYzZTVjYS5iaW5kUG9wdXAocG9wdXBfMjAwMjI0YjBiMGQ1NGM1NWIxYjY5MWE0YzY2ZDM4NjIpCiAgICAgICAgOwoKICAgICAgICAKICAgIAogICAgCiAgICAgICAgICAgIHZhciBjaXJjbGVfbWFya2VyXzZjYWEyMzQzZmJkODQ0MGU4OGZmZTk1ZTUxYjVkOWIyID0gTC5jaXJjbGVNYXJrZXIoCiAgICAgICAgICAgICAgICBbNTEuNTM5MDI2MSwgLTAuMTQyNTUxNl0sCiAgICAgICAgICAgICAgICB7ImJ1YmJsaW5nTW91c2VFdmVudHMiOiB0cnVlLCAiY29sb3IiOiAiYiIsICJkYXNoQXJyYXkiOiBudWxsLCAiZGFzaE9mZnNldCI6IG51bGwsICJmaWxsIjogdHJ1ZSwgImZpbGxDb2xvciI6ICJibHVlIiwgImZpbGxPcGFjaXR5IjogMC43LCAiZmlsbFJ1bGUiOiAiZXZlbm9kZCIsICJsaW5lQ2FwIjogInJvdW5kIiwgImxpbmVKb2luIjogInJvdW5kIiwgIm9wYWNpdHkiOiAxLjAsICJyYWRpdXMiOiA4LjAzOCwgInN0cm9rZSI6IHRydWUsICJ3ZWlnaHQiOiAzfQogICAgICAgICAgICApLmFkZFRvKG1hcF84ZGRmODgxMGU4NWE0MmU2YjA4ODgyZTc3Yjc2YTQzNSk7CiAgICAgICAgCiAgICAKICAgICAgICB2YXIgcG9wdXBfZGRkOWY3YjdkNDhmNDYzOThkNGE5YTQ5MzAyZTI3NGMgPSBMLnBvcHVwKHsibWF4V2lkdGgiOiAiMTAwJSJ9KTsKCiAgICAgICAgCiAgICAgICAgICAgIHZhciBodG1sXzhjZmE0YjAxM2Q0NDQ0ZDU4ZjIxOTQwMjkwYjljNzgzID0gJChgPGRpdiBpZD0iaHRtbF84Y2ZhNGIwMTNkNDQ0NGQ1OGYyMTk0MDI5MGI5Yzc4MyIgc3R5bGU9IndpZHRoOiAxMDAuMCU7IGhlaWdodDogMTAwLjAlOyI+Q2FtZGVuIFRvd24sIExvbmRvbjowLjQwMTk8L2Rpdj5gKVswXTsKICAgICAgICAgICAgcG9wdXBfZGRkOWY3YjdkNDhmNDYzOThkNGE5YTQ5MzAyZTI3NGMuc2V0Q29udGVudChodG1sXzhjZmE0YjAxM2Q0NDQ0ZDU4ZjIxOTQwMjkwYjljNzgzKTsKICAgICAgICAKCiAgICAgICAgY2lyY2xlX21hcmtlcl82Y2FhMjM0M2ZiZDg0NDBlODhmZmU5NWU1MWI1ZDliMi5iaW5kUG9wdXAocG9wdXBfZGRkOWY3YjdkNDhmNDYzOThkNGE5YTQ5MzAyZTI3NGMpCiAgICAgICAgOwoKICAgICAgICAKICAgIAogICAgCiAgICAgICAgICAgIHZhciBjaXJjbGVfbWFya2VyX2Y1MjE1NzM1NDQ5NzRjM2ZhMjk1OGYyZWI4ZmRkMTE2ID0gTC5jaXJjbGVNYXJrZXIoCiAgICAgICAgICAgICAgICBbLTM1LjI4MDkzNjgsIDE0OS4xMzAwMDkyXSwKICAgICAgICAgICAgICAgIHsiYnViYmxpbmdNb3VzZUV2ZW50cyI6IHRydWUsICJjb2xvciI6ICJiIiwgImRhc2hBcnJheSI6IG51bGwsICJkYXNoT2Zmc2V0IjogbnVsbCwgImZpbGwiOiB0cnVlLCAiZmlsbENvbG9yIjogImJsdWUiLCAiZmlsbE9wYWNpdHkiOiAwLjcsICJmaWxsUnVsZSI6ICJldmVub2RkIiwgImxpbmVDYXAiOiAicm91bmQiLCAibGluZUpvaW4iOiAicm91bmQiLCAib3BhY2l0eSI6IDEuMCwgInJhZGl1cyI6IDUuOTAwNDU0NTQ1NDU0NTQ2LCAic3Ryb2tlIjogdHJ1ZSwgIndlaWdodCI6IDN9CiAgICAgICAgICAgICkuYWRkVG8obWFwXzhkZGY4ODEwZTg1YTQyZTZiMDg4ODJlNzdiNzZhNDM1KTsKICAgICAgICAKICAgIAogICAgICAgIHZhciBwb3B1cF9hNzBmNzk4M2ZkZTI0NjE4OWFhZDc3ZTM1ZDI0YmZiZSA9IEwucG9wdXAoeyJtYXhXaWR0aCI6ICIxMDAlIn0pOwoKICAgICAgICAKICAgICAgICAgICAgdmFyIGh0bWxfMDRkNTExOWQ1NTc4NGZhOGIxN2JmOTRlM2M4YjM3MmYgPSAkKGA8ZGl2IGlkPSJodG1sXzA0ZDUxMTlkNTU3ODRmYThiMTdiZjk0ZTNjOGIzNzJmIiBzdHlsZT0id2lkdGg6IDEwMC4wJTsgaGVpZ2h0OiAxMDAuMCU7Ij5DYW5iZXJyYSwgQXVzdHJhbGlhbiBDYXBpdGFsIFRlcnJpdG9yeTowLjI5NTAyMjcyNzI3MjcyNzM8L2Rpdj5gKVswXTsKICAgICAgICAgICAgcG9wdXBfYTcwZjc5ODNmZGUyNDYxODlhYWQ3N2UzNWQyNGJmYmUuc2V0Q29udGVudChodG1sXzA0ZDUxMTlkNTU3ODRmYThiMTdiZjk0ZTNjOGIzNzJmKTsKICAgICAgICAKCiAgICAgICAgY2lyY2xlX21hcmtlcl9mNTIxNTczNTQ0OTc0YzNmYTI5NThmMmViOGZkZDExNi5iaW5kUG9wdXAocG9wdXBfYTcwZjc5ODNmZGUyNDYxODlhYWQ3N2UzNWQyNGJmYmUpCiAgICAgICAgOwoKICAgICAgICAKICAgIAogICAgCiAgICAgICAgICAgIHZhciBjaXJjbGVfbWFya2VyX2VkZTA1MGU2Mzc4YTQzYjk5YTJhZmNmZDE1YTAzMWU2ID0gTC5jaXJjbGVNYXJrZXIoCiAgICAgICAgICAgICAgICBbLTMzLjMyMDg0MTUsIDE1MS4yMzM1NTkyXSwKICAgICAgICAgICAgICAgIHsiYnViYmxpbmdNb3VzZUV2ZW50cyI6IHRydWUsICJjb2xvciI6ICJiIiwgImRhc2hBcnJheSI6IG51bGwsICJkYXNoT2Zmc2V0IjogbnVsbCwgImZpbGwiOiB0cnVlLCAiZmlsbENvbG9yIjogImJsdWUiLCAiZmlsbE9wYWNpdHkiOiAwLjcsICJmaWxsUnVsZSI6ICJldmVub2RkIiwgImxpbmVDYXAiOiAicm91bmQiLCAibGluZUpvaW4iOiAicm91bmQiLCAib3BhY2l0eSI6IDEuMCwgInJhZGl1cyI6IDUuNzQ3MTk5OTk5OTk5OTk5LCAic3Ryb2tlIjogdHJ1ZSwgIndlaWdodCI6IDN9CiAgICAgICAgICAgICkuYWRkVG8obWFwXzhkZGY4ODEwZTg1YTQyZTZiMDg4ODJlNzdiNzZhNDM1KTsKICAgICAgICAKICAgIAogICAgICAgIHZhciBwb3B1cF9mZGQzZTdiZmE1ZDc0NzFjOTUzMTRjYjA5MWUwODIxNCA9IEwucG9wdXAoeyJtYXhXaWR0aCI6ICIxMDAlIn0pOwoKICAgICAgICAKICAgICAgICAgICAgdmFyIGh0bWxfMWE5YTQxODJhYmM2NDJkY2I1MDA0Y2U5YTdmYThjMTAgPSAkKGA8ZGl2IGlkPSJodG1sXzFhOWE0MTgyYWJjNjQyZGNiNTAwNGNlOWE3ZmE4YzEwIiBzdHlsZT0id2lkdGg6IDEwMC4wJTsgaGVpZ2h0OiAxMDAuMCU7Ij5DZW50cmFsIENvYXN0LCBOZXcgU291dGggV2FsZXM6MC4yODczNTk5OTk5OTk5OTk5NTwvZGl2PmApWzBdOwogICAgICAgICAgICBwb3B1cF9mZGQzZTdiZmE1ZDc0NzFjOTUzMTRjYjA5MWUwODIxNC5zZXRDb250ZW50KGh0bWxfMWE5YTQxODJhYmM2NDJkY2I1MDA0Y2U5YTdmYThjMTApOwogICAgICAgIAoKICAgICAgICBjaXJjbGVfbWFya2VyX2VkZTA1MGU2Mzc4YTQzYjk5YTJhZmNmZDE1YTAzMWU2LmJpbmRQb3B1cChwb3B1cF9mZGQzZTdiZmE1ZDc0NzFjOTUzMTRjYjA5MWUwODIxNCkKICAgICAgICA7CgogICAgICAgIAogICAgCiAgICAKICAgICAgICAgICAgdmFyIGNpcmNsZV9tYXJrZXJfNTFlMzY3OWYxM2ViNDE4MTg2OGMxNWRiMGUyYjU5NWIgPSBMLmNpcmNsZU1hcmtlcigKICAgICAgICAgICAgICAgIFstMzAuMjk4NjEyLCAxNTMuMTA5MzkyMTk5OTk5OTddLAogICAgICAgICAgICAgICAgeyJidWJibGluZ01vdXNlRXZlbnRzIjogdHJ1ZSwgImNvbG9yIjogImIiLCAiZGFzaEFycmF5IjogbnVsbCwgImRhc2hPZmZzZXQiOiBudWxsLCAiZmlsbCI6IHRydWUsICJmaWxsQ29sb3IiOiAiYmx1ZSIsICJmaWxsT3BhY2l0eSI6IDAuNywgImZpbGxSdWxlIjogImV2ZW5vZGQiLCAibGluZUNhcCI6ICJyb3VuZCIsICJsaW5lSm9pbiI6ICJyb3VuZCIsICJvcGFjaXR5IjogMS4wLCAicmFkaXVzIjogMC43MzQwMDAwMDAwMDAwMDAyLCAic3Ryb2tlIjogdHJ1ZSwgIndlaWdodCI6IDN9CiAgICAgICAgICAgICkuYWRkVG8obWFwXzhkZGY4ODEwZTg1YTQyZTZiMDg4ODJlNzdiNzZhNDM1KTsKICAgICAgICAKICAgIAogICAgICAgIHZhciBwb3B1cF9mMDMzODBlM2Y0MGE0NjBjYjE5NTBjMWVhYWIxOWE1YyA9IEwucG9wdXAoeyJtYXhXaWR0aCI6ICIxMDAlIn0pOwoKICAgICAgICAKICAgICAgICAgICAgdmFyIGh0bWxfYmYxNTg5ZDgwMjU0NGQwZDljYjg1M2ZkYzllZTNiMjEgPSAkKGA8ZGl2IGlkPSJodG1sX2JmMTU4OWQ4MDI1NDRkMGQ5Y2I4NTNmZGM5ZWUzYjIxIiBzdHlsZT0id2lkdGg6IDEwMC4wJTsgaGVpZ2h0OiAxMDAuMCU7Ij5Db2ZmcyBIYXJib3VyLCBOZXcgU291dGggV2FsZXM6MC4wMzY3MDAwMDAwMDAwMDAwMTwvZGl2PmApWzBdOwogICAgICAgICAgICBwb3B1cF9mMDMzODBlM2Y0MGE0NjBjYjE5NTBjMWVhYWIxOWE1Yy5zZXRDb250ZW50KGh0bWxfYmYxNTg5ZDgwMjU0NGQwZDljYjg1M2ZkYzllZTNiMjEpOwogICAgICAgIAoKICAgICAgICBjaXJjbGVfbWFya2VyXzUxZTM2NzlmMTNlYjQxODE4NjhjMTVkYjBlMmI1OTViLmJpbmRQb3B1cChwb3B1cF9mMDMzODBlM2Y0MGE0NjBjYjE5NTBjMWVhYWIxOWE1YykKICAgICAgICA7CgogICAgICAgIAogICAgCiAgICAKICAgICAgICAgICAgdmFyIGNpcmNsZV9tYXJrZXJfOWFlYmFkOWU0ZDJiNGEwODljNzlhNDA3M2QzYzQyM2YgPSBMLmNpcmNsZU1hcmtlcigKICAgICAgICAgICAgICAgIFstMzEuMjczMzQzNCwgMTQ5LjIxOTA2MV0sCiAgICAgICAgICAgICAgICB7ImJ1YmJsaW5nTW91c2VFdmVudHMiOiB0cnVlLCAiY29sb3IiOiAiYiIsICJkYXNoQXJyYXkiOiBudWxsLCAiZGFzaE9mZnNldCI6IG51bGwsICJmaWxsIjogdHJ1ZSwgImZpbGxDb2xvciI6ICJibHVlIiwgImZpbGxPcGFjaXR5IjogMC43LCAiZmlsbFJ1bGUiOiAiZXZlbm9kZCIsICJsaW5lQ2FwIjogInJvdW5kIiwgImxpbmVKb2luIjogInJvdW5kIiwgIm9wYWNpdHkiOiAxLjAsICJyYWRpdXMiOiA5Ljg3OCwgInN0cm9rZSI6IHRydWUsICJ3ZWlnaHQiOiAzfQogICAgICAgICAgICApLmFkZFRvKG1hcF84ZGRmODgxMGU4NWE0MmU2YjA4ODgyZTc3Yjc2YTQzNSk7CiAgICAgICAgCiAgICAKICAgICAgICB2YXIgcG9wdXBfOTkwZjI1N2EyNTc4NDZhZTg2YzEyYTRkZTljMjRiZmMgPSBMLnBvcHVwKHsibWF4V2lkdGgiOiAiMTAwJSJ9KTsKCiAgICAgICAgCiAgICAgICAgICAgIHZhciBodG1sXzgyN2M4YTU2ZWJlZjQyZDBhODMxOGY1ZDA2NTk1OGFiID0gJChgPGRpdiBpZD0iaHRtbF84MjdjOGE1NmViZWY0MmQwYTgzMThmNWQwNjU5NThhYiIgc3R5bGU9IndpZHRoOiAxMDAuMCU7IGhlaWdodDogMTAwLjAlOyI+Q29vbmFiYXJhYnJhbiwgTmV3IFNvdXRoIFdhbGVzOjAuNDkzOTwvZGl2PmApWzBdOwogICAgICAgICAgICBwb3B1cF85OTBmMjU3YTI1Nzg0NmFlODZjMTJhNGRlOWMyNGJmYy5zZXRDb250ZW50KGh0bWxfODI3YzhhNTZlYmVmNDJkMGE4MzE4ZjVkMDY1OTU4YWIpOwogICAgICAgIAoKICAgICAgICBjaXJjbGVfbWFya2VyXzlhZWJhZDllNGQyYjRhMDg5Yzc5YTQwNzNkM2M0MjNmLmJpbmRQb3B1cChwb3B1cF85OTBmMjU3YTI1Nzg0NmFlODZjMTJhNGRlOWMyNGJmYykKICAgICAgICA7CgogICAgICAgIAogICAgCiAgICAKICAgICAgICAgICAgdmFyIGNpcmNsZV9tYXJrZXJfOTFlMTAzZWU3M2FlNDRlZjkxYTQ4NjE4ZGE5MTBlMzEgPSBMLmNpcmNsZU1hcmtlcigKICAgICAgICAgICAgICAgIFstMTIuNDYzNDQwMywgMTMwLjg0NTY0MThdLAogICAgICAgICAgICAgICAgeyJidWJibGluZ01vdXNlRXZlbnRzIjogdHJ1ZSwgImNvbG9yIjogImIiLCAiZGFzaEFycmF5IjogbnVsbCwgImRhc2hPZmZzZXQiOiBudWxsLCAiZmlsbCI6IHRydWUsICJmaWxsQ29sb3IiOiAiYmx1ZSIsICJmaWxsT3BhY2l0eSI6IDAuNywgImZpbGxSdWxlIjogImV2ZW5vZGQiLCAibGluZUNhcCI6ICJyb3VuZCIsICJsaW5lSm9pbiI6ICJyb3VuZCIsICJvcGFjaXR5IjogMS4wLCAicmFkaXVzIjogMTIuNzM4LCAic3Ryb2tlIjogdHJ1ZSwgIndlaWdodCI6IDN9CiAgICAgICAgICAgICkuYWRkVG8obWFwXzhkZGY4ODEwZTg1YTQyZTZiMDg4ODJlNzdiNzZhNDM1KTsKICAgICAgICAKICAgIAogICAgICAgIHZhciBwb3B1cF8yZDVjYjNhNGIzZDg0MThiYjdlMWE4MmU5MTVkMDI0YyA9IEwucG9wdXAoeyJtYXhXaWR0aCI6ICIxMDAlIn0pOwoKICAgICAgICAKICAgICAgICAgICAgdmFyIGh0bWxfZGE1MjlkNWE1YzRkNGYxYzhlOTMxMjFiNDlkZmI0YjkgPSAkKGA8ZGl2IGlkPSJodG1sX2RhNTI5ZDVhNWM0ZDRmMWM4ZTkzMTIxYjQ5ZGZiNGI5IiBzdHlsZT0id2lkdGg6IDEwMC4wJTsgaGVpZ2h0OiAxMDAuMCU7Ij5EYXJ3aW4sIE5vcnRoZXJuIFRlcnJpdG9yeTowLjYzNjk8L2Rpdj5gKVswXTsKICAgICAgICAgICAgcG9wdXBfMmQ1Y2IzYTRiM2Q4NDE4YmI3ZTFhODJlOTE1ZDAyNGMuc2V0Q29udGVudChodG1sX2RhNTI5ZDVhNWM0ZDRmMWM4ZTkzMTIxYjQ5ZGZiNGI5KTsKICAgICAgICAKCiAgICAgICAgY2lyY2xlX21hcmtlcl85MWUxMDNlZTczYWU0NGVmOTFhNDg2MThkYTkxMGUzMS5iaW5kUG9wdXAocG9wdXBfMmQ1Y2IzYTRiM2Q4NDE4YmI3ZTFhODJlOTE1ZDAyNGMpCiAgICAgICAgOwoKICAgICAgICAKICAgIAogICAgCiAgICAgICAgICAgIHZhciBjaXJjbGVfbWFya2VyXzI5ZDk1NWE4YjdjMTQxYTA4NDJmNTVkY2ZlYTUyYzk5ID0gTC5jaXJjbGVNYXJrZXIoCiAgICAgICAgICAgICAgICBbMjUuMjA0ODQ5MzAwMDAwMDAzLCA1NS4yNzA3ODI4XSwKICAgICAgICAgICAgICAgIHsiYnViYmxpbmdNb3VzZUV2ZW50cyI6IHRydWUsICJjb2xvciI6ICJiIiwgImRhc2hBcnJheSI6IG51bGwsICJkYXNoT2Zmc2V0IjogbnVsbCwgImZpbGwiOiB0cnVlLCAiZmlsbENvbG9yIjogImJsdWUiLCAiZmlsbE9wYWNpdHkiOiAwLjcsICJmaWxsUnVsZSI6ICJldmVub2RkIiwgImxpbmVDYXAiOiAicm91bmQiLCAibGluZUpvaW4iOiAicm91bmQiLCAib3BhY2l0eSI6IDEuMCwgInJhZGl1cyI6IDUuOTIsICJzdHJva2UiOiB0cnVlLCAid2VpZ2h0IjogM30KICAgICAgICAgICAgKS5hZGRUbyhtYXBfOGRkZjg4MTBlODVhNDJlNmIwODg4MmU3N2I3NmE0MzUpOwogICAgICAgIAogICAgCiAgICAgICAgdmFyIHBvcHVwXzgxMWRlODE0NmEyOTQwOWI5NDZmMzM0NWJmOTJjYzM5ID0gTC5wb3B1cCh7Im1heFdpZHRoIjogIjEwMCUifSk7CgogICAgICAgIAogICAgICAgICAgICB2YXIgaHRtbF80NGU1ZjQ2NDdmZjc0NmZkOTk2YmZkNjRjOWFkMzA5NiA9ICQoYDxkaXYgaWQ9Imh0bWxfNDRlNWY0NjQ3ZmY3NDZmZDk5NmJmZDY0YzlhZDMwOTYiIHN0eWxlPSJ3aWR0aDogMTAwLjAlOyBoZWlnaHQ6IDEwMC4wJTsiPkR1YmFpLCBVbml0ZWQgQXJhYiBFbWlyYXRlczowLjI5NjwvZGl2PmApWzBdOwogICAgICAgICAgICBwb3B1cF84MTFkZTgxNDZhMjk0MDliOTQ2ZjMzNDViZjkyY2MzOS5zZXRDb250ZW50KGh0bWxfNDRlNWY0NjQ3ZmY3NDZmZDk5NmJmZDY0YzlhZDMwOTYpOwogICAgICAgIAoKICAgICAgICBjaXJjbGVfbWFya2VyXzI5ZDk1NWE4YjdjMTQxYTA4NDJmNTVkY2ZlYTUyYzk5LmJpbmRQb3B1cChwb3B1cF84MTFkZTgxNDZhMjk0MDliOTQ2ZjMzNDViZjkyY2MzOSkKICAgICAgICA7CgogICAgICAgIAogICAgCiAgICAKICAgICAgICAgICAgdmFyIGNpcmNsZV9tYXJrZXJfZGE3OWI0Y2QwM2JiNDAzYTg3ODdmMTg2NzdkNTNhZDEgPSBMLmNpcmNsZU1hcmtlcigKICAgICAgICAgICAgICAgIFstMzIuMjMxNTAxOCwgMTQ4LjYzMjk2NDVdLAogICAgICAgICAgICAgICAgeyJidWJibGluZ01vdXNlRXZlbnRzIjogdHJ1ZSwgImNvbG9yIjogImIiLCAiZGFzaEFycmF5IjogbnVsbCwgImRhc2hPZmZzZXQiOiBudWxsLCAiZmlsbCI6IHRydWUsICJmaWxsQ29sb3IiOiAiYmx1ZSIsICJmaWxsT3BhY2l0eSI6IDAuNywgImZpbGxSdWxlIjogImV2ZW5vZGQiLCAibGluZUNhcCI6ICJyb3VuZCIsICJsaW5lSm9pbiI6ICJyb3VuZCIsICJvcGFjaXR5IjogMS4wLCAicmFkaXVzIjogMTEuOTg4MDAwMDAwMDAwMDAxLCAic3Ryb2tlIjogdHJ1ZSwgIndlaWdodCI6IDN9CiAgICAgICAgICAgICkuYWRkVG8obWFwXzhkZGY4ODEwZTg1YTQyZTZiMDg4ODJlNzdiNzZhNDM1KTsKICAgICAgICAKICAgIAogICAgICAgIHZhciBwb3B1cF81OWNmMDRhMTM0Y2M0NmFiODg4MjA3OTAzOGZhYTkwYyA9IEwucG9wdXAoeyJtYXhXaWR0aCI6ICIxMDAlIn0pOwoKICAgICAgICAKICAgICAgICAgICAgdmFyIGh0bWxfOGMyNWRlM2FkMmEwNDliMGFjOGE4NWZhMGM1NTFhNzAgPSAkKGA8ZGl2IGlkPSJodG1sXzhjMjVkZTNhZDJhMDQ5YjBhYzhhODVmYTBjNTUxYTcwIiBzdHlsZT0id2lkdGg6IDEwMC4wJTsgaGVpZ2h0OiAxMDAuMCU7Ij5EdWJibywgTmV3IFNvdXRoIFdhbGVzOjAuNTk5NDwvZGl2PmApWzBdOwogICAgICAgICAgICBwb3B1cF81OWNmMDRhMTM0Y2M0NmFiODg4MjA3OTAzOGZhYTkwYy5zZXRDb250ZW50KGh0bWxfOGMyNWRlM2FkMmEwNDliMGFjOGE4NWZhMGM1NTFhNzApOwogICAgICAgIAoKICAgICAgICBjaXJjbGVfbWFya2VyX2RhNzliNGNkMDNiYjQwM2E4Nzg3ZjE4Njc3ZDUzYWQxLmJpbmRQb3B1cChwb3B1cF81OWNmMDRhMTM0Y2M0NmFiODg4MjA3OTAzOGZhYTkwYykKICAgICAgICA7CgogICAgICAgIAogICAgCiAgICAKICAgICAgICAgICAgdmFyIGNpcmNsZV9tYXJrZXJfOWU2Y2FjZGMyZWIwNDgyYzkxMWZmZGJjYzQ4OGIzYzEgPSBMLmNpcmNsZU1hcmtlcigKICAgICAgICAgICAgICAgIFszNy41NDgyNjk3MDAwMDAwMDYsIC0xMjEuOTg4NTcxOTAwMDAwMDFdLAogICAgICAgICAgICAgICAgeyJidWJibGluZ01vdXNlRXZlbnRzIjogdHJ1ZSwgImNvbG9yIjogImIiLCAiZGFzaEFycmF5IjogbnVsbCwgImRhc2hPZmZzZXQiOiBudWxsLCAiZmlsbCI6IHRydWUsICJmaWxsQ29sb3IiOiAiYmx1ZSIsICJmaWxsT3BhY2l0eSI6IDAuNywgImZpbGxSdWxlIjogImV2ZW5vZGQiLCAibGluZUNhcCI6ICJyb3VuZCIsICJsaW5lSm9pbiI6ICJyb3VuZCIsICJvcGFjaXR5IjogMS4wLCAicmFkaXVzIjogNC41MjYsICJzdHJva2UiOiB0cnVlLCAid2VpZ2h0IjogM30KICAgICAgICAgICAgKS5hZGRUbyhtYXBfOGRkZjg4MTBlODVhNDJlNmIwODg4MmU3N2I3NmE0MzUpOwogICAgICAgIAogICAgCiAgICAgICAgdmFyIHBvcHVwX2YxYzI1MjFiZTEzMTRmYWVhMGU1ODE0NDEwYjczOGE5ID0gTC5wb3B1cCh7Im1heFdpZHRoIjogIjEwMCUifSk7CgogICAgICAgIAogICAgICAgICAgICB2YXIgaHRtbF84ZjQ5NTg5NDBjNmE0OGVhYTBkNmVkMDhlNWUyMzEzZSA9ICQoYDxkaXYgaWQ9Imh0bWxfOGY0OTU4OTQwYzZhNDhlYWEwZDZlZDA4ZTVlMjMxM2UiIHN0eWxlPSJ3aWR0aDogMTAwLjAlOyBoZWlnaHQ6IDEwMC4wJTsiPkZyZW1vbnQsIENBOjAuMjI2MzwvZGl2PmApWzBdOwogICAgICAgICAgICBwb3B1cF9mMWMyNTIxYmUxMzE0ZmFlYTBlNTgxNDQxMGI3MzhhOS5zZXRDb250ZW50KGh0bWxfOGY0OTU4OTQwYzZhNDhlYWEwZDZlZDA4ZTVlMjMxM2UpOwogICAgICAgIAoKICAgICAgICBjaXJjbGVfbWFya2VyXzllNmNhY2RjMmViMDQ4MmM5MTFmZmRiY2M0ODhiM2MxLmJpbmRQb3B1cChwb3B1cF9mMWMyNTIxYmUxMzE0ZmFlYTBlNTgxNDQxMGI3MzhhOSkKICAgICAgICA7CgogICAgICAgIAogICAgCiAgICAKICAgICAgICAgICAgdmFyIGNpcmNsZV9tYXJrZXJfMDJhNGZhZGZjZTU1NGFmMWIxZThhZDU4M2E3NjY5ZGUgPSBMLmNpcmNsZU1hcmtlcigKICAgICAgICAgICAgICAgIFstMzguMTQ5OTE4MSwgMTQ0LjM2MTcxODZdLAogICAgICAgICAgICAgICAgeyJidWJibGluZ01vdXNlRXZlbnRzIjogdHJ1ZSwgImNvbG9yIjogImIiLCAiZGFzaEFycmF5IjogbnVsbCwgImRhc2hPZmZzZXQiOiBudWxsLCAiZmlsbCI6IHRydWUsICJmaWxsQ29sb3IiOiAicmVkIiwgImZpbGxPcGFjaXR5IjogMC43LCAiZmlsbFJ1bGUiOiAiZXZlbm9kZCIsICJsaW5lQ2FwIjogInJvdW5kIiwgImxpbmVKb2luIjogInJvdW5kIiwgIm9wYWNpdHkiOiAxLjAsICJyYWRpdXMiOiAxMy40MSwgInN0cm9rZSI6IHRydWUsICJ3ZWlnaHQiOiAzfQogICAgICAgICAgICApLmFkZFRvKG1hcF84ZGRmODgxMGU4NWE0MmU2YjA4ODgyZTc3Yjc2YTQzNSk7CiAgICAgICAgCiAgICAKICAgICAgICB2YXIgcG9wdXBfYzBkMzE1YzBhMjYwNGUxODhlNTY5ZWYwZDNiZDZlNzYgPSBMLnBvcHVwKHsibWF4V2lkdGgiOiAiMTAwJSJ9KTsKCiAgICAgICAgCiAgICAgICAgICAgIHZhciBodG1sX2E4ZTQzZTU4OTJhYzRlYjA4ZGJhYWQ0MjA4N2MyMzNhID0gJChgPGRpdiBpZD0iaHRtbF9hOGU0M2U1ODkyYWM0ZWIwOGRiYWFkNDIwODdjMjMzYSIgc3R5bGU9IndpZHRoOiAxMDAuMCU7IGhlaWdodDogMTAwLjAlOyI+R2VlbG9uZywgVmljdG9yaWE6LTAuNjcwNTwvZGl2PmApWzBdOwogICAgICAgICAgICBwb3B1cF9jMGQzMTVjMGEyNjA0ZTE4OGU1NjllZjBkM2JkNmU3Ni5zZXRDb250ZW50KGh0bWxfYThlNDNlNTg5MmFjNGViMDhkYmFhZDQyMDg3YzIzM2EpOwogICAgICAgIAoKICAgICAgICBjaXJjbGVfbWFya2VyXzAyYTRmYWRmY2U1NTRhZjFiMWU4YWQ1ODNhNzY2OWRlLmJpbmRQb3B1cChwb3B1cF9jMGQzMTVjMGEyNjA0ZTE4OGU1NjllZjBkM2JkNmU3NikKICAgICAgICA7CgogICAgICAgIAogICAgCiAgICAKICAgICAgICAgICAgdmFyIGNpcmNsZV9tYXJrZXJfYjNmM2Y1NzA0MGQxNDdhNGFkNzFiMWY2ZmJmMzZiY2MgPSBMLmNpcmNsZU1hcmtlcigKICAgICAgICAgICAgICAgIFstMjguMDE2NjY2OTk5OTk5OTk4LCAxNTMuNF0sCiAgICAgICAgICAgICAgICB7ImJ1YmJsaW5nTW91c2VFdmVudHMiOiB0cnVlLCAiY29sb3IiOiAiYiIsICJkYXNoQXJyYXkiOiBudWxsLCAiZGFzaE9mZnNldCI6IG51bGwsICJmaWxsIjogdHJ1ZSwgImZpbGxDb2xvciI6ICJibHVlIiwgImZpbGxPcGFjaXR5IjogMC43LCAiZmlsbFJ1bGUiOiAiZXZlbm9kZCIsICJsaW5lQ2FwIjogInJvdW5kIiwgImxpbmVKb2luIjogInJvdW5kIiwgIm9wYWNpdHkiOiAxLjAsICJyYWRpdXMiOiAxLjgwNjA5OTk5OTk5OTk5OTgsICJzdHJva2UiOiB0cnVlLCAid2VpZ2h0IjogM30KICAgICAgICAgICAgKS5hZGRUbyhtYXBfOGRkZjg4MTBlODVhNDJlNmIwODg4MmU3N2I3NmE0MzUpOwogICAgICAgIAogICAgCiAgICAgICAgdmFyIHBvcHVwXzk3NTM3ZGU3NzE4ZTRhNzg4MTdhNTMzYThmNTU4MDBlID0gTC5wb3B1cCh7Im1heFdpZHRoIjogIjEwMCUifSk7CgogICAgICAgIAogICAgICAgICAgICB2YXIgaHRtbF9kNWMxZjRhZmU0OWU0ZjNlYWVkNTBiYmI3MzUyMDFjMiA9ICQoYDxkaXYgaWQ9Imh0bWxfZDVjMWY0YWZlNDllNGYzZWFlZDUwYmJiNzM1MjAxYzIiIHN0eWxlPSJ3aWR0aDogMTAwLjAlOyBoZWlnaHQ6IDEwMC4wJTsiPkdvbGQgQ29hc3QsIFF1ZWVuc2xhbmQ6MC4wOTAzMDU8L2Rpdj5gKVswXTsKICAgICAgICAgICAgcG9wdXBfOTc1MzdkZTc3MThlNGE3ODgxN2E1MzNhOGY1NTgwMGUuc2V0Q29udGVudChodG1sX2Q1YzFmNGFmZTQ5ZTRmM2VhZWQ1MGJiYjczNTIwMWMyKTsKICAgICAgICAKCiAgICAgICAgY2lyY2xlX21hcmtlcl9iM2YzZjU3MDQwZDE0N2E0YWQ3MWIxZjZmYmYzNmJjYy5iaW5kUG9wdXAocG9wdXBfOTc1MzdkZTc3MThlNGE3ODgxN2E1MzNhOGY1NTgwMGUpCiAgICAgICAgOwoKICAgICAgICAKICAgIAogICAgCiAgICAgICAgICAgIHZhciBjaXJjbGVfbWFya2VyXzU1ZDg2ZDM2ZjAzMzQ5NGRiZGQyOTkxYTRjZGUyMTQwID0gTC5jaXJjbGVNYXJrZXIoCiAgICAgICAgICAgICAgICBbLTM0Ljc0NzkxODEwMDAwMDAxLCAxNDkuNzI3NzQ0N10sCiAgICAgICAgICAgICAgICB7ImJ1YmJsaW5nTW91c2VFdmVudHMiOiB0cnVlLCAiY29sb3IiOiAiYiIsICJkYXNoQXJyYXkiOiBudWxsLCAiZGFzaE9mZnNldCI6IG51bGwsICJmaWxsIjogdHJ1ZSwgImZpbGxDb2xvciI6ICJibHVlIiwgImZpbGxPcGFjaXR5IjogMC43LCAiZmlsbFJ1bGUiOiAiZXZlbm9kZCIsICJsaW5lQ2FwIjogInJvdW5kIiwgImxpbmVKb2luIjogInJvdW5kIiwgIm9wYWNpdHkiOiAxLjAsICJyYWRpdXMiOiAxNS42NTk2MDAwMDAwMDAwMDEsICJzdHJva2UiOiB0cnVlLCAid2VpZ2h0IjogM30KICAgICAgICAgICAgKS5hZGRUbyhtYXBfOGRkZjg4MTBlODVhNDJlNmIwODg4MmU3N2I3NmE0MzUpOwogICAgICAgIAogICAgCiAgICAgICAgdmFyIHBvcHVwXzk2MTRkMDg4ZTJkZTQ1N2Q5MjkwODFjMThkOGI1YWNmID0gTC5wb3B1cCh7Im1heFdpZHRoIjogIjEwMCUifSk7CgogICAgICAgIAogICAgICAgICAgICB2YXIgaHRtbF8xMzJjNjlmMWFkN2U0NDMzYTU1OWE5OGJkYWI5ZjE1NyA9ICQoYDxkaXYgaWQ9Imh0bWxfMTMyYzY5ZjFhZDdlNDQzM2E1NTlhOThiZGFiOWYxNTciIHN0eWxlPSJ3aWR0aDogMTAwLjAlOyBoZWlnaHQ6IDEwMC4wJTsiPkdvdWxidXJuLCBOZXcgU291dGggV2FsZXM6MC43ODI5ODwvZGl2PmApWzBdOwogICAgICAgICAgICBwb3B1cF85NjE0ZDA4OGUyZGU0NTdkOTI5MDgxYzE4ZDhiNWFjZi5zZXRDb250ZW50KGh0bWxfMTMyYzY5ZjFhZDdlNDQzM2E1NTlhOThiZGFiOWYxNTcpOwogICAgICAgIAoKICAgICAgICBjaXJjbGVfbWFya2VyXzU1ZDg2ZDM2ZjAzMzQ5NGRiZGQyOTkxYTRjZGUyMTQwLmJpbmRQb3B1cChwb3B1cF85NjE0ZDA4OGUyZGU0NTdkOTI5MDgxYzE4ZDhiNWFjZikKICAgICAgICA7CgogICAgICAgIAogICAgCiAgICAKICAgICAgICAgICAgdmFyIGNpcmNsZV9tYXJrZXJfZWQ5NTcyYzMzMzVkNDZhNGI1NzViZTMwNTVhYTY5NmQgPSBMLmNpcmNsZU1hcmtlcigKICAgICAgICAgICAgICAgIFs1MS41NzM0NDUsIC0wLjA3MjQzNzU5OTk5OTk5OTk5XSwKICAgICAgICAgICAgICAgIHsiYnViYmxpbmdNb3VzZUV2ZW50cyI6IHRydWUsICJjb2xvciI6ICJiIiwgImRhc2hBcnJheSI6IG51bGwsICJkYXNoT2Zmc2V0IjogbnVsbCwgImZpbGwiOiB0cnVlLCAiZmlsbENvbG9yIjogImJsdWUiLCAiZmlsbE9wYWNpdHkiOiAwLjcsICJmaWxsUnVsZSI6ICJldmVub2RkIiwgImxpbmVDYXAiOiAicm91bmQiLCAibGluZUpvaW4iOiAicm91bmQiLCAib3BhY2l0eSI6IDEuMCwgInJhZGl1cyI6IDEyLjczOCwgInN0cm9rZSI6IHRydWUsICJ3ZWlnaHQiOiAzfQogICAgICAgICAgICApLmFkZFRvKG1hcF84ZGRmODgxMGU4NWE0MmU2YjA4ODgyZTc3Yjc2YTQzNSk7CiAgICAgICAgCiAgICAKICAgICAgICB2YXIgcG9wdXBfNjkyZjMzNzliY2FiNDE1ZWIxNzEwZjg4OWU4ZDEwYTIgPSBMLnBvcHVwKHsibWF4V2lkdGgiOiAiMTAwJSJ9KTsKCiAgICAgICAgCiAgICAgICAgICAgIHZhciBodG1sX2MyY2ZiNjVmMmIyODQwMThhNWQ1NmQ1MGRiNDIxZGZiID0gJChgPGRpdiBpZD0iaHRtbF9jMmNmYjY1ZjJiMjg0MDE4YTVkNTZkNTBkYjQyMWRmYiIgc3R5bGU9IndpZHRoOiAxMDAuMCU7IGhlaWdodDogMTAwLjAlOyI+SGFja25leSwgTG9uZG9uOjAuNjM2OTwvZGl2PmApWzBdOwogICAgICAgICAgICBwb3B1cF82OTJmMzM3OWJjYWI0MTVlYjE3MTBmODg5ZThkMTBhMi5zZXRDb250ZW50KGh0bWxfYzJjZmI2NWYyYjI4NDAxOGE1ZDU2ZDUwZGI0MjFkZmIpOwogICAgICAgIAoKICAgICAgICBjaXJjbGVfbWFya2VyX2VkOTU3MmMzMzM1ZDQ2YTRiNTc1YmUzMDU1YWE2OTZkLmJpbmRQb3B1cChwb3B1cF82OTJmMzM3OWJjYWI0MTVlYjE3MTBmODg5ZThkMTBhMikKICAgICAgICA7CgogICAgICAgIAogICAgCiAgICAKICAgICAgICAgICAgdmFyIGNpcmNsZV9tYXJrZXJfNWU3NmY5NDczZGZkNDFiNWFjZjUzMDk5YmE3MmI1YWMgPSBMLmNpcmNsZU1hcmtlcigKICAgICAgICAgICAgICAgIFs2MC4xNjk4NTU2OTk5OTk5OSwgMjQuOTM4Mzc5MTAwMDAwMDAyXSwKICAgICAgICAgICAgICAgIHsiYnViYmxpbmdNb3VzZUV2ZW50cyI6IHRydWUsICJjb2xvciI6ICJiIiwgImRhc2hBcnJheSI6IG51bGwsICJkYXNoT2Zmc2V0IjogbnVsbCwgImZpbGwiOiB0cnVlLCAiZmlsbENvbG9yIjogImJsdWUiLCAiZmlsbE9wYWNpdHkiOiAwLjcsICJmaWxsUnVsZSI6ICJldmVub2RkIiwgImxpbmVDYXAiOiAicm91bmQiLCAibGluZUpvaW4iOiAicm91bmQiLCAib3BhY2l0eSI6IDEuMCwgInJhZGl1cyI6IDguNDMsICJzdHJva2UiOiB0cnVlLCAid2VpZ2h0IjogM30KICAgICAgICAgICAgKS5hZGRUbyhtYXBfOGRkZjg4MTBlODVhNDJlNmIwODg4MmU3N2I3NmE0MzUpOwogICAgICAgIAogICAgCiAgICAgICAgdmFyIHBvcHVwX2E0OTYwYzZlOTk2ODQxYzNiNjM3Y2I3MTYxNWM2NmMxID0gTC5wb3B1cCh7Im1heFdpZHRoIjogIjEwMCUifSk7CgogICAgICAgIAogICAgICAgICAgICB2YXIgaHRtbF82Njk3MTIwY2Y2MjU0MTk5YWU5ZjkxNGMwMjNhYzNiZCA9ICQoYDxkaXYgaWQ9Imh0bWxfNjY5NzEyMGNmNjI1NDE5OWFlOWY5MTRjMDIzYWMzYmQiIHN0eWxlPSJ3aWR0aDogMTAwLjAlOyBoZWlnaHQ6IDEwMC4wJTsiPkhlbHNpbmtpLCBGaW5sYW5kOjAuNDIxNTwvZGl2PmApWzBdOwogICAgICAgICAgICBwb3B1cF9hNDk2MGM2ZTk5Njg0MWMzYjYzN2NiNzE2MTVjNjZjMS5zZXRDb250ZW50KGh0bWxfNjY5NzEyMGNmNjI1NDE5OWFlOWY5MTRjMDIzYWMzYmQpOwogICAgICAgIAoKICAgICAgICBjaXJjbGVfbWFya2VyXzVlNzZmOTQ3M2RmZDQxYjVhY2Y1MzA5OWJhNzJiNWFjLmJpbmRQb3B1cChwb3B1cF9hNDk2MGM2ZTk5Njg0MWMzYjYzN2NiNzE2MTVjNjZjMSkKICAgICAgICA7CgogICAgICAgIAogICAgCiAgICAKICAgICAgICAgICAgdmFyIGNpcmNsZV9tYXJrZXJfZTU0MmQwNTEwMGE1NDBkN2IwODQzNTcxMWNiZjg0OWYgPSBMLmNpcmNsZU1hcmtlcigKICAgICAgICAgICAgICAgIFstNDIuODgyMTM3NywgMTQ3LjMyNzE5NDldLAogICAgICAgICAgICAgICAgeyJidWJibGluZ01vdXNlRXZlbnRzIjogdHJ1ZSwgImNvbG9yIjogImIiLCAiZGFzaEFycmF5IjogbnVsbCwgImRhc2hPZmZzZXQiOiBudWxsLCAiZmlsbCI6IHRydWUsICJmaWxsQ29sb3IiOiAiYmx1ZSIsICJmaWxsT3BhY2l0eSI6IDAuNywgImZpbGxSdWxlIjogImV2ZW5vZGQiLCAibGluZUNhcCI6ICJyb3VuZCIsICJsaW5lSm9pbiI6ICJyb3VuZCIsICJvcGFjaXR5IjogMS4wLCAicmFkaXVzIjogNC42MDc2LCAic3Ryb2tlIjogdHJ1ZSwgIndlaWdodCI6IDN9CiAgICAgICAgICAgICkuYWRkVG8obWFwXzhkZGY4ODEwZTg1YTQyZTZiMDg4ODJlNzdiNzZhNDM1KTsKICAgICAgICAKICAgIAogICAgICAgIHZhciBwb3B1cF85NzU2M2NhZjk4ZmM0M2EyYWQ0NTJlMTE3MDBjOTdmYyA9IEwucG9wdXAoeyJtYXhXaWR0aCI6ICIxMDAlIn0pOwoKICAgICAgICAKICAgICAgICAgICAgdmFyIGh0bWxfYjA5ZDU4NDllNDJjNGY0NmI2Njk0ZDU2OWRjMmEyMzIgPSAkKGA8ZGl2IGlkPSJodG1sX2IwOWQ1ODQ5ZTQyYzRmNDZiNjY5NGQ1NjlkYzJhMjMyIiBzdHlsZT0id2lkdGg6IDEwMC4wJTsgaGVpZ2h0OiAxMDAuMCU7Ij5Ib2JhcnQsIFRhc21hbmlhOjAuMjMwMzc5OTk5OTk5OTk5OTc8L2Rpdj5gKVswXTsKICAgICAgICAgICAgcG9wdXBfOTc1NjNjYWY5OGZjNDNhMmFkNDUyZTExNzAwYzk3ZmMuc2V0Q29udGVudChodG1sX2IwOWQ1ODQ5ZTQyYzRmNDZiNjY5NGQ1NjlkYzJhMjMyKTsKICAgICAgICAKCiAgICAgICAgY2lyY2xlX21hcmtlcl9lNTQyZDA1MTAwYTU0MGQ3YjA4NDM1NzExY2JmODQ5Zi5iaW5kUG9wdXAocG9wdXBfOTc1NjNjYWY5OGZjNDNhMmFkNDUyZTExNzAwYzk3ZmMpCiAgICAgICAgOwoKICAgICAgICAKICAgIAogICAgCiAgICAgICAgICAgIHZhciBjaXJjbGVfbWFya2VyXzIyMzQxODIwMTY4NDRmYTFiOWU3MDlkYjkxZDAxZTI1ID0gTC5jaXJjbGVNYXJrZXIoCiAgICAgICAgICAgICAgICBbLTM3LjMwMTY1NjYsIDE0NC45NDk3MjMyXSwKICAgICAgICAgICAgICAgIHsiYnViYmxpbmdNb3VzZUV2ZW50cyI6IHRydWUsICJjb2xvciI6ICJiIiwgImRhc2hBcnJheSI6IG51bGwsICJkYXNoT2Zmc2V0IjogbnVsbCwgImZpbGwiOiB0cnVlLCAiZmlsbENvbG9yIjogInJlZCIsICJmaWxsT3BhY2l0eSI6IDAuNywgImZpbGxSdWxlIjogImV2ZW5vZGQiLCAibGluZUNhcCI6ICJyb3VuZCIsICJsaW5lSm9pbiI6ICJyb3VuZCIsICJvcGFjaXR5IjogMS4wLCAicmFkaXVzIjogMTYuODg0LCAic3Ryb2tlIjogdHJ1ZSwgIndlaWdodCI6IDN9CiAgICAgICAgICAgICkuYWRkVG8obWFwXzhkZGY4ODEwZTg1YTQyZTZiMDg4ODJlNzdiNzZhNDM1KTsKICAgICAgICAKICAgIAogICAgICAgIHZhciBwb3B1cF9lYmI4NmUzYzg3Njk0MTM5OTQxZTZjNjljYzM0ZDZmNyA9IEwucG9wdXAoeyJtYXhXaWR0aCI6ICIxMDAlIn0pOwoKICAgICAgICAKICAgICAgICAgICAgdmFyIGh0bWxfMDZjMTA0M2YzMDQ2NGE4MTgwNTUxZDY4YzE4MTU0NGYgPSAkKGA8ZGl2IGlkPSJodG1sXzA2YzEwNDNmMzA0NjRhODE4MDU1MWQ2OGMxODE1NDRmIiBzdHlsZT0id2lkdGg6IDEwMC4wJTsgaGVpZ2h0OiAxMDAuMCU7Ij5LaWxtb3JlLCBWaWN0b3JpYTotMC44NDQyPC9kaXY+YClbMF07CiAgICAgICAgICAgIHBvcHVwX2ViYjg2ZTNjODc2OTQxMzk5NDFlNmM2OWNjMzRkNmY3LnNldENvbnRlbnQoaHRtbF8wNmMxMDQzZjMwNDY0YTgxODA1NTFkNjhjMTgxNTQ0Zik7CiAgICAgICAgCgogICAgICAgIGNpcmNsZV9tYXJrZXJfMjIzNDE4MjAxNjg0NGZhMWI5ZTcwOWRiOTFkMDFlMjUuYmluZFBvcHVwKHBvcHVwX2ViYjg2ZTNjODc2OTQxMzk5NDFlNmM2OWNjMzRkNmY3KQogICAgICAgIDsKCiAgICAgICAgCiAgICAKICAgIAogICAgICAgICAgICB2YXIgY2lyY2xlX21hcmtlcl80OTU1MDE0N2Y1NzU0YzZiYmQ4ZWI0OWYzOThkODcyYyA9IEwuY2lyY2xlTWFya2VyKAogICAgICAgICAgICAgICAgWy00MS40MzMyMjE0OTk5OTk5OSwgMTQ3LjE0NDA4NzVdLAogICAgICAgICAgICAgICAgeyJidWJibGluZ01vdXNlRXZlbnRzIjogdHJ1ZSwgImNvbG9yIjogImIiLCAiZGFzaEFycmF5IjogbnVsbCwgImRhc2hPZmZzZXQiOiBudWxsLCAiZmlsbCI6IHRydWUsICJmaWxsQ29sb3IiOiAiYmx1ZSIsICJmaWxsT3BhY2l0eSI6IDAuNywgImZpbGxSdWxlIjogImV2ZW5vZGQiLCAibGluZUNhcCI6ICJyb3VuZCIsICJsaW5lSm9pbiI6ICJyb3VuZCIsICJvcGFjaXR5IjogMS4wLCAicmFkaXVzIjogMi41MjEzMzMzMzMzMzMzMzMsICJzdHJva2UiOiB0cnVlLCAid2VpZ2h0IjogM30KICAgICAgICAgICAgKS5hZGRUbyhtYXBfOGRkZjg4MTBlODVhNDJlNmIwODg4MmU3N2I3NmE0MzUpOwogICAgICAgIAogICAgCiAgICAgICAgdmFyIHBvcHVwX2ZiNTRlNDU5Y2RkZDRjYjk5MTQzM2ZlNTc3ZTEwYzMxID0gTC5wb3B1cCh7Im1heFdpZHRoIjogIjEwMCUifSk7CgogICAgICAgIAogICAgICAgICAgICB2YXIgaHRtbF9jNjBkMDAyMDIwZGI0NzBkYmJhZDMxOGNkMmY0MDMxNiA9ICQoYDxkaXYgaWQ9Imh0bWxfYzYwZDAwMjAyMGRiNDcwZGJiYWQzMThjZDJmNDAzMTYiIHN0eWxlPSJ3aWR0aDogMTAwLjAlOyBoZWlnaHQ6IDEwMC4wJTsiPkxhdW5jZXN0b24sIFRhc21hbmlhOjAuMTI2MDY2NjY2NjY2NjY2NjY8L2Rpdj5gKVswXTsKICAgICAgICAgICAgcG9wdXBfZmI1NGU0NTljZGRkNGNiOTkxNDMzZmU1NzdlMTBjMzEuc2V0Q29udGVudChodG1sX2M2MGQwMDIwMjBkYjQ3MGRiYmFkMzE4Y2QyZjQwMzE2KTsKICAgICAgICAKCiAgICAgICAgY2lyY2xlX21hcmtlcl80OTU1MDE0N2Y1NzU0YzZiYmQ4ZWI0OWYzOThkODcyYy5iaW5kUG9wdXAocG9wdXBfZmI1NGU0NTljZGRkNGNiOTkxNDMzZmU1NzdlMTBjMzEpCiAgICAgICAgOwoKICAgICAgICAKICAgIAogICAgCiAgICAgICAgICAgIHZhciBjaXJjbGVfbWFya2VyX2I5OTNiZDJlMDliNDQwYTk4MDkwNzE5ODI0NzliZmJlID0gTC5jaXJjbGVNYXJrZXIoCiAgICAgICAgICAgICAgICBbMzQuMDUyMjM0MiwgLTExOC4yNDM2ODQ5MDAwMDAwMl0sCiAgICAgICAgICAgICAgICB7ImJ1YmJsaW5nTW91c2VFdmVudHMiOiB0cnVlLCAiY29sb3IiOiAiYiIsICJkYXNoQXJyYXkiOiBudWxsLCAiZGFzaE9mZnNldCI6IG51bGwsICJmaWxsIjogdHJ1ZSwgImZpbGxDb2xvciI6ICJibHVlIiwgImZpbGxPcGFjaXR5IjogMC43LCAiZmlsbFJ1bGUiOiAiZXZlbm9kZCIsICJsaW5lQ2FwIjogInJvdW5kIiwgImxpbmVKb2luIjogInJvdW5kIiwgIm9wYWNpdHkiOiAxLjAsICJyYWRpdXMiOiA1LjkyLCAic3Ryb2tlIjogdHJ1ZSwgIndlaWdodCI6IDN9CiAgICAgICAgICAgICkuYWRkVG8obWFwXzhkZGY4ODEwZTg1YTQyZTZiMDg4ODJlNzdiNzZhNDM1KTsKICAgICAgICAKICAgIAogICAgICAgIHZhciBwb3B1cF9lZTBkOTA5ZWQ2ZTM0YzI2OTg2NDk4MjA1NzVjY2M1MSA9IEwucG9wdXAoeyJtYXhXaWR0aCI6ICIxMDAlIn0pOwoKICAgICAgICAKICAgICAgICAgICAgdmFyIGh0bWxfMGUzZjVkOTJiNDc2NGMwMjg4MjI0MTViYzY3OWRiN2YgPSAkKGA8ZGl2IGlkPSJodG1sXzBlM2Y1ZDkyYjQ3NjRjMDI4ODIyNDE1YmM2NzlkYjdmIiBzdHlsZT0id2lkdGg6IDEwMC4wJTsgaGVpZ2h0OiAxMDAuMCU7Ij5Mb3MgQW5nZWxlcywgQ0E6MC4yOTY8L2Rpdj5gKVswXTsKICAgICAgICAgICAgcG9wdXBfZWUwZDkwOWVkNmUzNGMyNjk4NjQ5ODIwNTc1Y2NjNTEuc2V0Q29udGVudChodG1sXzBlM2Y1ZDkyYjQ3NjRjMDI4ODIyNDE1YmM2NzlkYjdmKTsKICAgICAgICAKCiAgICAgICAgY2lyY2xlX21hcmtlcl9iOTkzYmQyZTA5YjQ0MGE5ODA5MDcxOTgyNDc5YmZiZS5iaW5kUG9wdXAocG9wdXBfZWUwZDkwOWVkNmUzNGMyNjk4NjQ5ODIwNTc1Y2NjNTEpCiAgICAgICAgOwoKICAgICAgICAKICAgIAogICAgCiAgICAgICAgICAgIHZhciBjaXJjbGVfbWFya2VyXzY2NTUyODE5OTI4MjQ4NWY5ZWZiZDM4Y2M5MWYyNTY5ID0gTC5jaXJjbGVNYXJrZXIoCiAgICAgICAgICAgICAgICBbNTMuMjU4NjYzLCAtMi4xMTkyODddLAogICAgICAgICAgICAgICAgeyJidWJibGluZ01vdXNlRXZlbnRzIjogdHJ1ZSwgImNvbG9yIjogImIiLCAiZGFzaEFycmF5IjogbnVsbCwgImRhc2hPZmZzZXQiOiBudWxsLCAiZmlsbCI6IHRydWUsICJmaWxsQ29sb3IiOiAiYmx1ZSIsICJmaWxsT3BhY2l0eSI6IDAuNywgImZpbGxSdWxlIjogImV2ZW5vZGQiLCAibGluZUNhcCI6ICJyb3VuZCIsICJsaW5lSm9pbiI6ICJyb3VuZCIsICJvcGFjaXR5IjogMS4wLCAicmFkaXVzIjogMTUuNDM0MDAwMDAwMDAwMDAxLCAic3Ryb2tlIjogdHJ1ZSwgIndlaWdodCI6IDN9CiAgICAgICAgICAgICkuYWRkVG8obWFwXzhkZGY4ODEwZTg1YTQyZTZiMDg4ODJlNzdiNzZhNDM1KTsKICAgICAgICAKICAgIAogICAgICAgIHZhciBwb3B1cF9lZTg4ZTAxYmM0MTY0ZjliYTFlMmM1MTBlZTg0ZTczZCA9IEwucG9wdXAoeyJtYXhXaWR0aCI6ICIxMDAlIn0pOwoKICAgICAgICAKICAgICAgICAgICAgdmFyIGh0bWxfMDBiN2YxYjdhNTVmNDQyMTk1OGIwZmEyN2Q4ODk0NjkgPSAkKGA8ZGl2IGlkPSJodG1sXzAwYjdmMWI3YTU1ZjQ0MjE5NThiMGZhMjdkODg5NDY5IiBzdHlsZT0id2lkdGg6IDEwMC4wJTsgaGVpZ2h0OiAxMDAuMCU7Ij5NYWNjbGVzZmllbGQsIEVuZ2xhbmQ6MC43NzE3PC9kaXY+YClbMF07CiAgICAgICAgICAgIHBvcHVwX2VlODhlMDFiYzQxNjRmOWJhMWUyYzUxMGVlODRlNzNkLnNldENvbnRlbnQoaHRtbF8wMGI3ZjFiN2E1NWY0NDIxOTU4YjBmYTI3ZDg4OTQ2OSk7CiAgICAgICAgCgogICAgICAgIGNpcmNsZV9tYXJrZXJfNjY1NTI4MTk5MjgyNDg1ZjllZmJkMzhjYzkxZjI1NjkuYmluZFBvcHVwKHBvcHVwX2VlODhlMDFiYzQxNjRmOWJhMWUyYzUxMGVlODRlNzNkKQogICAgICAgIDsKCiAgICAgICAgCiAgICAKICAgIAogICAgICAgICAgICB2YXIgY2lyY2xlX21hcmtlcl8xNzhjMDljY2Q5YTg0NjU3YmNlNGNhMDViMWY0NjBhNSA9IEwuY2lyY2xlTWFya2VyKAogICAgICAgICAgICAgICAgWy0yMS4xNDI0OTU2LCAxNDkuMTgyMTQ2OV0sCiAgICAgICAgICAgICAgICB7ImJ1YmJsaW5nTW91c2VFdmVudHMiOiB0cnVlLCAiY29sb3IiOiAiYiIsICJkYXNoQXJyYXkiOiBudWxsLCAiZGFzaE9mZnNldCI6IG51bGwsICJmaWxsIjogdHJ1ZSwgImZpbGxDb2xvciI6ICJyZWQiLCAiZmlsbE9wYWNpdHkiOiAwLjcsICJmaWxsUnVsZSI6ICJldmVub2RkIiwgImxpbmVDYXAiOiAicm91bmQiLCAibGluZUpvaW4iOiAicm91bmQiLCAib3BhY2l0eSI6IDEuMCwgInJhZGl1cyI6IDMuODc1LCAic3Ryb2tlIjogdHJ1ZSwgIndlaWdodCI6IDN9CiAgICAgICAgICAgICkuYWRkVG8obWFwXzhkZGY4ODEwZTg1YTQyZTZiMDg4ODJlNzdiNzZhNDM1KTsKICAgICAgICAKICAgIAogICAgICAgIHZhciBwb3B1cF8xMzNiYmM4Mzg2NjU0MjdkOTZhYzkzOGYzNjdiMTM4YiA9IEwucG9wdXAoeyJtYXhXaWR0aCI6ICIxMDAlIn0pOwoKICAgICAgICAKICAgICAgICAgICAgdmFyIGh0bWxfNzgwZjJhZjMwZmJlNGI3NDgyODlmZjNmN2RiYTNmNTIgPSAkKGA8ZGl2IGlkPSJodG1sXzc4MGYyYWYzMGZiZTRiNzQ4Mjg5ZmYzZjdkYmEzZjUyIiBzdHlsZT0id2lkdGg6IDEwMC4wJTsgaGVpZ2h0OiAxMDAuMCU7Ij5NYWNrYXksIFF1ZWVuc2xhbmQ6LTAuMTkzNzU8L2Rpdj5gKVswXTsKICAgICAgICAgICAgcG9wdXBfMTMzYmJjODM4NjY1NDI3ZDk2YWM5MzhmMzY3YjEzOGIuc2V0Q29udGVudChodG1sXzc4MGYyYWYzMGZiZTRiNzQ4Mjg5ZmYzZjdkYmEzZjUyKTsKICAgICAgICAKCiAgICAgICAgY2lyY2xlX21hcmtlcl8xNzhjMDljY2Q5YTg0NjU3YmNlNGNhMDViMWY0NjBhNS5iaW5kUG9wdXAocG9wdXBfMTMzYmJjODM4NjY1NDI3ZDk2YWM5MzhmMzY3YjEzOGIpCiAgICAgICAgOwoKICAgICAgICAKICAgIAogICAgCiAgICAgICAgICAgIHZhciBjaXJjbGVfbWFya2VyXzllMWMwMTQ4ODE3ODRiYmQ4NDcwYTFiZTUxNGJkOWZmID0gTC5jaXJjbGVNYXJrZXIoCiAgICAgICAgICAgICAgICBbLTMyLjUzNjEwMzgsIDExNS43NDI0MDc3XSwKICAgICAgICAgICAgICAgIHsiYnViYmxpbmdNb3VzZUV2ZW50cyI6IHRydWUsICJjb2xvciI6ICJiIiwgImRhc2hBcnJheSI6IG51bGwsICJkYXNoT2Zmc2V0IjogbnVsbCwgImZpbGwiOiB0cnVlLCAiZmlsbENvbG9yIjogImJsdWUiLCAiZmlsbE9wYWNpdHkiOiAwLjcsICJmaWxsUnVsZSI6ICJldmVub2RkIiwgImxpbmVDYXAiOiAicm91bmQiLCAibGluZUpvaW4iOiAicm91bmQiLCAib3BhY2l0eSI6IDEuMCwgInJhZGl1cyI6IDE3LjA0NCwgInN0cm9rZSI6IHRydWUsICJ3ZWlnaHQiOiAzfQogICAgICAgICAgICApLmFkZFRvKG1hcF84ZGRmODgxMGU4NWE0MmU2YjA4ODgyZTc3Yjc2YTQzNSk7CiAgICAgICAgCiAgICAKICAgICAgICB2YXIgcG9wdXBfNjVjMzE5ZjJkN2JjNGJjMDk1YzI4Zjg2OTE4Y2FlNWUgPSBMLnBvcHVwKHsibWF4V2lkdGgiOiAiMTAwJSJ9KTsKCiAgICAgICAgCiAgICAgICAgICAgIHZhciBodG1sXzM2NDQ4ZjBlMDU1NDQ5N2U4YTNjMmNkZjY2OTgzNTIzID0gJChgPGRpdiBpZD0iaHRtbF8zNjQ0OGYwZTA1NTQ0OTdlOGEzYzJjZGY2Njk4MzUyMyIgc3R5bGU9IndpZHRoOiAxMDAuMCU7IGhlaWdodDogMTAwLjAlOyI+TWFuZHVyYWgsIFBlcnRoIChXQSk6MC44NTIyPC9kaXY+YClbMF07CiAgICAgICAgICAgIHBvcHVwXzY1YzMxOWYyZDdiYzRiYzA5NWMyOGY4NjkxOGNhZTVlLnNldENvbnRlbnQoaHRtbF8zNjQ0OGYwZTA1NTQ0OTdlOGEzYzJjZGY2Njk4MzUyMyk7CiAgICAgICAgCgogICAgICAgIGNpcmNsZV9tYXJrZXJfOWUxYzAxNDg4MTc4NGJiZDg0NzBhMWJlNTE0YmQ5ZmYuYmluZFBvcHVwKHBvcHVwXzY1YzMxOWYyZDdiYzRiYzA5NWMyOGY4NjkxOGNhZTVlKQogICAgICAgIDsKCiAgICAgICAgCiAgICAKICAgIAogICAgICAgICAgICB2YXIgY2lyY2xlX21hcmtlcl9mMjUyYzlhODYzMDM0MTljOGQ0ZjdhZDM0MWI0OWRkYSA9IEwuY2lyY2xlTWFya2VyKAogICAgICAgICAgICAgICAgWy0zNy44MTM2Mjc2MDAwMDAwMDQsIDE0NC45NjMwNTc1OTk5OTk5OF0sCiAgICAgICAgICAgICAgICB7ImJ1YmJsaW5nTW91c2VFdmVudHMiOiB0cnVlLCAiY29sb3IiOiAiYiIsICJkYXNoQXJyYXkiOiBudWxsLCAiZGFzaE9mZnNldCI6IG51bGwsICJmaWxsIjogdHJ1ZSwgImZpbGxDb2xvciI6ICJibHVlIiwgImZpbGxPcGFjaXR5IjogMC43LCAiZmlsbFJ1bGUiOiAiZXZlbm9kZCIsICJsaW5lQ2FwIjogInJvdW5kIiwgImxpbmVKb2luIjogInJvdW5kIiwgIm9wYWNpdHkiOiAxLjAsICJyYWRpdXMiOiA2LjI5Nzk4MTk4MTk4MTk4NCwgInN0cm9rZSI6IHRydWUsICJ3ZWlnaHQiOiAzfQogICAgICAgICAgICApLmFkZFRvKG1hcF84ZGRmODgxMGU4NWE0MmU2YjA4ODgyZTc3Yjc2YTQzNSk7CiAgICAgICAgCiAgICAKICAgICAgICB2YXIgcG9wdXBfZmNhMzBlM2YzM2M1NGM1M2FjOTJlMWVmOWViY2QwNmYgPSBMLnBvcHVwKHsibWF4V2lkdGgiOiAiMTAwJSJ9KTsKCiAgICAgICAgCiAgICAgICAgICAgIHZhciBodG1sX2U1OWJiNmQzZjNhZDQ0MmY5NDdhOTBjNTcwOTI0YzZhID0gJChgPGRpdiBpZD0iaHRtbF9lNTliYjZkM2YzYWQ0NDJmOTQ3YTkwYzU3MDkyNGM2YSIgc3R5bGU9IndpZHRoOiAxMDAuMCU7IGhlaWdodDogMTAwLjAlOyI+TWVsYm91cm5lLCBWaWN0b3JpYTowLjMxNDg5OTA5OTA5OTA5OTI8L2Rpdj5gKVswXTsKICAgICAgICAgICAgcG9wdXBfZmNhMzBlM2YzM2M1NGM1M2FjOTJlMWVmOWViY2QwNmYuc2V0Q29udGVudChodG1sX2U1OWJiNmQzZjNhZDQ0MmY5NDdhOTBjNTcwOTI0YzZhKTsKICAgICAgICAKCiAgICAgICAgY2lyY2xlX21hcmtlcl9mMjUyYzlhODYzMDM0MTljOGQ0ZjdhZDM0MWI0OWRkYS5iaW5kUG9wdXAocG9wdXBfZmNhMzBlM2YzM2M1NGM1M2FjOTJlMWVmOWViY2QwNmYpCiAgICAgICAgOwoKICAgICAgICAKICAgIAogICAgCiAgICAgICAgICAgIHZhciBjaXJjbGVfbWFya2VyX2E3NjAzNGI1MTMwNjRjMDFhNmVhMjZmM2FiYTYwMmI2ID0gTC5jaXJjbGVNYXJrZXIoCiAgICAgICAgICAgICAgICBbLTM4LjE4OSwgMTQ1LjA5Ml0sCiAgICAgICAgICAgICAgICB7ImJ1YmJsaW5nTW91c2VFdmVudHMiOiB0cnVlLCAiY29sb3IiOiAiYiIsICJkYXNoQXJyYXkiOiBudWxsLCAiZGFzaE9mZnNldCI6IG51bGwsICJmaWxsIjogdHJ1ZSwgImZpbGxDb2xvciI6ICJibHVlIiwgImZpbGxPcGFjaXR5IjogMC43LCAiZmlsbFJ1bGUiOiAiZXZlbm9kZCIsICJsaW5lQ2FwIjogInJvdW5kIiwgImxpbmVKb2luIjogInJvdW5kIiwgIm9wYWNpdHkiOiAxLjAsICJyYWRpdXMiOiAzLjQwOTAwMDAwMDAwMDAwMDMsICJzdHJva2UiOiB0cnVlLCAid2VpZ2h0IjogM30KICAgICAgICAgICAgKS5hZGRUbyhtYXBfOGRkZjg4MTBlODVhNDJlNmIwODg4MmU3N2I3NmE0MzUpOwogICAgICAgIAogICAgCiAgICAgICAgdmFyIHBvcHVwXzlhYjcxODczYWZmODQxZDk4Zjc4MTQ1ZmJhOWMyZDgzID0gTC5wb3B1cCh7Im1heFdpZHRoIjogIjEwMCUifSk7CgogICAgICAgIAogICAgICAgICAgICB2YXIgaHRtbF9hODQzYmFhY2Y5Yzc0NDgxYjMyN2E3OGI1Mzg3MjgyYSA9ICQoYDxkaXYgaWQ9Imh0bWxfYTg0M2JhYWNmOWM3NDQ4MWIzMjdhNzhiNTM4NzI4MmEiIHN0eWxlPSJ3aWR0aDogMTAwLjAlOyBoZWlnaHQ6IDEwMC4wJTsiPk1vdW50IEVsaXphLCBNZWxib3VybmU6MC4xNzA0NTAwMDAwMDAwMDAwMjwvZGl2PmApWzBdOwogICAgICAgICAgICBwb3B1cF85YWI3MTg3M2FmZjg0MWQ5OGY3ODE0NWZiYTljMmQ4My5zZXRDb250ZW50KGh0bWxfYTg0M2JhYWNmOWM3NDQ4MWIzMjdhNzhiNTM4NzI4MmEpOwogICAgICAgIAoKICAgICAgICBjaXJjbGVfbWFya2VyX2E3NjAzNGI1MTMwNjRjMDFhNmVhMjZmM2FiYTYwMmI2LmJpbmRQb3B1cChwb3B1cF85YWI3MTg3M2FmZjg0MWQ5OGY3ODE0NWZiYTljMmQ4MykKICAgICAgICA7CgogICAgICAgIAogICAgCiAgICAKICAgICAgICAgICAgdmFyIGNpcmNsZV9tYXJrZXJfYWM3Njg5YjQ1ZjkwNDY0NGE1MjUyNmNhNGIzOWFlNzggPSBMLmNpcmNsZU1hcmtlcigKICAgICAgICAgICAgICAgIFsxOS4wNzU5ODM3LCA3Mi44Nzc2NTU5MDAwMDAwMV0sCiAgICAgICAgICAgICAgICB7ImJ1YmJsaW5nTW91c2VFdmVudHMiOiB0cnVlLCAiY29sb3IiOiAiYiIsICJkYXNoQXJyYXkiOiBudWxsLCAiZGFzaE9mZnNldCI6IG51bGwsICJmaWxsIjogdHJ1ZSwgImZpbGxDb2xvciI6ICJibHVlIiwgImZpbGxPcGFjaXR5IjogMC43LCAiZmlsbFJ1bGUiOiAiZXZlbm9kZCIsICJsaW5lQ2FwIjogInJvdW5kIiwgImxpbmVKb2luIjogInJvdW5kIiwgIm9wYWNpdHkiOiAxLjAsICJyYWRpdXMiOiA5Ljg3OCwgInN0cm9rZSI6IHRydWUsICJ3ZWlnaHQiOiAzfQogICAgICAgICAgICApLmFkZFRvKG1hcF84ZGRmODgxMGU4NWE0MmU2YjA4ODgyZTc3Yjc2YTQzNSk7CiAgICAgICAgCiAgICAKICAgICAgICB2YXIgcG9wdXBfYWM1MjJmN2E5YzNjNDM3OWE5OTYzOGQ4M2NhMzYxZGIgPSBMLnBvcHVwKHsibWF4V2lkdGgiOiAiMTAwJSJ9KTsKCiAgICAgICAgCiAgICAgICAgICAgIHZhciBodG1sXzc1OTcxZDZiOGY3ZTRkNGFiZGZiMDA3NzVmNjEwZWVkID0gJChgPGRpdiBpZD0iaHRtbF83NTk3MWQ2YjhmN2U0ZDRhYmRmYjAwNzc1ZjYxMGVlZCIgc3R5bGU9IndpZHRoOiAxMDAuMCU7IGhlaWdodDogMTAwLjAlOyI+TXVtYmFpLCBJbmRpYTowLjQ5Mzk8L2Rpdj5gKVswXTsKICAgICAgICAgICAgcG9wdXBfYWM1MjJmN2E5YzNjNDM3OWE5OTYzOGQ4M2NhMzYxZGIuc2V0Q29udGVudChodG1sXzc1OTcxZDZiOGY3ZTRkNGFiZGZiMDA3NzVmNjEwZWVkKTsKICAgICAgICAKCiAgICAgICAgY2lyY2xlX21hcmtlcl9hYzc2ODliNDVmOTA0NjQ0YTUyNTI2Y2E0YjM5YWU3OC5iaW5kUG9wdXAocG9wdXBfYWM1MjJmN2E5YzNjNDM3OWE5OTYzOGQ4M2NhMzYxZGIpCiAgICAgICAgOwoKICAgICAgICAKICAgIAogICAgCiAgICAgICAgICAgIHZhciBjaXJjbGVfbWFya2VyXzM3OTYxMGNiMjAyNDQ0YThhOTE3ZmQxNDQzNzM5OWM1ID0gTC5jaXJjbGVNYXJrZXIoCiAgICAgICAgICAgICAgICBbLTM1LjEzMTE0OTEsIDEzOS4yNjUwOTAxOTk5OTk5N10sCiAgICAgICAgICAgICAgICB7ImJ1YmJsaW5nTW91c2VFdmVudHMiOiB0cnVlLCAiY29sb3IiOiAiYiIsICJkYXNoQXJyYXkiOiBudWxsLCAiZGFzaE9mZnNldCI6IG51bGwsICJmaWxsIjogdHJ1ZSwgImZpbGxDb2xvciI6ICJibHVlIiwgImZpbGxPcGFjaXR5IjogMC43LCAiZmlsbFJ1bGUiOiAiZXZlbm9kZCIsICJsaW5lQ2FwIjogInJvdW5kIiwgImxpbmVKb2luIjogInJvdW5kIiwgIm9wYWNpdHkiOiAxLjAsICJyYWRpdXMiOiAxNC44NiwgInN0cm9rZSI6IHRydWUsICJ3ZWlnaHQiOiAzfQogICAgICAgICAgICApLmFkZFRvKG1hcF84ZGRmODgxMGU4NWE0MmU2YjA4ODgyZTc3Yjc2YTQzNSk7CiAgICAgICAgCiAgICAKICAgICAgICB2YXIgcG9wdXBfMzYwNTYzMDdmN2EzNDhkNjhiNWVmNzA0ZDcxYWQyZGIgPSBMLnBvcHVwKHsibWF4V2lkdGgiOiAiMTAwJSJ9KTsKCiAgICAgICAgCiAgICAgICAgICAgIHZhciBodG1sXzc0YWVjZTU2ZmY1ZTRjNjVhZDAzN2M5MjY2M2U0YWEyID0gJChgPGRpdiBpZD0iaHRtbF83NGFlY2U1NmZmNWU0YzY1YWQwMzdjOTI2NjNlNGFhMiIgc3R5bGU9IndpZHRoOiAxMDAuMCU7IGhlaWdodDogMTAwLjAlOyI+TXVycmF5IEJyaWRnZSwgU291dGggQXVzdHJhbGlhOjAuNzQzPC9kaXY+YClbMF07CiAgICAgICAgICAgIHBvcHVwXzM2MDU2MzA3ZjdhMzQ4ZDY4YjVlZjcwNGQ3MWFkMmRiLnNldENvbnRlbnQoaHRtbF83NGFlY2U1NmZmNWU0YzY1YWQwMzdjOTI2NjNlNGFhMik7CiAgICAgICAgCgogICAgICAgIGNpcmNsZV9tYXJrZXJfMzc5NjEwY2IyMDI0NDRhOGE5MTdmZDE0NDM3Mzk5YzUuYmluZFBvcHVwKHBvcHVwXzM2MDU2MzA3ZjdhMzQ4ZDY4YjVlZjcwNGQ3MWFkMmRiKQogICAgICAgIDsKCiAgICAgICAgCiAgICAKICAgIAogICAgICAgICAgICB2YXIgY2lyY2xlX21hcmtlcl9kNGFiNTUwMDE1MTg0ZjhmOTg4NTQ1ODRhNWIyNGU4NyA9IEwuY2lyY2xlTWFya2VyKAogICAgICAgICAgICAgICAgWy0yNi42MjM2OTgzLCAxNTIuOTU4NzcwNl0sCiAgICAgICAgICAgICAgICB7ImJ1YmJsaW5nTW91c2VFdmVudHMiOiB0cnVlLCAiY29sb3IiOiAiYiIsICJkYXNoQXJyYXkiOiBudWxsLCAiZGFzaE9mZnNldCI6IG51bGwsICJmaWxsIjogdHJ1ZSwgImZpbGxDb2xvciI6ICJyZWQiLCAiZmlsbE9wYWNpdHkiOiAwLjcsICJmaWxsUnVsZSI6ICJldmVub2RkIiwgImxpbmVDYXAiOiAicm91bmQiLCAibGluZUpvaW4iOiAicm91bmQiLCAib3BhY2l0eSI6IDEuMCwgInJhZGl1cyI6IDExLjYzLCAic3Ryb2tlIjogdHJ1ZSwgIndlaWdodCI6IDN9CiAgICAgICAgICAgICkuYWRkVG8obWFwXzhkZGY4ODEwZTg1YTQyZTZiMDg4ODJlNzdiNzZhNDM1KTsKICAgICAgICAKICAgIAogICAgICAgIHZhciBwb3B1cF83MzFhNDcyNjExYTE0YTI2YjNjNGU3MzQzMTk1ZTk3ZCA9IEwucG9wdXAoeyJtYXhXaWR0aCI6ICIxMDAlIn0pOwoKICAgICAgICAKICAgICAgICAgICAgdmFyIGh0bWxfM2U3ZDhkODM3MTg4NDY4N2FjMzg1MWRjMDczY2Q2YzYgPSAkKGA8ZGl2IGlkPSJodG1sXzNlN2Q4ZDgzNzE4ODQ2ODdhYzM4NTFkYzA3M2NkNmM2IiBzdHlsZT0id2lkdGg6IDEwMC4wJTsgaGVpZ2h0OiAxMDAuMCU7Ij5OYW1ib3VyLCBRdWVlbnNsYW5kOi0wLjU4MTU8L2Rpdj5gKVswXTsKICAgICAgICAgICAgcG9wdXBfNzMxYTQ3MjYxMWExNGEyNmIzYzRlNzM0MzE5NWU5N2Quc2V0Q29udGVudChodG1sXzNlN2Q4ZDgzNzE4ODQ2ODdhYzM4NTFkYzA3M2NkNmM2KTsKICAgICAgICAKCiAgICAgICAgY2lyY2xlX21hcmtlcl9kNGFiNTUwMDE1MTg0ZjhmOTg4NTQ1ODRhNWIyNGU4Ny5iaW5kUG9wdXAocG9wdXBfNzMxYTQ3MjYxMWExNGEyNmIzYzRlNzM0MzE5NWU5N2QpCiAgICAgICAgOwoKICAgICAgICAKICAgIAogICAgCiAgICAgICAgICAgIHZhciBjaXJjbGVfbWFya2VyXzJkZjlmZjg3NDA3MzQwYWI4ZmI5ODgwOTFiNzRlYTRhID0gTC5jaXJjbGVNYXJrZXIoCiAgICAgICAgICAgICAgICBbLTMxLjI1MzIxODMsIDE0Ni45MjEwOTldLAogICAgICAgICAgICAgICAgeyJidWJibGluZ01vdXNlRXZlbnRzIjogdHJ1ZSwgImNvbG9yIjogImIiLCAiZGFzaEFycmF5IjogbnVsbCwgImRhc2hPZmZzZXQiOiBudWxsLCAiZmlsbCI6IHRydWUsICJmaWxsQ29sb3IiOiAiYmx1ZSIsICJmaWxsT3BhY2l0eSI6IDAuNywgImZpbGxSdWxlIjogImV2ZW5vZGQiLCAibGluZUNhcCI6ICJyb3VuZCIsICJsaW5lSm9pbiI6ICJyb3VuZCIsICJvcGFjaXR5IjogMS4wLCAicmFkaXVzIjogNy44NzQ0MDAwMDAwMDAwMDA1LCAic3Ryb2tlIjogdHJ1ZSwgIndlaWdodCI6IDN9CiAgICAgICAgICAgICkuYWRkVG8obWFwXzhkZGY4ODEwZTg1YTQyZTZiMDg4ODJlNzdiNzZhNDM1KTsKICAgICAgICAKICAgIAogICAgICAgIHZhciBwb3B1cF8xODdkMjAzNDczMDY0OTFkYTE3YTI0NTQ1MTVkZDY5OSA9IEwucG9wdXAoeyJtYXhXaWR0aCI6ICIxMDAlIn0pOwoKICAgICAgICAKICAgICAgICAgICAgdmFyIGh0bWxfMTI0NGRkZmMzYTIzNDE2MGJlOWEwOThmZWE3ZDkzNzggPSAkKGA8ZGl2IGlkPSJodG1sXzEyNDRkZGZjM2EyMzQxNjBiZTlhMDk4ZmVhN2Q5Mzc4IiBzdHlsZT0id2lkdGg6IDEwMC4wJTsgaGVpZ2h0OiAxMDAuMCU7Ij5OZXcgU291dGggV2FsZXMsIEF1c3RyYWxpYTowLjM5MzcyPC9kaXY+YClbMF07CiAgICAgICAgICAgIHBvcHVwXzE4N2QyMDM0NzMwNjQ5MWRhMTdhMjQ1NDUxNWRkNjk5LnNldENvbnRlbnQoaHRtbF8xMjQ0ZGRmYzNhMjM0MTYwYmU5YTA5OGZlYTdkOTM3OCk7CiAgICAgICAgCgogICAgICAgIGNpcmNsZV9tYXJrZXJfMmRmOWZmODc0MDczNDBhYjhmYjk4ODA5MWI3NGVhNGEuYmluZFBvcHVwKHBvcHVwXzE4N2QyMDM0NzMwNjQ5MWRhMTdhMjQ1NDUxNWRkNjk5KQogICAgICAgIDsKCiAgICAgICAgCiAgICAKICAgIAogICAgICAgICAgICB2YXIgY2lyY2xlX21hcmtlcl83ZDIzOTMyNTA0NGY0YmQzYWMxYzU5OTFlZTlhYTVhNSA9IEwuY2lyY2xlTWFya2VyKAogICAgICAgICAgICAgICAgWy0zMi45MjgyNzEyLCAxNTEuNzgxNjgwMTk5OTk5OThdLAogICAgICAgICAgICAgICAgeyJidWJibGluZ01vdXNlRXZlbnRzIjogdHJ1ZSwgImNvbG9yIjogImIiLCAiZGFzaEFycmF5IjogbnVsbCwgImRhc2hPZmZzZXQiOiBudWxsLCAiZmlsbCI6IHRydWUsICJmaWxsQ29sb3IiOiAiYmx1ZSIsICJmaWxsT3BhY2l0eSI6IDAuNywgImZpbGxSdWxlIjogImV2ZW5vZGQiLCAibGluZUNhcCI6ICJyb3VuZCIsICJsaW5lSm9pbiI6ICJyb3VuZCIsICJvcGFjaXR5IjogMS4wLCAicmFkaXVzIjogNy44MTQ1LCAic3Ryb2tlIjogdHJ1ZSwgIndlaWdodCI6IDN9CiAgICAgICAgICAgICkuYWRkVG8obWFwXzhkZGY4ODEwZTg1YTQyZTZiMDg4ODJlNzdiNzZhNDM1KTsKICAgICAgICAKICAgIAogICAgICAgIHZhciBwb3B1cF81ODcyMDI3ZmMwYTk0NDgzYTgwZTUxYjVjYTY5MjgxMiA9IEwucG9wdXAoeyJtYXhXaWR0aCI6ICIxMDAlIn0pOwoKICAgICAgICAKICAgICAgICAgICAgdmFyIGh0bWxfYjdlNTdjYjMyMzA2NDhhMTk1MjBjMWQ4YjdlYThmY2MgPSAkKGA8ZGl2IGlkPSJodG1sX2I3ZTU3Y2IzMjMwNjQ4YTE5NTIwYzFkOGI3ZWE4ZmNjIiBzdHlsZT0id2lkdGg6IDEwMC4wJTsgaGVpZ2h0OiAxMDAuMCU7Ij5OZXdjYXN0bGUsIE5ldyBTb3V0aCBXYWxlczowLjM5MDcyNTwvZGl2PmApWzBdOwogICAgICAgICAgICBwb3B1cF81ODcyMDI3ZmMwYTk0NDgzYTgwZTUxYjVjYTY5MjgxMi5zZXRDb250ZW50KGh0bWxfYjdlNTdjYjMyMzA2NDhhMTk1MjBjMWQ4YjdlYThmY2MpOwogICAgICAgIAoKICAgICAgICBjaXJjbGVfbWFya2VyXzdkMjM5MzI1MDQ0ZjRiZDNhYzFjNTk5MWVlOWFhNWE1LmJpbmRQb3B1cChwb3B1cF81ODcyMDI3ZmMwYTk0NDgzYTgwZTUxYjVjYTY5MjgxMikKICAgICAgICA7CgogICAgICAgIAogICAgCiAgICAKICAgICAgICAgICAgdmFyIGNpcmNsZV9tYXJrZXJfNTNmNzEzM2MzNzgyNDkyY2I3ZjZmZDc4N2RmNjNjODggPSBMLmNpcmNsZU1hcmtlcigKICAgICAgICAgICAgICAgIFstNi4zMTQ5OTI5OTk5OTk5OTg1LCAxNDMuOTU1NTVdLAogICAgICAgICAgICAgICAgeyJidWJibGluZ01vdXNlRXZlbnRzIjogdHJ1ZSwgImNvbG9yIjogImIiLCAiZGFzaEFycmF5IjogbnVsbCwgImRhc2hPZmZzZXQiOiBudWxsLCAiZmlsbCI6IHRydWUsICJmaWxsQ29sb3IiOiAicmVkIiwgImZpbGxPcGFjaXR5IjogMC43LCAiZmlsbFJ1bGUiOiAiZXZlbm9kZCIsICJsaW5lQ2FwIjogInJvdW5kIiwgImxpbmVKb2luIjogInJvdW5kIiwgIm9wYWNpdHkiOiAxLjAsICJyYWRpdXMiOiAxNC4zNjgsICJzdHJva2UiOiB0cnVlLCAid2VpZ2h0IjogM30KICAgICAgICAgICAgKS5hZGRUbyhtYXBfOGRkZjg4MTBlODVhNDJlNmIwODg4MmU3N2I3NmE0MzUpOwogICAgICAgIAogICAgCiAgICAgICAgdmFyIHBvcHVwXzJlODc2YTQzNzJlYzQ2MDViYjU2ODMyZDExNzIwMTY5ID0gTC5wb3B1cCh7Im1heFdpZHRoIjogIjEwMCUifSk7CgogICAgICAgIAogICAgICAgICAgICB2YXIgaHRtbF9mYWJlZTFlMjU3OTY0YzM2OTEyMDdkZmVjZjEzNzVjZCA9ICQoYDxkaXYgaWQ9Imh0bWxfZmFiZWUxZTI1Nzk2NGMzNjkxMjA3ZGZlY2YxMzc1Y2QiIHN0eWxlPSJ3aWR0aDogMTAwLjAlOyBoZWlnaHQ6IDEwMC4wJTsiPlBhcHVhIE5ldyBHdWluZWE6LTAuNzE4NDwvZGl2PmApWzBdOwogICAgICAgICAgICBwb3B1cF8yZTg3NmE0MzcyZWM0NjA1YmI1NjgzMmQxMTcyMDE2OS5zZXRDb250ZW50KGh0bWxfZmFiZWUxZTI1Nzk2NGMzNjkxMjA3ZGZlY2YxMzc1Y2QpOwogICAgICAgIAoKICAgICAgICBjaXJjbGVfbWFya2VyXzUzZjcxMzNjMzc4MjQ5MmNiN2Y2ZmQ3ODdkZjYzYzg4LmJpbmRQb3B1cChwb3B1cF8yZTg3NmE0MzcyZWM0NjA1YmI1NjgzMmQxMTcyMDE2OSkKICAgICAgICA7CgogICAgICAgIAogICAgCiAgICAKICAgICAgICAgICAgdmFyIGNpcmNsZV9tYXJrZXJfMGU2ZWUzNjE2MWI0NDc5YWJiNWFjMzI3NjU3ZjdmYTQgPSBMLmNpcmNsZU1hcmtlcigKICAgICAgICAgICAgICAgIFstMzEuOTUwNTI2ODk5OTk5OTk2LCAxMTUuODYwNDU3Ml0sCiAgICAgICAgICAgICAgICB7ImJ1YmJsaW5nTW91c2VFdmVudHMiOiB0cnVlLCAiY29sb3IiOiAiYiIsICJkYXNoQXJyYXkiOiBudWxsLCAiZGFzaE9mZnNldCI6IG51bGwsICJmaWxsIjogdHJ1ZSwgImZpbGxDb2xvciI6ICJibHVlIiwgImZpbGxPcGFjaXR5IjogMC43LCAiZmlsbFJ1bGUiOiAiZXZlbm9kZCIsICJsaW5lQ2FwIjogInJvdW5kIiwgImxpbmVKb2luIjogInJvdW5kIiwgIm9wYWNpdHkiOiAxLjAsICJyYWRpdXMiOiAzLjk4NjU0MDU0MDU0MDU0MSwgInN0cm9rZSI6IHRydWUsICJ3ZWlnaHQiOiAzfQogICAgICAgICAgICApLmFkZFRvKG1hcF84ZGRmODgxMGU4NWE0MmU2YjA4ODgyZTc3Yjc2YTQzNSk7CiAgICAgICAgCiAgICAKICAgICAgICB2YXIgcG9wdXBfZmNiMjBiYzE5Y2NlNGI0MGFhMzEyYzFmZTYwMzFhNGMgPSBMLnBvcHVwKHsibWF4V2lkdGgiOiAiMTAwJSJ9KTsKCiAgICAgICAgCiAgICAgICAgICAgIHZhciBodG1sX2EwYTBjZGMwZDUyZDRjMGI5NjdjOTM5OWMxMjU2NDVhID0gJChgPGRpdiBpZD0iaHRtbF9hMGEwY2RjMGQ1MmQ0YzBiOTY3YzkzOTljMTI1NjQ1YSIgc3R5bGU9IndpZHRoOiAxMDAuMCU7IGhlaWdodDogMTAwLjAlOyI+UGVydGgsIFdlc3Rlcm4gQXVzdHJhbGlhOjAuMTk5MzI3MDI3MDI3MDI3MDQ8L2Rpdj5gKVswXTsKICAgICAgICAgICAgcG9wdXBfZmNiMjBiYzE5Y2NlNGI0MGFhMzEyYzFmZTYwMzFhNGMuc2V0Q29udGVudChodG1sX2EwYTBjZGMwZDUyZDRjMGI5NjdjOTM5OWMxMjU2NDVhKTsKICAgICAgICAKCiAgICAgICAgY2lyY2xlX21hcmtlcl8wZTZlZTM2MTYxYjQ0NzlhYmI1YWMzMjc2NTdmN2ZhNC5iaW5kUG9wdXAocG9wdXBfZmNiMjBiYzE5Y2NlNGI0MGFhMzEyYzFmZTYwMzFhNGMpCiAgICAgICAgOwoKICAgICAgICAKICAgIAogICAgCiAgICAgICAgICAgIHZhciBjaXJjbGVfbWFya2VyXzI3Y2U2NWRmMTEyYjRiOGNhNmQwOWY4ODljODNkNThkID0gTC5jaXJjbGVNYXJrZXIoCiAgICAgICAgICAgICAgICBbLTMxLjQzMzMzMywgMTUyLjldLAogICAgICAgICAgICAgICAgeyJidWJibGluZ01vdXNlRXZlbnRzIjogdHJ1ZSwgImNvbG9yIjogImIiLCAiZGFzaEFycmF5IjogbnVsbCwgImRhc2hPZmZzZXQiOiBudWxsLCAiZmlsbCI6IHRydWUsICJmaWxsQ29sb3IiOiAiYmx1ZSIsICJmaWxsT3BhY2l0eSI6IDAuNywgImZpbGxSdWxlIjogImV2ZW5vZGQiLCAibGluZUNhcCI6ICJyb3VuZCIsICJsaW5lSm9pbiI6ICJyb3VuZCIsICJvcGFjaXR5IjogMS4wLCAicmFkaXVzIjogNy4yMjQsICJzdHJva2UiOiB0cnVlLCAid2VpZ2h0IjogM30KICAgICAgICAgICAgKS5hZGRUbyhtYXBfOGRkZjg4MTBlODVhNDJlNmIwODg4MmU3N2I3NmE0MzUpOwogICAgICAgIAogICAgCiAgICAgICAgdmFyIHBvcHVwX2U4YjYyMzY3YzVhMjRkMDQ5MzNiNjY1ZDU0YjVmMjIxID0gTC5wb3B1cCh7Im1heFdpZHRoIjogIjEwMCUifSk7CgogICAgICAgIAogICAgICAgICAgICB2YXIgaHRtbF9lNGI2ZDQ0NDRiMjE0ZDliYmU2OTdkYzI5OWNhNWM1YiA9ICQoYDxkaXYgaWQ9Imh0bWxfZTRiNmQ0NDQ0YjIxNGQ5YmJlNjk3ZGMyOTljYTVjNWIiIHN0eWxlPSJ3aWR0aDogMTAwLjAlOyBoZWlnaHQ6IDEwMC4wJTsiPlBvcnQgTWFjcXVhcmllLCBOZXcgU291dGggV2FsZXM6MC4zNjEyPC9kaXY+YClbMF07CiAgICAgICAgICAgIHBvcHVwX2U4YjYyMzY3YzVhMjRkMDQ5MzNiNjY1ZDU0YjVmMjIxLnNldENvbnRlbnQoaHRtbF9lNGI2ZDQ0NDRiMjE0ZDliYmU2OTdkYzI5OWNhNWM1Yik7CiAgICAgICAgCgogICAgICAgIGNpcmNsZV9tYXJrZXJfMjdjZTY1ZGYxMTJiNGI4Y2E2ZDA5Zjg4OWM4M2Q1OGQuYmluZFBvcHVwKHBvcHVwX2U4YjYyMzY3YzVhMjRkMDQ5MzNiNjY1ZDU0YjVmMjIxKQogICAgICAgIDsKCiAgICAgICAgCiAgICAKICAgIAogICAgICAgICAgICB2YXIgY2lyY2xlX21hcmtlcl8yZWViYWU4ZmExYjk0MzgzYWRjNmM5NjU4Njc0ZWZkYiA9IEwuY2lyY2xlTWFya2VyKAogICAgICAgICAgICAgICAgWy0zOC4zNjA4OTUsIDE0MS42MDQxMTU1XSwKICAgICAgICAgICAgICAgIHsiYnViYmxpbmdNb3VzZUV2ZW50cyI6IHRydWUsICJjb2xvciI6ICJiIiwgImRhc2hBcnJheSI6IG51bGwsICJkYXNoT2Zmc2V0IjogbnVsbCwgImZpbGwiOiB0cnVlLCAiZmlsbENvbG9yIjogImJsdWUiLCAiZmlsbE9wYWNpdHkiOiAwLjcsICJmaWxsUnVsZSI6ICJldmVub2RkIiwgImxpbmVDYXAiOiAicm91bmQiLCAibGluZUpvaW4iOiAicm91bmQiLCAib3BhY2l0eSI6IDEuMCwgInJhZGl1cyI6IDEuNDkwOTk5OTk5OTk5OTk5LCAic3Ryb2tlIjogdHJ1ZSwgIndlaWdodCI6IDN9CiAgICAgICAgICAgICkuYWRkVG8obWFwXzhkZGY4ODEwZTg1YTQyZTZiMDg4ODJlNzdiNzZhNDM1KTsKICAgICAgICAKICAgIAogICAgICAgIHZhciBwb3B1cF8wYTQzNjgwOGExMTU0MzcxYjM3NjkzMmVjNjM5ZTVmMSA9IEwucG9wdXAoeyJtYXhXaWR0aCI6ICIxMDAlIn0pOwoKICAgICAgICAKICAgICAgICAgICAgdmFyIGh0bWxfNjA1NTdmNzM3OWRjNDQyZGFmZDI3NjZlMDYyZDZhZTEgPSAkKGA8ZGl2IGlkPSJodG1sXzYwNTU3ZjczNzlkYzQ0MmRhZmQyNzY2ZTA2MmQ2YWUxIiBzdHlsZT0id2lkdGg6IDEwMC4wJTsgaGVpZ2h0OiAxMDAuMCU7Ij5Qb3J0bGFuZCAoVmljLiksIFZpY3RvcmlhOjAuMDc0NTQ5OTk5OTk5OTk5OTU8L2Rpdj5gKVswXTsKICAgICAgICAgICAgcG9wdXBfMGE0MzY4MDhhMTE1NDM3MWIzNzY5MzJlYzYzOWU1ZjEuc2V0Q29udGVudChodG1sXzYwNTU3ZjczNzlkYzQ0MmRhZmQyNzY2ZTA2MmQ2YWUxKTsKICAgICAgICAKCiAgICAgICAgY2lyY2xlX21hcmtlcl8yZWViYWU4ZmExYjk0MzgzYWRjNmM5NjU4Njc0ZWZkYi5iaW5kUG9wdXAocG9wdXBfMGE0MzY4MDhhMTE1NDM3MWIzNzY5MzJlYzYzOWU1ZjEpCiAgICAgICAgOwoKICAgICAgICAKICAgIAogICAgCiAgICAgICAgICAgIHZhciBjaXJjbGVfbWFya2VyXzI5YmUwNThmNzUwMjQ2ZjJhZDM3ZWI5M2FlM2M1YmIwID0gTC5jaXJjbGVNYXJrZXIoCiAgICAgICAgICAgICAgICBbLTIwLjQwNDk3OTQsIDE0OC41ODA3NjQ2XSwKICAgICAgICAgICAgICAgIHsiYnViYmxpbmdNb3VzZUV2ZW50cyI6IHRydWUsICJjb2xvciI6ICJiIiwgImRhc2hBcnJheSI6IG51bGwsICJkYXNoT2Zmc2V0IjogbnVsbCwgImZpbGwiOiB0cnVlLCAiZmlsbENvbG9yIjogImJsdWUiLCAiZmlsbE9wYWNpdHkiOiAwLjcsICJmaWxsUnVsZSI6ICJldmVub2RkIiwgImxpbmVDYXAiOiAicm91bmQiLCAibGluZUpvaW4iOiAicm91bmQiLCAib3BhY2l0eSI6IDEuMCwgInJhZGl1cyI6IDE0Ljg2LCAic3Ryb2tlIjogdHJ1ZSwgIndlaWdodCI6IDN9CiAgICAgICAgICAgICkuYWRkVG8obWFwXzhkZGY4ODEwZTg1YTQyZTZiMDg4ODJlNzdiNzZhNDM1KTsKICAgICAgICAKICAgIAogICAgICAgIHZhciBwb3B1cF9lYTZlN2MxMTQ5NWI0YTY3YjAwNTYxMWE2NjZhY2ZkYiA9IEwucG9wdXAoeyJtYXhXaWR0aCI6ICIxMDAlIn0pOwoKICAgICAgICAKICAgICAgICAgICAgdmFyIGh0bWxfYWFmMTY2ZWI1ZmQwNGNjMTgxZDdjYTA1YmQ5NmNmNjggPSAkKGA8ZGl2IGlkPSJodG1sX2FhZjE2NmViNWZkMDRjYzE4MWQ3Y2EwNWJkOTZjZjY4IiBzdHlsZT0id2lkdGg6IDEwMC4wJTsgaGVpZ2h0OiAxMDAuMCU7Ij5Qcm9zZXJwaW5lLCBRdWVlbnNsYW5kOjAuNzQzPC9kaXY+YClbMF07CiAgICAgICAgICAgIHBvcHVwX2VhNmU3YzExNDk1YjRhNjdiMDA1NjExYTY2NmFjZmRiLnNldENvbnRlbnQoaHRtbF9hYWYxNjZlYjVmZDA0Y2MxODFkN2NhMDViZDk2Y2Y2OCk7CiAgICAgICAgCgogICAgICAgIGNpcmNsZV9tYXJrZXJfMjliZTA1OGY3NTAyNDZmMmFkMzdlYjkzYWUzYzViYjAuYmluZFBvcHVwKHBvcHVwX2VhNmU3YzExNDk1YjRhNjdiMDA1NjExYTY2NmFjZmRiKQogICAgICAgIDsKCiAgICAgICAgCiAgICAKICAgIAogICAgICAgICAgICB2YXIgY2lyY2xlX21hcmtlcl9jNzI4NjIyZTUwNDk0MjdkOTk5Y2UzYWZlNWExYjBhZiA9IEwuY2lyY2xlTWFya2VyKAogICAgICAgICAgICAgICAgWy0zNS4zNTMwMzkyMDAwMDAwMDUsIDE0OS4yMzA4OTZdLAogICAgICAgICAgICAgICAgeyJidWJibGluZ01vdXNlRXZlbnRzIjogdHJ1ZSwgImNvbG9yIjogImIiLCAiZGFzaEFycmF5IjogbnVsbCwgImRhc2hPZmZzZXQiOiBudWxsLCAiZmlsbCI6IHRydWUsICJmaWxsQ29sb3IiOiAiYmx1ZSIsICJmaWxsT3BhY2l0eSI6IDAuNywgImZpbGxSdWxlIjogImV2ZW5vZGQiLCAibGluZUNhcCI6ICJyb3VuZCIsICJsaW5lSm9pbiI6ICJyb3VuZCIsICJvcGFjaXR5IjogMS4wLCAicmFkaXVzIjogMTUuNDM0MDAwMDAwMDAwMDAxLCAic3Ryb2tlIjogdHJ1ZSwgIndlaWdodCI6IDN9CiAgICAgICAgICAgICkuYWRkVG8obWFwXzhkZGY4ODEwZTg1YTQyZTZiMDg4ODJlNzdiNzZhNDM1KTsKICAgICAgICAKICAgIAogICAgICAgIHZhciBwb3B1cF8yZDAxZDQzNDZlNjU0YTA5YjU0ZDA3ZGM3MTNhMGQzMCA9IEwucG9wdXAoeyJtYXhXaWR0aCI6ICIxMDAlIn0pOwoKICAgICAgICAKICAgICAgICAgICAgdmFyIGh0bWxfZjc3YjhjMjU0ZjQ0NGEzNGFiYzg4YzI2MzdlMWYyNDcgPSAkKGA8ZGl2IGlkPSJodG1sX2Y3N2I4YzI1NGY0NDRhMzRhYmM4OGMyNjM3ZTFmMjQ3IiBzdHlsZT0id2lkdGg6IDEwMC4wJTsgaGVpZ2h0OiAxMDAuMCU7Ij5RdWVhbmJleWFuLCBOZXcgU291dGggV2FsZXM6MC43NzE3PC9kaXY+YClbMF07CiAgICAgICAgICAgIHBvcHVwXzJkMDFkNDM0NmU2NTRhMDliNTRkMDdkYzcxM2EwZDMwLnNldENvbnRlbnQoaHRtbF9mNzdiOGMyNTRmNDQ0YTM0YWJjODhjMjYzN2UxZjI0Nyk7CiAgICAgICAgCgogICAgICAgIGNpcmNsZV9tYXJrZXJfYzcyODYyMmU1MDQ5NDI3ZDk5OWNlM2FmZTVhMWIwYWYuYmluZFBvcHVwKHBvcHVwXzJkMDFkNDM0NmU2NTRhMDliNTRkMDdkYzcxM2EwZDMwKQogICAgICAgIDsKCiAgICAgICAgCiAgICAKICAgIAogICAgICAgICAgICB2YXIgY2lyY2xlX21hcmtlcl8wNTg1MzE5YjRkZGU0Mzg0OTk2M2M2NDM1MGY2MGEyNiA9IEwuY2lyY2xlTWFya2VyKAogICAgICAgICAgICAgICAgWy0yMC45MTc1NzM4LCAxNDIuNzAyNzk1Nl0sCiAgICAgICAgICAgICAgICB7ImJ1YmJsaW5nTW91c2VFdmVudHMiOiB0cnVlLCAiY29sb3IiOiAiYiIsICJkYXNoQXJyYXkiOiBudWxsLCAiZGFzaE9mZnNldCI6IG51bGwsICJmaWxsIjogdHJ1ZSwgImZpbGxDb2xvciI6ICJibHVlIiwgImZpbGxPcGFjaXR5IjogMC43LCAiZmlsbFJ1bGUiOiAiZXZlbm9kZCIsICJsaW5lQ2FwIjogInJvdW5kIiwgImxpbmVKb2luIjogInJvdW5kIiwgIm9wYWNpdHkiOiAxLjAsICJyYWRpdXMiOiA4LjAxMzMzMzMzMzMzMzMzNCwgInN0cm9rZSI6IHRydWUsICJ3ZWlnaHQiOiAzfQogICAgICAgICAgICApLmFkZFRvKG1hcF84ZGRmODgxMGU4NWE0MmU2YjA4ODgyZTc3Yjc2YTQzNSk7CiAgICAgICAgCiAgICAKICAgICAgICB2YXIgcG9wdXBfMDQwNWE1YTVmOWZjNDUzMGE0NjU4MzU3N2VlNDc0ZmYgPSBMLnBvcHVwKHsibWF4V2lkdGgiOiAiMTAwJSJ9KTsKCiAgICAgICAgCiAgICAgICAgICAgIHZhciBodG1sXzIxMWRmYmJlMTVmNzQ1OWRhNWYxOWQ4YjM5YTliODQzID0gJChgPGRpdiBpZD0iaHRtbF8yMTFkZmJiZTE1Zjc0NTlkYTVmMTlkOGIzOWE5Yjg0MyIgc3R5bGU9IndpZHRoOiAxMDAuMCU7IGhlaWdodDogMTAwLjAlOyI+UXVlZW5zbGFuZCwgQXVzdHJhbGlhOjAuNDAwNjY2NjY2NjY2NjY2Njc8L2Rpdj5gKVswXTsKICAgICAgICAgICAgcG9wdXBfMDQwNWE1YTVmOWZjNDUzMGE0NjU4MzU3N2VlNDc0ZmYuc2V0Q29udGVudChodG1sXzIxMWRmYmJlMTVmNzQ1OWRhNWYxOWQ4YjM5YTliODQzKTsKICAgICAgICAKCiAgICAgICAgY2lyY2xlX21hcmtlcl8wNTg1MzE5YjRkZGU0Mzg0OTk2M2M2NDM1MGY2MGEyNi5iaW5kUG9wdXAocG9wdXBfMDQwNWE1YTVmOWZjNDUzMGE0NjU4MzU3N2VlNDc0ZmYpCiAgICAgICAgOwoKICAgICAgICAKICAgIAogICAgCiAgICAgICAgICAgIHZhciBjaXJjbGVfbWFya2VyX2Y3NGZiNGQ1Zjg0MjRlZmNhNTkwYmMwODI3YWQ1NDQxID0gTC5jaXJjbGVNYXJrZXIoCiAgICAgICAgICAgICAgICBbLTMwLjAwMDIzMTUsIDEzNi4yMDkxNTQ2OTk5OTk5N10sCiAgICAgICAgICAgICAgICB7ImJ1YmJsaW5nTW91c2VFdmVudHMiOiB0cnVlLCAiY29sb3IiOiAiYiIsICJkYXNoQXJyYXkiOiBudWxsLCAiZGFzaE9mZnNldCI6IG51bGwsICJmaWxsIjogdHJ1ZSwgImZpbGxDb2xvciI6ICJibHVlIiwgImZpbGxPcGFjaXR5IjogMC43LCAiZmlsbFJ1bGUiOiAiZXZlbm9kZCIsICJsaW5lQ2FwIjogInJvdW5kIiwgImxpbmVKb2luIjogInJvdW5kIiwgIm9wYWNpdHkiOiAxLjAsICJyYWRpdXMiOiAwLjUxNiwgInN0cm9rZSI6IHRydWUsICJ3ZWlnaHQiOiAzfQogICAgICAgICAgICApLmFkZFRvKG1hcF84ZGRmODgxMGU4NWE0MmU2YjA4ODgyZTc3Yjc2YTQzNSk7CiAgICAgICAgCiAgICAKICAgICAgICB2YXIgcG9wdXBfZjc4NDg4OWIzZWE1NDY0ZDg4Njc1OGYyZjhkMjdlY2UgPSBMLnBvcHVwKHsibWF4V2lkdGgiOiAiMTAwJSJ9KTsKCiAgICAgICAgCiAgICAgICAgICAgIHZhciBodG1sXzViZjJlNTAxMjJhNDRhZTg4MzViYjQyM2Q2ZjVlMTUxID0gJChgPGRpdiBpZD0iaHRtbF81YmYyZTUwMTIyYTQ0YWU4ODM1YmI0MjNkNmY1ZTE1MSIgc3R5bGU9IndpZHRoOiAxMDAuMCU7IGhlaWdodDogMTAwLjAlOyI+U291dGggQXVzdHJhbGlhLCBBdXN0cmFsaWE6MC4wMjU4PC9kaXY+YClbMF07CiAgICAgICAgICAgIHBvcHVwX2Y3ODQ4ODliM2VhNTQ2NGQ4ODY3NThmMmY4ZDI3ZWNlLnNldENvbnRlbnQoaHRtbF81YmYyZTUwMTIyYTQ0YWU4ODM1YmI0MjNkNmY1ZTE1MSk7CiAgICAgICAgCgogICAgICAgIGNpcmNsZV9tYXJrZXJfZjc0ZmI0ZDVmODQyNGVmY2E1OTBiYzA4MjdhZDU0NDEuYmluZFBvcHVwKHBvcHVwX2Y3ODQ4ODliM2VhNTQ2NGQ4ODY3NThmMmY4ZDI3ZWNlKQogICAgICAgIDsKCiAgICAgICAgCiAgICAKICAgIAogICAgICAgICAgICB2YXIgY2lyY2xlX21hcmtlcl81MjQ5YzBlMjY5OWY0MzM2OTU3Njc1MjZjMGI3NjAyYSA9IEwuY2lyY2xlTWFya2VyKAogICAgICAgICAgICAgICAgWzUxLjE3ODEyLCAtMC41NTk1NjQ0MDAwMDAwMDAxXSwKICAgICAgICAgICAgICAgIHsiYnViYmxpbmdNb3VzZUV2ZW50cyI6IHRydWUsICJjb2xvciI6ICJiIiwgImRhc2hBcnJheSI6IG51bGwsICJkYXNoT2Zmc2V0IjogbnVsbCwgImZpbGwiOiB0cnVlLCAiZmlsbENvbG9yIjogImJsdWUiLCAiZmlsbE9wYWNpdHkiOiAwLjcsICJmaWxsUnVsZSI6ICJldmVub2RkIiwgImxpbmVDYXAiOiAicm91bmQiLCAibGluZUpvaW4iOiAicm91bmQiLCAib3BhY2l0eSI6IDEuMCwgInJhZGl1cyI6IDMuMzA4LCAic3Ryb2tlIjogdHJ1ZSwgIndlaWdodCI6IDN9CiAgICAgICAgICAgICkuYWRkVG8obWFwXzhkZGY4ODEwZTg1YTQyZTZiMDg4ODJlNzdiNzZhNDM1KTsKICAgICAgICAKICAgIAogICAgICAgIHZhciBwb3B1cF85ZWM4N2E5NjM5YjA0NzA0YTM0NTY4N2Y3NzYzYjAzOCA9IEwucG9wdXAoeyJtYXhXaWR0aCI6ICIxMDAlIn0pOwoKICAgICAgICAKICAgICAgICAgICAgdmFyIGh0bWxfODkxZmFhYjQwN2IzNGE2NzhhY2YzMzM5OWJhYWM3NDUgPSAkKGA8ZGl2IGlkPSJodG1sXzg5MWZhYWI0MDdiMzRhNjc4YWNmMzMzOTliYWFjNzQ1IiBzdHlsZT0id2lkdGg6IDEwMC4wJTsgaGVpZ2h0OiAxMDAuMCU7Ij5Tb3V0aCBFYXN0LCBFbmdsYW5kOjAuMTY1NDwvZGl2PmApWzBdOwogICAgICAgICAgICBwb3B1cF85ZWM4N2E5NjM5YjA0NzA0YTM0NTY4N2Y3NzYzYjAzOC5zZXRDb250ZW50KGh0bWxfODkxZmFhYjQwN2IzNGE2NzhhY2YzMzM5OWJhYWM3NDUpOwogICAgICAgIAoKICAgICAgICBjaXJjbGVfbWFya2VyXzUyNDljMGUyNjk5ZjQzMzY5NTc2NzUyNmMwYjc2MDJhLmJpbmRQb3B1cChwb3B1cF85ZWM4N2E5NjM5YjA0NzA0YTM0NTY4N2Y3NzYzYjAzOCkKICAgICAgICA7CgogICAgICAgIAogICAgCiAgICAKICAgICAgICAgICAgdmFyIGNpcmNsZV9tYXJrZXJfYzY3OTUzNzEyNGU1NDVmNWEzMjBjYjkxMmIyNDBlZDYgPSBMLmNpcmNsZU1hcmtlcigKICAgICAgICAgICAgICAgIFstMjYuNjUsIDE1My4wNjY2NjddLAogICAgICAgICAgICAgICAgeyJidWJibGluZ01vdXNlRXZlbnRzIjogdHJ1ZSwgImNvbG9yIjogImIiLCAiZGFzaEFycmF5IjogbnVsbCwgImRhc2hPZmZzZXQiOiBudWxsLCAiZmlsbCI6IHRydWUsICJmaWxsQ29sb3IiOiAiYmx1ZSIsICJmaWxsT3BhY2l0eSI6IDAuNywgImZpbGxSdWxlIjogImV2ZW5vZGQiLCAibGluZUNhcCI6ICJyb3VuZCIsICJsaW5lSm9pbiI6ICJyb3VuZCIsICJvcGFjaXR5IjogMS4wLCAicmFkaXVzIjogMTEuOTgyLCAic3Ryb2tlIjogdHJ1ZSwgIndlaWdodCI6IDN9CiAgICAgICAgICAgICkuYWRkVG8obWFwXzhkZGY4ODEwZTg1YTQyZTZiMDg4ODJlNzdiNzZhNDM1KTsKICAgICAgICAKICAgIAogICAgICAgIHZhciBwb3B1cF83ZTRiM2IzYzNkYzk0Y2ZiYjMxZmQxNzA2MTRhZGFiMSA9IEwucG9wdXAoeyJtYXhXaWR0aCI6ICIxMDAlIn0pOwoKICAgICAgICAKICAgICAgICAgICAgdmFyIGh0bWxfMTQzNDBjNDJiZTU5NDNkM2E4MmJhMzVlMzNiNWEzZDMgPSAkKGA8ZGl2IGlkPSJodG1sXzE0MzQwYzQyYmU1OTQzZDNhODJiYTM1ZTMzYjVhM2QzIiBzdHlsZT0id2lkdGg6IDEwMC4wJTsgaGVpZ2h0OiAxMDAuMCU7Ij5TdW5zaGluZSBDb2FzdCwgUXVlZW5zbGFuZDowLjU5OTE8L2Rpdj5gKVswXTsKICAgICAgICAgICAgcG9wdXBfN2U0YjNiM2MzZGM5NGNmYmIzMWZkMTcwNjE0YWRhYjEuc2V0Q29udGVudChodG1sXzE0MzQwYzQyYmU1OTQzZDNhODJiYTM1ZTMzYjVhM2QzKTsKICAgICAgICAKCiAgICAgICAgY2lyY2xlX21hcmtlcl9jNjc5NTM3MTI0ZTU0NWY1YTMyMGNiOTEyYjI0MGVkNi5iaW5kUG9wdXAocG9wdXBfN2U0YjNiM2MzZGM5NGNmYmIzMWZkMTcwNjE0YWRhYjEpCiAgICAgICAgOwoKICAgICAgICAKICAgIAogICAgCiAgICAgICAgICAgIHZhciBjaXJjbGVfbWFya2VyXzE2YjlhZDQ2ZDhiZDQ3ODBiMzQ5NWNmZTA5YzdlZDEwID0gTC5jaXJjbGVNYXJrZXIoCiAgICAgICAgICAgICAgICBbLTMzLjg2ODgxOTcsIDE1MS4yMDkyOTU1XSwKICAgICAgICAgICAgICAgIHsiYnViYmxpbmdNb3VzZUV2ZW50cyI6IHRydWUsICJjb2xvciI6ICJiIiwgImRhc2hBcnJheSI6IG51bGwsICJkYXNoT2Zmc2V0IjogbnVsbCwgImZpbGwiOiB0cnVlLCAiZmlsbENvbG9yIjogImJsdWUiLCAiZmlsbE9wYWNpdHkiOiAwLjcsICJmaWxsUnVsZSI6ICJldmVub2RkIiwgImxpbmVDYXAiOiAicm91bmQiLCAibGluZUpvaW4iOiAicm91bmQiLCAib3BhY2l0eSI6IDEuMCwgInJhZGl1cyI6IDcuMjEzMjQxOTM1NDgzODY4LCAic3Ryb2tlIjogdHJ1ZSwgIndlaWdodCI6IDN9CiAgICAgICAgICAgICkuYWRkVG8obWFwXzhkZGY4ODEwZTg1YTQyZTZiMDg4ODJlNzdiNzZhNDM1KTsKICAgICAgICAKICAgIAogICAgICAgIHZhciBwb3B1cF9mYjIwNzc4Y2JiNzQ0NjY0YWVmYTViOWNjYTRmYzIxYyA9IEwucG9wdXAoeyJtYXhXaWR0aCI6ICIxMDAlIn0pOwoKICAgICAgICAKICAgICAgICAgICAgdmFyIGh0bWxfYmJmZTYyN2U3ZmJhNGM3ZGFjNzI5OTQ5MzMyZjY1MDggPSAkKGA8ZGl2IGlkPSJodG1sX2JiZmU2MjdlN2ZiYTRjN2RhYzcyOTk0OTMzMmY2NTA4IiBzdHlsZT0id2lkdGg6IDEwMC4wJTsgaGVpZ2h0OiAxMDAuMCU7Ij5TeWRuZXksIE5ldyBTb3V0aCBXYWxlczowLjM2MDY2MjA5Njc3NDE5MzQ8L2Rpdj5gKVswXTsKICAgICAgICAgICAgcG9wdXBfZmIyMDc3OGNiYjc0NDY2NGFlZmE1YjljY2E0ZmMyMWMuc2V0Q29udGVudChodG1sX2JiZmU2MjdlN2ZiYTRjN2RhYzcyOTk0OTMzMmY2NTA4KTsKICAgICAgICAKCiAgICAgICAgY2lyY2xlX21hcmtlcl8xNmI5YWQ0NmQ4YmQ0NzgwYjM0OTVjZmUwOWM3ZWQxMC5iaW5kUG9wdXAocG9wdXBfZmIyMDc3OGNiYjc0NDY2NGFlZmE1YjljY2E0ZmMyMWMpCiAgICAgICAgOwoKICAgICAgICAKICAgIAogICAgCiAgICAgICAgICAgIHZhciBjaXJjbGVfbWFya2VyXzgyYmM5ZTJhM2RmMzQ0MDg5MWIwYzNkMTg0MzdiZTU5ID0gTC5jaXJjbGVNYXJrZXIoCiAgICAgICAgICAgICAgICBbLTI3LjU1OTgyMTIsIDE1MS45NTA2Njk2XSwKICAgICAgICAgICAgICAgIHsiYnViYmxpbmdNb3VzZUV2ZW50cyI6IHRydWUsICJjb2xvciI6ICJiIiwgImRhc2hBcnJheSI6IG51bGwsICJkYXNoT2Zmc2V0IjogbnVsbCwgImZpbGwiOiB0cnVlLCAiZmlsbENvbG9yIjogImJsdWUiLCAiZmlsbE9wYWNpdHkiOiAwLjcsICJmaWxsUnVsZSI6ICJldmVub2RkIiwgImxpbmVDYXAiOiAicm91bmQiLCAibGluZUpvaW4iOiAicm91bmQiLCAib3BhY2l0eSI6IDEuMCwgInJhZGl1cyI6IDcuNDMsICJzdHJva2UiOiB0cnVlLCAid2VpZ2h0IjogM30KICAgICAgICAgICAgKS5hZGRUbyhtYXBfOGRkZjg4MTBlODVhNDJlNmIwODg4MmU3N2I3NmE0MzUpOwogICAgICAgIAogICAgCiAgICAgICAgdmFyIHBvcHVwX2EzODI5NGI3YjIzZDQxODZhYzU0ODRlZDMwYzRlNDk1ID0gTC5wb3B1cCh7Im1heFdpZHRoIjogIjEwMCUifSk7CgogICAgICAgIAogICAgICAgICAgICB2YXIgaHRtbF85NGYxZjA0ZTc4MDI0ZDNjYWVmMTI5MjQyZTZjODcyOSA9ICQoYDxkaXYgaWQ9Imh0bWxfOTRmMWYwNGU3ODAyNGQzY2FlZjEyOTI0MmU2Yzg3MjkiIHN0eWxlPSJ3aWR0aDogMTAwLjAlOyBoZWlnaHQ6IDEwMC4wJTsiPlRvb3dvb21iYSwgUXVlZW5zbGFuZDowLjM3MTU8L2Rpdj5gKVswXTsKICAgICAgICAgICAgcG9wdXBfYTM4Mjk0YjdiMjNkNDE4NmFjNTQ4NGVkMzBjNGU0OTUuc2V0Q29udGVudChodG1sXzk0ZjFmMDRlNzgwMjRkM2NhZWYxMjkyNDJlNmM4NzI5KTsKICAgICAgICAKCiAgICAgICAgY2lyY2xlX21hcmtlcl84MmJjOWUyYTNkZjM0NDA4OTFiMGMzZDE4NDM3YmU1OS5iaW5kUG9wdXAocG9wdXBfYTM4Mjk0YjdiMjNkNDE4NmFjNTQ4NGVkMzBjNGU0OTUpCiAgICAgICAgOwoKICAgICAgICAKICAgIAogICAgCiAgICAgICAgICAgIHZhciBjaXJjbGVfbWFya2VyX2Q1ZGY5NmNiZTg4NTQ2NzhiOTYyNGI0ZmNlOTljMWM2ID0gTC5jaXJjbGVNYXJrZXIoCiAgICAgICAgICAgICAgICBbNDMuNjUzMjI2MDAwMDAwMDA0LCAtNzkuMzgzMTg0M10sCiAgICAgICAgICAgICAgICB7ImJ1YmJsaW5nTW91c2VFdmVudHMiOiB0cnVlLCAiY29sb3IiOiAiYiIsICJkYXNoQXJyYXkiOiBudWxsLCAiZGFzaE9mZnNldCI6IG51bGwsICJmaWxsIjogdHJ1ZSwgImZpbGxDb2xvciI6ICJyZWQiLCAiZmlsbE9wYWNpdHkiOiAwLjcsICJmaWxsUnVsZSI6ICJldmVub2RkIiwgImxpbmVDYXAiOiAicm91bmQiLCAibGluZUpvaW4iOiAicm91bmQiLCAib3BhY2l0eSI6IDEuMCwgInJhZGl1cyI6IDE1LjgxMiwgInN0cm9rZSI6IHRydWUsICJ3ZWlnaHQiOiAzfQogICAgICAgICAgICApLmFkZFRvKG1hcF84ZGRmODgxMGU4NWE0MmU2YjA4ODgyZTc3Yjc2YTQzNSk7CiAgICAgICAgCiAgICAKICAgICAgICB2YXIgcG9wdXBfODcyY2VmM2I3YTQyNDAwMmEzYzYyYmIwZDAxZWU3OWEgPSBMLnBvcHVwKHsibWF4V2lkdGgiOiAiMTAwJSJ9KTsKCiAgICAgICAgCiAgICAgICAgICAgIHZhciBodG1sXzg0MDg5Nzc1ZTQyZjQ4ZDZhMjBkNjg3M2E0YWMzZTU1ID0gJChgPGRpdiBpZD0iaHRtbF84NDA4OTc3NWU0MmY0OGQ2YTIwZDY4NzNhNGFjM2U1NSIgc3R5bGU9IndpZHRoOiAxMDAuMCU7IGhlaWdodDogMTAwLjAlOyI+VG9yb250bywgT250YXJpbzotMC43OTA2PC9kaXY+YClbMF07CiAgICAgICAgICAgIHBvcHVwXzg3MmNlZjNiN2E0MjQwMDJhM2M2MmJiMGQwMWVlNzlhLnNldENvbnRlbnQoaHRtbF84NDA4OTc3NWU0MmY0OGQ2YTIwZDY4NzNhNGFjM2U1NSk7CiAgICAgICAgCgogICAgICAgIGNpcmNsZV9tYXJrZXJfZDVkZjk2Y2JlODg1NDY3OGI5NjI0YjRmY2U5OWMxYzYuYmluZFBvcHVwKHBvcHVwXzg3MmNlZjNiN2E0MjQwMDJhM2M2MmJiMGQwMWVlNzlhKQogICAgICAgIDsKCiAgICAgICAgCiAgICAKICAgIAogICAgICAgICAgICB2YXIgY2lyY2xlX21hcmtlcl82MDM0OTJiM2M5Zjc0YTQwOTgxMGMxNGJjYjczMmIzYiA9IEwuY2lyY2xlTWFya2VyKAogICAgICAgICAgICAgICAgWy0zOC4zMjUyNTQ3LCAxNDQuMzA4NDY0NV0sCiAgICAgICAgICAgICAgICB7ImJ1YmJsaW5nTW91c2VFdmVudHMiOiB0cnVlLCAiY29sb3IiOiAiYiIsICJkYXNoQXJyYXkiOiBudWxsLCAiZGFzaE9mZnNldCI6IG51bGwsICJmaWxsIjogdHJ1ZSwgImZpbGxDb2xvciI6ICJibHVlIiwgImZpbGxPcGFjaXR5IjogMC43LCAiZmlsbFJ1bGUiOiAiZXZlbm9kZCIsICJsaW5lQ2FwIjogInJvdW5kIiwgImxpbmVKb2luIjogInJvdW5kIiwgIm9wYWNpdHkiOiAxLjAsICJyYWRpdXMiOiAxMy40MSwgInN0cm9rZSI6IHRydWUsICJ3ZWlnaHQiOiAzfQogICAgICAgICAgICApLmFkZFRvKG1hcF84ZGRmODgxMGU4NWE0MmU2YjA4ODgyZTc3Yjc2YTQzNSk7CiAgICAgICAgCiAgICAKICAgICAgICB2YXIgcG9wdXBfZmMwOTQwYzY0YmMxNGYzYWFkMWUxZWM4YzFiMmQ5YTUgPSBMLnBvcHVwKHsibWF4V2lkdGgiOiAiMTAwJSJ9KTsKCiAgICAgICAgCiAgICAgICAgICAgIHZhciBodG1sX2E5MzVhOTM1ODM1MjRlNTRhY2RkNmQzOTBiNjEzMWRhID0gJChgPGRpdiBpZD0iaHRtbF9hOTM1YTkzNTgzNTI0ZTU0YWNkZDZkMzkwYjYxMzFkYSIgc3R5bGU9IndpZHRoOiAxMDAuMCU7IGhlaWdodDogMTAwLjAlOyI+VG9ycXVheSAtIEphbiBKdWMsIFZpY3RvcmlhOjAuNjcwNTwvZGl2PmApWzBdOwogICAgICAgICAgICBwb3B1cF9mYzA5NDBjNjRiYzE0ZjNhYWQxZTFlYzhjMWIyZDlhNS5zZXRDb250ZW50KGh0bWxfYTkzNWE5MzU4MzUyNGU1NGFjZGQ2ZDM5MGI2MTMxZGEpOwogICAgICAgIAoKICAgICAgICBjaXJjbGVfbWFya2VyXzYwMzQ5MmIzYzlmNzRhNDA5ODEwYzE0YmNiNzMyYjNiLmJpbmRQb3B1cChwb3B1cF9mYzA5NDBjNjRiYzE0ZjNhYWQxZTFlYzhjMWIyZDlhNSkKICAgICAgICA7CgogICAgICAgIAogICAgCiAgICAKICAgICAgICAgICAgdmFyIGNpcmNsZV9tYXJrZXJfZjE0ODdhNTRjYWMxNDVmMDgzZWE4NGYwNjVlM2ZlNzEgPSBMLmNpcmNsZU1hcmtlcigKICAgICAgICAgICAgICAgIFstMTkuMjU4OTYzNSwgMTQ2LjgxNjk0ODNdLAogICAgICAgICAgICAgICAgeyJidWJibGluZ01vdXNlRXZlbnRzIjogdHJ1ZSwgImNvbG9yIjogImIiLCAiZGFzaEFycmF5IjogbnVsbCwgImRhc2hPZmZzZXQiOiBudWxsLCAiZmlsbCI6IHRydWUsICJmaWxsQ29sb3IiOiAicmVkIiwgImZpbGxPcGFjaXR5IjogMC43LCAiZmlsbFJ1bGUiOiAiZXZlbm9kZCIsICJsaW5lQ2FwIjogInJvdW5kIiwgImxpbmVKb2luIjogInJvdW5kIiwgIm9wYWNpdHkiOiAxLjAsICJyYWRpdXMiOiAzLjA4LCAic3Ryb2tlIjogdHJ1ZSwgIndlaWdodCI6IDN9CiAgICAgICAgICAgICkuYWRkVG8obWFwXzhkZGY4ODEwZTg1YTQyZTZiMDg4ODJlNzdiNzZhNDM1KTsKICAgICAgICAKICAgIAogICAgICAgIHZhciBwb3B1cF85Y2MwMTc2ZTNiNDM0NTM1OWMzN2Q2NGI5M2FlZWExNSA9IEwucG9wdXAoeyJtYXhXaWR0aCI6ICIxMDAlIn0pOwoKICAgICAgICAKICAgICAgICAgICAgdmFyIGh0bWxfMGVmY2FjMDFhZmQ1NGE2ZDkyMWRjZjFlMWJiZDMxNTQgPSAkKGA8ZGl2IGlkPSJodG1sXzBlZmNhYzAxYWZkNTRhNmQ5MjFkY2YxZTFiYmQzMTU0IiBzdHlsZT0id2lkdGg6IDEwMC4wJTsgaGVpZ2h0OiAxMDAuMCU7Ij5Ub3duc3ZpbGxlLCBRdWVlbnNsYW5kOi0wLjE1NDwvZGl2PmApWzBdOwogICAgICAgICAgICBwb3B1cF85Y2MwMTc2ZTNiNDM0NTM1OWMzN2Q2NGI5M2FlZWExNS5zZXRDb250ZW50KGh0bWxfMGVmY2FjMDFhZmQ1NGE2ZDkyMWRjZjFlMWJiZDMxNTQpOwogICAgICAgIAoKICAgICAgICBjaXJjbGVfbWFya2VyX2YxNDg3YTU0Y2FjMTQ1ZjA4M2VhODRmMDY1ZTNmZTcxLmJpbmRQb3B1cChwb3B1cF85Y2MwMTc2ZTNiNDM0NTM1OWMzN2Q2NGI5M2FlZWExNSkKICAgICAgICA7CgogICAgICAgIAogICAgCiAgICAKICAgICAgICAgICAgdmFyIGNpcmNsZV9tYXJrZXJfMzk4MmZmODIxNTllNGU5ZjgzNzNiNTc0ZThiODA1MjAgPSBMLmNpcmNsZU1hcmtlcigKICAgICAgICAgICAgICAgIFstMzguMjAzMzUzMSwgMTQ2LjUxOTc4Nl0sCiAgICAgICAgICAgICAgICB7ImJ1YmJsaW5nTW91c2VFdmVudHMiOiB0cnVlLCAiY29sb3IiOiAiYiIsICJkYXNoQXJyYXkiOiBudWxsLCAiZGFzaE9mZnNldCI6IG51bGwsICJmaWxsIjogdHJ1ZSwgImZpbGxDb2xvciI6ICJibHVlIiwgImZpbGxPcGFjaXR5IjogMC43LCAiZmlsbFJ1bGUiOiAiZXZlbm9kZCIsICJsaW5lQ2FwIjogInJvdW5kIiwgImxpbmVKb2luIjogInJvdW5kIiwgIm9wYWNpdHkiOiAxLjAsICJyYWRpdXMiOiAxMy4xOTM5OTk5OTk5OTk5OTksICJzdHJva2UiOiB0cnVlLCAid2VpZ2h0IjogM30KICAgICAgICAgICAgKS5hZGRUbyhtYXBfOGRkZjg4MTBlODVhNDJlNmIwODg4MmU3N2I3NmE0MzUpOwogICAgICAgIAogICAgCiAgICAgICAgdmFyIHBvcHVwX2I4ZjY5MWQ0MjgzOTQzYjk5NzM0NmU5YTljMjBkNTBjID0gTC5wb3B1cCh7Im1heFdpZHRoIjogIjEwMCUifSk7CgogICAgICAgIAogICAgICAgICAgICB2YXIgaHRtbF85NGJjM2QxZTI2OTk0NTdiODI3Yjc0MGRjZmJjMTBkMyA9ICQoYDxkaXYgaWQ9Imh0bWxfOTRiYzNkMWUyNjk5NDU3YjgyN2I3NDBkY2ZiYzEwZDMiIHN0eWxlPSJ3aWR0aDogMTAwLjAlOyBoZWlnaHQ6IDEwMC4wJTsiPlRyYXJhbGdvbiwgVmljdG9yaWE6MC42NTk3PC9kaXY+YClbMF07CiAgICAgICAgICAgIHBvcHVwX2I4ZjY5MWQ0MjgzOTQzYjk5NzM0NmU5YTljMjBkNTBjLnNldENvbnRlbnQoaHRtbF85NGJjM2QxZTI2OTk0NTdiODI3Yjc0MGRjZmJjMTBkMyk7CiAgICAgICAgCgogICAgICAgIGNpcmNsZV9tYXJrZXJfMzk4MmZmODIxNTllNGU5ZjgzNzNiNTc0ZThiODA1MjAuYmluZFBvcHVwKHBvcHVwX2I4ZjY5MWQ0MjgzOTQzYjk5NzM0NmU5YTljMjBkNTBjKQogICAgICAgIDsKCiAgICAgICAgCiAgICAKICAgIAogICAgICAgICAgICB2YXIgY2lyY2xlX21hcmtlcl82NWMxNGFmNzRjNGE0ODMyOGFiZjFjOGRiMDA4MDBiZCA9IEwuY2lyY2xlTWFya2VyKAogICAgICAgICAgICAgICAgWy0yOC4xNzg2NjU2MDAwMDAwMDIsIDE1My41MzcwMDExXSwKICAgICAgICAgICAgICAgIHsiYnViYmxpbmdNb3VzZUV2ZW50cyI6IHRydWUsICJjb2xvciI6ICJiIiwgImRhc2hBcnJheSI6IG51bGwsICJkYXNoT2Zmc2V0IjogbnVsbCwgImZpbGwiOiB0cnVlLCAiZmlsbENvbG9yIjogImJsdWUiLCAiZmlsbE9wYWNpdHkiOiAwLjcsICJmaWxsUnVsZSI6ICJldmVub2RkIiwgImxpbmVDYXAiOiAicm91bmQiLCAibGluZUpvaW4iOiAicm91bmQiLCAib3BhY2l0eSI6IDEuMCwgInJhZGl1cyI6IDExLjQzNzk5OTk5OTk5OTk5OSwgInN0cm9rZSI6IHRydWUsICJ3ZWlnaHQiOiAzfQogICAgICAgICAgICApLmFkZFRvKG1hcF84ZGRmODgxMGU4NWE0MmU2YjA4ODgyZTc3Yjc2YTQzNSk7CiAgICAgICAgCiAgICAKICAgICAgICB2YXIgcG9wdXBfMmJmZDQwZDMyYTMzNDYxY2FjZTQ0ZmI1MDVlNzYzN2YgPSBMLnBvcHVwKHsibWF4V2lkdGgiOiAiMTAwJSJ9KTsKCiAgICAgICAgCiAgICAgICAgICAgIHZhciBodG1sX2I0ZWMyZTRjMGQ2MjQ3MmE5YjRhNDY2YmQwYjQ5ZGU2ID0gJChgPGRpdiBpZD0iaHRtbF9iNGVjMmU0YzBkNjI0NzJhOWI0YTQ2NmJkMGI0OWRlNiIgc3R5bGU9IndpZHRoOiAxMDAuMCU7IGhlaWdodDogMTAwLjAlOyI+VHdlZWQgSGVhZHMsIE5ldyBTb3V0aCBXYWxlczowLjU3MTk8L2Rpdj5gKVswXTsKICAgICAgICAgICAgcG9wdXBfMmJmZDQwZDMyYTMzNDYxY2FjZTQ0ZmI1MDVlNzYzN2Yuc2V0Q29udGVudChodG1sX2I0ZWMyZTRjMGQ2MjQ3MmE5YjRhNDY2YmQwYjQ5ZGU2KTsKICAgICAgICAKCiAgICAgICAgY2lyY2xlX21hcmtlcl82NWMxNGFmNzRjNGE0ODMyOGFiZjFjOGRiMDA4MDBiZC5iaW5kUG9wdXAocG9wdXBfMmJmZDQwZDMyYTMzNDYxY2FjZTQ0ZmI1MDVlNzYzN2YpCiAgICAgICAgOwoKICAgICAgICAKICAgIAogICAgCiAgICAgICAgICAgIHZhciBjaXJjbGVfbWFya2VyX2Y3MGQ1NWZhYWJkNjQzOTFhM2E0ZjUxOWVjMWY4MjFiID0gTC5jaXJjbGVNYXJrZXIoCiAgICAgICAgICAgICAgICBbNDkuMjgyNzI5MTAwMDAwMDA1LCAtMTIzLjEyMDczNzVdLAogICAgICAgICAgICAgICAgeyJidWJibGluZ01vdXNlRXZlbnRzIjogdHJ1ZSwgImNvbG9yIjogImIiLCAiZGFzaEFycmF5IjogbnVsbCwgImRhc2hPZmZzZXQiOiBudWxsLCAiZmlsbCI6IHRydWUsICJmaWxsQ29sb3IiOiAiYmx1ZSIsICJmaWxsT3BhY2l0eSI6IDAuNywgImZpbGxSdWxlIjogImV2ZW5vZGQiLCAibGluZUNhcCI6ICJyb3VuZCIsICJsaW5lSm9pbiI6ICJyb3VuZCIsICJvcGFjaXR5IjogMS4wLCAicmFkaXVzIjogMTUuODEyLCAic3Ryb2tlIjogdHJ1ZSwgIndlaWdodCI6IDN9CiAgICAgICAgICAgICkuYWRkVG8obWFwXzhkZGY4ODEwZTg1YTQyZTZiMDg4ODJlNzdiNzZhNDM1KTsKICAgICAgICAKICAgIAogICAgICAgIHZhciBwb3B1cF9mZjY2ZGQ1YTVlOTA0MzZkYTFiYzdhODU2YTE5NThmYyA9IEwucG9wdXAoeyJtYXhXaWR0aCI6ICIxMDAlIn0pOwoKICAgICAgICAKICAgICAgICAgICAgdmFyIGh0bWxfZDNhZmI5YjU1OTE1NDYyYTg5MGUwYjRlM2ZhMDUwZGIgPSAkKGA8ZGl2IGlkPSJodG1sX2QzYWZiOWI1NTkxNTQ2MmE4OTBlMGI0ZTNmYTA1MGRiIiBzdHlsZT0id2lkdGg6IDEwMC4wJTsgaGVpZ2h0OiAxMDAuMCU7Ij5WYW5jb3V2ZXIsIEJyaXRpc2ggQ29sdW1iaWE6MC43OTA2PC9kaXY+YClbMF07CiAgICAgICAgICAgIHBvcHVwX2ZmNjZkZDVhNWU5MDQzNmRhMWJjN2E4NTZhMTk1OGZjLnNldENvbnRlbnQoaHRtbF9kM2FmYjliNTU5MTU0NjJhODkwZTBiNGUzZmEwNTBkYik7CiAgICAgICAgCgogICAgICAgIGNpcmNsZV9tYXJrZXJfZjcwZDU1ZmFhYmQ2NDM5MWEzYTRmNTE5ZWMxZjgyMWIuYmluZFBvcHVwKHBvcHVwX2ZmNjZkZDVhNWU5MDQzNmRhMWJjN2E4NTZhMTk1OGZjKQogICAgICAgIDsKCiAgICAgICAgCiAgICAKICAgIAogICAgICAgICAgICB2YXIgY2lyY2xlX21hcmtlcl8zMTQ1NzE0Y2NiNjk0YWE4YWYwN2Q0NDA5NjdhOWRhMSA9IEwuY2lyY2xlTWFya2VyKAogICAgICAgICAgICAgICAgWy0zNy40NzEzMDc3MDAwMDAwMDQsIDE0NC43ODUxNTMxXSwKICAgICAgICAgICAgICAgIHsiYnViYmxpbmdNb3VzZUV2ZW50cyI6IHRydWUsICJjb2xvciI6ICJiIiwgImRhc2hBcnJheSI6IG51bGwsICJkYXNoT2Zmc2V0IjogbnVsbCwgImZpbGwiOiB0cnVlLCAiZmlsbENvbG9yIjogImJsdWUiLCAiZmlsbE9wYWNpdHkiOiAwLjcsICJmaWxsUnVsZSI6ICJldmVub2RkIiwgImxpbmVDYXAiOiAicm91bmQiLCAibGluZUpvaW4iOiAicm91bmQiLCAib3BhY2l0eSI6IDEuMCwgInJhZGl1cyI6IDQuNzY3LCAic3Ryb2tlIjogdHJ1ZSwgIndlaWdodCI6IDN9CiAgICAgICAgICAgICkuYWRkVG8obWFwXzhkZGY4ODEwZTg1YTQyZTZiMDg4ODJlNzdiNzZhNDM1KTsKICAgICAgICAKICAgIAogICAgICAgIHZhciBwb3B1cF8wMDExZDE1OGQ5NGI0NGVjOTk5N2NmNzUzMTczNWE1NiA9IEwucG9wdXAoeyJtYXhXaWR0aCI6ICIxMDAlIn0pOwoKICAgICAgICAKICAgICAgICAgICAgdmFyIGh0bWxfMGI5NGM1MWI4MDI3NDZhNmEzOWM3YzIzMGY3NmU3MGQgPSAkKGA8ZGl2IGlkPSJodG1sXzBiOTRjNTFiODAyNzQ2YTZhMzljN2MyMzBmNzZlNzBkIiBzdHlsZT0id2lkdGg6IDEwMC4wJTsgaGVpZ2h0OiAxMDAuMCU7Ij5WaWN0b3JpYSwgQXVzdHJhbGlhOjAuMjM4MzU8L2Rpdj5gKVswXTsKICAgICAgICAgICAgcG9wdXBfMDAxMWQxNThkOTRiNDRlYzk5OTdjZjc1MzE3MzVhNTYuc2V0Q29udGVudChodG1sXzBiOTRjNTFiODAyNzQ2YTZhMzljN2MyMzBmNzZlNzBkKTsKICAgICAgICAKCiAgICAgICAgY2lyY2xlX21hcmtlcl8zMTQ1NzE0Y2NiNjk0YWE4YWYwN2Q0NDA5NjdhOWRhMS5iaW5kUG9wdXAocG9wdXBfMDAxMWQxNThkOTRiNDRlYzk5OTdjZjc1MzE3MzVhNTYpCiAgICAgICAgOwoKICAgICAgICAKICAgIAogICAgCiAgICAgICAgICAgIHZhciBjaXJjbGVfbWFya2VyXzZiNWIwODNhMjE1OTQyZGQ4NGZiZWVkMGUyNjRjODJhID0gTC5jaXJjbGVNYXJrZXIoCiAgICAgICAgICAgICAgICBbLTM1LjEwODE2ODksIDE0Ny4zNTk4MzIzMDAwMDAwMl0sCiAgICAgICAgICAgICAgICB7ImJ1YmJsaW5nTW91c2VFdmVudHMiOiB0cnVlLCAiY29sb3IiOiAiYiIsICJkYXNoQXJyYXkiOiBudWxsLCAiZGFzaE9mZnNldCI6IG51bGwsICJmaWxsIjogdHJ1ZSwgImZpbGxDb2xvciI6ICJibHVlIiwgImZpbGxPcGFjaXR5IjogMC43LCAiZmlsbFJ1bGUiOiAiZXZlbm9kZCIsICJsaW5lQ2FwIjogInJvdW5kIiwgImxpbmVKb2luIjogInJvdW5kIiwgIm9wYWNpdHkiOiAxLjAsICJyYWRpdXMiOiAxMS4wMTUzMzMzMzMzMzMzMzQsICJzdHJva2UiOiB0cnVlLCAid2VpZ2h0IjogM30KICAgICAgICAgICAgKS5hZGRUbyhtYXBfOGRkZjg4MTBlODVhNDJlNmIwODg4MmU3N2I3NmE0MzUpOwogICAgICAgIAogICAgCiAgICAgICAgdmFyIHBvcHVwXzg3ZmI0NmNjYjU0OTRiNTQ5YWI3NzcyZjA2NmY0OTdmID0gTC5wb3B1cCh7Im1heFdpZHRoIjogIjEwMCUifSk7CgogICAgICAgIAogICAgICAgICAgICB2YXIgaHRtbF8wMDE4Y2FjZDhjMTA0NWNhODY3NmJhMzIyOTc0NzQ3YyA9ICQoYDxkaXYgaWQ9Imh0bWxfMDAxOGNhY2Q4YzEwNDVjYTg2NzZiYTMyMjk3NDc0N2MiIHN0eWxlPSJ3aWR0aDogMTAwLjAlOyBoZWlnaHQ6IDEwMC4wJTsiPldhZ2dhIFdhZ2dhLCBOZXcgU291dGggV2FsZXM6MC41NTA3NjY2NjY2NjY2NjY3PC9kaXY+YClbMF07CiAgICAgICAgICAgIHBvcHVwXzg3ZmI0NmNjYjU0OTRiNTQ5YWI3NzcyZjA2NmY0OTdmLnNldENvbnRlbnQoaHRtbF8wMDE4Y2FjZDhjMTA0NWNhODY3NmJhMzIyOTc0NzQ3Yyk7CiAgICAgICAgCgogICAgICAgIGNpcmNsZV9tYXJrZXJfNmI1YjA4M2EyMTU5NDJkZDg0ZmJlZWQwZTI2NGM4MmEuYmluZFBvcHVwKHBvcHVwXzg3ZmI0NmNjYjU0OTRiNTQ5YWI3NzcyZjA2NmY0OTdmKQogICAgICAgIDsKCiAgICAgICAgCiAgICAKICAgIAogICAgICAgICAgICB2YXIgY2lyY2xlX21hcmtlcl82NzY2ZDZlYTEyNDA0MjE1ODlmNGRiNDE3OTNmZWI4ZiA9IEwuY2lyY2xlTWFya2VyKAogICAgICAgICAgICAgICAgWzM4LjkwNzE5MjMsIC03Ny4wMzY4NzA3MDAwMDAwMV0sCiAgICAgICAgICAgICAgICB7ImJ1YmJsaW5nTW91c2VFdmVudHMiOiB0cnVlLCAiY29sb3IiOiAiYiIsICJkYXNoQXJyYXkiOiBudWxsLCAiZGFzaE9mZnNldCI6IG51bGwsICJmaWxsIjogdHJ1ZSwgImZpbGxDb2xvciI6ICJibHVlIiwgImZpbGxPcGFjaXR5IjogMC43LCAiZmlsbFJ1bGUiOiAiZXZlbm9kZCIsICJsaW5lQ2FwIjogInJvdW5kIiwgImxpbmVKb2luIjogInJvdW5kIiwgIm9wYWNpdHkiOiAxLjAsICJyYWRpdXMiOiAxNi4yNTIsICJzdHJva2UiOiB0cnVlLCAid2VpZ2h0IjogM30KICAgICAgICAgICAgKS5hZGRUbyhtYXBfOGRkZjg4MTBlODVhNDJlNmIwODg4MmU3N2I3NmE0MzUpOwogICAgICAgIAogICAgCiAgICAgICAgdmFyIHBvcHVwX2EzZDlhOTE0YzcyODQ3ODBiMTMxZGE1NTUzNzljMzlmID0gTC5wb3B1cCh7Im1heFdpZHRoIjogIjEwMCUifSk7CgogICAgICAgIAogICAgICAgICAgICB2YXIgaHRtbF8xMzVlYzc3NzAxMTg0NjY0YTQyMjA4ODlmOTk5ZWM4NSA9ICQoYDxkaXYgaWQ9Imh0bWxfMTM1ZWM3NzcwMTE4NDY2NGE0MjIwODg5Zjk5OWVjODUiIHN0eWxlPSJ3aWR0aDogMTAwLjAlOyBoZWlnaHQ6IDEwMC4wJTsiPldhc2hpbmd0b24sIERDOjAuODEyNjwvZGl2PmApWzBdOwogICAgICAgICAgICBwb3B1cF9hM2Q5YTkxNGM3Mjg0NzgwYjEzMWRhNTU1Mzc5YzM5Zi5zZXRDb250ZW50KGh0bWxfMTM1ZWM3NzcwMTE4NDY2NGE0MjIwODg5Zjk5OWVjODUpOwogICAgICAgIAoKICAgICAgICBjaXJjbGVfbWFya2VyXzY3NjZkNmVhMTI0MDQyMTU4OWY0ZGI0MTc5M2ZlYjhmLmJpbmRQb3B1cChwb3B1cF9hM2Q5YTkxNGM3Mjg0NzgwYjEzMWRhNTU1Mzc5YzM5ZikKICAgICAgICA7CgogICAgICAgIAogICAgCiAgICAKICAgICAgICAgICAgdmFyIGNpcmNsZV9tYXJrZXJfM2IxOTQ3MTUyOTJjNDg1MjkyMGQyZjk4NTA2YWMwNjYgPSBMLmNpcmNsZU1hcmtlcigKICAgICAgICAgICAgICAgIFstNDEuMjg2NDYwMjk5OTk5OTk1LCAxNzQuNzc2MjM2XSwKICAgICAgICAgICAgICAgIHsiYnViYmxpbmdNb3VzZUV2ZW50cyI6IHRydWUsICJjb2xvciI6ICJiIiwgImRhc2hBcnJheSI6IG51bGwsICJkYXNoT2Zmc2V0IjogbnVsbCwgImZpbGwiOiB0cnVlLCAiZmlsbENvbG9yIjogInJlZCIsICJmaWxsT3BhY2l0eSI6IDAuNywgImZpbGxSdWxlIjogImV2ZW5vZGQiLCAibGluZUNhcCI6ICJyb3VuZCIsICJsaW5lSm9pbiI6ICJyb3VuZCIsICJvcGFjaXR5IjogMS4wLCAicmFkaXVzIjogMy42OTQsICJzdHJva2UiOiB0cnVlLCAid2VpZ2h0IjogM30KICAgICAgICAgICAgKS5hZGRUbyhtYXBfOGRkZjg4MTBlODVhNDJlNmIwODg4MmU3N2I3NmE0MzUpOwogICAgICAgIAogICAgCiAgICAgICAgdmFyIHBvcHVwX2U5NTYxNjc0ZmEyMTRkNjg5NjEwOGQ5ZmFjODI2MWM1ID0gTC5wb3B1cCh7Im1heFdpZHRoIjogIjEwMCUifSk7CgogICAgICAgIAogICAgICAgICAgICB2YXIgaHRtbF84OGM3NmRlM2UwNTk0M2Q5YTk5YzQ2Mzg2M2ExNzE2MyA9ICQoYDxkaXYgaWQ9Imh0bWxfODhjNzZkZTNlMDU5NDNkOWE5OWM0NjM4NjNhMTcxNjMiIHN0eWxlPSJ3aWR0aDogMTAwLjAlOyBoZWlnaHQ6IDEwMC4wJTsiPldlbGxpbmd0b24gQ2l0eSwgTmV3IFplYWxhbmQ6LTAuMTg0NzwvZGl2PmApWzBdOwogICAgICAgICAgICBwb3B1cF9lOTU2MTY3NGZhMjE0ZDY4OTYxMDhkOWZhYzgyNjFjNS5zZXRDb250ZW50KGh0bWxfODhjNzZkZTNlMDU5NDNkOWE5OWM0NjM4NjNhMTcxNjMpOwogICAgICAgIAoKICAgICAgICBjaXJjbGVfbWFya2VyXzNiMTk0NzE1MjkyYzQ4NTI5MjBkMmY5ODUwNmFjMDY2LmJpbmRQb3B1cChwb3B1cF9lOTU2MTY3NGZhMjE0ZDY4OTYxMDhkOWZhYzgyNjFjNSkKICAgICAgICA7CgogICAgICAgIAogICAgCiAgICAKICAgICAgICAgICAgdmFyIGNpcmNsZV9tYXJrZXJfNjMxYTM5NTE0OGUwNDljMmFiODkwNDk2MmYxMzI4YjYgPSBMLmNpcmNsZU1hcmtlcigKICAgICAgICAgICAgICAgIFstMzcuOSwgMTQ0LjY2NF0sCiAgICAgICAgICAgICAgICB7ImJ1YmJsaW5nTW91c2VFdmVudHMiOiB0cnVlLCAiY29sb3IiOiAiYiIsICJkYXNoQXJyYXkiOiBudWxsLCAiZGFzaE9mZnNldCI6IG51bGwsICJmaWxsIjogdHJ1ZSwgImZpbGxDb2xvciI6ICJibHVlIiwgImZpbGxPcGFjaXR5IjogMC43LCAiZmlsbFJ1bGUiOiAiZXZlbm9kZCIsICJsaW5lQ2FwIjogInJvdW5kIiwgImxpbmVKb2luIjogInJvdW5kIiwgIm9wYWNpdHkiOiAxLjAsICJyYWRpdXMiOiAxNS4wMTIsICJzdHJva2UiOiB0cnVlLCAid2VpZ2h0IjogM30KICAgICAgICAgICAgKS5hZGRUbyhtYXBfOGRkZjg4MTBlODVhNDJlNmIwODg4MmU3N2I3NmE0MzUpOwogICAgICAgIAogICAgCiAgICAgICAgdmFyIHBvcHVwX2E4MGRmYjJhMDcxMTQ5ZWE5ZWZmNjE3MTg1YjUwOWYyID0gTC5wb3B1cCh7Im1heFdpZHRoIjogIjEwMCUifSk7CgogICAgICAgIAogICAgICAgICAgICB2YXIgaHRtbF80NmY0ZmE5YTkzZGU0OTgxYTAyMjBmMGMwZTRiMWE4ZSA9ICQoYDxkaXYgaWQ9Imh0bWxfNDZmNGZhOWE5M2RlNDk4MWEwMjIwZjBjMGU0YjFhOGUiIHN0eWxlPSJ3aWR0aDogMTAwLjAlOyBoZWlnaHQ6IDEwMC4wJTsiPldlcnJpYmVlLCBNZWxib3VybmU6MC43NTA2PC9kaXY+YClbMF07CiAgICAgICAgICAgIHBvcHVwX2E4MGRmYjJhMDcxMTQ5ZWE5ZWZmNjE3MTg1YjUwOWYyLnNldENvbnRlbnQoaHRtbF80NmY0ZmE5YTkzZGU0OTgxYTAyMjBmMGMwZTRiMWE4ZSk7CiAgICAgICAgCgogICAgICAgIGNpcmNsZV9tYXJrZXJfNjMxYTM5NTE0OGUwNDljMmFiODkwNDk2MmYxMzI4YjYuYmluZFBvcHVwKHBvcHVwX2E4MGRmYjJhMDcxMTQ5ZWE5ZWZmNjE3MTg1YjUwOWYyKQogICAgICAgIDsKCiAgICAgICAgCiAgICAKICAgIAogICAgICAgICAgICB2YXIgY2lyY2xlX21hcmtlcl9mZDlmODFkOGU3NzM0NjY1YmFmMjU3YWEwMDgyMjk3NSA9IEwuY2lyY2xlTWFya2VyKAogICAgICAgICAgICAgICAgWy0yNy42NzI4MTY4LCAxMjEuNjI4MzA5OF0sCiAgICAgICAgICAgICAgICB7ImJ1YmJsaW5nTW91c2VFdmVudHMiOiB0cnVlLCAiY29sb3IiOiAiYiIsICJkYXNoQXJyYXkiOiBudWxsLCAiZGFzaE9mZnNldCI6IG51bGwsICJmaWxsIjogdHJ1ZSwgImZpbGxDb2xvciI6ICJibHVlIiwgImZpbGxPcGFjaXR5IjogMC43LCAiZmlsbFJ1bGUiOiAiZXZlbm9kZCIsICJsaW5lQ2FwIjogInJvdW5kIiwgImxpbmVKb2luIjogInJvdW5kIiwgIm9wYWNpdHkiOiAxLjAsICJyYWRpdXMiOiAxMC4yMTIwMDAwMDAwMDAwMDIsICJzdHJva2UiOiB0cnVlLCAid2VpZ2h0IjogM30KICAgICAgICAgICAgKS5hZGRUbyhtYXBfOGRkZjg4MTBlODVhNDJlNmIwODg4MmU3N2I3NmE0MzUpOwogICAgICAgIAogICAgCiAgICAgICAgdmFyIHBvcHVwX2E3ODk1N2Q3YmNmODQxM2JhN2I0N2U3NDcwOTFkZDgzID0gTC5wb3B1cCh7Im1heFdpZHRoIjogIjEwMCUifSk7CgogICAgICAgIAogICAgICAgICAgICB2YXIgaHRtbF84MzkwNzJjOWFmMzQ0NzJiYTRmNDcxZWU1NjQ2MzM3YyA9ICQoYDxkaXYgaWQ9Imh0bWxfODM5MDcyYzlhZjM0NDcyYmE0ZjQ3MWVlNTY0NjMzN2MiIHN0eWxlPSJ3aWR0aDogMTAwLjAlOyBoZWlnaHQ6IDEwMC4wJTsiPldlc3Rlcm4gQXVzdHJhbGlhLCBBdXN0cmFsaWE6MC41MTA2PC9kaXY+YClbMF07CiAgICAgICAgICAgIHBvcHVwX2E3ODk1N2Q3YmNmODQxM2JhN2I0N2U3NDcwOTFkZDgzLnNldENvbnRlbnQoaHRtbF84MzkwNzJjOWFmMzQ0NzJiYTRmNDcxZWU1NjQ2MzM3Yyk7CiAgICAgICAgCgogICAgICAgIGNpcmNsZV9tYXJrZXJfZmQ5ZjgxZDhlNzczNDY2NWJhZjI1N2FhMDA4MjI5NzUuYmluZFBvcHVwKHBvcHVwX2E3ODk1N2Q3YmNmODQxM2JhN2I0N2U3NDcwOTFkZDgzKQogICAgICAgIDsKCiAgICAgICAgCiAgICAKICAgIAogICAgICAgICAgICB2YXIgY2lyY2xlX21hcmtlcl81OTBkYjM0MGY0OGQ0MWJkOGY1ODg0OTAwMGY2ZTcxYyA9IEwuY2lyY2xlTWFya2VyKAogICAgICAgICAgICAgICAgWy0zNC40Mjc4MTIxMDAwMDAwMDQsIDE1MC44OTMwNjA2OTk5OTk5OF0sCiAgICAgICAgICAgICAgICB7ImJ1YmJsaW5nTW91c2VFdmVudHMiOiB0cnVlLCAiY29sb3IiOiAiYiIsICJkYXNoQXJyYXkiOiBudWxsLCAiZGFzaE9mZnNldCI6IG51bGwsICJmaWxsIjogdHJ1ZSwgImZpbGxDb2xvciI6ICJibHVlIiwgImZpbGxPcGFjaXR5IjogMC43LCAiZmlsbFJ1bGUiOiAiZXZlbm9kZCIsICJsaW5lQ2FwIjogInJvdW5kIiwgImxpbmVKb2luIjogInJvdW5kIiwgIm9wYWNpdHkiOiAxLjAsICJyYWRpdXMiOiA3LjUxOTIsICJzdHJva2UiOiB0cnVlLCAid2VpZ2h0IjogM30KICAgICAgICAgICAgKS5hZGRUbyhtYXBfOGRkZjg4MTBlODVhNDJlNmIwODg4MmU3N2I3NmE0MzUpOwogICAgICAgIAogICAgCiAgICAgICAgdmFyIHBvcHVwXzU3ODg5YzE4OWM4MjRhYWJhNjk4YjY2OWU3N2FkZTkyID0gTC5wb3B1cCh7Im1heFdpZHRoIjogIjEwMCUifSk7CgogICAgICAgIAogICAgICAgICAgICB2YXIgaHRtbF82YmY3NzA4Mzk3ZTE0NTQ0YjBmNTliZGNmZDgxMzQzYyA9ICQoYDxkaXYgaWQ9Imh0bWxfNmJmNzcwODM5N2UxNDU0NGIwZjU5YmRjZmQ4MTM0M2MiIHN0eWxlPSJ3aWR0aDogMTAwLjAlOyBoZWlnaHQ6IDEwMC4wJTsiPldvbGxvbmdvbmcsIE5ldyBTb3V0aCBXYWxlczowLjM3NTk1OTk5OTk5OTk5OTk2PC9kaXY+YClbMF07CiAgICAgICAgICAgIHBvcHVwXzU3ODg5YzE4OWM4MjRhYWJhNjk4YjY2OWU3N2FkZTkyLnNldENvbnRlbnQoaHRtbF82YmY3NzA4Mzk3ZTE0NTQ0YjBmNTliZGNmZDgxMzQzYyk7CiAgICAgICAgCgogICAgICAgIGNpcmNsZV9tYXJrZXJfNTkwZGIzNDBmNDhkNDFiZDhmNTg4NDkwMDBmNmU3MWMuYmluZFBvcHVwKHBvcHVwXzU3ODg5YzE4OWM4MjRhYWJhNjk4YjY2OWU3N2FkZTkyKQogICAgICAgIDsKCiAgICAgICAgCiAgICAKICAgIAogICAgICAgICAgICB2YXIgY2lyY2xlX21hcmtlcl81ODIyMTA5YWNhZWU0MTg5OTdjODljMGVlNDc4NzNkOCA9IEwuY2lyY2xlTWFya2VyKAogICAgICAgICAgICAgICAgWy0yMy4xMzMzMzMsIDE1MC43MzMzMzMwMDAwMDAwMl0sCiAgICAgICAgICAgICAgICB7ImJ1YmJsaW5nTW91c2VFdmVudHMiOiB0cnVlLCAiY29sb3IiOiAiYiIsICJkYXNoQXJyYXkiOiBudWxsLCAiZGFzaE9mZnNldCI6IG51bGwsICJmaWxsIjogdHJ1ZSwgImZpbGxDb2xvciI6ICJibHVlIiwgImZpbGxPcGFjaXR5IjogMC43LCAiZmlsbFJ1bGUiOiAiZXZlbm9kZCIsICJsaW5lQ2FwIjogInJvdW5kIiwgImxpbmVKb2luIjogInJvdW5kIiwgIm9wYWNpdHkiOiAxLjAsICJyYWRpdXMiOiA3LjYzNTk5OTk5OTk5OTk5OSwgInN0cm9rZSI6IHRydWUsICJ3ZWlnaHQiOiAzfQogICAgICAgICAgICApLmFkZFRvKG1hcF84ZGRmODgxMGU4NWE0MmU2YjA4ODgyZTc3Yjc2YTQzNSk7CiAgICAgICAgCiAgICAKICAgICAgICB2YXIgcG9wdXBfNGU3ODIxZWY3ZjNlNDhhYTlhNjBmYjM1OWVhMTUwMGIgPSBMLnBvcHVwKHsibWF4V2lkdGgiOiAiMTAwJSJ9KTsKCiAgICAgICAgCiAgICAgICAgICAgIHZhciBodG1sXzY0YmM5MGRlOGM3NTRjMGQ4NjJlNjE1MjgwZTQ0M2FhID0gJChgPGRpdiBpZD0iaHRtbF82NGJjOTBkZThjNzU0YzBkODYyZTYxNTI4MGU0NDNhYSIgc3R5bGU9IndpZHRoOiAxMDAuMCU7IGhlaWdodDogMTAwLjAlOyI+WWVwcG9vbiwgUXVlZW5zbGFuZDowLjM4MTg8L2Rpdj5gKVswXTsKICAgICAgICAgICAgcG9wdXBfNGU3ODIxZWY3ZjNlNDhhYTlhNjBmYjM1OWVhMTUwMGIuc2V0Q29udGVudChodG1sXzY0YmM5MGRlOGM3NTRjMGQ4NjJlNjE1MjgwZTQ0M2FhKTsKICAgICAgICAKCiAgICAgICAgY2lyY2xlX21hcmtlcl81ODIyMTA5YWNhZWU0MTg5OTdjODljMGVlNDc4NzNkOC5iaW5kUG9wdXAocG9wdXBfNGU3ODIxZWY3ZjNlNDhhYTlhNjBmYjM1OWVhMTUwMGIpCiAgICAgICAgOwoKICAgICAgICAKICAgIAo8L3NjcmlwdD4=\" style=\"position:absolute;width:100%;height:100%;left:0;top:0;border:none !important;\" allowfullscreen webkitallowfullscreen mozallowfullscreen></iframe></div></div>"
      ],
      "text/plain": [
       "<folium.folium.Map at 0x1a28cf7588>"
      ]
     },
     "execution_count": 42,
     "metadata": {},
     "output_type": "execute_result"
    }
   ],
   "source": [
    "colordict = {'Positive': 'blue','Negative': 'red'}\n",
    "for lat, lon,sentiment_type, polarity_abs,place, polarity_original in zip(map_df['lat'], map_df['long'], \n",
    "                         map_df['sentiment_type'],map_df['polarity_abs'],map_df['place_full_name'],\n",
    "                         map_df['sentiment_compound_polarity']):\n",
    "    folium.CircleMarker(\n",
    "        [lat, lon],\n",
    "        radius=polarity_abs,\n",
    "        popup = (str(place)+\":\"+str(polarity_original)),\n",
    "        color='b',\n",
    "        fill_color=colordict[sentiment_type],\n",
    "        fill=True,\n",
    "        fill_opacity=0.7\n",
    "        ).add_to(sentiment_map)\n",
    "sentiment_map\n",
    "#click to the circe marker to see the place name and the compound polarity score"
   ]
  },
  {
   "cell_type": "markdown",
   "metadata": {},
   "source": [
    "# NRC Sentiment"
   ]
  },
  {
   "cell_type": "code",
   "execution_count": 43,
   "metadata": {},
   "outputs": [],
   "source": [
    "#create a column of unique ID for further merging datasets purpose\n",
    "ruok['UniqueID'] = np.arange(len(ruok))\n",
    "ruok.to_csv('ruok.csv')"
   ]
  },
  {
   "cell_type": "code",
   "execution_count": 44,
   "metadata": {},
   "outputs": [],
   "source": [
    "from tqdm import tqdm_notebook as tqdm\n",
    "import csv\n",
    "from nltk import word_tokenize\n",
    "from nltk.stem.snowball import SnowballStemmer"
   ]
  },
  {
   "cell_type": "code",
   "execution_count": 45,
   "metadata": {},
   "outputs": [
    {
     "name": "stdout",
     "output_type": "stream",
     "text": [
      "Processed 24799 lines.\n"
     ]
    },
    {
     "data": {
      "application/vnd.jupyter.widget-view+json": {
       "model_id": "a6e1b945ba2b422c84485ca6fc06ac85",
       "version_major": 2,
       "version_minor": 0
      },
      "text/plain": [
       "HBox(children=(IntProgress(value=0, max=24798), HTML(value='')))"
      ]
     },
     "metadata": {},
     "output_type": "display_data"
    },
    {
     "name": "stdout",
     "output_type": "stream",
     "text": [
      "\n"
     ]
    }
   ],
   "source": [
    "input_csv_filename='ruok.csv'\n",
    "\n",
    "data = {'text':[],'UniqueID': []}\n",
    "\n",
    "with open(input_csv_filename) as csv_file:\n",
    "    csv_reader = csv.reader(csv_file, delimiter=',')\n",
    "    line_count = 0\n",
    "    for row in csv_reader:\n",
    "        if line_count != 0:\n",
    "            data['text'].append(row[33])\n",
    "            data['UniqueID'].append(row[0])\n",
    "        line_count += 1\n",
    "    print(f'Processed {line_count} lines.')\n",
    "df = pd.DataFrame(data=data)\n",
    "\n",
    "\n",
    "def text_emotion(df, column):\n",
    "    '''\n",
    "    Takes a DataFrame and a specified column of text and adds 10 columns to the\n",
    "    DataFrame for each of the 10 emotions in the NRC Emotion Lexicon, with each\n",
    "    column containing the value of the text in that emotions\n",
    "    INPUT: DataFrame, string\n",
    "    OUTPUT: the original DataFrame with ten new columns\n",
    "    '''\n",
    "\n",
    "    new_df = df.copy()\n",
    "    #read the nrc lexicon file \n",
    "    filepath = ('NRC-Emotion-Lexicon-Wordlevel-v0.92.txt')\n",
    "    emolex_df = pd.read_csv(filepath,\n",
    "                            names=[\"word\", \"emotion\", \"association\"],\n",
    "                            sep='\\t')\n",
    "    emolex_words = emolex_df.pivot(index='word',\n",
    "                                   columns='emotion',\n",
    "                                   values='association').reset_index()\n",
    "    emotions = emolex_words.columns.drop('word')\n",
    "    emo_df = pd.DataFrame(0, index=df.index, columns=emotions)\n",
    "\n",
    "    stemmer = SnowballStemmer(\"english\")\n",
    "\n",
    "    \n",
    "    with tqdm(total=len(list(new_df.iterrows()))) as pbar:\n",
    "        for i, row in new_df.iterrows():\n",
    "            pbar.update(1)\n",
    "            document = word_tokenize(new_df.loc[i][column])\n",
    "            for word in document:\n",
    "                word = stemmer.stem(word.lower())\n",
    "                emo_score = emolex_words[emolex_words.word == word]\n",
    "                if not emo_score.empty:\n",
    "                    for emotion in list(emotions):\n",
    "                        emo_df.at[i, emotion] += emo_score[emotion]\n",
    "\n",
    "    new_df = pd.concat([new_df, emo_df], axis=1)\n",
    "\n",
    "    return new_df\n",
    "\n",
    "result_df = text_emotion(df, 'text')"
   ]
  },
  {
   "cell_type": "code",
   "execution_count": 46,
   "metadata": {},
   "outputs": [
    {
     "data": {
      "text/html": [
       "<div>\n",
       "<style scoped>\n",
       "    .dataframe tbody tr th:only-of-type {\n",
       "        vertical-align: middle;\n",
       "    }\n",
       "\n",
       "    .dataframe tbody tr th {\n",
       "        vertical-align: top;\n",
       "    }\n",
       "\n",
       "    .dataframe thead th {\n",
       "        text-align: right;\n",
       "    }\n",
       "</style>\n",
       "<table border=\"1\" class=\"dataframe\">\n",
       "  <thead>\n",
       "    <tr style=\"text-align: right;\">\n",
       "      <th></th>\n",
       "      <th>text</th>\n",
       "      <th>UniqueID</th>\n",
       "      <th>anger</th>\n",
       "      <th>anticipation</th>\n",
       "      <th>disgust</th>\n",
       "      <th>fear</th>\n",
       "      <th>joy</th>\n",
       "      <th>negative</th>\n",
       "      <th>positive</th>\n",
       "      <th>sadness</th>\n",
       "      <th>surprise</th>\n",
       "      <th>trust</th>\n",
       "    </tr>\n",
       "  </thead>\n",
       "  <tbody>\n",
       "    <tr>\n",
       "      <th>0</th>\n",
       "      <td>ruokday thursday septemb retweet tweet remind ...</td>\n",
       "      <td>0</td>\n",
       "      <td>0</td>\n",
       "      <td>0</td>\n",
       "      <td>0</td>\n",
       "      <td>0</td>\n",
       "      <td>0</td>\n",
       "      <td>0</td>\n",
       "      <td>0</td>\n",
       "      <td>0</td>\n",
       "      <td>0</td>\n",
       "      <td>0</td>\n",
       "    </tr>\n",
       "    <tr>\n",
       "      <th>1</th>\n",
       "      <td>ruokday septemb tweet remind day info help lea...</td>\n",
       "      <td>1</td>\n",
       "      <td>0</td>\n",
       "      <td>0</td>\n",
       "      <td>0</td>\n",
       "      <td>0</td>\n",
       "      <td>0</td>\n",
       "      <td>0</td>\n",
       "      <td>1</td>\n",
       "      <td>0</td>\n",
       "      <td>0</td>\n",
       "      <td>0</td>\n",
       "    </tr>\n",
       "    <tr>\n",
       "      <th>2</th>\n",
       "      <td>ruokday septemb tweet remind day info help lea...</td>\n",
       "      <td>2</td>\n",
       "      <td>0</td>\n",
       "      <td>0</td>\n",
       "      <td>0</td>\n",
       "      <td>0</td>\n",
       "      <td>0</td>\n",
       "      <td>0</td>\n",
       "      <td>1</td>\n",
       "      <td>0</td>\n",
       "      <td>0</td>\n",
       "      <td>0</td>\n",
       "    </tr>\n",
       "  </tbody>\n",
       "</table>\n",
       "</div>"
      ],
      "text/plain": [
       "                                                text UniqueID  anger  \\\n",
       "0  ruokday thursday septemb retweet tweet remind ...        0      0   \n",
       "1  ruokday septemb tweet remind day info help lea...        1      0   \n",
       "2  ruokday septemb tweet remind day info help lea...        2      0   \n",
       "\n",
       "   anticipation  disgust  fear  joy  negative  positive  sadness  surprise  \\\n",
       "0             0        0     0    0         0         0        0         0   \n",
       "1             0        0     0    0         0         1        0         0   \n",
       "2             0        0     0    0         0         1        0         0   \n",
       "\n",
       "   trust  \n",
       "0      0  \n",
       "1      0  \n",
       "2      0  "
      ]
     },
     "execution_count": 46,
     "metadata": {},
     "output_type": "execute_result"
    }
   ],
   "source": [
    "result_df.head(3)"
   ]
  },
  {
   "cell_type": "code",
   "execution_count": 47,
   "metadata": {},
   "outputs": [],
   "source": [
    "result_df.to_csv('nrc_result.csv')"
   ]
  },
  {
   "cell_type": "code",
   "execution_count": 48,
   "metadata": {},
   "outputs": [],
   "source": [
    "nrc_f = 'nrc_result.csv'\n",
    "nrc_result=pd.read_csv(nrc_f)"
   ]
  },
  {
   "cell_type": "code",
   "execution_count": 49,
   "metadata": {},
   "outputs": [],
   "source": [
    "#merge the nrc lexicon results table with the original dataset\n",
    "nrc = ruok.merge(nrc_result, how='inner', left_on='UniqueID', right_on='UniqueID')"
   ]
  },
  {
   "cell_type": "code",
   "execution_count": 50,
   "metadata": {},
   "outputs": [
    {
     "data": {
      "text/plain": [
       "Index(['query', 'query_type', 'id', 'created_at', 'user_screen_name', 'source',\n",
       "       'lang', 'retweet_count', 'favorite_count', 'in_reply_to_screen_name',\n",
       "       'place', 'coordinates', 'user.time_zone', 'full_text', 'hashtags',\n",
       "       'user_mentions', 'in_reply_to_status_id', 'place_type', 'place_name',\n",
       "       'place_full_name', 'country_code', 'country', 'contained_within',\n",
       "       'coordinate_box', 'x_coor', 'y_coor', 'reply_count', 'level',\n",
       "       'tidy_tweet', 'Tweet_tokenized', 'Tweet_nonstop', 'Tweet_stem',\n",
       "       'Tweet_string', 'sentiment_compound_polarity', 'sentiment_neutral',\n",
       "       'sentiment_negative', 'sentiment_pos', 'sentiment_type',\n",
       "       'created_at_date', 'created_at_hour', 'UniqueID', 'Unnamed: 0', 'text',\n",
       "       'anger', 'anticipation', 'disgust', 'fear', 'joy', 'negative',\n",
       "       'positive', 'sadness', 'surprise', 'trust'],\n",
       "      dtype='object')"
      ]
     },
     "execution_count": 50,
     "metadata": {},
     "output_type": "execute_result"
    }
   ],
   "source": [
    "nrc.columns"
   ]
  },
  {
   "cell_type": "code",
   "execution_count": 51,
   "metadata": {},
   "outputs": [],
   "source": [
    "nrc = nrc[['place_full_name','place_name','Tweet_string','created_at_date','anger',\n",
    "       'anticipation', 'disgust', 'fear', 'joy', 'negative', 'positive',\n",
    "       'sadness', 'surprise', 'trust']]"
   ]
  },
  {
   "cell_type": "code",
   "execution_count": 52,
   "metadata": {},
   "outputs": [],
   "source": [
    "nrc.to_csv('nrc.csv')"
   ]
  },
  {
   "cell_type": "code",
   "execution_count": 53,
   "metadata": {},
   "outputs": [],
   "source": [
    "from nltk import tokenize\n",
    "nrc['word_count'] = nrc['Tweet_string'].apply(tokenize.word_tokenize).apply(len)"
   ]
  },
  {
   "cell_type": "code",
   "execution_count": 54,
   "metadata": {},
   "outputs": [
    {
     "data": {
      "text/html": [
       "<div>\n",
       "<style scoped>\n",
       "    .dataframe tbody tr th:only-of-type {\n",
       "        vertical-align: middle;\n",
       "    }\n",
       "\n",
       "    .dataframe tbody tr th {\n",
       "        vertical-align: top;\n",
       "    }\n",
       "\n",
       "    .dataframe thead th {\n",
       "        text-align: right;\n",
       "    }\n",
       "</style>\n",
       "<table border=\"1\" class=\"dataframe\">\n",
       "  <thead>\n",
       "    <tr style=\"text-align: right;\">\n",
       "      <th></th>\n",
       "      <th>place_full_name</th>\n",
       "      <th>place_name</th>\n",
       "      <th>Tweet_string</th>\n",
       "      <th>created_at_date</th>\n",
       "      <th>anger</th>\n",
       "      <th>anticipation</th>\n",
       "      <th>disgust</th>\n",
       "      <th>fear</th>\n",
       "      <th>joy</th>\n",
       "      <th>negative</th>\n",
       "      <th>positive</th>\n",
       "      <th>sadness</th>\n",
       "      <th>surprise</th>\n",
       "      <th>trust</th>\n",
       "      <th>word_count</th>\n",
       "    </tr>\n",
       "  </thead>\n",
       "  <tbody>\n",
       "    <tr>\n",
       "      <th>0</th>\n",
       "      <td>NaN</td>\n",
       "      <td>NaN</td>\n",
       "      <td>ruokday thursday septemb retweet tweet remind ...</td>\n",
       "      <td>2019-09-07</td>\n",
       "      <td>0</td>\n",
       "      <td>0</td>\n",
       "      <td>0</td>\n",
       "      <td>0</td>\n",
       "      <td>0</td>\n",
       "      <td>0</td>\n",
       "      <td>0</td>\n",
       "      <td>0</td>\n",
       "      <td>0</td>\n",
       "      <td>0</td>\n",
       "      <td>10</td>\n",
       "    </tr>\n",
       "    <tr>\n",
       "      <th>1</th>\n",
       "      <td>NaN</td>\n",
       "      <td>NaN</td>\n",
       "      <td>ruokday septemb tweet remind day info help lea...</td>\n",
       "      <td>2019-09-07</td>\n",
       "      <td>0</td>\n",
       "      <td>0</td>\n",
       "      <td>0</td>\n",
       "      <td>0</td>\n",
       "      <td>0</td>\n",
       "      <td>0</td>\n",
       "      <td>1</td>\n",
       "      <td>0</td>\n",
       "      <td>0</td>\n",
       "      <td>0</td>\n",
       "      <td>10</td>\n",
       "    </tr>\n",
       "    <tr>\n",
       "      <th>2</th>\n",
       "      <td>NaN</td>\n",
       "      <td>NaN</td>\n",
       "      <td>ruokday septemb tweet remind day info help lea...</td>\n",
       "      <td>2019-09-07</td>\n",
       "      <td>0</td>\n",
       "      <td>0</td>\n",
       "      <td>0</td>\n",
       "      <td>0</td>\n",
       "      <td>0</td>\n",
       "      <td>0</td>\n",
       "      <td>1</td>\n",
       "      <td>0</td>\n",
       "      <td>0</td>\n",
       "      <td>0</td>\n",
       "      <td>10</td>\n",
       "    </tr>\n",
       "  </tbody>\n",
       "</table>\n",
       "</div>"
      ],
      "text/plain": [
       "  place_full_name place_name  \\\n",
       "0             NaN        NaN   \n",
       "1             NaN        NaN   \n",
       "2             NaN        NaN   \n",
       "\n",
       "                                        Tweet_string created_at_date  anger  \\\n",
       "0  ruokday thursday septemb retweet tweet remind ...      2019-09-07      0   \n",
       "1  ruokday septemb tweet remind day info help lea...      2019-09-07      0   \n",
       "2  ruokday septemb tweet remind day info help lea...      2019-09-07      0   \n",
       "\n",
       "   anticipation  disgust  fear  joy  negative  positive  sadness  surprise  \\\n",
       "0             0        0     0    0         0         0        0         0   \n",
       "1             0        0     0    0         0         1        0         0   \n",
       "2             0        0     0    0         0         1        0         0   \n",
       "\n",
       "   trust  word_count  \n",
       "0      0          10  \n",
       "1      0          10  \n",
       "2      0          10  "
      ]
     },
     "execution_count": 54,
     "metadata": {},
     "output_type": "execute_result"
    }
   ],
   "source": [
    "nrc.head(3)"
   ]
  },
  {
   "cell_type": "code",
   "execution_count": 55,
   "metadata": {},
   "outputs": [],
   "source": [
    "emotions = ['anger', 'anticipation', 'disgust', 'fear', 'joy', 'negative', 'positive', 'sadness', 'surprise', 'trust']"
   ]
  },
  {
   "cell_type": "code",
   "execution_count": 56,
   "metadata": {},
   "outputs": [],
   "source": [
    "#calculate the ratio: the number of words associated with emotions by the total word count for each tweet\n",
    "for emotion in emotions:\n",
    "    nrc[emotion] = nrc[emotion] / nrc['word_count']"
   ]
  },
  {
   "cell_type": "code",
   "execution_count": 57,
   "metadata": {},
   "outputs": [
    {
     "data": {
      "text/html": [
       "<div>\n",
       "<style scoped>\n",
       "    .dataframe tbody tr th:only-of-type {\n",
       "        vertical-align: middle;\n",
       "    }\n",
       "\n",
       "    .dataframe tbody tr th {\n",
       "        vertical-align: top;\n",
       "    }\n",
       "\n",
       "    .dataframe thead th {\n",
       "        text-align: right;\n",
       "    }\n",
       "</style>\n",
       "<table border=\"1\" class=\"dataframe\">\n",
       "  <thead>\n",
       "    <tr style=\"text-align: right;\">\n",
       "      <th></th>\n",
       "      <th>place_full_name</th>\n",
       "      <th>place_name</th>\n",
       "      <th>Tweet_string</th>\n",
       "      <th>created_at_date</th>\n",
       "      <th>anger</th>\n",
       "      <th>anticipation</th>\n",
       "      <th>disgust</th>\n",
       "      <th>fear</th>\n",
       "      <th>joy</th>\n",
       "      <th>negative</th>\n",
       "      <th>positive</th>\n",
       "      <th>sadness</th>\n",
       "      <th>surprise</th>\n",
       "      <th>trust</th>\n",
       "      <th>word_count</th>\n",
       "    </tr>\n",
       "  </thead>\n",
       "  <tbody>\n",
       "    <tr>\n",
       "      <th>0</th>\n",
       "      <td>NaN</td>\n",
       "      <td>NaN</td>\n",
       "      <td>ruokday thursday septemb retweet tweet remind ...</td>\n",
       "      <td>2019-09-07</td>\n",
       "      <td>0.0</td>\n",
       "      <td>0.0</td>\n",
       "      <td>0.0</td>\n",
       "      <td>0.0</td>\n",
       "      <td>0.0</td>\n",
       "      <td>0.0</td>\n",
       "      <td>0.0</td>\n",
       "      <td>0.0</td>\n",
       "      <td>0.0</td>\n",
       "      <td>0.0</td>\n",
       "      <td>10</td>\n",
       "    </tr>\n",
       "    <tr>\n",
       "      <th>1</th>\n",
       "      <td>NaN</td>\n",
       "      <td>NaN</td>\n",
       "      <td>ruokday septemb tweet remind day info help lea...</td>\n",
       "      <td>2019-09-07</td>\n",
       "      <td>0.0</td>\n",
       "      <td>0.0</td>\n",
       "      <td>0.0</td>\n",
       "      <td>0.0</td>\n",
       "      <td>0.0</td>\n",
       "      <td>0.0</td>\n",
       "      <td>0.1</td>\n",
       "      <td>0.0</td>\n",
       "      <td>0.0</td>\n",
       "      <td>0.0</td>\n",
       "      <td>10</td>\n",
       "    </tr>\n",
       "    <tr>\n",
       "      <th>2</th>\n",
       "      <td>NaN</td>\n",
       "      <td>NaN</td>\n",
       "      <td>ruokday septemb tweet remind day info help lea...</td>\n",
       "      <td>2019-09-07</td>\n",
       "      <td>0.0</td>\n",
       "      <td>0.0</td>\n",
       "      <td>0.0</td>\n",
       "      <td>0.0</td>\n",
       "      <td>0.0</td>\n",
       "      <td>0.0</td>\n",
       "      <td>0.1</td>\n",
       "      <td>0.0</td>\n",
       "      <td>0.0</td>\n",
       "      <td>0.0</td>\n",
       "      <td>10</td>\n",
       "    </tr>\n",
       "    <tr>\n",
       "      <th>3</th>\n",
       "      <td>NaN</td>\n",
       "      <td>NaN</td>\n",
       "      <td>ruokday septemb tweet remind day info help lea...</td>\n",
       "      <td>2019-09-07</td>\n",
       "      <td>0.0</td>\n",
       "      <td>0.0</td>\n",
       "      <td>0.0</td>\n",
       "      <td>0.0</td>\n",
       "      <td>0.0</td>\n",
       "      <td>0.0</td>\n",
       "      <td>0.1</td>\n",
       "      <td>0.0</td>\n",
       "      <td>0.0</td>\n",
       "      <td>0.0</td>\n",
       "      <td>10</td>\n",
       "    </tr>\n",
       "    <tr>\n",
       "      <th>4</th>\n",
       "      <td>NaN</td>\n",
       "      <td>NaN</td>\n",
       "      <td>ruokday septemb tweet remind day info help lea...</td>\n",
       "      <td>2019-09-07</td>\n",
       "      <td>0.0</td>\n",
       "      <td>0.0</td>\n",
       "      <td>0.0</td>\n",
       "      <td>0.0</td>\n",
       "      <td>0.0</td>\n",
       "      <td>0.0</td>\n",
       "      <td>0.1</td>\n",
       "      <td>0.0</td>\n",
       "      <td>0.0</td>\n",
       "      <td>0.0</td>\n",
       "      <td>10</td>\n",
       "    </tr>\n",
       "  </tbody>\n",
       "</table>\n",
       "</div>"
      ],
      "text/plain": [
       "  place_full_name place_name  \\\n",
       "0             NaN        NaN   \n",
       "1             NaN        NaN   \n",
       "2             NaN        NaN   \n",
       "3             NaN        NaN   \n",
       "4             NaN        NaN   \n",
       "\n",
       "                                        Tweet_string created_at_date  anger  \\\n",
       "0  ruokday thursday septemb retweet tweet remind ...      2019-09-07    0.0   \n",
       "1  ruokday septemb tweet remind day info help lea...      2019-09-07    0.0   \n",
       "2  ruokday septemb tweet remind day info help lea...      2019-09-07    0.0   \n",
       "3  ruokday septemb tweet remind day info help lea...      2019-09-07    0.0   \n",
       "4  ruokday septemb tweet remind day info help lea...      2019-09-07    0.0   \n",
       "\n",
       "   anticipation  disgust  fear  joy  negative  positive  sadness  surprise  \\\n",
       "0           0.0      0.0   0.0  0.0       0.0       0.0      0.0       0.0   \n",
       "1           0.0      0.0   0.0  0.0       0.0       0.1      0.0       0.0   \n",
       "2           0.0      0.0   0.0  0.0       0.0       0.1      0.0       0.0   \n",
       "3           0.0      0.0   0.0  0.0       0.0       0.1      0.0       0.0   \n",
       "4           0.0      0.0   0.0  0.0       0.0       0.1      0.0       0.0   \n",
       "\n",
       "   trust  word_count  \n",
       "0    0.0          10  \n",
       "1    0.0          10  \n",
       "2    0.0          10  \n",
       "3    0.0          10  \n",
       "4    0.0          10  "
      ]
     },
     "execution_count": 57,
     "metadata": {},
     "output_type": "execute_result"
    }
   ],
   "source": [
    "nrc.head()"
   ]
  },
  {
   "cell_type": "code",
   "execution_count": 58,
   "metadata": {},
   "outputs": [],
   "source": [
    "#calculate the proportions of words associated with each emotion\n",
    "word_total = nrc['word_count'].sum()\n",
    "anger= nrc['anger'].sum()/word_total\n",
    "anticipation = nrc['anticipation'].sum()/word_total\n",
    "disgust = nrc['disgust'].sum()/word_total\n",
    "fear = nrc['fear'].sum()/word_total\n",
    "joy = nrc['joy'].sum()/word_total\n",
    "sadness = nrc['sadness'].sum()/word_total\n",
    "surprise = nrc['surprise'].sum()/word_total\n",
    "trust = nrc['trust'].sum()/word_total\n",
    "#positive = nrc['positive'].sum()/word_total\n",
    "#negative = nrc['negative'].sum()/word_total"
   ]
  },
  {
   "cell_type": "code",
   "execution_count": 85,
   "metadata": {},
   "outputs": [
    {
     "data": {
      "application/vnd.jupyter.widget-view+json": {
       "model_id": "07002852ca5c411983114fc939454eca",
       "version_major": 2,
       "version_minor": 0
      },
      "text/plain": [
       "FigureWidget({\n",
       "    'data': [{'type': 'bar',\n",
       "              'uid': '0977e640-8b8d-4a0f-aa2e-fbea638a848e',\n",
       "     …"
      ]
     },
     "metadata": {},
     "output_type": "display_data"
    }
   ],
   "source": [
    "emotions = ['anger', 'anticipation', 'disgust', 'fear', 'joy','sadness', 'surprise', 'trust']\n",
    "value = [anger,anticipation,disgust,fear,joy,sadness,surprise,trust]\n",
    "data = [go.Bar(\n",
    "    x=emotions,\n",
    "    y=value\n",
    ")]\n",
    "layout = {\n",
    "    'xaxis': {\n",
    "        'categoryorder': 'array',\n",
    "        'autorange':'reversed',\n",
    "        'categoryarray': [x for _, x in sorted(zip(value, emotions))]\n",
    "    }\n",
    "}\n",
    "fig = go.FigureWidget(data=data, layout=layout)\n",
    "\n",
    "fig.update_xaxes(title_text=\"Emotion\")\n",
    "fig.update_yaxes(title_text=\"Ratio\")\n",
    "fig.update_layout(height=500, width=700,showlegend=False)\n",
    "fig"
   ]
  },
  {
   "cell_type": "code",
   "execution_count": 60,
   "metadata": {},
   "outputs": [],
   "source": [
    "nrc_date = nrc[['created_at_date','anger', 'anticipation', \n",
    "                'disgust', 'fear', 'joy', 'sadness', 'surprise', 'trust']]\n",
    "#gather the dataset\n",
    "nrc_date = pd.melt(nrc_date,id_vars='created_at_date',var_name='emotion',value_name='average_sentiment')\n",
    "#get the average sentiment by date and emotion\n",
    "nrc_date = nrc_date.groupby(['created_at_date', 'emotion']).agg({'average_sentiment': 'mean'}).reset_index()\n",
    "nrc_date['created_at_date'] = pd.to_datetime(nrc_date['created_at_date'])"
   ]
  },
  {
   "cell_type": "code",
   "execution_count": 61,
   "metadata": {},
   "outputs": [
    {
     "data": {
      "text/html": [
       "<div>\n",
       "<style scoped>\n",
       "    .dataframe tbody tr th:only-of-type {\n",
       "        vertical-align: middle;\n",
       "    }\n",
       "\n",
       "    .dataframe tbody tr th {\n",
       "        vertical-align: top;\n",
       "    }\n",
       "\n",
       "    .dataframe thead th {\n",
       "        text-align: right;\n",
       "    }\n",
       "</style>\n",
       "<table border=\"1\" class=\"dataframe\">\n",
       "  <thead>\n",
       "    <tr style=\"text-align: right;\">\n",
       "      <th></th>\n",
       "      <th>created_at_date</th>\n",
       "      <th>emotion</th>\n",
       "      <th>average_sentiment</th>\n",
       "    </tr>\n",
       "  </thead>\n",
       "  <tbody>\n",
       "    <tr>\n",
       "      <th>0</th>\n",
       "      <td>2019-09-03</td>\n",
       "      <td>anger</td>\n",
       "      <td>0.041667</td>\n",
       "    </tr>\n",
       "    <tr>\n",
       "      <th>1</th>\n",
       "      <td>2019-09-03</td>\n",
       "      <td>anticipation</td>\n",
       "      <td>0.000000</td>\n",
       "    </tr>\n",
       "    <tr>\n",
       "      <th>2</th>\n",
       "      <td>2019-09-03</td>\n",
       "      <td>disgust</td>\n",
       "      <td>0.031250</td>\n",
       "    </tr>\n",
       "    <tr>\n",
       "      <th>3</th>\n",
       "      <td>2019-09-03</td>\n",
       "      <td>fear</td>\n",
       "      <td>0.000000</td>\n",
       "    </tr>\n",
       "    <tr>\n",
       "      <th>4</th>\n",
       "      <td>2019-09-03</td>\n",
       "      <td>joy</td>\n",
       "      <td>0.000000</td>\n",
       "    </tr>\n",
       "  </tbody>\n",
       "</table>\n",
       "</div>"
      ],
      "text/plain": [
       "  created_at_date       emotion  average_sentiment\n",
       "0      2019-09-03         anger           0.041667\n",
       "1      2019-09-03  anticipation           0.000000\n",
       "2      2019-09-03       disgust           0.031250\n",
       "3      2019-09-03          fear           0.000000\n",
       "4      2019-09-03           joy           0.000000"
      ]
     },
     "execution_count": 61,
     "metadata": {},
     "output_type": "execute_result"
    }
   ],
   "source": [
    "nrc_date.head(5)"
   ]
  },
  {
   "cell_type": "code",
   "execution_count": 62,
   "metadata": {},
   "outputs": [
    {
     "data": {
      "application/vnd.plotly.v1+json": {
       "config": {
        "plotlyServerURL": "https://plot.ly"
       },
       "data": [
        {
         "hoverlabel": {
          "namelength": 0
         },
         "hovertemplate": "emotion=anger<br>created_at_date=%{x}<br>average_sentiment=%{y}",
         "legendgroup": "emotion=anger",
         "line": {
          "color": "#636efa",
          "dash": "solid"
         },
         "mode": "lines",
         "name": "emotion=anger",
         "showlegend": true,
         "type": "scatter",
         "x": [
          "2019-09-03T00:00:00",
          "2019-09-04T00:00:00",
          "2019-09-05T00:00:00",
          "2019-09-06T00:00:00",
          "2019-09-07T00:00:00",
          "2019-09-08T00:00:00",
          "2019-09-09T00:00:00",
          "2019-09-10T00:00:00",
          "2019-09-11T00:00:00",
          "2019-09-12T00:00:00",
          "2019-09-13T00:00:00",
          "2019-09-14T00:00:00",
          "2019-09-15T00:00:00",
          "2019-09-16T00:00:00",
          "2019-09-17T00:00:00",
          "2019-09-18T00:00:00",
          "2019-09-19T00:00:00",
          "2019-09-20T00:00:00",
          "2019-09-21T00:00:00",
          "2019-09-22T00:00:00",
          "2019-09-23T00:00:00",
          "2019-09-24T00:00:00",
          "2019-09-25T00:00:00",
          "2019-09-26T00:00:00",
          "2019-09-27T00:00:00",
          "2019-09-28T00:00:00",
          "2019-09-29T00:00:00",
          "2019-09-30T00:00:00",
          "2019-10-01T00:00:00",
          "2019-10-02T00:00:00",
          "2019-10-03T00:00:00",
          "2019-10-04T00:00:00",
          "2019-10-05T00:00:00"
         ],
         "xaxis": "x",
         "y": [
          0.041666666666666664,
          0.028017028017028017,
          0.0023531340945134047,
          0.002151539270854037,
          0.003448562123202103,
          0.0023417674279743246,
          0.0049012095874055766,
          0.009026865994101064,
          0.005847253547681164,
          0.012961172076188129,
          0.02021467390341089,
          0.010958190164915869,
          0.020017420441628606,
          0.016035078282700666,
          0.01257739204341146,
          0.008605495694781409,
          0.009857254794645593,
          0.010026541366673011,
          0.008232142857142858,
          0.003057889822595705,
          0.0036255411255411256,
          0.004169993789370953,
          0.02937750060884389,
          0.011564625850340135,
          0.015949969876323026,
          0.002962962962962963,
          0.018371212121212118,
          0.002490726020137785,
          0.0025577889304024917,
          0.0028160919540229884,
          0.026241987179487173,
          0.005602693602693603,
          0.02264957264957265
         ],
         "yaxis": "y"
        },
        {
         "hoverlabel": {
          "namelength": 0
         },
         "hovertemplate": "emotion=anticipation<br>created_at_date=%{x}<br>average_sentiment=%{y}",
         "legendgroup": "emotion=anticipation",
         "line": {
          "color": "#EF553B",
          "dash": "solid"
         },
         "mode": "lines",
         "name": "emotion=anticipation",
         "showlegend": true,
         "type": "scatter",
         "x": [
          "2019-09-03T00:00:00",
          "2019-09-04T00:00:00",
          "2019-09-05T00:00:00",
          "2019-09-06T00:00:00",
          "2019-09-07T00:00:00",
          "2019-09-08T00:00:00",
          "2019-09-09T00:00:00",
          "2019-09-10T00:00:00",
          "2019-09-11T00:00:00",
          "2019-09-12T00:00:00",
          "2019-09-13T00:00:00",
          "2019-09-14T00:00:00",
          "2019-09-15T00:00:00",
          "2019-09-16T00:00:00",
          "2019-09-17T00:00:00",
          "2019-09-18T00:00:00",
          "2019-09-19T00:00:00",
          "2019-09-20T00:00:00",
          "2019-09-21T00:00:00",
          "2019-09-22T00:00:00",
          "2019-09-23T00:00:00",
          "2019-09-24T00:00:00",
          "2019-09-25T00:00:00",
          "2019-09-26T00:00:00",
          "2019-09-27T00:00:00",
          "2019-09-28T00:00:00",
          "2019-09-29T00:00:00",
          "2019-09-30T00:00:00",
          "2019-10-01T00:00:00",
          "2019-10-02T00:00:00",
          "2019-10-03T00:00:00",
          "2019-10-04T00:00:00",
          "2019-10-05T00:00:00"
         ],
         "xaxis": "x",
         "y": [
          0,
          0.010285134356341787,
          0.004231690761754677,
          0.02251648633767398,
          0.016469783631439555,
          0.011032373111645977,
          0.022156211581891933,
          0.02058490831887769,
          0.032483999517306454,
          0.03145192727936445,
          0.03488509852246816,
          0.031084737053539417,
          0.029925456577558282,
          0.03139350721671061,
          0.029660047482503143,
          0.01691901366285603,
          0.0470134921530166,
          0.02508009709212755,
          0.04283910533910533,
          0.03678685149273384,
          0.01893023849856148,
          0.015678989306288527,
          0.04675134219549243,
          0.04010670923936229,
          0.04951385438764601,
          0.018627010849233076,
          0.029166666666666664,
          0.019974169974169974,
          0.08461869721851975,
          0.017530682074292623,
          0.03390088016624321,
          0.026749082593072362,
          0.02989777107424166
         ],
         "yaxis": "y"
        },
        {
         "hoverlabel": {
          "namelength": 0
         },
         "hovertemplate": "emotion=disgust<br>created_at_date=%{x}<br>average_sentiment=%{y}",
         "legendgroup": "emotion=disgust",
         "line": {
          "color": "#00cc96",
          "dash": "solid"
         },
         "mode": "lines",
         "name": "emotion=disgust",
         "showlegend": true,
         "type": "scatter",
         "x": [
          "2019-09-03T00:00:00",
          "2019-09-04T00:00:00",
          "2019-09-05T00:00:00",
          "2019-09-06T00:00:00",
          "2019-09-07T00:00:00",
          "2019-09-08T00:00:00",
          "2019-09-09T00:00:00",
          "2019-09-10T00:00:00",
          "2019-09-11T00:00:00",
          "2019-09-12T00:00:00",
          "2019-09-13T00:00:00",
          "2019-09-14T00:00:00",
          "2019-09-15T00:00:00",
          "2019-09-16T00:00:00",
          "2019-09-17T00:00:00",
          "2019-09-18T00:00:00",
          "2019-09-19T00:00:00",
          "2019-09-20T00:00:00",
          "2019-09-21T00:00:00",
          "2019-09-22T00:00:00",
          "2019-09-23T00:00:00",
          "2019-09-24T00:00:00",
          "2019-09-25T00:00:00",
          "2019-09-26T00:00:00",
          "2019-09-27T00:00:00",
          "2019-09-28T00:00:00",
          "2019-09-29T00:00:00",
          "2019-09-30T00:00:00",
          "2019-10-01T00:00:00",
          "2019-10-02T00:00:00",
          "2019-10-03T00:00:00",
          "2019-10-04T00:00:00",
          "2019-10-05T00:00:00"
         ],
         "xaxis": "x",
         "y": [
          0.03125,
          0.021713084213084224,
          0.010110994848063814,
          0.017535856054940423,
          0.02120779689488501,
          0.0234003962991032,
          0.0134512606568906,
          0.011654933819333406,
          0.019372861673499525,
          0.011753961616802033,
          0.01624092048564473,
          0.01122766696240625,
          0.013471982810742203,
          0.014592793548638164,
          0.01217928242200087,
          0.007695846481560765,
          0.006586658665866586,
          0.007089854631103594,
          0,
          0.004341736694677871,
          0.0022367642709257615,
          0.0015082956259426848,
          0.02234910611776284,
          0.012244897959183673,
          0.016412092787425527,
          0.0030864197530864196,
          0.003787878787878788,
          0.0022522522522522522,
          0.00163014514561585,
          0.009819595549818674,
          0.03901129243245252,
          0.006909883145177262,
          0.008547008547008548
         ],
         "yaxis": "y"
        },
        {
         "hoverlabel": {
          "namelength": 0
         },
         "hovertemplate": "emotion=fear<br>created_at_date=%{x}<br>average_sentiment=%{y}",
         "legendgroup": "emotion=fear",
         "line": {
          "color": "#ab63fa",
          "dash": "solid"
         },
         "mode": "lines",
         "name": "emotion=fear",
         "showlegend": true,
         "type": "scatter",
         "x": [
          "2019-09-03T00:00:00",
          "2019-09-04T00:00:00",
          "2019-09-05T00:00:00",
          "2019-09-06T00:00:00",
          "2019-09-07T00:00:00",
          "2019-09-08T00:00:00",
          "2019-09-09T00:00:00",
          "2019-09-10T00:00:00",
          "2019-09-11T00:00:00",
          "2019-09-12T00:00:00",
          "2019-09-13T00:00:00",
          "2019-09-14T00:00:00",
          "2019-09-15T00:00:00",
          "2019-09-16T00:00:00",
          "2019-09-17T00:00:00",
          "2019-09-18T00:00:00",
          "2019-09-19T00:00:00",
          "2019-09-20T00:00:00",
          "2019-09-21T00:00:00",
          "2019-09-22T00:00:00",
          "2019-09-23T00:00:00",
          "2019-09-24T00:00:00",
          "2019-09-25T00:00:00",
          "2019-09-26T00:00:00",
          "2019-09-27T00:00:00",
          "2019-09-28T00:00:00",
          "2019-09-29T00:00:00",
          "2019-09-30T00:00:00",
          "2019-10-01T00:00:00",
          "2019-10-02T00:00:00",
          "2019-10-03T00:00:00",
          "2019-10-04T00:00:00",
          "2019-10-05T00:00:00"
         ],
         "xaxis": "x",
         "y": [
          0,
          0.022695126371596968,
          0.0027435759652445425,
          0.004646576875338646,
          0.003849816551793608,
          0.0038321352976525384,
          0.02070348976636834,
          0.029687173118044453,
          0.012212839812342818,
          0.020498979304434416,
          0.030104059017396795,
          0.01922553114731061,
          0.03146917754591681,
          0.025542489845535553,
          0.032799093394614495,
          0.01176883823020717,
          0.013121516202471359,
          0.012484188566915098,
          0.023705357142857143,
          0.02657832363714717,
          0.007627517410126105,
          0.030169609321858464,
          0.062048060815095236,
          0.03579987189681067,
          0.022349164441001178,
          0.004814814814814815,
          0.020075757575757577,
          0.003616852146263911,
          0.011171624074849881,
          0.006223799864773495,
          0.03998588217338218,
          0.008835016835016835,
          0.050878642055112645
         ],
         "yaxis": "y"
        },
        {
         "hoverlabel": {
          "namelength": 0
         },
         "hovertemplate": "emotion=joy<br>created_at_date=%{x}<br>average_sentiment=%{y}",
         "legendgroup": "emotion=joy",
         "line": {
          "color": "#FFA15A",
          "dash": "solid"
         },
         "mode": "lines",
         "name": "emotion=joy",
         "showlegend": true,
         "type": "scatter",
         "x": [
          "2019-09-03T00:00:00",
          "2019-09-04T00:00:00",
          "2019-09-05T00:00:00",
          "2019-09-06T00:00:00",
          "2019-09-07T00:00:00",
          "2019-09-08T00:00:00",
          "2019-09-09T00:00:00",
          "2019-09-10T00:00:00",
          "2019-09-11T00:00:00",
          "2019-09-12T00:00:00",
          "2019-09-13T00:00:00",
          "2019-09-14T00:00:00",
          "2019-09-15T00:00:00",
          "2019-09-16T00:00:00",
          "2019-09-17T00:00:00",
          "2019-09-18T00:00:00",
          "2019-09-19T00:00:00",
          "2019-09-20T00:00:00",
          "2019-09-21T00:00:00",
          "2019-09-22T00:00:00",
          "2019-09-23T00:00:00",
          "2019-09-24T00:00:00",
          "2019-09-25T00:00:00",
          "2019-09-26T00:00:00",
          "2019-09-27T00:00:00",
          "2019-09-28T00:00:00",
          "2019-09-29T00:00:00",
          "2019-09-30T00:00:00",
          "2019-10-01T00:00:00",
          "2019-10-02T00:00:00",
          "2019-10-03T00:00:00",
          "2019-10-04T00:00:00",
          "2019-10-05T00:00:00"
         ],
         "xaxis": "x",
         "y": [
          0,
          0.0281246433723214,
          0.027438352544748346,
          0.01722866390632161,
          0.005090507143547014,
          0.007311298804039276,
          0.014948429839348345,
          0.02080065840632924,
          0.02831939545431085,
          0.030829588798890747,
          0.032578230299771194,
          0.025110403265120228,
          0.030985612901868905,
          0.030128319146483968,
          0.036353429474239404,
          0.018399325678882326,
          0.04974322293552135,
          0.027197881879331812,
          0.040676363793211615,
          0.04138018843901197,
          0.009290565880791442,
          0.009480451305710822,
          0.02314655974742638,
          0.02877127596515351,
          0.026903602722614536,
          0.013868312757201648,
          0.03620823620823621,
          0.013094563094563094,
          0.04601828815127037,
          0.005363984674329502,
          0.026552337278484623,
          0.011444444444444445,
          0.01862745098039216
         ],
         "yaxis": "y"
        },
        {
         "hoverlabel": {
          "namelength": 0
         },
         "hovertemplate": "emotion=sadness<br>created_at_date=%{x}<br>average_sentiment=%{y}",
         "legendgroup": "emotion=sadness",
         "line": {
          "color": "#19d3f3",
          "dash": "solid"
         },
         "mode": "lines",
         "name": "emotion=sadness",
         "showlegend": true,
         "type": "scatter",
         "x": [
          "2019-09-03T00:00:00",
          "2019-09-04T00:00:00",
          "2019-09-05T00:00:00",
          "2019-09-06T00:00:00",
          "2019-09-07T00:00:00",
          "2019-09-08T00:00:00",
          "2019-09-09T00:00:00",
          "2019-09-10T00:00:00",
          "2019-09-11T00:00:00",
          "2019-09-12T00:00:00",
          "2019-09-13T00:00:00",
          "2019-09-14T00:00:00",
          "2019-09-15T00:00:00",
          "2019-09-16T00:00:00",
          "2019-09-17T00:00:00",
          "2019-09-18T00:00:00",
          "2019-09-19T00:00:00",
          "2019-09-20T00:00:00",
          "2019-09-21T00:00:00",
          "2019-09-22T00:00:00",
          "2019-09-23T00:00:00",
          "2019-09-24T00:00:00",
          "2019-09-25T00:00:00",
          "2019-09-26T00:00:00",
          "2019-09-27T00:00:00",
          "2019-09-28T00:00:00",
          "2019-09-29T00:00:00",
          "2019-09-30T00:00:00",
          "2019-10-01T00:00:00",
          "2019-10-02T00:00:00",
          "2019-10-03T00:00:00",
          "2019-10-04T00:00:00",
          "2019-10-05T00:00:00"
         ],
         "xaxis": "x",
         "y": [
          0,
          0.020340470340470342,
          0.003404062386020323,
          0.011781449987289467,
          0.006385934733506128,
          0.003703919593211789,
          0.007744312923929964,
          0.014411485172385876,
          0.010686834677826213,
          0.016962859946561392,
          0.03275878971897905,
          0.025051487291103562,
          0.02813535015774555,
          0.025541225012892046,
          0.029514560160697232,
          0.01474761078040829,
          0.011042499854381042,
          0.01187623068903661,
          0.03444509144237405,
          0.025971414206708322,
          0.007627517410126105,
          0.02717578259373925,
          0.04926375448763509,
          0.023393230918741122,
          0.03268406763304723,
          0.00818181818181818,
          0.03257575757575757,
          0.005869104398516164,
          0.0025577889304024917,
          0.0081947261663286,
          0.043397979335479335,
          0.009213804713804714,
          0.05741458976753095
         ],
         "yaxis": "y"
        },
        {
         "hoverlabel": {
          "namelength": 0
         },
         "hovertemplate": "emotion=surprise<br>created_at_date=%{x}<br>average_sentiment=%{y}",
         "legendgroup": "emotion=surprise",
         "line": {
          "color": "#FF6692",
          "dash": "solid"
         },
         "mode": "lines",
         "name": "emotion=surprise",
         "showlegend": true,
         "type": "scatter",
         "x": [
          "2019-09-03T00:00:00",
          "2019-09-04T00:00:00",
          "2019-09-05T00:00:00",
          "2019-09-06T00:00:00",
          "2019-09-07T00:00:00",
          "2019-09-08T00:00:00",
          "2019-09-09T00:00:00",
          "2019-09-10T00:00:00",
          "2019-09-11T00:00:00",
          "2019-09-12T00:00:00",
          "2019-09-13T00:00:00",
          "2019-09-14T00:00:00",
          "2019-09-15T00:00:00",
          "2019-09-16T00:00:00",
          "2019-09-17T00:00:00",
          "2019-09-18T00:00:00",
          "2019-09-19T00:00:00",
          "2019-09-20T00:00:00",
          "2019-09-21T00:00:00",
          "2019-09-22T00:00:00",
          "2019-09-23T00:00:00",
          "2019-09-24T00:00:00",
          "2019-09-25T00:00:00",
          "2019-09-26T00:00:00",
          "2019-09-27T00:00:00",
          "2019-09-28T00:00:00",
          "2019-09-29T00:00:00",
          "2019-09-30T00:00:00",
          "2019-10-01T00:00:00",
          "2019-10-02T00:00:00",
          "2019-10-03T00:00:00",
          "2019-10-04T00:00:00",
          "2019-10-05T00:00:00"
         ],
         "xaxis": "x",
         "y": [
          0,
          0.0028323778323778325,
          0.0014687743934962427,
          0.003745246688795076,
          0.005137145012663686,
          0.0018978605935127673,
          0.005754655131892984,
          0.00805586289888429,
          0.006967766862480294,
          0.00960297363107978,
          0.01561570894612636,
          0.011349954510775553,
          0.01111661076018257,
          0.010084379469969608,
          0.011528850266936511,
          0.0033288669002954716,
          0.007283836081536823,
          0.008409792466037019,
          0.010496031746031744,
          0.003034547152194211,
          0.0036255411255411256,
          0.01021637916101584,
          0.02625378352990293,
          0.017929458108029536,
          0.014829728095034217,
          0.002962962962962963,
          0.006250000000000001,
          0.006788256788256788,
          0.001727675197062952,
          0.00782703886152162,
          0.015040296358231139,
          0.004206349206349206,
          0.014102564102564101
         ],
         "yaxis": "y"
        },
        {
         "hoverlabel": {
          "namelength": 0
         },
         "hovertemplate": "emotion=trust<br>created_at_date=%{x}<br>average_sentiment=%{y}",
         "legendgroup": "emotion=trust",
         "line": {
          "color": "#B6E880",
          "dash": "solid"
         },
         "mode": "lines",
         "name": "emotion=trust",
         "showlegend": true,
         "type": "scatter",
         "x": [
          "2019-09-03T00:00:00",
          "2019-09-04T00:00:00",
          "2019-09-05T00:00:00",
          "2019-09-06T00:00:00",
          "2019-09-07T00:00:00",
          "2019-09-08T00:00:00",
          "2019-09-09T00:00:00",
          "2019-09-10T00:00:00",
          "2019-09-11T00:00:00",
          "2019-09-12T00:00:00",
          "2019-09-13T00:00:00",
          "2019-09-14T00:00:00",
          "2019-09-15T00:00:00",
          "2019-09-16T00:00:00",
          "2019-09-17T00:00:00",
          "2019-09-18T00:00:00",
          "2019-09-19T00:00:00",
          "2019-09-20T00:00:00",
          "2019-09-21T00:00:00",
          "2019-09-22T00:00:00",
          "2019-09-23T00:00:00",
          "2019-09-24T00:00:00",
          "2019-09-25T00:00:00",
          "2019-09-26T00:00:00",
          "2019-09-27T00:00:00",
          "2019-09-28T00:00:00",
          "2019-09-29T00:00:00",
          "2019-09-30T00:00:00",
          "2019-10-01T00:00:00",
          "2019-10-02T00:00:00",
          "2019-10-03T00:00:00",
          "2019-10-04T00:00:00",
          "2019-10-05T00:00:00"
         ],
         "xaxis": "x",
         "y": [
          0.10416666666666666,
          0.047469935860028754,
          0.07287043563608739,
          0.07075677770559481,
          0.04759395804948753,
          0.0517329055044572,
          0.05191386380686927,
          0.03520718261549728,
          0.06887737796551957,
          0.054953890863785625,
          0.053725013761022906,
          0.0479715419077053,
          0.0558245602845154,
          0.04715750180597943,
          0.06533928314248678,
          0.03361621488345625,
          0.055409127305001304,
          0.03642370341047991,
          0.04630707517120561,
          0.0688620972596632,
          0.015105322673645654,
          0.015329096124943877,
          0.051330720616898425,
          0.05041121010508765,
          0.0494391847430889,
          0.04142968142968143,
          0.05259809634809636,
          0.03523920876862052,
          0.06953507637394095,
          0.04569784719558979,
          0.046116454473320766,
          0.02126682250211662,
          0.046279537456008046
         ],
         "yaxis": "y"
        }
       ],
       "layout": {
        "height": 600,
        "legend": {
         "tracegroupgap": 0
        },
        "margin": {
         "t": 60
        },
        "template": {
         "data": {
          "bar": [
           {
            "error_x": {
             "color": "#2a3f5f"
            },
            "error_y": {
             "color": "#2a3f5f"
            },
            "marker": {
             "line": {
              "color": "#E5ECF6",
              "width": 0.5
             }
            },
            "type": "bar"
           }
          ],
          "barpolar": [
           {
            "marker": {
             "line": {
              "color": "#E5ECF6",
              "width": 0.5
             }
            },
            "type": "barpolar"
           }
          ],
          "carpet": [
           {
            "aaxis": {
             "endlinecolor": "#2a3f5f",
             "gridcolor": "white",
             "linecolor": "white",
             "minorgridcolor": "white",
             "startlinecolor": "#2a3f5f"
            },
            "baxis": {
             "endlinecolor": "#2a3f5f",
             "gridcolor": "white",
             "linecolor": "white",
             "minorgridcolor": "white",
             "startlinecolor": "#2a3f5f"
            },
            "type": "carpet"
           }
          ],
          "choropleth": [
           {
            "colorbar": {
             "outlinewidth": 0,
             "ticks": ""
            },
            "type": "choropleth"
           }
          ],
          "contour": [
           {
            "colorbar": {
             "outlinewidth": 0,
             "ticks": ""
            },
            "colorscale": [
             [
              0,
              "#0d0887"
             ],
             [
              0.1111111111111111,
              "#46039f"
             ],
             [
              0.2222222222222222,
              "#7201a8"
             ],
             [
              0.3333333333333333,
              "#9c179e"
             ],
             [
              0.4444444444444444,
              "#bd3786"
             ],
             [
              0.5555555555555556,
              "#d8576b"
             ],
             [
              0.6666666666666666,
              "#ed7953"
             ],
             [
              0.7777777777777778,
              "#fb9f3a"
             ],
             [
              0.8888888888888888,
              "#fdca26"
             ],
             [
              1,
              "#f0f921"
             ]
            ],
            "type": "contour"
           }
          ],
          "contourcarpet": [
           {
            "colorbar": {
             "outlinewidth": 0,
             "ticks": ""
            },
            "type": "contourcarpet"
           }
          ],
          "heatmap": [
           {
            "colorbar": {
             "outlinewidth": 0,
             "ticks": ""
            },
            "colorscale": [
             [
              0,
              "#0d0887"
             ],
             [
              0.1111111111111111,
              "#46039f"
             ],
             [
              0.2222222222222222,
              "#7201a8"
             ],
             [
              0.3333333333333333,
              "#9c179e"
             ],
             [
              0.4444444444444444,
              "#bd3786"
             ],
             [
              0.5555555555555556,
              "#d8576b"
             ],
             [
              0.6666666666666666,
              "#ed7953"
             ],
             [
              0.7777777777777778,
              "#fb9f3a"
             ],
             [
              0.8888888888888888,
              "#fdca26"
             ],
             [
              1,
              "#f0f921"
             ]
            ],
            "type": "heatmap"
           }
          ],
          "heatmapgl": [
           {
            "colorbar": {
             "outlinewidth": 0,
             "ticks": ""
            },
            "colorscale": [
             [
              0,
              "#0d0887"
             ],
             [
              0.1111111111111111,
              "#46039f"
             ],
             [
              0.2222222222222222,
              "#7201a8"
             ],
             [
              0.3333333333333333,
              "#9c179e"
             ],
             [
              0.4444444444444444,
              "#bd3786"
             ],
             [
              0.5555555555555556,
              "#d8576b"
             ],
             [
              0.6666666666666666,
              "#ed7953"
             ],
             [
              0.7777777777777778,
              "#fb9f3a"
             ],
             [
              0.8888888888888888,
              "#fdca26"
             ],
             [
              1,
              "#f0f921"
             ]
            ],
            "type": "heatmapgl"
           }
          ],
          "histogram": [
           {
            "marker": {
             "colorbar": {
              "outlinewidth": 0,
              "ticks": ""
             }
            },
            "type": "histogram"
           }
          ],
          "histogram2d": [
           {
            "colorbar": {
             "outlinewidth": 0,
             "ticks": ""
            },
            "colorscale": [
             [
              0,
              "#0d0887"
             ],
             [
              0.1111111111111111,
              "#46039f"
             ],
             [
              0.2222222222222222,
              "#7201a8"
             ],
             [
              0.3333333333333333,
              "#9c179e"
             ],
             [
              0.4444444444444444,
              "#bd3786"
             ],
             [
              0.5555555555555556,
              "#d8576b"
             ],
             [
              0.6666666666666666,
              "#ed7953"
             ],
             [
              0.7777777777777778,
              "#fb9f3a"
             ],
             [
              0.8888888888888888,
              "#fdca26"
             ],
             [
              1,
              "#f0f921"
             ]
            ],
            "type": "histogram2d"
           }
          ],
          "histogram2dcontour": [
           {
            "colorbar": {
             "outlinewidth": 0,
             "ticks": ""
            },
            "colorscale": [
             [
              0,
              "#0d0887"
             ],
             [
              0.1111111111111111,
              "#46039f"
             ],
             [
              0.2222222222222222,
              "#7201a8"
             ],
             [
              0.3333333333333333,
              "#9c179e"
             ],
             [
              0.4444444444444444,
              "#bd3786"
             ],
             [
              0.5555555555555556,
              "#d8576b"
             ],
             [
              0.6666666666666666,
              "#ed7953"
             ],
             [
              0.7777777777777778,
              "#fb9f3a"
             ],
             [
              0.8888888888888888,
              "#fdca26"
             ],
             [
              1,
              "#f0f921"
             ]
            ],
            "type": "histogram2dcontour"
           }
          ],
          "mesh3d": [
           {
            "colorbar": {
             "outlinewidth": 0,
             "ticks": ""
            },
            "type": "mesh3d"
           }
          ],
          "parcoords": [
           {
            "line": {
             "colorbar": {
              "outlinewidth": 0,
              "ticks": ""
             }
            },
            "type": "parcoords"
           }
          ],
          "scatter": [
           {
            "marker": {
             "colorbar": {
              "outlinewidth": 0,
              "ticks": ""
             }
            },
            "type": "scatter"
           }
          ],
          "scatter3d": [
           {
            "line": {
             "colorbar": {
              "outlinewidth": 0,
              "ticks": ""
             }
            },
            "marker": {
             "colorbar": {
              "outlinewidth": 0,
              "ticks": ""
             }
            },
            "type": "scatter3d"
           }
          ],
          "scattercarpet": [
           {
            "marker": {
             "colorbar": {
              "outlinewidth": 0,
              "ticks": ""
             }
            },
            "type": "scattercarpet"
           }
          ],
          "scattergeo": [
           {
            "marker": {
             "colorbar": {
              "outlinewidth": 0,
              "ticks": ""
             }
            },
            "type": "scattergeo"
           }
          ],
          "scattergl": [
           {
            "marker": {
             "colorbar": {
              "outlinewidth": 0,
              "ticks": ""
             }
            },
            "type": "scattergl"
           }
          ],
          "scattermapbox": [
           {
            "marker": {
             "colorbar": {
              "outlinewidth": 0,
              "ticks": ""
             }
            },
            "type": "scattermapbox"
           }
          ],
          "scatterpolar": [
           {
            "marker": {
             "colorbar": {
              "outlinewidth": 0,
              "ticks": ""
             }
            },
            "type": "scatterpolar"
           }
          ],
          "scatterpolargl": [
           {
            "marker": {
             "colorbar": {
              "outlinewidth": 0,
              "ticks": ""
             }
            },
            "type": "scatterpolargl"
           }
          ],
          "scatterternary": [
           {
            "marker": {
             "colorbar": {
              "outlinewidth": 0,
              "ticks": ""
             }
            },
            "type": "scatterternary"
           }
          ],
          "surface": [
           {
            "colorbar": {
             "outlinewidth": 0,
             "ticks": ""
            },
            "colorscale": [
             [
              0,
              "#0d0887"
             ],
             [
              0.1111111111111111,
              "#46039f"
             ],
             [
              0.2222222222222222,
              "#7201a8"
             ],
             [
              0.3333333333333333,
              "#9c179e"
             ],
             [
              0.4444444444444444,
              "#bd3786"
             ],
             [
              0.5555555555555556,
              "#d8576b"
             ],
             [
              0.6666666666666666,
              "#ed7953"
             ],
             [
              0.7777777777777778,
              "#fb9f3a"
             ],
             [
              0.8888888888888888,
              "#fdca26"
             ],
             [
              1,
              "#f0f921"
             ]
            ],
            "type": "surface"
           }
          ],
          "table": [
           {
            "cells": {
             "fill": {
              "color": "#EBF0F8"
             },
             "line": {
              "color": "white"
             }
            },
            "header": {
             "fill": {
              "color": "#C8D4E3"
             },
             "line": {
              "color": "white"
             }
            },
            "type": "table"
           }
          ]
         },
         "layout": {
          "annotationdefaults": {
           "arrowcolor": "#2a3f5f",
           "arrowhead": 0,
           "arrowwidth": 1
          },
          "colorscale": {
           "diverging": [
            [
             0,
             "#8e0152"
            ],
            [
             0.1,
             "#c51b7d"
            ],
            [
             0.2,
             "#de77ae"
            ],
            [
             0.3,
             "#f1b6da"
            ],
            [
             0.4,
             "#fde0ef"
            ],
            [
             0.5,
             "#f7f7f7"
            ],
            [
             0.6,
             "#e6f5d0"
            ],
            [
             0.7,
             "#b8e186"
            ],
            [
             0.8,
             "#7fbc41"
            ],
            [
             0.9,
             "#4d9221"
            ],
            [
             1,
             "#276419"
            ]
           ],
           "sequential": [
            [
             0,
             "#0d0887"
            ],
            [
             0.1111111111111111,
             "#46039f"
            ],
            [
             0.2222222222222222,
             "#7201a8"
            ],
            [
             0.3333333333333333,
             "#9c179e"
            ],
            [
             0.4444444444444444,
             "#bd3786"
            ],
            [
             0.5555555555555556,
             "#d8576b"
            ],
            [
             0.6666666666666666,
             "#ed7953"
            ],
            [
             0.7777777777777778,
             "#fb9f3a"
            ],
            [
             0.8888888888888888,
             "#fdca26"
            ],
            [
             1,
             "#f0f921"
            ]
           ],
           "sequentialminus": [
            [
             0,
             "#0d0887"
            ],
            [
             0.1111111111111111,
             "#46039f"
            ],
            [
             0.2222222222222222,
             "#7201a8"
            ],
            [
             0.3333333333333333,
             "#9c179e"
            ],
            [
             0.4444444444444444,
             "#bd3786"
            ],
            [
             0.5555555555555556,
             "#d8576b"
            ],
            [
             0.6666666666666666,
             "#ed7953"
            ],
            [
             0.7777777777777778,
             "#fb9f3a"
            ],
            [
             0.8888888888888888,
             "#fdca26"
            ],
            [
             1,
             "#f0f921"
            ]
           ]
          },
          "colorway": [
           "#636efa",
           "#EF553B",
           "#00cc96",
           "#ab63fa",
           "#FFA15A",
           "#19d3f3",
           "#FF6692",
           "#B6E880",
           "#FF97FF",
           "#FECB52"
          ],
          "font": {
           "color": "#2a3f5f"
          },
          "geo": {
           "bgcolor": "white",
           "lakecolor": "white",
           "landcolor": "#E5ECF6",
           "showlakes": true,
           "showland": true,
           "subunitcolor": "white"
          },
          "hoverlabel": {
           "align": "left"
          },
          "hovermode": "closest",
          "mapbox": {
           "style": "light"
          },
          "paper_bgcolor": "white",
          "plot_bgcolor": "#E5ECF6",
          "polar": {
           "angularaxis": {
            "gridcolor": "white",
            "linecolor": "white",
            "ticks": ""
           },
           "bgcolor": "#E5ECF6",
           "radialaxis": {
            "gridcolor": "white",
            "linecolor": "white",
            "ticks": ""
           }
          },
          "scene": {
           "xaxis": {
            "backgroundcolor": "#E5ECF6",
            "gridcolor": "white",
            "gridwidth": 2,
            "linecolor": "white",
            "showbackground": true,
            "ticks": "",
            "zerolinecolor": "white"
           },
           "yaxis": {
            "backgroundcolor": "#E5ECF6",
            "gridcolor": "white",
            "gridwidth": 2,
            "linecolor": "white",
            "showbackground": true,
            "ticks": "",
            "zerolinecolor": "white"
           },
           "zaxis": {
            "backgroundcolor": "#E5ECF6",
            "gridcolor": "white",
            "gridwidth": 2,
            "linecolor": "white",
            "showbackground": true,
            "ticks": "",
            "zerolinecolor": "white"
           }
          },
          "shapedefaults": {
           "line": {
            "color": "#2a3f5f"
           }
          },
          "ternary": {
           "aaxis": {
            "gridcolor": "white",
            "linecolor": "white",
            "ticks": ""
           },
           "baxis": {
            "gridcolor": "white",
            "linecolor": "white",
            "ticks": ""
           },
           "bgcolor": "#E5ECF6",
           "caxis": {
            "gridcolor": "white",
            "linecolor": "white",
            "ticks": ""
           }
          },
          "title": {
           "x": 0.05
          },
          "xaxis": {
           "automargin": true,
           "gridcolor": "white",
           "linecolor": "white",
           "ticks": "",
           "zerolinecolor": "white",
           "zerolinewidth": 2
          },
          "yaxis": {
           "automargin": true,
           "gridcolor": "white",
           "linecolor": "white",
           "ticks": "",
           "zerolinecolor": "white",
           "zerolinewidth": 2
          }
         }
        },
        "title": {
         "text": "NRC Lexicon: Emotions over Date"
        },
        "xaxis": {
         "anchor": "y",
         "domain": [
          0,
          0.98
         ],
         "range": [
          "2019-09-02",
          "2019-10-06"
         ],
         "title": {
          "text": "Date"
         }
        },
        "yaxis": {
         "anchor": "x",
         "domain": [
          0,
          1
         ],
         "range": [
          "2019-09-02",
          "2019-10-06"
         ],
         "title": {
          "text": "Average Sentiment"
         }
        }
       }
      },
      "text/html": [
       "<div>\n",
       "        \n",
       "        \n",
       "            <div id=\"8d3cebe6-42df-4424-9e7c-6bf0fb4bd61a\" class=\"plotly-graph-div\" style=\"height:600px; width:100%;\"></div>\n",
       "            <script type=\"text/javascript\">\n",
       "                require([\"plotly\"], function(Plotly) {\n",
       "                    window.PLOTLYENV=window.PLOTLYENV || {};\n",
       "                    \n",
       "                if (document.getElementById(\"8d3cebe6-42df-4424-9e7c-6bf0fb4bd61a\")) {\n",
       "                    Plotly.newPlot(\n",
       "                        '8d3cebe6-42df-4424-9e7c-6bf0fb4bd61a',\n",
       "                        [{\"hoverlabel\": {\"namelength\": 0}, \"hovertemplate\": \"emotion=anger<br>created_at_date=%{x}<br>average_sentiment=%{y}\", \"legendgroup\": \"emotion=anger\", \"line\": {\"color\": \"#636efa\", \"dash\": \"solid\"}, \"mode\": \"lines\", \"name\": \"emotion=anger\", \"showlegend\": true, \"type\": \"scatter\", \"x\": [\"2019-09-03T00:00:00\", \"2019-09-04T00:00:00\", \"2019-09-05T00:00:00\", \"2019-09-06T00:00:00\", \"2019-09-07T00:00:00\", \"2019-09-08T00:00:00\", \"2019-09-09T00:00:00\", \"2019-09-10T00:00:00\", \"2019-09-11T00:00:00\", \"2019-09-12T00:00:00\", \"2019-09-13T00:00:00\", \"2019-09-14T00:00:00\", \"2019-09-15T00:00:00\", \"2019-09-16T00:00:00\", \"2019-09-17T00:00:00\", \"2019-09-18T00:00:00\", \"2019-09-19T00:00:00\", \"2019-09-20T00:00:00\", \"2019-09-21T00:00:00\", \"2019-09-22T00:00:00\", \"2019-09-23T00:00:00\", \"2019-09-24T00:00:00\", \"2019-09-25T00:00:00\", \"2019-09-26T00:00:00\", \"2019-09-27T00:00:00\", \"2019-09-28T00:00:00\", \"2019-09-29T00:00:00\", \"2019-09-30T00:00:00\", \"2019-10-01T00:00:00\", \"2019-10-02T00:00:00\", \"2019-10-03T00:00:00\", \"2019-10-04T00:00:00\", \"2019-10-05T00:00:00\"], \"xaxis\": \"x\", \"y\": [0.041666666666666664, 0.028017028017028017, 0.0023531340945134047, 0.002151539270854037, 0.003448562123202103, 0.0023417674279743246, 0.0049012095874055766, 0.009026865994101064, 0.005847253547681164, 0.012961172076188129, 0.02021467390341089, 0.010958190164915869, 0.020017420441628606, 0.016035078282700666, 0.01257739204341146, 0.008605495694781409, 0.009857254794645593, 0.010026541366673011, 0.008232142857142858, 0.003057889822595705, 0.0036255411255411256, 0.004169993789370953, 0.02937750060884389, 0.011564625850340135, 0.015949969876323026, 0.002962962962962963, 0.018371212121212118, 0.002490726020137785, 0.0025577889304024917, 0.0028160919540229884, 0.026241987179487173, 0.005602693602693603, 0.02264957264957265], \"yaxis\": \"y\"}, {\"hoverlabel\": {\"namelength\": 0}, \"hovertemplate\": \"emotion=anticipation<br>created_at_date=%{x}<br>average_sentiment=%{y}\", \"legendgroup\": \"emotion=anticipation\", \"line\": {\"color\": \"#EF553B\", \"dash\": \"solid\"}, \"mode\": \"lines\", \"name\": \"emotion=anticipation\", \"showlegend\": true, \"type\": \"scatter\", \"x\": [\"2019-09-03T00:00:00\", \"2019-09-04T00:00:00\", \"2019-09-05T00:00:00\", \"2019-09-06T00:00:00\", \"2019-09-07T00:00:00\", \"2019-09-08T00:00:00\", \"2019-09-09T00:00:00\", \"2019-09-10T00:00:00\", \"2019-09-11T00:00:00\", \"2019-09-12T00:00:00\", \"2019-09-13T00:00:00\", \"2019-09-14T00:00:00\", \"2019-09-15T00:00:00\", \"2019-09-16T00:00:00\", \"2019-09-17T00:00:00\", \"2019-09-18T00:00:00\", \"2019-09-19T00:00:00\", \"2019-09-20T00:00:00\", \"2019-09-21T00:00:00\", \"2019-09-22T00:00:00\", \"2019-09-23T00:00:00\", \"2019-09-24T00:00:00\", \"2019-09-25T00:00:00\", \"2019-09-26T00:00:00\", \"2019-09-27T00:00:00\", \"2019-09-28T00:00:00\", \"2019-09-29T00:00:00\", \"2019-09-30T00:00:00\", \"2019-10-01T00:00:00\", \"2019-10-02T00:00:00\", \"2019-10-03T00:00:00\", \"2019-10-04T00:00:00\", \"2019-10-05T00:00:00\"], \"xaxis\": \"x\", \"y\": [0.0, 0.010285134356341787, 0.004231690761754677, 0.02251648633767398, 0.016469783631439555, 0.011032373111645977, 0.022156211581891933, 0.02058490831887769, 0.032483999517306454, 0.03145192727936445, 0.03488509852246816, 0.031084737053539417, 0.029925456577558282, 0.03139350721671061, 0.029660047482503143, 0.01691901366285603, 0.0470134921530166, 0.02508009709212755, 0.04283910533910533, 0.03678685149273384, 0.01893023849856148, 0.015678989306288527, 0.04675134219549243, 0.04010670923936229, 0.04951385438764601, 0.018627010849233076, 0.029166666666666664, 0.019974169974169974, 0.08461869721851975, 0.017530682074292623, 0.03390088016624321, 0.026749082593072362, 0.02989777107424166], \"yaxis\": \"y\"}, {\"hoverlabel\": {\"namelength\": 0}, \"hovertemplate\": \"emotion=disgust<br>created_at_date=%{x}<br>average_sentiment=%{y}\", \"legendgroup\": \"emotion=disgust\", \"line\": {\"color\": \"#00cc96\", \"dash\": \"solid\"}, \"mode\": \"lines\", \"name\": \"emotion=disgust\", \"showlegend\": true, \"type\": \"scatter\", \"x\": [\"2019-09-03T00:00:00\", \"2019-09-04T00:00:00\", \"2019-09-05T00:00:00\", \"2019-09-06T00:00:00\", \"2019-09-07T00:00:00\", \"2019-09-08T00:00:00\", \"2019-09-09T00:00:00\", \"2019-09-10T00:00:00\", \"2019-09-11T00:00:00\", \"2019-09-12T00:00:00\", \"2019-09-13T00:00:00\", \"2019-09-14T00:00:00\", \"2019-09-15T00:00:00\", \"2019-09-16T00:00:00\", \"2019-09-17T00:00:00\", \"2019-09-18T00:00:00\", \"2019-09-19T00:00:00\", \"2019-09-20T00:00:00\", \"2019-09-21T00:00:00\", \"2019-09-22T00:00:00\", \"2019-09-23T00:00:00\", \"2019-09-24T00:00:00\", \"2019-09-25T00:00:00\", \"2019-09-26T00:00:00\", \"2019-09-27T00:00:00\", \"2019-09-28T00:00:00\", \"2019-09-29T00:00:00\", \"2019-09-30T00:00:00\", \"2019-10-01T00:00:00\", \"2019-10-02T00:00:00\", \"2019-10-03T00:00:00\", \"2019-10-04T00:00:00\", \"2019-10-05T00:00:00\"], \"xaxis\": \"x\", \"y\": [0.03125, 0.021713084213084224, 0.010110994848063814, 0.017535856054940423, 0.02120779689488501, 0.0234003962991032, 0.0134512606568906, 0.011654933819333406, 0.019372861673499525, 0.011753961616802033, 0.01624092048564473, 0.01122766696240625, 0.013471982810742203, 0.014592793548638164, 0.01217928242200087, 0.007695846481560765, 0.006586658665866586, 0.007089854631103594, 0.0, 0.004341736694677871, 0.0022367642709257615, 0.0015082956259426848, 0.02234910611776284, 0.012244897959183673, 0.016412092787425527, 0.0030864197530864196, 0.003787878787878788, 0.0022522522522522522, 0.00163014514561585, 0.009819595549818674, 0.03901129243245252, 0.006909883145177262, 0.008547008547008548], \"yaxis\": \"y\"}, {\"hoverlabel\": {\"namelength\": 0}, \"hovertemplate\": \"emotion=fear<br>created_at_date=%{x}<br>average_sentiment=%{y}\", \"legendgroup\": \"emotion=fear\", \"line\": {\"color\": \"#ab63fa\", \"dash\": \"solid\"}, \"mode\": \"lines\", \"name\": \"emotion=fear\", \"showlegend\": true, \"type\": \"scatter\", \"x\": [\"2019-09-03T00:00:00\", \"2019-09-04T00:00:00\", \"2019-09-05T00:00:00\", \"2019-09-06T00:00:00\", \"2019-09-07T00:00:00\", \"2019-09-08T00:00:00\", \"2019-09-09T00:00:00\", \"2019-09-10T00:00:00\", \"2019-09-11T00:00:00\", \"2019-09-12T00:00:00\", \"2019-09-13T00:00:00\", \"2019-09-14T00:00:00\", \"2019-09-15T00:00:00\", \"2019-09-16T00:00:00\", \"2019-09-17T00:00:00\", \"2019-09-18T00:00:00\", \"2019-09-19T00:00:00\", \"2019-09-20T00:00:00\", \"2019-09-21T00:00:00\", \"2019-09-22T00:00:00\", \"2019-09-23T00:00:00\", \"2019-09-24T00:00:00\", \"2019-09-25T00:00:00\", \"2019-09-26T00:00:00\", \"2019-09-27T00:00:00\", \"2019-09-28T00:00:00\", \"2019-09-29T00:00:00\", \"2019-09-30T00:00:00\", \"2019-10-01T00:00:00\", \"2019-10-02T00:00:00\", \"2019-10-03T00:00:00\", \"2019-10-04T00:00:00\", \"2019-10-05T00:00:00\"], \"xaxis\": \"x\", \"y\": [0.0, 0.022695126371596968, 0.0027435759652445425, 0.004646576875338646, 0.003849816551793608, 0.0038321352976525384, 0.02070348976636834, 0.029687173118044453, 0.012212839812342818, 0.020498979304434416, 0.030104059017396795, 0.01922553114731061, 0.03146917754591681, 0.025542489845535553, 0.032799093394614495, 0.01176883823020717, 0.013121516202471359, 0.012484188566915098, 0.023705357142857143, 0.02657832363714717, 0.007627517410126105, 0.030169609321858464, 0.062048060815095236, 0.03579987189681067, 0.022349164441001178, 0.004814814814814815, 0.020075757575757577, 0.003616852146263911, 0.011171624074849881, 0.006223799864773495, 0.03998588217338218, 0.008835016835016835, 0.050878642055112645], \"yaxis\": \"y\"}, {\"hoverlabel\": {\"namelength\": 0}, \"hovertemplate\": \"emotion=joy<br>created_at_date=%{x}<br>average_sentiment=%{y}\", \"legendgroup\": \"emotion=joy\", \"line\": {\"color\": \"#FFA15A\", \"dash\": \"solid\"}, \"mode\": \"lines\", \"name\": \"emotion=joy\", \"showlegend\": true, \"type\": \"scatter\", \"x\": [\"2019-09-03T00:00:00\", \"2019-09-04T00:00:00\", \"2019-09-05T00:00:00\", \"2019-09-06T00:00:00\", \"2019-09-07T00:00:00\", \"2019-09-08T00:00:00\", \"2019-09-09T00:00:00\", \"2019-09-10T00:00:00\", \"2019-09-11T00:00:00\", \"2019-09-12T00:00:00\", \"2019-09-13T00:00:00\", \"2019-09-14T00:00:00\", \"2019-09-15T00:00:00\", \"2019-09-16T00:00:00\", \"2019-09-17T00:00:00\", \"2019-09-18T00:00:00\", \"2019-09-19T00:00:00\", \"2019-09-20T00:00:00\", \"2019-09-21T00:00:00\", \"2019-09-22T00:00:00\", \"2019-09-23T00:00:00\", \"2019-09-24T00:00:00\", \"2019-09-25T00:00:00\", \"2019-09-26T00:00:00\", \"2019-09-27T00:00:00\", \"2019-09-28T00:00:00\", \"2019-09-29T00:00:00\", \"2019-09-30T00:00:00\", \"2019-10-01T00:00:00\", \"2019-10-02T00:00:00\", \"2019-10-03T00:00:00\", \"2019-10-04T00:00:00\", \"2019-10-05T00:00:00\"], \"xaxis\": \"x\", \"y\": [0.0, 0.0281246433723214, 0.027438352544748346, 0.01722866390632161, 0.005090507143547014, 0.007311298804039276, 0.014948429839348345, 0.02080065840632924, 0.02831939545431085, 0.030829588798890747, 0.032578230299771194, 0.025110403265120228, 0.030985612901868905, 0.030128319146483968, 0.036353429474239404, 0.018399325678882326, 0.04974322293552135, 0.027197881879331812, 0.040676363793211615, 0.04138018843901197, 0.009290565880791442, 0.009480451305710822, 0.02314655974742638, 0.02877127596515351, 0.026903602722614536, 0.013868312757201648, 0.03620823620823621, 0.013094563094563094, 0.04601828815127037, 0.005363984674329502, 0.026552337278484623, 0.011444444444444445, 0.01862745098039216], \"yaxis\": \"y\"}, {\"hoverlabel\": {\"namelength\": 0}, \"hovertemplate\": \"emotion=sadness<br>created_at_date=%{x}<br>average_sentiment=%{y}\", \"legendgroup\": \"emotion=sadness\", \"line\": {\"color\": \"#19d3f3\", \"dash\": \"solid\"}, \"mode\": \"lines\", \"name\": \"emotion=sadness\", \"showlegend\": true, \"type\": \"scatter\", \"x\": [\"2019-09-03T00:00:00\", \"2019-09-04T00:00:00\", \"2019-09-05T00:00:00\", \"2019-09-06T00:00:00\", \"2019-09-07T00:00:00\", \"2019-09-08T00:00:00\", \"2019-09-09T00:00:00\", \"2019-09-10T00:00:00\", \"2019-09-11T00:00:00\", \"2019-09-12T00:00:00\", \"2019-09-13T00:00:00\", \"2019-09-14T00:00:00\", \"2019-09-15T00:00:00\", \"2019-09-16T00:00:00\", \"2019-09-17T00:00:00\", \"2019-09-18T00:00:00\", \"2019-09-19T00:00:00\", \"2019-09-20T00:00:00\", \"2019-09-21T00:00:00\", \"2019-09-22T00:00:00\", \"2019-09-23T00:00:00\", \"2019-09-24T00:00:00\", \"2019-09-25T00:00:00\", \"2019-09-26T00:00:00\", \"2019-09-27T00:00:00\", \"2019-09-28T00:00:00\", \"2019-09-29T00:00:00\", \"2019-09-30T00:00:00\", \"2019-10-01T00:00:00\", \"2019-10-02T00:00:00\", \"2019-10-03T00:00:00\", \"2019-10-04T00:00:00\", \"2019-10-05T00:00:00\"], \"xaxis\": \"x\", \"y\": [0.0, 0.020340470340470342, 0.003404062386020323, 0.011781449987289467, 0.006385934733506128, 0.003703919593211789, 0.007744312923929964, 0.014411485172385876, 0.010686834677826213, 0.016962859946561392, 0.03275878971897905, 0.025051487291103562, 0.02813535015774555, 0.025541225012892046, 0.029514560160697232, 0.01474761078040829, 0.011042499854381042, 0.01187623068903661, 0.03444509144237405, 0.025971414206708322, 0.007627517410126105, 0.02717578259373925, 0.04926375448763509, 0.023393230918741122, 0.03268406763304723, 0.00818181818181818, 0.03257575757575757, 0.005869104398516164, 0.0025577889304024917, 0.0081947261663286, 0.043397979335479335, 0.009213804713804714, 0.05741458976753095], \"yaxis\": \"y\"}, {\"hoverlabel\": {\"namelength\": 0}, \"hovertemplate\": \"emotion=surprise<br>created_at_date=%{x}<br>average_sentiment=%{y}\", \"legendgroup\": \"emotion=surprise\", \"line\": {\"color\": \"#FF6692\", \"dash\": \"solid\"}, \"mode\": \"lines\", \"name\": \"emotion=surprise\", \"showlegend\": true, \"type\": \"scatter\", \"x\": [\"2019-09-03T00:00:00\", \"2019-09-04T00:00:00\", \"2019-09-05T00:00:00\", \"2019-09-06T00:00:00\", \"2019-09-07T00:00:00\", \"2019-09-08T00:00:00\", \"2019-09-09T00:00:00\", \"2019-09-10T00:00:00\", \"2019-09-11T00:00:00\", \"2019-09-12T00:00:00\", \"2019-09-13T00:00:00\", \"2019-09-14T00:00:00\", \"2019-09-15T00:00:00\", \"2019-09-16T00:00:00\", \"2019-09-17T00:00:00\", \"2019-09-18T00:00:00\", \"2019-09-19T00:00:00\", \"2019-09-20T00:00:00\", \"2019-09-21T00:00:00\", \"2019-09-22T00:00:00\", \"2019-09-23T00:00:00\", \"2019-09-24T00:00:00\", \"2019-09-25T00:00:00\", \"2019-09-26T00:00:00\", \"2019-09-27T00:00:00\", \"2019-09-28T00:00:00\", \"2019-09-29T00:00:00\", \"2019-09-30T00:00:00\", \"2019-10-01T00:00:00\", \"2019-10-02T00:00:00\", \"2019-10-03T00:00:00\", \"2019-10-04T00:00:00\", \"2019-10-05T00:00:00\"], \"xaxis\": \"x\", \"y\": [0.0, 0.0028323778323778325, 0.0014687743934962427, 0.003745246688795076, 0.005137145012663686, 0.0018978605935127673, 0.005754655131892984, 0.00805586289888429, 0.006967766862480294, 0.00960297363107978, 0.01561570894612636, 0.011349954510775553, 0.01111661076018257, 0.010084379469969608, 0.011528850266936511, 0.0033288669002954716, 0.007283836081536823, 0.008409792466037019, 0.010496031746031744, 0.003034547152194211, 0.0036255411255411256, 0.01021637916101584, 0.02625378352990293, 0.017929458108029536, 0.014829728095034217, 0.002962962962962963, 0.006250000000000001, 0.006788256788256788, 0.001727675197062952, 0.00782703886152162, 0.015040296358231139, 0.004206349206349206, 0.014102564102564101], \"yaxis\": \"y\"}, {\"hoverlabel\": {\"namelength\": 0}, \"hovertemplate\": \"emotion=trust<br>created_at_date=%{x}<br>average_sentiment=%{y}\", \"legendgroup\": \"emotion=trust\", \"line\": {\"color\": \"#B6E880\", \"dash\": \"solid\"}, \"mode\": \"lines\", \"name\": \"emotion=trust\", \"showlegend\": true, \"type\": \"scatter\", \"x\": [\"2019-09-03T00:00:00\", \"2019-09-04T00:00:00\", \"2019-09-05T00:00:00\", \"2019-09-06T00:00:00\", \"2019-09-07T00:00:00\", \"2019-09-08T00:00:00\", \"2019-09-09T00:00:00\", \"2019-09-10T00:00:00\", \"2019-09-11T00:00:00\", \"2019-09-12T00:00:00\", \"2019-09-13T00:00:00\", \"2019-09-14T00:00:00\", \"2019-09-15T00:00:00\", \"2019-09-16T00:00:00\", \"2019-09-17T00:00:00\", \"2019-09-18T00:00:00\", \"2019-09-19T00:00:00\", \"2019-09-20T00:00:00\", \"2019-09-21T00:00:00\", \"2019-09-22T00:00:00\", \"2019-09-23T00:00:00\", \"2019-09-24T00:00:00\", \"2019-09-25T00:00:00\", \"2019-09-26T00:00:00\", \"2019-09-27T00:00:00\", \"2019-09-28T00:00:00\", \"2019-09-29T00:00:00\", \"2019-09-30T00:00:00\", \"2019-10-01T00:00:00\", \"2019-10-02T00:00:00\", \"2019-10-03T00:00:00\", \"2019-10-04T00:00:00\", \"2019-10-05T00:00:00\"], \"xaxis\": \"x\", \"y\": [0.10416666666666666, 0.047469935860028754, 0.07287043563608739, 0.07075677770559481, 0.04759395804948753, 0.0517329055044572, 0.05191386380686927, 0.03520718261549728, 0.06887737796551957, 0.054953890863785625, 0.053725013761022906, 0.0479715419077053, 0.0558245602845154, 0.04715750180597943, 0.06533928314248678, 0.03361621488345625, 0.055409127305001304, 0.03642370341047991, 0.04630707517120561, 0.0688620972596632, 0.015105322673645654, 0.015329096124943877, 0.051330720616898425, 0.05041121010508765, 0.0494391847430889, 0.04142968142968143, 0.05259809634809636, 0.03523920876862052, 0.06953507637394095, 0.04569784719558979, 0.046116454473320766, 0.02126682250211662, 0.046279537456008046], \"yaxis\": \"y\"}],\n",
       "                        {\"height\": 600, \"legend\": {\"tracegroupgap\": 0}, \"margin\": {\"t\": 60}, \"template\": {\"data\": {\"bar\": [{\"error_x\": {\"color\": \"#2a3f5f\"}, \"error_y\": {\"color\": \"#2a3f5f\"}, \"marker\": {\"line\": {\"color\": \"#E5ECF6\", \"width\": 0.5}}, \"type\": \"bar\"}], \"barpolar\": [{\"marker\": {\"line\": {\"color\": \"#E5ECF6\", \"width\": 0.5}}, \"type\": \"barpolar\"}], \"carpet\": [{\"aaxis\": {\"endlinecolor\": \"#2a3f5f\", \"gridcolor\": \"white\", \"linecolor\": \"white\", \"minorgridcolor\": \"white\", \"startlinecolor\": \"#2a3f5f\"}, \"baxis\": {\"endlinecolor\": \"#2a3f5f\", \"gridcolor\": \"white\", \"linecolor\": \"white\", \"minorgridcolor\": \"white\", \"startlinecolor\": \"#2a3f5f\"}, \"type\": \"carpet\"}], \"choropleth\": [{\"colorbar\": {\"outlinewidth\": 0, \"ticks\": \"\"}, \"type\": \"choropleth\"}], \"contour\": [{\"colorbar\": {\"outlinewidth\": 0, \"ticks\": \"\"}, \"colorscale\": [[0.0, \"#0d0887\"], [0.1111111111111111, \"#46039f\"], [0.2222222222222222, \"#7201a8\"], [0.3333333333333333, \"#9c179e\"], [0.4444444444444444, \"#bd3786\"], [0.5555555555555556, \"#d8576b\"], [0.6666666666666666, \"#ed7953\"], [0.7777777777777778, \"#fb9f3a\"], [0.8888888888888888, \"#fdca26\"], [1.0, \"#f0f921\"]], \"type\": \"contour\"}], \"contourcarpet\": [{\"colorbar\": {\"outlinewidth\": 0, \"ticks\": \"\"}, \"type\": \"contourcarpet\"}], \"heatmap\": [{\"colorbar\": {\"outlinewidth\": 0, \"ticks\": \"\"}, \"colorscale\": [[0.0, \"#0d0887\"], [0.1111111111111111, \"#46039f\"], [0.2222222222222222, \"#7201a8\"], [0.3333333333333333, \"#9c179e\"], [0.4444444444444444, \"#bd3786\"], [0.5555555555555556, \"#d8576b\"], [0.6666666666666666, \"#ed7953\"], [0.7777777777777778, \"#fb9f3a\"], [0.8888888888888888, \"#fdca26\"], [1.0, \"#f0f921\"]], \"type\": \"heatmap\"}], \"heatmapgl\": [{\"colorbar\": {\"outlinewidth\": 0, \"ticks\": \"\"}, \"colorscale\": [[0.0, \"#0d0887\"], [0.1111111111111111, \"#46039f\"], [0.2222222222222222, \"#7201a8\"], [0.3333333333333333, \"#9c179e\"], [0.4444444444444444, \"#bd3786\"], [0.5555555555555556, \"#d8576b\"], [0.6666666666666666, \"#ed7953\"], [0.7777777777777778, \"#fb9f3a\"], [0.8888888888888888, \"#fdca26\"], [1.0, \"#f0f921\"]], \"type\": \"heatmapgl\"}], \"histogram\": [{\"marker\": {\"colorbar\": {\"outlinewidth\": 0, \"ticks\": \"\"}}, \"type\": \"histogram\"}], \"histogram2d\": [{\"colorbar\": {\"outlinewidth\": 0, \"ticks\": \"\"}, \"colorscale\": [[0.0, \"#0d0887\"], [0.1111111111111111, \"#46039f\"], [0.2222222222222222, \"#7201a8\"], [0.3333333333333333, \"#9c179e\"], [0.4444444444444444, \"#bd3786\"], [0.5555555555555556, \"#d8576b\"], [0.6666666666666666, \"#ed7953\"], [0.7777777777777778, \"#fb9f3a\"], [0.8888888888888888, \"#fdca26\"], [1.0, \"#f0f921\"]], \"type\": \"histogram2d\"}], \"histogram2dcontour\": [{\"colorbar\": {\"outlinewidth\": 0, \"ticks\": \"\"}, \"colorscale\": [[0.0, \"#0d0887\"], [0.1111111111111111, \"#46039f\"], [0.2222222222222222, \"#7201a8\"], [0.3333333333333333, \"#9c179e\"], [0.4444444444444444, \"#bd3786\"], [0.5555555555555556, \"#d8576b\"], [0.6666666666666666, \"#ed7953\"], [0.7777777777777778, \"#fb9f3a\"], [0.8888888888888888, \"#fdca26\"], [1.0, \"#f0f921\"]], \"type\": \"histogram2dcontour\"}], \"mesh3d\": [{\"colorbar\": {\"outlinewidth\": 0, \"ticks\": \"\"}, \"type\": \"mesh3d\"}], \"parcoords\": [{\"line\": {\"colorbar\": {\"outlinewidth\": 0, \"ticks\": \"\"}}, \"type\": \"parcoords\"}], \"scatter\": [{\"marker\": {\"colorbar\": {\"outlinewidth\": 0, \"ticks\": \"\"}}, \"type\": \"scatter\"}], \"scatter3d\": [{\"line\": {\"colorbar\": {\"outlinewidth\": 0, \"ticks\": \"\"}}, \"marker\": {\"colorbar\": {\"outlinewidth\": 0, \"ticks\": \"\"}}, \"type\": \"scatter3d\"}], \"scattercarpet\": [{\"marker\": {\"colorbar\": {\"outlinewidth\": 0, \"ticks\": \"\"}}, \"type\": \"scattercarpet\"}], \"scattergeo\": [{\"marker\": {\"colorbar\": {\"outlinewidth\": 0, \"ticks\": \"\"}}, \"type\": \"scattergeo\"}], \"scattergl\": [{\"marker\": {\"colorbar\": {\"outlinewidth\": 0, \"ticks\": \"\"}}, \"type\": \"scattergl\"}], \"scattermapbox\": [{\"marker\": {\"colorbar\": {\"outlinewidth\": 0, \"ticks\": \"\"}}, \"type\": \"scattermapbox\"}], \"scatterpolar\": [{\"marker\": {\"colorbar\": {\"outlinewidth\": 0, \"ticks\": \"\"}}, \"type\": \"scatterpolar\"}], \"scatterpolargl\": [{\"marker\": {\"colorbar\": {\"outlinewidth\": 0, \"ticks\": \"\"}}, \"type\": \"scatterpolargl\"}], \"scatterternary\": [{\"marker\": {\"colorbar\": {\"outlinewidth\": 0, \"ticks\": \"\"}}, \"type\": \"scatterternary\"}], \"surface\": [{\"colorbar\": {\"outlinewidth\": 0, \"ticks\": \"\"}, \"colorscale\": [[0.0, \"#0d0887\"], [0.1111111111111111, \"#46039f\"], [0.2222222222222222, \"#7201a8\"], [0.3333333333333333, \"#9c179e\"], [0.4444444444444444, \"#bd3786\"], [0.5555555555555556, \"#d8576b\"], [0.6666666666666666, \"#ed7953\"], [0.7777777777777778, \"#fb9f3a\"], [0.8888888888888888, \"#fdca26\"], [1.0, \"#f0f921\"]], \"type\": \"surface\"}], \"table\": [{\"cells\": {\"fill\": {\"color\": \"#EBF0F8\"}, \"line\": {\"color\": \"white\"}}, \"header\": {\"fill\": {\"color\": \"#C8D4E3\"}, \"line\": {\"color\": \"white\"}}, \"type\": \"table\"}]}, \"layout\": {\"annotationdefaults\": {\"arrowcolor\": \"#2a3f5f\", \"arrowhead\": 0, \"arrowwidth\": 1}, \"colorscale\": {\"diverging\": [[0, \"#8e0152\"], [0.1, \"#c51b7d\"], [0.2, \"#de77ae\"], [0.3, \"#f1b6da\"], [0.4, \"#fde0ef\"], [0.5, \"#f7f7f7\"], [0.6, \"#e6f5d0\"], [0.7, \"#b8e186\"], [0.8, \"#7fbc41\"], [0.9, \"#4d9221\"], [1, \"#276419\"]], \"sequential\": [[0.0, \"#0d0887\"], [0.1111111111111111, \"#46039f\"], [0.2222222222222222, \"#7201a8\"], [0.3333333333333333, \"#9c179e\"], [0.4444444444444444, \"#bd3786\"], [0.5555555555555556, \"#d8576b\"], [0.6666666666666666, \"#ed7953\"], [0.7777777777777778, \"#fb9f3a\"], [0.8888888888888888, \"#fdca26\"], [1.0, \"#f0f921\"]], \"sequentialminus\": [[0.0, \"#0d0887\"], [0.1111111111111111, \"#46039f\"], [0.2222222222222222, \"#7201a8\"], [0.3333333333333333, \"#9c179e\"], [0.4444444444444444, \"#bd3786\"], [0.5555555555555556, \"#d8576b\"], [0.6666666666666666, \"#ed7953\"], [0.7777777777777778, \"#fb9f3a\"], [0.8888888888888888, \"#fdca26\"], [1.0, \"#f0f921\"]]}, \"colorway\": [\"#636efa\", \"#EF553B\", \"#00cc96\", \"#ab63fa\", \"#FFA15A\", \"#19d3f3\", \"#FF6692\", \"#B6E880\", \"#FF97FF\", \"#FECB52\"], \"font\": {\"color\": \"#2a3f5f\"}, \"geo\": {\"bgcolor\": \"white\", \"lakecolor\": \"white\", \"landcolor\": \"#E5ECF6\", \"showlakes\": true, \"showland\": true, \"subunitcolor\": \"white\"}, \"hoverlabel\": {\"align\": \"left\"}, \"hovermode\": \"closest\", \"mapbox\": {\"style\": \"light\"}, \"paper_bgcolor\": \"white\", \"plot_bgcolor\": \"#E5ECF6\", \"polar\": {\"angularaxis\": {\"gridcolor\": \"white\", \"linecolor\": \"white\", \"ticks\": \"\"}, \"bgcolor\": \"#E5ECF6\", \"radialaxis\": {\"gridcolor\": \"white\", \"linecolor\": \"white\", \"ticks\": \"\"}}, \"scene\": {\"xaxis\": {\"backgroundcolor\": \"#E5ECF6\", \"gridcolor\": \"white\", \"gridwidth\": 2, \"linecolor\": \"white\", \"showbackground\": true, \"ticks\": \"\", \"zerolinecolor\": \"white\"}, \"yaxis\": {\"backgroundcolor\": \"#E5ECF6\", \"gridcolor\": \"white\", \"gridwidth\": 2, \"linecolor\": \"white\", \"showbackground\": true, \"ticks\": \"\", \"zerolinecolor\": \"white\"}, \"zaxis\": {\"backgroundcolor\": \"#E5ECF6\", \"gridcolor\": \"white\", \"gridwidth\": 2, \"linecolor\": \"white\", \"showbackground\": true, \"ticks\": \"\", \"zerolinecolor\": \"white\"}}, \"shapedefaults\": {\"line\": {\"color\": \"#2a3f5f\"}}, \"ternary\": {\"aaxis\": {\"gridcolor\": \"white\", \"linecolor\": \"white\", \"ticks\": \"\"}, \"baxis\": {\"gridcolor\": \"white\", \"linecolor\": \"white\", \"ticks\": \"\"}, \"bgcolor\": \"#E5ECF6\", \"caxis\": {\"gridcolor\": \"white\", \"linecolor\": \"white\", \"ticks\": \"\"}}, \"title\": {\"x\": 0.05}, \"xaxis\": {\"automargin\": true, \"gridcolor\": \"white\", \"linecolor\": \"white\", \"ticks\": \"\", \"zerolinecolor\": \"white\", \"zerolinewidth\": 2}, \"yaxis\": {\"automargin\": true, \"gridcolor\": \"white\", \"linecolor\": \"white\", \"ticks\": \"\", \"zerolinecolor\": \"white\", \"zerolinewidth\": 2}}}, \"title\": {\"text\": \"NRC Lexicon: Emotions over Date\"}, \"xaxis\": {\"anchor\": \"y\", \"domain\": [0.0, 0.98], \"range\": [\"2019-09-02\", \"2019-10-06\"], \"title\": {\"text\": \"Date\"}}, \"yaxis\": {\"anchor\": \"x\", \"domain\": [0.0, 1.0], \"range\": [\"2019-09-02\", \"2019-10-06\"], \"title\": {\"text\": \"Average Sentiment\"}}},\n",
       "                        {\"responsive\": true}\n",
       "                    ).then(function(){\n",
       "                            \n",
       "var gd = document.getElementById('8d3cebe6-42df-4424-9e7c-6bf0fb4bd61a');\n",
       "var x = new MutationObserver(function (mutations, observer) {{\n",
       "        var display = window.getComputedStyle(gd).display;\n",
       "        if (!display || display === 'none') {{\n",
       "            console.log([gd, 'removed!']);\n",
       "            Plotly.purge(gd);\n",
       "            observer.disconnect();\n",
       "        }}\n",
       "}});\n",
       "\n",
       "// Listen for the removal of the full notebook cells\n",
       "var notebookContainer = gd.closest('#notebook-container');\n",
       "if (notebookContainer) {{\n",
       "    x.observe(notebookContainer, {childList: true});\n",
       "}}\n",
       "\n",
       "// Listen for the clearing of the current output cell\n",
       "var outputEl = gd.closest('.output');\n",
       "if (outputEl) {{\n",
       "    x.observe(outputEl, {childList: true});\n",
       "}}\n",
       "\n",
       "                        })\n",
       "                };\n",
       "                });\n",
       "            </script>\n",
       "        </div>"
      ]
     },
     "metadata": {},
     "output_type": "display_data"
    }
   ],
   "source": [
    "import plotly.express as px\n",
    "fig = px.line(nrc_date, x=\"created_at_date\", y=\"average_sentiment\", color='emotion')\n",
    "fig.update_xaxes(title_text=\"Date\",range=['2019-09-02','2019-10-06'])\n",
    "fig.update_yaxes(title_text=\"Average Sentiment\",range=['2019-09-02','2019-10-06'])\n",
    "fig.update_layout(title_text=\"NRC Lexicon: Emotions over Date\")\n",
    "fig.show()"
   ]
  },
  {
   "cell_type": "code",
   "execution_count": 90,
   "metadata": {},
   "outputs": [
    {
     "data": {
      "application/vnd.plotly.v1+json": {
       "config": {
        "plotlyServerURL": "https://plot.ly"
       },
       "data": [
        {
         "hoverlabel": {
          "namelength": 0
         },
         "hovertemplate": "emotion=fear<br>created_at_date=%{x}<br>average_sentiment=%{y}",
         "legendgroup": "emotion=fear",
         "line": {
          "color": "#636efa",
          "dash": "solid"
         },
         "mode": "lines",
         "name": "emotion=fear",
         "showlegend": true,
         "type": "scatter",
         "x": [
          "2019-09-03T00:00:00",
          "2019-09-04T00:00:00",
          "2019-09-05T00:00:00",
          "2019-09-06T00:00:00",
          "2019-09-07T00:00:00",
          "2019-09-08T00:00:00",
          "2019-09-09T00:00:00",
          "2019-09-10T00:00:00",
          "2019-09-11T00:00:00",
          "2019-09-12T00:00:00",
          "2019-09-13T00:00:00",
          "2019-09-14T00:00:00",
          "2019-09-15T00:00:00",
          "2019-09-16T00:00:00",
          "2019-09-17T00:00:00",
          "2019-09-18T00:00:00",
          "2019-09-19T00:00:00",
          "2019-09-20T00:00:00",
          "2019-09-21T00:00:00",
          "2019-09-22T00:00:00",
          "2019-09-23T00:00:00",
          "2019-09-24T00:00:00",
          "2019-09-25T00:00:00",
          "2019-09-26T00:00:00",
          "2019-09-27T00:00:00",
          "2019-09-28T00:00:00",
          "2019-09-29T00:00:00",
          "2019-09-30T00:00:00",
          "2019-10-01T00:00:00",
          "2019-10-02T00:00:00",
          "2019-10-03T00:00:00",
          "2019-10-04T00:00:00",
          "2019-10-05T00:00:00"
         ],
         "xaxis": "x",
         "y": [
          0,
          0.022695126371596968,
          0.0027435759652445425,
          0.004646576875338646,
          0.003849816551793608,
          0.0038321352976525384,
          0.02070348976636834,
          0.029687173118044453,
          0.012212839812342818,
          0.020498979304434416,
          0.030104059017396795,
          0.01922553114731061,
          0.03146917754591681,
          0.025542489845535553,
          0.032799093394614495,
          0.01176883823020717,
          0.013121516202471359,
          0.012484188566915098,
          0.023705357142857143,
          0.02657832363714717,
          0.007627517410126105,
          0.030169609321858464,
          0.062048060815095236,
          0.03579987189681067,
          0.022349164441001178,
          0.004814814814814815,
          0.020075757575757577,
          0.003616852146263911,
          0.011171624074849881,
          0.006223799864773495,
          0.03998588217338218,
          0.008835016835016835,
          0.050878642055112645
         ],
         "yaxis": "y"
        },
        {
         "hoverlabel": {
          "namelength": 0
         },
         "hovertemplate": "emotion=sadness<br>created_at_date=%{x}<br>average_sentiment=%{y}",
         "legendgroup": "emotion=sadness",
         "line": {
          "color": "#EF553B",
          "dash": "solid"
         },
         "mode": "lines",
         "name": "emotion=sadness",
         "showlegend": true,
         "type": "scatter",
         "x": [
          "2019-09-03T00:00:00",
          "2019-09-04T00:00:00",
          "2019-09-05T00:00:00",
          "2019-09-06T00:00:00",
          "2019-09-07T00:00:00",
          "2019-09-08T00:00:00",
          "2019-09-09T00:00:00",
          "2019-09-10T00:00:00",
          "2019-09-11T00:00:00",
          "2019-09-12T00:00:00",
          "2019-09-13T00:00:00",
          "2019-09-14T00:00:00",
          "2019-09-15T00:00:00",
          "2019-09-16T00:00:00",
          "2019-09-17T00:00:00",
          "2019-09-18T00:00:00",
          "2019-09-19T00:00:00",
          "2019-09-20T00:00:00",
          "2019-09-21T00:00:00",
          "2019-09-22T00:00:00",
          "2019-09-23T00:00:00",
          "2019-09-24T00:00:00",
          "2019-09-25T00:00:00",
          "2019-09-26T00:00:00",
          "2019-09-27T00:00:00",
          "2019-09-28T00:00:00",
          "2019-09-29T00:00:00",
          "2019-09-30T00:00:00",
          "2019-10-01T00:00:00",
          "2019-10-02T00:00:00",
          "2019-10-03T00:00:00",
          "2019-10-04T00:00:00",
          "2019-10-05T00:00:00"
         ],
         "xaxis": "x",
         "y": [
          0,
          0.020340470340470342,
          0.003404062386020323,
          0.011781449987289467,
          0.006385934733506128,
          0.003703919593211789,
          0.007744312923929964,
          0.014411485172385876,
          0.010686834677826213,
          0.016962859946561392,
          0.03275878971897905,
          0.025051487291103562,
          0.02813535015774555,
          0.025541225012892046,
          0.029514560160697232,
          0.01474761078040829,
          0.011042499854381042,
          0.01187623068903661,
          0.03444509144237405,
          0.025971414206708322,
          0.007627517410126105,
          0.02717578259373925,
          0.04926375448763509,
          0.023393230918741122,
          0.03268406763304723,
          0.00818181818181818,
          0.03257575757575757,
          0.005869104398516164,
          0.0025577889304024917,
          0.0081947261663286,
          0.043397979335479335,
          0.009213804713804714,
          0.05741458976753095
         ],
         "yaxis": "y"
        }
       ],
       "layout": {
        "height": 600,
        "legend": {
         "tracegroupgap": 0
        },
        "margin": {
         "t": 60
        },
        "template": {
         "data": {
          "bar": [
           {
            "error_x": {
             "color": "#2a3f5f"
            },
            "error_y": {
             "color": "#2a3f5f"
            },
            "marker": {
             "line": {
              "color": "#E5ECF6",
              "width": 0.5
             }
            },
            "type": "bar"
           }
          ],
          "barpolar": [
           {
            "marker": {
             "line": {
              "color": "#E5ECF6",
              "width": 0.5
             }
            },
            "type": "barpolar"
           }
          ],
          "carpet": [
           {
            "aaxis": {
             "endlinecolor": "#2a3f5f",
             "gridcolor": "white",
             "linecolor": "white",
             "minorgridcolor": "white",
             "startlinecolor": "#2a3f5f"
            },
            "baxis": {
             "endlinecolor": "#2a3f5f",
             "gridcolor": "white",
             "linecolor": "white",
             "minorgridcolor": "white",
             "startlinecolor": "#2a3f5f"
            },
            "type": "carpet"
           }
          ],
          "choropleth": [
           {
            "colorbar": {
             "outlinewidth": 0,
             "ticks": ""
            },
            "type": "choropleth"
           }
          ],
          "contour": [
           {
            "colorbar": {
             "outlinewidth": 0,
             "ticks": ""
            },
            "colorscale": [
             [
              0,
              "#0d0887"
             ],
             [
              0.1111111111111111,
              "#46039f"
             ],
             [
              0.2222222222222222,
              "#7201a8"
             ],
             [
              0.3333333333333333,
              "#9c179e"
             ],
             [
              0.4444444444444444,
              "#bd3786"
             ],
             [
              0.5555555555555556,
              "#d8576b"
             ],
             [
              0.6666666666666666,
              "#ed7953"
             ],
             [
              0.7777777777777778,
              "#fb9f3a"
             ],
             [
              0.8888888888888888,
              "#fdca26"
             ],
             [
              1,
              "#f0f921"
             ]
            ],
            "type": "contour"
           }
          ],
          "contourcarpet": [
           {
            "colorbar": {
             "outlinewidth": 0,
             "ticks": ""
            },
            "type": "contourcarpet"
           }
          ],
          "heatmap": [
           {
            "colorbar": {
             "outlinewidth": 0,
             "ticks": ""
            },
            "colorscale": [
             [
              0,
              "#0d0887"
             ],
             [
              0.1111111111111111,
              "#46039f"
             ],
             [
              0.2222222222222222,
              "#7201a8"
             ],
             [
              0.3333333333333333,
              "#9c179e"
             ],
             [
              0.4444444444444444,
              "#bd3786"
             ],
             [
              0.5555555555555556,
              "#d8576b"
             ],
             [
              0.6666666666666666,
              "#ed7953"
             ],
             [
              0.7777777777777778,
              "#fb9f3a"
             ],
             [
              0.8888888888888888,
              "#fdca26"
             ],
             [
              1,
              "#f0f921"
             ]
            ],
            "type": "heatmap"
           }
          ],
          "heatmapgl": [
           {
            "colorbar": {
             "outlinewidth": 0,
             "ticks": ""
            },
            "colorscale": [
             [
              0,
              "#0d0887"
             ],
             [
              0.1111111111111111,
              "#46039f"
             ],
             [
              0.2222222222222222,
              "#7201a8"
             ],
             [
              0.3333333333333333,
              "#9c179e"
             ],
             [
              0.4444444444444444,
              "#bd3786"
             ],
             [
              0.5555555555555556,
              "#d8576b"
             ],
             [
              0.6666666666666666,
              "#ed7953"
             ],
             [
              0.7777777777777778,
              "#fb9f3a"
             ],
             [
              0.8888888888888888,
              "#fdca26"
             ],
             [
              1,
              "#f0f921"
             ]
            ],
            "type": "heatmapgl"
           }
          ],
          "histogram": [
           {
            "marker": {
             "colorbar": {
              "outlinewidth": 0,
              "ticks": ""
             }
            },
            "type": "histogram"
           }
          ],
          "histogram2d": [
           {
            "colorbar": {
             "outlinewidth": 0,
             "ticks": ""
            },
            "colorscale": [
             [
              0,
              "#0d0887"
             ],
             [
              0.1111111111111111,
              "#46039f"
             ],
             [
              0.2222222222222222,
              "#7201a8"
             ],
             [
              0.3333333333333333,
              "#9c179e"
             ],
             [
              0.4444444444444444,
              "#bd3786"
             ],
             [
              0.5555555555555556,
              "#d8576b"
             ],
             [
              0.6666666666666666,
              "#ed7953"
             ],
             [
              0.7777777777777778,
              "#fb9f3a"
             ],
             [
              0.8888888888888888,
              "#fdca26"
             ],
             [
              1,
              "#f0f921"
             ]
            ],
            "type": "histogram2d"
           }
          ],
          "histogram2dcontour": [
           {
            "colorbar": {
             "outlinewidth": 0,
             "ticks": ""
            },
            "colorscale": [
             [
              0,
              "#0d0887"
             ],
             [
              0.1111111111111111,
              "#46039f"
             ],
             [
              0.2222222222222222,
              "#7201a8"
             ],
             [
              0.3333333333333333,
              "#9c179e"
             ],
             [
              0.4444444444444444,
              "#bd3786"
             ],
             [
              0.5555555555555556,
              "#d8576b"
             ],
             [
              0.6666666666666666,
              "#ed7953"
             ],
             [
              0.7777777777777778,
              "#fb9f3a"
             ],
             [
              0.8888888888888888,
              "#fdca26"
             ],
             [
              1,
              "#f0f921"
             ]
            ],
            "type": "histogram2dcontour"
           }
          ],
          "mesh3d": [
           {
            "colorbar": {
             "outlinewidth": 0,
             "ticks": ""
            },
            "type": "mesh3d"
           }
          ],
          "parcoords": [
           {
            "line": {
             "colorbar": {
              "outlinewidth": 0,
              "ticks": ""
             }
            },
            "type": "parcoords"
           }
          ],
          "scatter": [
           {
            "marker": {
             "colorbar": {
              "outlinewidth": 0,
              "ticks": ""
             }
            },
            "type": "scatter"
           }
          ],
          "scatter3d": [
           {
            "line": {
             "colorbar": {
              "outlinewidth": 0,
              "ticks": ""
             }
            },
            "marker": {
             "colorbar": {
              "outlinewidth": 0,
              "ticks": ""
             }
            },
            "type": "scatter3d"
           }
          ],
          "scattercarpet": [
           {
            "marker": {
             "colorbar": {
              "outlinewidth": 0,
              "ticks": ""
             }
            },
            "type": "scattercarpet"
           }
          ],
          "scattergeo": [
           {
            "marker": {
             "colorbar": {
              "outlinewidth": 0,
              "ticks": ""
             }
            },
            "type": "scattergeo"
           }
          ],
          "scattergl": [
           {
            "marker": {
             "colorbar": {
              "outlinewidth": 0,
              "ticks": ""
             }
            },
            "type": "scattergl"
           }
          ],
          "scattermapbox": [
           {
            "marker": {
             "colorbar": {
              "outlinewidth": 0,
              "ticks": ""
             }
            },
            "type": "scattermapbox"
           }
          ],
          "scatterpolar": [
           {
            "marker": {
             "colorbar": {
              "outlinewidth": 0,
              "ticks": ""
             }
            },
            "type": "scatterpolar"
           }
          ],
          "scatterpolargl": [
           {
            "marker": {
             "colorbar": {
              "outlinewidth": 0,
              "ticks": ""
             }
            },
            "type": "scatterpolargl"
           }
          ],
          "scatterternary": [
           {
            "marker": {
             "colorbar": {
              "outlinewidth": 0,
              "ticks": ""
             }
            },
            "type": "scatterternary"
           }
          ],
          "surface": [
           {
            "colorbar": {
             "outlinewidth": 0,
             "ticks": ""
            },
            "colorscale": [
             [
              0,
              "#0d0887"
             ],
             [
              0.1111111111111111,
              "#46039f"
             ],
             [
              0.2222222222222222,
              "#7201a8"
             ],
             [
              0.3333333333333333,
              "#9c179e"
             ],
             [
              0.4444444444444444,
              "#bd3786"
             ],
             [
              0.5555555555555556,
              "#d8576b"
             ],
             [
              0.6666666666666666,
              "#ed7953"
             ],
             [
              0.7777777777777778,
              "#fb9f3a"
             ],
             [
              0.8888888888888888,
              "#fdca26"
             ],
             [
              1,
              "#f0f921"
             ]
            ],
            "type": "surface"
           }
          ],
          "table": [
           {
            "cells": {
             "fill": {
              "color": "#EBF0F8"
             },
             "line": {
              "color": "white"
             }
            },
            "header": {
             "fill": {
              "color": "#C8D4E3"
             },
             "line": {
              "color": "white"
             }
            },
            "type": "table"
           }
          ]
         },
         "layout": {
          "annotationdefaults": {
           "arrowcolor": "#2a3f5f",
           "arrowhead": 0,
           "arrowwidth": 1
          },
          "colorscale": {
           "diverging": [
            [
             0,
             "#8e0152"
            ],
            [
             0.1,
             "#c51b7d"
            ],
            [
             0.2,
             "#de77ae"
            ],
            [
             0.3,
             "#f1b6da"
            ],
            [
             0.4,
             "#fde0ef"
            ],
            [
             0.5,
             "#f7f7f7"
            ],
            [
             0.6,
             "#e6f5d0"
            ],
            [
             0.7,
             "#b8e186"
            ],
            [
             0.8,
             "#7fbc41"
            ],
            [
             0.9,
             "#4d9221"
            ],
            [
             1,
             "#276419"
            ]
           ],
           "sequential": [
            [
             0,
             "#0d0887"
            ],
            [
             0.1111111111111111,
             "#46039f"
            ],
            [
             0.2222222222222222,
             "#7201a8"
            ],
            [
             0.3333333333333333,
             "#9c179e"
            ],
            [
             0.4444444444444444,
             "#bd3786"
            ],
            [
             0.5555555555555556,
             "#d8576b"
            ],
            [
             0.6666666666666666,
             "#ed7953"
            ],
            [
             0.7777777777777778,
             "#fb9f3a"
            ],
            [
             0.8888888888888888,
             "#fdca26"
            ],
            [
             1,
             "#f0f921"
            ]
           ],
           "sequentialminus": [
            [
             0,
             "#0d0887"
            ],
            [
             0.1111111111111111,
             "#46039f"
            ],
            [
             0.2222222222222222,
             "#7201a8"
            ],
            [
             0.3333333333333333,
             "#9c179e"
            ],
            [
             0.4444444444444444,
             "#bd3786"
            ],
            [
             0.5555555555555556,
             "#d8576b"
            ],
            [
             0.6666666666666666,
             "#ed7953"
            ],
            [
             0.7777777777777778,
             "#fb9f3a"
            ],
            [
             0.8888888888888888,
             "#fdca26"
            ],
            [
             1,
             "#f0f921"
            ]
           ]
          },
          "colorway": [
           "#636efa",
           "#EF553B",
           "#00cc96",
           "#ab63fa",
           "#FFA15A",
           "#19d3f3",
           "#FF6692",
           "#B6E880",
           "#FF97FF",
           "#FECB52"
          ],
          "font": {
           "color": "#2a3f5f"
          },
          "geo": {
           "bgcolor": "white",
           "lakecolor": "white",
           "landcolor": "#E5ECF6",
           "showlakes": true,
           "showland": true,
           "subunitcolor": "white"
          },
          "hoverlabel": {
           "align": "left"
          },
          "hovermode": "closest",
          "mapbox": {
           "style": "light"
          },
          "paper_bgcolor": "white",
          "plot_bgcolor": "#E5ECF6",
          "polar": {
           "angularaxis": {
            "gridcolor": "white",
            "linecolor": "white",
            "ticks": ""
           },
           "bgcolor": "#E5ECF6",
           "radialaxis": {
            "gridcolor": "white",
            "linecolor": "white",
            "ticks": ""
           }
          },
          "scene": {
           "xaxis": {
            "backgroundcolor": "#E5ECF6",
            "gridcolor": "white",
            "gridwidth": 2,
            "linecolor": "white",
            "showbackground": true,
            "ticks": "",
            "zerolinecolor": "white"
           },
           "yaxis": {
            "backgroundcolor": "#E5ECF6",
            "gridcolor": "white",
            "gridwidth": 2,
            "linecolor": "white",
            "showbackground": true,
            "ticks": "",
            "zerolinecolor": "white"
           },
           "zaxis": {
            "backgroundcolor": "#E5ECF6",
            "gridcolor": "white",
            "gridwidth": 2,
            "linecolor": "white",
            "showbackground": true,
            "ticks": "",
            "zerolinecolor": "white"
           }
          },
          "shapedefaults": {
           "line": {
            "color": "#2a3f5f"
           }
          },
          "ternary": {
           "aaxis": {
            "gridcolor": "white",
            "linecolor": "white",
            "ticks": ""
           },
           "baxis": {
            "gridcolor": "white",
            "linecolor": "white",
            "ticks": ""
           },
           "bgcolor": "#E5ECF6",
           "caxis": {
            "gridcolor": "white",
            "linecolor": "white",
            "ticks": ""
           }
          },
          "title": {
           "x": 0.05
          },
          "xaxis": {
           "automargin": true,
           "gridcolor": "white",
           "linecolor": "white",
           "ticks": "",
           "zerolinecolor": "white",
           "zerolinewidth": 2
          },
          "yaxis": {
           "automargin": true,
           "gridcolor": "white",
           "linecolor": "white",
           "ticks": "",
           "zerolinecolor": "white",
           "zerolinewidth": 2
          }
         }
        },
        "title": {
         "text": "Sadness and Fear"
        },
        "xaxis": {
         "anchor": "y",
         "domain": [
          0,
          0.98
         ],
         "range": [
          "2019-09-02",
          "2019-10-06"
         ],
         "title": {
          "text": "Date"
         }
        },
        "yaxis": {
         "anchor": "x",
         "domain": [
          0,
          1
         ],
         "range": [
          "2019-09-02",
          "2019-10-06"
         ],
         "title": {
          "text": "Ratio"
         }
        }
       }
      },
      "text/html": [
       "<div>\n",
       "        \n",
       "        \n",
       "            <div id=\"84826742-90f3-4a4c-8fce-30ebf936df1f\" class=\"plotly-graph-div\" style=\"height:600px; width:100%;\"></div>\n",
       "            <script type=\"text/javascript\">\n",
       "                require([\"plotly\"], function(Plotly) {\n",
       "                    window.PLOTLYENV=window.PLOTLYENV || {};\n",
       "                    \n",
       "                if (document.getElementById(\"84826742-90f3-4a4c-8fce-30ebf936df1f\")) {\n",
       "                    Plotly.newPlot(\n",
       "                        '84826742-90f3-4a4c-8fce-30ebf936df1f',\n",
       "                        [{\"hoverlabel\": {\"namelength\": 0}, \"hovertemplate\": \"emotion=fear<br>created_at_date=%{x}<br>average_sentiment=%{y}\", \"legendgroup\": \"emotion=fear\", \"line\": {\"color\": \"#636efa\", \"dash\": \"solid\"}, \"mode\": \"lines\", \"name\": \"emotion=fear\", \"showlegend\": true, \"type\": \"scatter\", \"x\": [\"2019-09-03T00:00:00\", \"2019-09-04T00:00:00\", \"2019-09-05T00:00:00\", \"2019-09-06T00:00:00\", \"2019-09-07T00:00:00\", \"2019-09-08T00:00:00\", \"2019-09-09T00:00:00\", \"2019-09-10T00:00:00\", \"2019-09-11T00:00:00\", \"2019-09-12T00:00:00\", \"2019-09-13T00:00:00\", \"2019-09-14T00:00:00\", \"2019-09-15T00:00:00\", \"2019-09-16T00:00:00\", \"2019-09-17T00:00:00\", \"2019-09-18T00:00:00\", \"2019-09-19T00:00:00\", \"2019-09-20T00:00:00\", \"2019-09-21T00:00:00\", \"2019-09-22T00:00:00\", \"2019-09-23T00:00:00\", \"2019-09-24T00:00:00\", \"2019-09-25T00:00:00\", \"2019-09-26T00:00:00\", \"2019-09-27T00:00:00\", \"2019-09-28T00:00:00\", \"2019-09-29T00:00:00\", \"2019-09-30T00:00:00\", \"2019-10-01T00:00:00\", \"2019-10-02T00:00:00\", \"2019-10-03T00:00:00\", \"2019-10-04T00:00:00\", \"2019-10-05T00:00:00\"], \"xaxis\": \"x\", \"y\": [0.0, 0.022695126371596968, 0.0027435759652445425, 0.004646576875338646, 0.003849816551793608, 0.0038321352976525384, 0.02070348976636834, 0.029687173118044453, 0.012212839812342818, 0.020498979304434416, 0.030104059017396795, 0.01922553114731061, 0.03146917754591681, 0.025542489845535553, 0.032799093394614495, 0.01176883823020717, 0.013121516202471359, 0.012484188566915098, 0.023705357142857143, 0.02657832363714717, 0.007627517410126105, 0.030169609321858464, 0.062048060815095236, 0.03579987189681067, 0.022349164441001178, 0.004814814814814815, 0.020075757575757577, 0.003616852146263911, 0.011171624074849881, 0.006223799864773495, 0.03998588217338218, 0.008835016835016835, 0.050878642055112645], \"yaxis\": \"y\"}, {\"hoverlabel\": {\"namelength\": 0}, \"hovertemplate\": \"emotion=sadness<br>created_at_date=%{x}<br>average_sentiment=%{y}\", \"legendgroup\": \"emotion=sadness\", \"line\": {\"color\": \"#EF553B\", \"dash\": \"solid\"}, \"mode\": \"lines\", \"name\": \"emotion=sadness\", \"showlegend\": true, \"type\": \"scatter\", \"x\": [\"2019-09-03T00:00:00\", \"2019-09-04T00:00:00\", \"2019-09-05T00:00:00\", \"2019-09-06T00:00:00\", \"2019-09-07T00:00:00\", \"2019-09-08T00:00:00\", \"2019-09-09T00:00:00\", \"2019-09-10T00:00:00\", \"2019-09-11T00:00:00\", \"2019-09-12T00:00:00\", \"2019-09-13T00:00:00\", \"2019-09-14T00:00:00\", \"2019-09-15T00:00:00\", \"2019-09-16T00:00:00\", \"2019-09-17T00:00:00\", \"2019-09-18T00:00:00\", \"2019-09-19T00:00:00\", \"2019-09-20T00:00:00\", \"2019-09-21T00:00:00\", \"2019-09-22T00:00:00\", \"2019-09-23T00:00:00\", \"2019-09-24T00:00:00\", \"2019-09-25T00:00:00\", \"2019-09-26T00:00:00\", \"2019-09-27T00:00:00\", \"2019-09-28T00:00:00\", \"2019-09-29T00:00:00\", \"2019-09-30T00:00:00\", \"2019-10-01T00:00:00\", \"2019-10-02T00:00:00\", \"2019-10-03T00:00:00\", \"2019-10-04T00:00:00\", \"2019-10-05T00:00:00\"], \"xaxis\": \"x\", \"y\": [0.0, 0.020340470340470342, 0.003404062386020323, 0.011781449987289467, 0.006385934733506128, 0.003703919593211789, 0.007744312923929964, 0.014411485172385876, 0.010686834677826213, 0.016962859946561392, 0.03275878971897905, 0.025051487291103562, 0.02813535015774555, 0.025541225012892046, 0.029514560160697232, 0.01474761078040829, 0.011042499854381042, 0.01187623068903661, 0.03444509144237405, 0.025971414206708322, 0.007627517410126105, 0.02717578259373925, 0.04926375448763509, 0.023393230918741122, 0.03268406763304723, 0.00818181818181818, 0.03257575757575757, 0.005869104398516164, 0.0025577889304024917, 0.0081947261663286, 0.043397979335479335, 0.009213804713804714, 0.05741458976753095], \"yaxis\": \"y\"}],\n",
       "                        {\"height\": 600, \"legend\": {\"tracegroupgap\": 0}, \"margin\": {\"t\": 60}, \"template\": {\"data\": {\"bar\": [{\"error_x\": {\"color\": \"#2a3f5f\"}, \"error_y\": {\"color\": \"#2a3f5f\"}, \"marker\": {\"line\": {\"color\": \"#E5ECF6\", \"width\": 0.5}}, \"type\": \"bar\"}], \"barpolar\": [{\"marker\": {\"line\": {\"color\": \"#E5ECF6\", \"width\": 0.5}}, \"type\": \"barpolar\"}], \"carpet\": [{\"aaxis\": {\"endlinecolor\": \"#2a3f5f\", \"gridcolor\": \"white\", \"linecolor\": \"white\", \"minorgridcolor\": \"white\", \"startlinecolor\": \"#2a3f5f\"}, \"baxis\": {\"endlinecolor\": \"#2a3f5f\", \"gridcolor\": \"white\", \"linecolor\": \"white\", \"minorgridcolor\": \"white\", \"startlinecolor\": \"#2a3f5f\"}, \"type\": \"carpet\"}], \"choropleth\": [{\"colorbar\": {\"outlinewidth\": 0, \"ticks\": \"\"}, \"type\": \"choropleth\"}], \"contour\": [{\"colorbar\": {\"outlinewidth\": 0, \"ticks\": \"\"}, \"colorscale\": [[0.0, \"#0d0887\"], [0.1111111111111111, \"#46039f\"], [0.2222222222222222, \"#7201a8\"], [0.3333333333333333, \"#9c179e\"], [0.4444444444444444, \"#bd3786\"], [0.5555555555555556, \"#d8576b\"], [0.6666666666666666, \"#ed7953\"], [0.7777777777777778, \"#fb9f3a\"], [0.8888888888888888, \"#fdca26\"], [1.0, \"#f0f921\"]], \"type\": \"contour\"}], \"contourcarpet\": [{\"colorbar\": {\"outlinewidth\": 0, \"ticks\": \"\"}, \"type\": \"contourcarpet\"}], \"heatmap\": [{\"colorbar\": {\"outlinewidth\": 0, \"ticks\": \"\"}, \"colorscale\": [[0.0, \"#0d0887\"], [0.1111111111111111, \"#46039f\"], [0.2222222222222222, \"#7201a8\"], [0.3333333333333333, \"#9c179e\"], [0.4444444444444444, \"#bd3786\"], [0.5555555555555556, \"#d8576b\"], [0.6666666666666666, \"#ed7953\"], [0.7777777777777778, \"#fb9f3a\"], [0.8888888888888888, \"#fdca26\"], [1.0, \"#f0f921\"]], \"type\": \"heatmap\"}], \"heatmapgl\": [{\"colorbar\": {\"outlinewidth\": 0, \"ticks\": \"\"}, \"colorscale\": [[0.0, \"#0d0887\"], [0.1111111111111111, \"#46039f\"], [0.2222222222222222, \"#7201a8\"], [0.3333333333333333, \"#9c179e\"], [0.4444444444444444, \"#bd3786\"], [0.5555555555555556, \"#d8576b\"], [0.6666666666666666, \"#ed7953\"], [0.7777777777777778, \"#fb9f3a\"], [0.8888888888888888, \"#fdca26\"], [1.0, \"#f0f921\"]], \"type\": \"heatmapgl\"}], \"histogram\": [{\"marker\": {\"colorbar\": {\"outlinewidth\": 0, \"ticks\": \"\"}}, \"type\": \"histogram\"}], \"histogram2d\": [{\"colorbar\": {\"outlinewidth\": 0, \"ticks\": \"\"}, \"colorscale\": [[0.0, \"#0d0887\"], [0.1111111111111111, \"#46039f\"], [0.2222222222222222, \"#7201a8\"], [0.3333333333333333, \"#9c179e\"], [0.4444444444444444, \"#bd3786\"], [0.5555555555555556, \"#d8576b\"], [0.6666666666666666, \"#ed7953\"], [0.7777777777777778, \"#fb9f3a\"], [0.8888888888888888, \"#fdca26\"], [1.0, \"#f0f921\"]], \"type\": \"histogram2d\"}], \"histogram2dcontour\": [{\"colorbar\": {\"outlinewidth\": 0, \"ticks\": \"\"}, \"colorscale\": [[0.0, \"#0d0887\"], [0.1111111111111111, \"#46039f\"], [0.2222222222222222, \"#7201a8\"], [0.3333333333333333, \"#9c179e\"], [0.4444444444444444, \"#bd3786\"], [0.5555555555555556, \"#d8576b\"], [0.6666666666666666, \"#ed7953\"], [0.7777777777777778, \"#fb9f3a\"], [0.8888888888888888, \"#fdca26\"], [1.0, \"#f0f921\"]], \"type\": \"histogram2dcontour\"}], \"mesh3d\": [{\"colorbar\": {\"outlinewidth\": 0, \"ticks\": \"\"}, \"type\": \"mesh3d\"}], \"parcoords\": [{\"line\": {\"colorbar\": {\"outlinewidth\": 0, \"ticks\": \"\"}}, \"type\": \"parcoords\"}], \"scatter\": [{\"marker\": {\"colorbar\": {\"outlinewidth\": 0, \"ticks\": \"\"}}, \"type\": \"scatter\"}], \"scatter3d\": [{\"line\": {\"colorbar\": {\"outlinewidth\": 0, \"ticks\": \"\"}}, \"marker\": {\"colorbar\": {\"outlinewidth\": 0, \"ticks\": \"\"}}, \"type\": \"scatter3d\"}], \"scattercarpet\": [{\"marker\": {\"colorbar\": {\"outlinewidth\": 0, \"ticks\": \"\"}}, \"type\": \"scattercarpet\"}], \"scattergeo\": [{\"marker\": {\"colorbar\": {\"outlinewidth\": 0, \"ticks\": \"\"}}, \"type\": \"scattergeo\"}], \"scattergl\": [{\"marker\": {\"colorbar\": {\"outlinewidth\": 0, \"ticks\": \"\"}}, \"type\": \"scattergl\"}], \"scattermapbox\": [{\"marker\": {\"colorbar\": {\"outlinewidth\": 0, \"ticks\": \"\"}}, \"type\": \"scattermapbox\"}], \"scatterpolar\": [{\"marker\": {\"colorbar\": {\"outlinewidth\": 0, \"ticks\": \"\"}}, \"type\": \"scatterpolar\"}], \"scatterpolargl\": [{\"marker\": {\"colorbar\": {\"outlinewidth\": 0, \"ticks\": \"\"}}, \"type\": \"scatterpolargl\"}], \"scatterternary\": [{\"marker\": {\"colorbar\": {\"outlinewidth\": 0, \"ticks\": \"\"}}, \"type\": \"scatterternary\"}], \"surface\": [{\"colorbar\": {\"outlinewidth\": 0, \"ticks\": \"\"}, \"colorscale\": [[0.0, \"#0d0887\"], [0.1111111111111111, \"#46039f\"], [0.2222222222222222, \"#7201a8\"], [0.3333333333333333, \"#9c179e\"], [0.4444444444444444, \"#bd3786\"], [0.5555555555555556, \"#d8576b\"], [0.6666666666666666, \"#ed7953\"], [0.7777777777777778, \"#fb9f3a\"], [0.8888888888888888, \"#fdca26\"], [1.0, \"#f0f921\"]], \"type\": \"surface\"}], \"table\": [{\"cells\": {\"fill\": {\"color\": \"#EBF0F8\"}, \"line\": {\"color\": \"white\"}}, \"header\": {\"fill\": {\"color\": \"#C8D4E3\"}, \"line\": {\"color\": \"white\"}}, \"type\": \"table\"}]}, \"layout\": {\"annotationdefaults\": {\"arrowcolor\": \"#2a3f5f\", \"arrowhead\": 0, \"arrowwidth\": 1}, \"colorscale\": {\"diverging\": [[0, \"#8e0152\"], [0.1, \"#c51b7d\"], [0.2, \"#de77ae\"], [0.3, \"#f1b6da\"], [0.4, \"#fde0ef\"], [0.5, \"#f7f7f7\"], [0.6, \"#e6f5d0\"], [0.7, \"#b8e186\"], [0.8, \"#7fbc41\"], [0.9, \"#4d9221\"], [1, \"#276419\"]], \"sequential\": [[0.0, \"#0d0887\"], [0.1111111111111111, \"#46039f\"], [0.2222222222222222, \"#7201a8\"], [0.3333333333333333, \"#9c179e\"], [0.4444444444444444, \"#bd3786\"], [0.5555555555555556, \"#d8576b\"], [0.6666666666666666, \"#ed7953\"], [0.7777777777777778, \"#fb9f3a\"], [0.8888888888888888, \"#fdca26\"], [1.0, \"#f0f921\"]], \"sequentialminus\": [[0.0, \"#0d0887\"], [0.1111111111111111, \"#46039f\"], [0.2222222222222222, \"#7201a8\"], [0.3333333333333333, \"#9c179e\"], [0.4444444444444444, \"#bd3786\"], [0.5555555555555556, \"#d8576b\"], [0.6666666666666666, \"#ed7953\"], [0.7777777777777778, \"#fb9f3a\"], [0.8888888888888888, \"#fdca26\"], [1.0, \"#f0f921\"]]}, \"colorway\": [\"#636efa\", \"#EF553B\", \"#00cc96\", \"#ab63fa\", \"#FFA15A\", \"#19d3f3\", \"#FF6692\", \"#B6E880\", \"#FF97FF\", \"#FECB52\"], \"font\": {\"color\": \"#2a3f5f\"}, \"geo\": {\"bgcolor\": \"white\", \"lakecolor\": \"white\", \"landcolor\": \"#E5ECF6\", \"showlakes\": true, \"showland\": true, \"subunitcolor\": \"white\"}, \"hoverlabel\": {\"align\": \"left\"}, \"hovermode\": \"closest\", \"mapbox\": {\"style\": \"light\"}, \"paper_bgcolor\": \"white\", \"plot_bgcolor\": \"#E5ECF6\", \"polar\": {\"angularaxis\": {\"gridcolor\": \"white\", \"linecolor\": \"white\", \"ticks\": \"\"}, \"bgcolor\": \"#E5ECF6\", \"radialaxis\": {\"gridcolor\": \"white\", \"linecolor\": \"white\", \"ticks\": \"\"}}, \"scene\": {\"xaxis\": {\"backgroundcolor\": \"#E5ECF6\", \"gridcolor\": \"white\", \"gridwidth\": 2, \"linecolor\": \"white\", \"showbackground\": true, \"ticks\": \"\", \"zerolinecolor\": \"white\"}, \"yaxis\": {\"backgroundcolor\": \"#E5ECF6\", \"gridcolor\": \"white\", \"gridwidth\": 2, \"linecolor\": \"white\", \"showbackground\": true, \"ticks\": \"\", \"zerolinecolor\": \"white\"}, \"zaxis\": {\"backgroundcolor\": \"#E5ECF6\", \"gridcolor\": \"white\", \"gridwidth\": 2, \"linecolor\": \"white\", \"showbackground\": true, \"ticks\": \"\", \"zerolinecolor\": \"white\"}}, \"shapedefaults\": {\"line\": {\"color\": \"#2a3f5f\"}}, \"ternary\": {\"aaxis\": {\"gridcolor\": \"white\", \"linecolor\": \"white\", \"ticks\": \"\"}, \"baxis\": {\"gridcolor\": \"white\", \"linecolor\": \"white\", \"ticks\": \"\"}, \"bgcolor\": \"#E5ECF6\", \"caxis\": {\"gridcolor\": \"white\", \"linecolor\": \"white\", \"ticks\": \"\"}}, \"title\": {\"x\": 0.05}, \"xaxis\": {\"automargin\": true, \"gridcolor\": \"white\", \"linecolor\": \"white\", \"ticks\": \"\", \"zerolinecolor\": \"white\", \"zerolinewidth\": 2}, \"yaxis\": {\"automargin\": true, \"gridcolor\": \"white\", \"linecolor\": \"white\", \"ticks\": \"\", \"zerolinecolor\": \"white\", \"zerolinewidth\": 2}}}, \"title\": {\"text\": \"Sadness and Fear\"}, \"xaxis\": {\"anchor\": \"y\", \"domain\": [0.0, 0.98], \"range\": [\"2019-09-02\", \"2019-10-06\"], \"title\": {\"text\": \"Date\"}}, \"yaxis\": {\"anchor\": \"x\", \"domain\": [0.0, 1.0], \"range\": [\"2019-09-02\", \"2019-10-06\"], \"title\": {\"text\": \"Ratio\"}}},\n",
       "                        {\"responsive\": true}\n",
       "                    ).then(function(){\n",
       "                            \n",
       "var gd = document.getElementById('84826742-90f3-4a4c-8fce-30ebf936df1f');\n",
       "var x = new MutationObserver(function (mutations, observer) {{\n",
       "        var display = window.getComputedStyle(gd).display;\n",
       "        if (!display || display === 'none') {{\n",
       "            console.log([gd, 'removed!']);\n",
       "            Plotly.purge(gd);\n",
       "            observer.disconnect();\n",
       "        }}\n",
       "}});\n",
       "\n",
       "// Listen for the removal of the full notebook cells\n",
       "var notebookContainer = gd.closest('#notebook-container');\n",
       "if (notebookContainer) {{\n",
       "    x.observe(notebookContainer, {childList: true});\n",
       "}}\n",
       "\n",
       "// Listen for the clearing of the current output cell\n",
       "var outputEl = gd.closest('.output');\n",
       "if (outputEl) {{\n",
       "    x.observe(outputEl, {childList: true});\n",
       "}}\n",
       "\n",
       "                        })\n",
       "                };\n",
       "                });\n",
       "            </script>\n",
       "        </div>"
      ]
     },
     "metadata": {},
     "output_type": "display_data"
    }
   ],
   "source": [
    "fig = px.line(nrc_date[nrc_date.emotion.isin (['sadness','fear'])], \n",
    "              x=\"created_at_date\", y=\"average_sentiment\", color='emotion')\n",
    "fig.update_xaxes(title_text=\"Date\",range=['2019-09-02','2019-10-06'])\n",
    "fig.update_yaxes(title_text=\"Ratio\",range=['2019-09-02','2019-10-06'])\n",
    "#fig.update_layout(title_text=\"NRC Lexicon: Sadness and Fear over Date\")\n",
    "fig.update_layout(title_text=\"Sadness and Fear\")\n",
    "fig.show()"
   ]
  },
  {
   "cell_type": "code",
   "execution_count": 93,
   "metadata": {},
   "outputs": [],
   "source": [
    "nrc_anger = nrc_date[nrc_date.emotion=='anger']\n",
    "nrc_anticipation = nrc_date[nrc_date.emotion=='anticipation']\n",
    "nrc_disgust = nrc_date[nrc_date.emotion=='disgust']\n",
    "nrc_fear = nrc_date[nrc_date.emotion=='fear']\n",
    "nrc_joy = nrc_date[nrc_date.emotion=='joy']\n",
    "nrc_sadness= nrc_date[nrc_date.emotion=='sadness']\n",
    "nrc_surprise = nrc_date[nrc_date.emotion=='surprise']\n",
    "nrc_trust = nrc_date[nrc_date.emotion=='trust']"
   ]
  },
  {
   "cell_type": "code",
   "execution_count": 94,
   "metadata": {},
   "outputs": [
    {
     "data": {
      "application/vnd.plotly.v1+json": {
       "config": {
        "plotlyServerURL": "https://plot.ly"
       },
       "data": [
        {
         "mode": "lines",
         "type": "scatter",
         "x": [
          "2019-09-03T00:00:00",
          "2019-09-04T00:00:00",
          "2019-09-05T00:00:00",
          "2019-09-06T00:00:00",
          "2019-09-07T00:00:00",
          "2019-09-08T00:00:00",
          "2019-09-09T00:00:00",
          "2019-09-10T00:00:00",
          "2019-09-11T00:00:00",
          "2019-09-12T00:00:00",
          "2019-09-13T00:00:00",
          "2019-09-14T00:00:00",
          "2019-09-15T00:00:00",
          "2019-09-16T00:00:00",
          "2019-09-17T00:00:00",
          "2019-09-18T00:00:00",
          "2019-09-19T00:00:00",
          "2019-09-20T00:00:00",
          "2019-09-21T00:00:00",
          "2019-09-22T00:00:00",
          "2019-09-23T00:00:00",
          "2019-09-24T00:00:00",
          "2019-09-25T00:00:00",
          "2019-09-26T00:00:00",
          "2019-09-27T00:00:00",
          "2019-09-28T00:00:00",
          "2019-09-29T00:00:00",
          "2019-09-30T00:00:00",
          "2019-10-01T00:00:00",
          "2019-10-02T00:00:00",
          "2019-10-03T00:00:00",
          "2019-10-04T00:00:00",
          "2019-10-05T00:00:00"
         ],
         "xaxis": "x",
         "y": [
          0.041666666666666664,
          0.028017028017028017,
          0.0023531340945134047,
          0.002151539270854037,
          0.003448562123202103,
          0.0023417674279743246,
          0.0049012095874055766,
          0.009026865994101064,
          0.005847253547681164,
          0.012961172076188129,
          0.02021467390341089,
          0.010958190164915869,
          0.020017420441628606,
          0.016035078282700666,
          0.01257739204341146,
          0.008605495694781409,
          0.009857254794645593,
          0.010026541366673011,
          0.008232142857142858,
          0.003057889822595705,
          0.0036255411255411256,
          0.004169993789370953,
          0.02937750060884389,
          0.011564625850340135,
          0.015949969876323026,
          0.002962962962962963,
          0.018371212121212118,
          0.002490726020137785,
          0.0025577889304024917,
          0.0028160919540229884,
          0.026241987179487173,
          0.005602693602693603,
          0.02264957264957265
         ],
         "yaxis": "y"
        },
        {
         "mode": "lines",
         "type": "scatter",
         "x": [
          "2019-09-03T00:00:00",
          "2019-09-04T00:00:00",
          "2019-09-05T00:00:00",
          "2019-09-06T00:00:00",
          "2019-09-07T00:00:00",
          "2019-09-08T00:00:00",
          "2019-09-09T00:00:00",
          "2019-09-10T00:00:00",
          "2019-09-11T00:00:00",
          "2019-09-12T00:00:00",
          "2019-09-13T00:00:00",
          "2019-09-14T00:00:00",
          "2019-09-15T00:00:00",
          "2019-09-16T00:00:00",
          "2019-09-17T00:00:00",
          "2019-09-18T00:00:00",
          "2019-09-19T00:00:00",
          "2019-09-20T00:00:00",
          "2019-09-21T00:00:00",
          "2019-09-22T00:00:00",
          "2019-09-23T00:00:00",
          "2019-09-24T00:00:00",
          "2019-09-25T00:00:00",
          "2019-09-26T00:00:00",
          "2019-09-27T00:00:00",
          "2019-09-28T00:00:00",
          "2019-09-29T00:00:00",
          "2019-09-30T00:00:00",
          "2019-10-01T00:00:00",
          "2019-10-02T00:00:00",
          "2019-10-03T00:00:00",
          "2019-10-04T00:00:00",
          "2019-10-05T00:00:00"
         ],
         "xaxis": "x3",
         "y": [
          0,
          0.010285134356341787,
          0.004231690761754677,
          0.02251648633767398,
          0.016469783631439555,
          0.011032373111645977,
          0.022156211581891933,
          0.02058490831887769,
          0.032483999517306454,
          0.03145192727936445,
          0.03488509852246816,
          0.031084737053539417,
          0.029925456577558282,
          0.03139350721671061,
          0.029660047482503143,
          0.01691901366285603,
          0.0470134921530166,
          0.02508009709212755,
          0.04283910533910533,
          0.03678685149273384,
          0.01893023849856148,
          0.015678989306288527,
          0.04675134219549243,
          0.04010670923936229,
          0.04951385438764601,
          0.018627010849233076,
          0.029166666666666664,
          0.019974169974169974,
          0.08461869721851975,
          0.017530682074292623,
          0.03390088016624321,
          0.026749082593072362,
          0.02989777107424166
         ],
         "yaxis": "y3"
        },
        {
         "mode": "lines",
         "type": "scatter",
         "x": [
          "2019-09-03T00:00:00",
          "2019-09-04T00:00:00",
          "2019-09-05T00:00:00",
          "2019-09-06T00:00:00",
          "2019-09-07T00:00:00",
          "2019-09-08T00:00:00",
          "2019-09-09T00:00:00",
          "2019-09-10T00:00:00",
          "2019-09-11T00:00:00",
          "2019-09-12T00:00:00",
          "2019-09-13T00:00:00",
          "2019-09-14T00:00:00",
          "2019-09-15T00:00:00",
          "2019-09-16T00:00:00",
          "2019-09-17T00:00:00",
          "2019-09-18T00:00:00",
          "2019-09-19T00:00:00",
          "2019-09-20T00:00:00",
          "2019-09-21T00:00:00",
          "2019-09-22T00:00:00",
          "2019-09-23T00:00:00",
          "2019-09-24T00:00:00",
          "2019-09-25T00:00:00",
          "2019-09-26T00:00:00",
          "2019-09-27T00:00:00",
          "2019-09-28T00:00:00",
          "2019-09-29T00:00:00",
          "2019-09-30T00:00:00",
          "2019-10-01T00:00:00",
          "2019-10-02T00:00:00",
          "2019-10-03T00:00:00",
          "2019-10-04T00:00:00",
          "2019-10-05T00:00:00"
         ],
         "xaxis": "x5",
         "y": [
          0.03125,
          0.021713084213084224,
          0.010110994848063814,
          0.017535856054940423,
          0.02120779689488501,
          0.0234003962991032,
          0.0134512606568906,
          0.011654933819333406,
          0.019372861673499525,
          0.011753961616802033,
          0.01624092048564473,
          0.01122766696240625,
          0.013471982810742203,
          0.014592793548638164,
          0.01217928242200087,
          0.007695846481560765,
          0.006586658665866586,
          0.007089854631103594,
          0,
          0.004341736694677871,
          0.0022367642709257615,
          0.0015082956259426848,
          0.02234910611776284,
          0.012244897959183673,
          0.016412092787425527,
          0.0030864197530864196,
          0.003787878787878788,
          0.0022522522522522522,
          0.00163014514561585,
          0.009819595549818674,
          0.03901129243245252,
          0.006909883145177262,
          0.008547008547008548
         ],
         "yaxis": "y5"
        },
        {
         "mode": "lines",
         "type": "scatter",
         "x": [
          "2019-09-03T00:00:00",
          "2019-09-04T00:00:00",
          "2019-09-05T00:00:00",
          "2019-09-06T00:00:00",
          "2019-09-07T00:00:00",
          "2019-09-08T00:00:00",
          "2019-09-09T00:00:00",
          "2019-09-10T00:00:00",
          "2019-09-11T00:00:00",
          "2019-09-12T00:00:00",
          "2019-09-13T00:00:00",
          "2019-09-14T00:00:00",
          "2019-09-15T00:00:00",
          "2019-09-16T00:00:00",
          "2019-09-17T00:00:00",
          "2019-09-18T00:00:00",
          "2019-09-19T00:00:00",
          "2019-09-20T00:00:00",
          "2019-09-21T00:00:00",
          "2019-09-22T00:00:00",
          "2019-09-23T00:00:00",
          "2019-09-24T00:00:00",
          "2019-09-25T00:00:00",
          "2019-09-26T00:00:00",
          "2019-09-27T00:00:00",
          "2019-09-28T00:00:00",
          "2019-09-29T00:00:00",
          "2019-09-30T00:00:00",
          "2019-10-01T00:00:00",
          "2019-10-02T00:00:00",
          "2019-10-03T00:00:00",
          "2019-10-04T00:00:00",
          "2019-10-05T00:00:00"
         ],
         "xaxis": "x7",
         "y": [
          0,
          0.022695126371596968,
          0.0027435759652445425,
          0.004646576875338646,
          0.003849816551793608,
          0.0038321352976525384,
          0.02070348976636834,
          0.029687173118044453,
          0.012212839812342818,
          0.020498979304434416,
          0.030104059017396795,
          0.01922553114731061,
          0.03146917754591681,
          0.025542489845535553,
          0.032799093394614495,
          0.01176883823020717,
          0.013121516202471359,
          0.012484188566915098,
          0.023705357142857143,
          0.02657832363714717,
          0.007627517410126105,
          0.030169609321858464,
          0.062048060815095236,
          0.03579987189681067,
          0.022349164441001178,
          0.004814814814814815,
          0.020075757575757577,
          0.003616852146263911,
          0.011171624074849881,
          0.006223799864773495,
          0.03998588217338218,
          0.008835016835016835,
          0.050878642055112645
         ],
         "yaxis": "y7"
        },
        {
         "mode": "lines",
         "type": "scatter",
         "x": [
          "2019-09-03T00:00:00",
          "2019-09-04T00:00:00",
          "2019-09-05T00:00:00",
          "2019-09-06T00:00:00",
          "2019-09-07T00:00:00",
          "2019-09-08T00:00:00",
          "2019-09-09T00:00:00",
          "2019-09-10T00:00:00",
          "2019-09-11T00:00:00",
          "2019-09-12T00:00:00",
          "2019-09-13T00:00:00",
          "2019-09-14T00:00:00",
          "2019-09-15T00:00:00",
          "2019-09-16T00:00:00",
          "2019-09-17T00:00:00",
          "2019-09-18T00:00:00",
          "2019-09-19T00:00:00",
          "2019-09-20T00:00:00",
          "2019-09-21T00:00:00",
          "2019-09-22T00:00:00",
          "2019-09-23T00:00:00",
          "2019-09-24T00:00:00",
          "2019-09-25T00:00:00",
          "2019-09-26T00:00:00",
          "2019-09-27T00:00:00",
          "2019-09-28T00:00:00",
          "2019-09-29T00:00:00",
          "2019-09-30T00:00:00",
          "2019-10-01T00:00:00",
          "2019-10-02T00:00:00",
          "2019-10-03T00:00:00",
          "2019-10-04T00:00:00",
          "2019-10-05T00:00:00"
         ],
         "xaxis": "x2",
         "y": [
          0,
          0.0281246433723214,
          0.027438352544748346,
          0.01722866390632161,
          0.005090507143547014,
          0.007311298804039276,
          0.014948429839348345,
          0.02080065840632924,
          0.02831939545431085,
          0.030829588798890747,
          0.032578230299771194,
          0.025110403265120228,
          0.030985612901868905,
          0.030128319146483968,
          0.036353429474239404,
          0.018399325678882326,
          0.04974322293552135,
          0.027197881879331812,
          0.040676363793211615,
          0.04138018843901197,
          0.009290565880791442,
          0.009480451305710822,
          0.02314655974742638,
          0.02877127596515351,
          0.026903602722614536,
          0.013868312757201648,
          0.03620823620823621,
          0.013094563094563094,
          0.04601828815127037,
          0.005363984674329502,
          0.026552337278484623,
          0.011444444444444445,
          0.01862745098039216
         ],
         "yaxis": "y2"
        },
        {
         "mode": "lines",
         "type": "scatter",
         "x": [
          "2019-09-03T00:00:00",
          "2019-09-04T00:00:00",
          "2019-09-05T00:00:00",
          "2019-09-06T00:00:00",
          "2019-09-07T00:00:00",
          "2019-09-08T00:00:00",
          "2019-09-09T00:00:00",
          "2019-09-10T00:00:00",
          "2019-09-11T00:00:00",
          "2019-09-12T00:00:00",
          "2019-09-13T00:00:00",
          "2019-09-14T00:00:00",
          "2019-09-15T00:00:00",
          "2019-09-16T00:00:00",
          "2019-09-17T00:00:00",
          "2019-09-18T00:00:00",
          "2019-09-19T00:00:00",
          "2019-09-20T00:00:00",
          "2019-09-21T00:00:00",
          "2019-09-22T00:00:00",
          "2019-09-23T00:00:00",
          "2019-09-24T00:00:00",
          "2019-09-25T00:00:00",
          "2019-09-26T00:00:00",
          "2019-09-27T00:00:00",
          "2019-09-28T00:00:00",
          "2019-09-29T00:00:00",
          "2019-09-30T00:00:00",
          "2019-10-01T00:00:00",
          "2019-10-02T00:00:00",
          "2019-10-03T00:00:00",
          "2019-10-04T00:00:00",
          "2019-10-05T00:00:00"
         ],
         "xaxis": "x4",
         "y": [
          0,
          0.020340470340470342,
          0.003404062386020323,
          0.011781449987289467,
          0.006385934733506128,
          0.003703919593211789,
          0.007744312923929964,
          0.014411485172385876,
          0.010686834677826213,
          0.016962859946561392,
          0.03275878971897905,
          0.025051487291103562,
          0.02813535015774555,
          0.025541225012892046,
          0.029514560160697232,
          0.01474761078040829,
          0.011042499854381042,
          0.01187623068903661,
          0.03444509144237405,
          0.025971414206708322,
          0.007627517410126105,
          0.02717578259373925,
          0.04926375448763509,
          0.023393230918741122,
          0.03268406763304723,
          0.00818181818181818,
          0.03257575757575757,
          0.005869104398516164,
          0.0025577889304024917,
          0.0081947261663286,
          0.043397979335479335,
          0.009213804713804714,
          0.05741458976753095
         ],
         "yaxis": "y4"
        },
        {
         "mode": "lines",
         "type": "scatter",
         "x": [
          "2019-09-03T00:00:00",
          "2019-09-04T00:00:00",
          "2019-09-05T00:00:00",
          "2019-09-06T00:00:00",
          "2019-09-07T00:00:00",
          "2019-09-08T00:00:00",
          "2019-09-09T00:00:00",
          "2019-09-10T00:00:00",
          "2019-09-11T00:00:00",
          "2019-09-12T00:00:00",
          "2019-09-13T00:00:00",
          "2019-09-14T00:00:00",
          "2019-09-15T00:00:00",
          "2019-09-16T00:00:00",
          "2019-09-17T00:00:00",
          "2019-09-18T00:00:00",
          "2019-09-19T00:00:00",
          "2019-09-20T00:00:00",
          "2019-09-21T00:00:00",
          "2019-09-22T00:00:00",
          "2019-09-23T00:00:00",
          "2019-09-24T00:00:00",
          "2019-09-25T00:00:00",
          "2019-09-26T00:00:00",
          "2019-09-27T00:00:00",
          "2019-09-28T00:00:00",
          "2019-09-29T00:00:00",
          "2019-09-30T00:00:00",
          "2019-10-01T00:00:00",
          "2019-10-02T00:00:00",
          "2019-10-03T00:00:00",
          "2019-10-04T00:00:00",
          "2019-10-05T00:00:00"
         ],
         "xaxis": "x6",
         "y": [
          0,
          0.0028323778323778325,
          0.0014687743934962427,
          0.003745246688795076,
          0.005137145012663686,
          0.0018978605935127673,
          0.005754655131892984,
          0.00805586289888429,
          0.006967766862480294,
          0.00960297363107978,
          0.01561570894612636,
          0.011349954510775553,
          0.01111661076018257,
          0.010084379469969608,
          0.011528850266936511,
          0.0033288669002954716,
          0.007283836081536823,
          0.008409792466037019,
          0.010496031746031744,
          0.003034547152194211,
          0.0036255411255411256,
          0.01021637916101584,
          0.02625378352990293,
          0.017929458108029536,
          0.014829728095034217,
          0.002962962962962963,
          0.006250000000000001,
          0.006788256788256788,
          0.001727675197062952,
          0.00782703886152162,
          0.015040296358231139,
          0.004206349206349206,
          0.014102564102564101
         ],
         "yaxis": "y6"
        },
        {
         "mode": "lines",
         "type": "scatter",
         "x": [
          "2019-09-03T00:00:00",
          "2019-09-04T00:00:00",
          "2019-09-05T00:00:00",
          "2019-09-06T00:00:00",
          "2019-09-07T00:00:00",
          "2019-09-08T00:00:00",
          "2019-09-09T00:00:00",
          "2019-09-10T00:00:00",
          "2019-09-11T00:00:00",
          "2019-09-12T00:00:00",
          "2019-09-13T00:00:00",
          "2019-09-14T00:00:00",
          "2019-09-15T00:00:00",
          "2019-09-16T00:00:00",
          "2019-09-17T00:00:00",
          "2019-09-18T00:00:00",
          "2019-09-19T00:00:00",
          "2019-09-20T00:00:00",
          "2019-09-21T00:00:00",
          "2019-09-22T00:00:00",
          "2019-09-23T00:00:00",
          "2019-09-24T00:00:00",
          "2019-09-25T00:00:00",
          "2019-09-26T00:00:00",
          "2019-09-27T00:00:00",
          "2019-09-28T00:00:00",
          "2019-09-29T00:00:00",
          "2019-09-30T00:00:00",
          "2019-10-01T00:00:00",
          "2019-10-02T00:00:00",
          "2019-10-03T00:00:00",
          "2019-10-04T00:00:00",
          "2019-10-05T00:00:00"
         ],
         "xaxis": "x8",
         "y": [
          0.10416666666666666,
          0.047469935860028754,
          0.07287043563608739,
          0.07075677770559481,
          0.04759395804948753,
          0.0517329055044572,
          0.05191386380686927,
          0.03520718261549728,
          0.06887737796551957,
          0.054953890863785625,
          0.053725013761022906,
          0.0479715419077053,
          0.0558245602845154,
          0.04715750180597943,
          0.06533928314248678,
          0.03361621488345625,
          0.055409127305001304,
          0.03642370341047991,
          0.04630707517120561,
          0.0688620972596632,
          0.015105322673645654,
          0.015329096124943877,
          0.051330720616898425,
          0.05041121010508765,
          0.0494391847430889,
          0.04142968142968143,
          0.05259809634809636,
          0.03523920876862052,
          0.06953507637394095,
          0.04569784719558979,
          0.046116454473320766,
          0.02126682250211662,
          0.046279537456008046
         ],
         "yaxis": "y8"
        }
       ],
       "layout": {
        "annotations": [
         {
          "font": {
           "size": 16
          },
          "showarrow": false,
          "text": "Anger",
          "x": 0.225,
          "xanchor": "center",
          "xref": "paper",
          "y": 1,
          "yanchor": "bottom",
          "yref": "paper"
         },
         {
          "font": {
           "size": 16
          },
          "showarrow": false,
          "text": "Joy",
          "x": 0.775,
          "xanchor": "center",
          "xref": "paper",
          "y": 1,
          "yanchor": "bottom",
          "yref": "paper"
         },
         {
          "font": {
           "size": 16
          },
          "showarrow": false,
          "text": "Anticipation",
          "x": 0.225,
          "xanchor": "center",
          "xref": "paper",
          "y": 0.71875,
          "yanchor": "bottom",
          "yref": "paper"
         },
         {
          "font": {
           "size": 16
          },
          "showarrow": false,
          "text": "Sadness",
          "x": 0.775,
          "xanchor": "center",
          "xref": "paper",
          "y": 0.71875,
          "yanchor": "bottom",
          "yref": "paper"
         },
         {
          "font": {
           "size": 16
          },
          "showarrow": false,
          "text": "Disgust",
          "x": 0.225,
          "xanchor": "center",
          "xref": "paper",
          "y": 0.4375,
          "yanchor": "bottom",
          "yref": "paper"
         },
         {
          "font": {
           "size": 16
          },
          "showarrow": false,
          "text": "Surprise",
          "x": 0.775,
          "xanchor": "center",
          "xref": "paper",
          "y": 0.4375,
          "yanchor": "bottom",
          "yref": "paper"
         },
         {
          "font": {
           "size": 16
          },
          "showarrow": false,
          "text": "Fear",
          "x": 0.225,
          "xanchor": "center",
          "xref": "paper",
          "y": 0.15625,
          "yanchor": "bottom",
          "yref": "paper"
         },
         {
          "font": {
           "size": 16
          },
          "showarrow": false,
          "text": "Trust",
          "x": 0.775,
          "xanchor": "center",
          "xref": "paper",
          "y": 0.15625,
          "yanchor": "bottom",
          "yref": "paper"
         }
        ],
        "height": 800,
        "showlegend": false,
        "template": {
         "data": {
          "bar": [
           {
            "error_x": {
             "color": "#2a3f5f"
            },
            "error_y": {
             "color": "#2a3f5f"
            },
            "marker": {
             "line": {
              "color": "#E5ECF6",
              "width": 0.5
             }
            },
            "type": "bar"
           }
          ],
          "barpolar": [
           {
            "marker": {
             "line": {
              "color": "#E5ECF6",
              "width": 0.5
             }
            },
            "type": "barpolar"
           }
          ],
          "carpet": [
           {
            "aaxis": {
             "endlinecolor": "#2a3f5f",
             "gridcolor": "white",
             "linecolor": "white",
             "minorgridcolor": "white",
             "startlinecolor": "#2a3f5f"
            },
            "baxis": {
             "endlinecolor": "#2a3f5f",
             "gridcolor": "white",
             "linecolor": "white",
             "minorgridcolor": "white",
             "startlinecolor": "#2a3f5f"
            },
            "type": "carpet"
           }
          ],
          "choropleth": [
           {
            "colorbar": {
             "outlinewidth": 0,
             "ticks": ""
            },
            "type": "choropleth"
           }
          ],
          "contour": [
           {
            "colorbar": {
             "outlinewidth": 0,
             "ticks": ""
            },
            "colorscale": [
             [
              0,
              "#0d0887"
             ],
             [
              0.1111111111111111,
              "#46039f"
             ],
             [
              0.2222222222222222,
              "#7201a8"
             ],
             [
              0.3333333333333333,
              "#9c179e"
             ],
             [
              0.4444444444444444,
              "#bd3786"
             ],
             [
              0.5555555555555556,
              "#d8576b"
             ],
             [
              0.6666666666666666,
              "#ed7953"
             ],
             [
              0.7777777777777778,
              "#fb9f3a"
             ],
             [
              0.8888888888888888,
              "#fdca26"
             ],
             [
              1,
              "#f0f921"
             ]
            ],
            "type": "contour"
           }
          ],
          "contourcarpet": [
           {
            "colorbar": {
             "outlinewidth": 0,
             "ticks": ""
            },
            "type": "contourcarpet"
           }
          ],
          "heatmap": [
           {
            "colorbar": {
             "outlinewidth": 0,
             "ticks": ""
            },
            "colorscale": [
             [
              0,
              "#0d0887"
             ],
             [
              0.1111111111111111,
              "#46039f"
             ],
             [
              0.2222222222222222,
              "#7201a8"
             ],
             [
              0.3333333333333333,
              "#9c179e"
             ],
             [
              0.4444444444444444,
              "#bd3786"
             ],
             [
              0.5555555555555556,
              "#d8576b"
             ],
             [
              0.6666666666666666,
              "#ed7953"
             ],
             [
              0.7777777777777778,
              "#fb9f3a"
             ],
             [
              0.8888888888888888,
              "#fdca26"
             ],
             [
              1,
              "#f0f921"
             ]
            ],
            "type": "heatmap"
           }
          ],
          "heatmapgl": [
           {
            "colorbar": {
             "outlinewidth": 0,
             "ticks": ""
            },
            "colorscale": [
             [
              0,
              "#0d0887"
             ],
             [
              0.1111111111111111,
              "#46039f"
             ],
             [
              0.2222222222222222,
              "#7201a8"
             ],
             [
              0.3333333333333333,
              "#9c179e"
             ],
             [
              0.4444444444444444,
              "#bd3786"
             ],
             [
              0.5555555555555556,
              "#d8576b"
             ],
             [
              0.6666666666666666,
              "#ed7953"
             ],
             [
              0.7777777777777778,
              "#fb9f3a"
             ],
             [
              0.8888888888888888,
              "#fdca26"
             ],
             [
              1,
              "#f0f921"
             ]
            ],
            "type": "heatmapgl"
           }
          ],
          "histogram": [
           {
            "marker": {
             "colorbar": {
              "outlinewidth": 0,
              "ticks": ""
             }
            },
            "type": "histogram"
           }
          ],
          "histogram2d": [
           {
            "colorbar": {
             "outlinewidth": 0,
             "ticks": ""
            },
            "colorscale": [
             [
              0,
              "#0d0887"
             ],
             [
              0.1111111111111111,
              "#46039f"
             ],
             [
              0.2222222222222222,
              "#7201a8"
             ],
             [
              0.3333333333333333,
              "#9c179e"
             ],
             [
              0.4444444444444444,
              "#bd3786"
             ],
             [
              0.5555555555555556,
              "#d8576b"
             ],
             [
              0.6666666666666666,
              "#ed7953"
             ],
             [
              0.7777777777777778,
              "#fb9f3a"
             ],
             [
              0.8888888888888888,
              "#fdca26"
             ],
             [
              1,
              "#f0f921"
             ]
            ],
            "type": "histogram2d"
           }
          ],
          "histogram2dcontour": [
           {
            "colorbar": {
             "outlinewidth": 0,
             "ticks": ""
            },
            "colorscale": [
             [
              0,
              "#0d0887"
             ],
             [
              0.1111111111111111,
              "#46039f"
             ],
             [
              0.2222222222222222,
              "#7201a8"
             ],
             [
              0.3333333333333333,
              "#9c179e"
             ],
             [
              0.4444444444444444,
              "#bd3786"
             ],
             [
              0.5555555555555556,
              "#d8576b"
             ],
             [
              0.6666666666666666,
              "#ed7953"
             ],
             [
              0.7777777777777778,
              "#fb9f3a"
             ],
             [
              0.8888888888888888,
              "#fdca26"
             ],
             [
              1,
              "#f0f921"
             ]
            ],
            "type": "histogram2dcontour"
           }
          ],
          "mesh3d": [
           {
            "colorbar": {
             "outlinewidth": 0,
             "ticks": ""
            },
            "type": "mesh3d"
           }
          ],
          "parcoords": [
           {
            "line": {
             "colorbar": {
              "outlinewidth": 0,
              "ticks": ""
             }
            },
            "type": "parcoords"
           }
          ],
          "scatter": [
           {
            "marker": {
             "colorbar": {
              "outlinewidth": 0,
              "ticks": ""
             }
            },
            "type": "scatter"
           }
          ],
          "scatter3d": [
           {
            "line": {
             "colorbar": {
              "outlinewidth": 0,
              "ticks": ""
             }
            },
            "marker": {
             "colorbar": {
              "outlinewidth": 0,
              "ticks": ""
             }
            },
            "type": "scatter3d"
           }
          ],
          "scattercarpet": [
           {
            "marker": {
             "colorbar": {
              "outlinewidth": 0,
              "ticks": ""
             }
            },
            "type": "scattercarpet"
           }
          ],
          "scattergeo": [
           {
            "marker": {
             "colorbar": {
              "outlinewidth": 0,
              "ticks": ""
             }
            },
            "type": "scattergeo"
           }
          ],
          "scattergl": [
           {
            "marker": {
             "colorbar": {
              "outlinewidth": 0,
              "ticks": ""
             }
            },
            "type": "scattergl"
           }
          ],
          "scattermapbox": [
           {
            "marker": {
             "colorbar": {
              "outlinewidth": 0,
              "ticks": ""
             }
            },
            "type": "scattermapbox"
           }
          ],
          "scatterpolar": [
           {
            "marker": {
             "colorbar": {
              "outlinewidth": 0,
              "ticks": ""
             }
            },
            "type": "scatterpolar"
           }
          ],
          "scatterpolargl": [
           {
            "marker": {
             "colorbar": {
              "outlinewidth": 0,
              "ticks": ""
             }
            },
            "type": "scatterpolargl"
           }
          ],
          "scatterternary": [
           {
            "marker": {
             "colorbar": {
              "outlinewidth": 0,
              "ticks": ""
             }
            },
            "type": "scatterternary"
           }
          ],
          "surface": [
           {
            "colorbar": {
             "outlinewidth": 0,
             "ticks": ""
            },
            "colorscale": [
             [
              0,
              "#0d0887"
             ],
             [
              0.1111111111111111,
              "#46039f"
             ],
             [
              0.2222222222222222,
              "#7201a8"
             ],
             [
              0.3333333333333333,
              "#9c179e"
             ],
             [
              0.4444444444444444,
              "#bd3786"
             ],
             [
              0.5555555555555556,
              "#d8576b"
             ],
             [
              0.6666666666666666,
              "#ed7953"
             ],
             [
              0.7777777777777778,
              "#fb9f3a"
             ],
             [
              0.8888888888888888,
              "#fdca26"
             ],
             [
              1,
              "#f0f921"
             ]
            ],
            "type": "surface"
           }
          ],
          "table": [
           {
            "cells": {
             "fill": {
              "color": "#EBF0F8"
             },
             "line": {
              "color": "white"
             }
            },
            "header": {
             "fill": {
              "color": "#C8D4E3"
             },
             "line": {
              "color": "white"
             }
            },
            "type": "table"
           }
          ]
         },
         "layout": {
          "annotationdefaults": {
           "arrowcolor": "#2a3f5f",
           "arrowhead": 0,
           "arrowwidth": 1
          },
          "colorscale": {
           "diverging": [
            [
             0,
             "#8e0152"
            ],
            [
             0.1,
             "#c51b7d"
            ],
            [
             0.2,
             "#de77ae"
            ],
            [
             0.3,
             "#f1b6da"
            ],
            [
             0.4,
             "#fde0ef"
            ],
            [
             0.5,
             "#f7f7f7"
            ],
            [
             0.6,
             "#e6f5d0"
            ],
            [
             0.7,
             "#b8e186"
            ],
            [
             0.8,
             "#7fbc41"
            ],
            [
             0.9,
             "#4d9221"
            ],
            [
             1,
             "#276419"
            ]
           ],
           "sequential": [
            [
             0,
             "#0d0887"
            ],
            [
             0.1111111111111111,
             "#46039f"
            ],
            [
             0.2222222222222222,
             "#7201a8"
            ],
            [
             0.3333333333333333,
             "#9c179e"
            ],
            [
             0.4444444444444444,
             "#bd3786"
            ],
            [
             0.5555555555555556,
             "#d8576b"
            ],
            [
             0.6666666666666666,
             "#ed7953"
            ],
            [
             0.7777777777777778,
             "#fb9f3a"
            ],
            [
             0.8888888888888888,
             "#fdca26"
            ],
            [
             1,
             "#f0f921"
            ]
           ],
           "sequentialminus": [
            [
             0,
             "#0d0887"
            ],
            [
             0.1111111111111111,
             "#46039f"
            ],
            [
             0.2222222222222222,
             "#7201a8"
            ],
            [
             0.3333333333333333,
             "#9c179e"
            ],
            [
             0.4444444444444444,
             "#bd3786"
            ],
            [
             0.5555555555555556,
             "#d8576b"
            ],
            [
             0.6666666666666666,
             "#ed7953"
            ],
            [
             0.7777777777777778,
             "#fb9f3a"
            ],
            [
             0.8888888888888888,
             "#fdca26"
            ],
            [
             1,
             "#f0f921"
            ]
           ]
          },
          "colorway": [
           "#636efa",
           "#EF553B",
           "#00cc96",
           "#ab63fa",
           "#FFA15A",
           "#19d3f3",
           "#FF6692",
           "#B6E880",
           "#FF97FF",
           "#FECB52"
          ],
          "font": {
           "color": "#2a3f5f"
          },
          "geo": {
           "bgcolor": "white",
           "lakecolor": "white",
           "landcolor": "#E5ECF6",
           "showlakes": true,
           "showland": true,
           "subunitcolor": "white"
          },
          "hoverlabel": {
           "align": "left"
          },
          "hovermode": "closest",
          "mapbox": {
           "style": "light"
          },
          "paper_bgcolor": "white",
          "plot_bgcolor": "#E5ECF6",
          "polar": {
           "angularaxis": {
            "gridcolor": "white",
            "linecolor": "white",
            "ticks": ""
           },
           "bgcolor": "#E5ECF6",
           "radialaxis": {
            "gridcolor": "white",
            "linecolor": "white",
            "ticks": ""
           }
          },
          "scene": {
           "xaxis": {
            "backgroundcolor": "#E5ECF6",
            "gridcolor": "white",
            "gridwidth": 2,
            "linecolor": "white",
            "showbackground": true,
            "ticks": "",
            "zerolinecolor": "white"
           },
           "yaxis": {
            "backgroundcolor": "#E5ECF6",
            "gridcolor": "white",
            "gridwidth": 2,
            "linecolor": "white",
            "showbackground": true,
            "ticks": "",
            "zerolinecolor": "white"
           },
           "zaxis": {
            "backgroundcolor": "#E5ECF6",
            "gridcolor": "white",
            "gridwidth": 2,
            "linecolor": "white",
            "showbackground": true,
            "ticks": "",
            "zerolinecolor": "white"
           }
          },
          "shapedefaults": {
           "line": {
            "color": "#2a3f5f"
           }
          },
          "ternary": {
           "aaxis": {
            "gridcolor": "white",
            "linecolor": "white",
            "ticks": ""
           },
           "baxis": {
            "gridcolor": "white",
            "linecolor": "white",
            "ticks": ""
           },
           "bgcolor": "#E5ECF6",
           "caxis": {
            "gridcolor": "white",
            "linecolor": "white",
            "ticks": ""
           }
          },
          "title": {
           "x": 0.05
          },
          "xaxis": {
           "automargin": true,
           "gridcolor": "white",
           "linecolor": "white",
           "ticks": "",
           "zerolinecolor": "white",
           "zerolinewidth": 2
          },
          "yaxis": {
           "automargin": true,
           "gridcolor": "white",
           "linecolor": "white",
           "ticks": "",
           "zerolinecolor": "white",
           "zerolinewidth": 2
          }
         }
        },
        "width": 700,
        "xaxis": {
         "anchor": "y",
         "domain": [
          0,
          0.45
         ]
        },
        "xaxis2": {
         "anchor": "y2",
         "domain": [
          0.55,
          1
         ]
        },
        "xaxis3": {
         "anchor": "y3",
         "domain": [
          0,
          0.45
         ]
        },
        "xaxis4": {
         "anchor": "y4",
         "domain": [
          0.55,
          1
         ]
        },
        "xaxis5": {
         "anchor": "y5",
         "domain": [
          0,
          0.45
         ]
        },
        "xaxis6": {
         "anchor": "y6",
         "domain": [
          0.55,
          1
         ]
        },
        "xaxis7": {
         "anchor": "y7",
         "domain": [
          0,
          0.45
         ]
        },
        "xaxis8": {
         "anchor": "y8",
         "domain": [
          0.55,
          1
         ]
        },
        "yaxis": {
         "anchor": "x",
         "domain": [
          0.84375,
          1
         ],
         "range": [
          0,
          0.1
         ]
        },
        "yaxis2": {
         "anchor": "x2",
         "domain": [
          0.84375,
          1
         ],
         "range": [
          0,
          0.1
         ]
        },
        "yaxis3": {
         "anchor": "x3",
         "domain": [
          0.5625,
          0.71875
         ],
         "range": [
          0,
          0.1
         ]
        },
        "yaxis4": {
         "anchor": "x4",
         "domain": [
          0.5625,
          0.71875
         ],
         "range": [
          0,
          0.1
         ]
        },
        "yaxis5": {
         "anchor": "x5",
         "domain": [
          0.28125,
          0.4375
         ],
         "range": [
          0,
          0.1
         ]
        },
        "yaxis6": {
         "anchor": "x6",
         "domain": [
          0.28125,
          0.4375
         ],
         "range": [
          0,
          0.1
         ]
        },
        "yaxis7": {
         "anchor": "x7",
         "domain": [
          0,
          0.15625
         ],
         "range": [
          0,
          0.1
         ]
        },
        "yaxis8": {
         "anchor": "x8",
         "domain": [
          0,
          0.15625
         ],
         "range": [
          0,
          0.1
         ]
        }
       }
      },
      "text/html": [
       "<div>\n",
       "        \n",
       "        \n",
       "            <div id=\"20d53d64-f824-420c-ae8f-96817e7c4736\" class=\"plotly-graph-div\" style=\"height:800px; width:700px;\"></div>\n",
       "            <script type=\"text/javascript\">\n",
       "                require([\"plotly\"], function(Plotly) {\n",
       "                    window.PLOTLYENV=window.PLOTLYENV || {};\n",
       "                    \n",
       "                if (document.getElementById(\"20d53d64-f824-420c-ae8f-96817e7c4736\")) {\n",
       "                    Plotly.newPlot(\n",
       "                        '20d53d64-f824-420c-ae8f-96817e7c4736',\n",
       "                        [{\"mode\": \"lines\", \"type\": \"scatter\", \"x\": [\"2019-09-03T00:00:00\", \"2019-09-04T00:00:00\", \"2019-09-05T00:00:00\", \"2019-09-06T00:00:00\", \"2019-09-07T00:00:00\", \"2019-09-08T00:00:00\", \"2019-09-09T00:00:00\", \"2019-09-10T00:00:00\", \"2019-09-11T00:00:00\", \"2019-09-12T00:00:00\", \"2019-09-13T00:00:00\", \"2019-09-14T00:00:00\", \"2019-09-15T00:00:00\", \"2019-09-16T00:00:00\", \"2019-09-17T00:00:00\", \"2019-09-18T00:00:00\", \"2019-09-19T00:00:00\", \"2019-09-20T00:00:00\", \"2019-09-21T00:00:00\", \"2019-09-22T00:00:00\", \"2019-09-23T00:00:00\", \"2019-09-24T00:00:00\", \"2019-09-25T00:00:00\", \"2019-09-26T00:00:00\", \"2019-09-27T00:00:00\", \"2019-09-28T00:00:00\", \"2019-09-29T00:00:00\", \"2019-09-30T00:00:00\", \"2019-10-01T00:00:00\", \"2019-10-02T00:00:00\", \"2019-10-03T00:00:00\", \"2019-10-04T00:00:00\", \"2019-10-05T00:00:00\"], \"xaxis\": \"x\", \"y\": [0.041666666666666664, 0.028017028017028017, 0.0023531340945134047, 0.002151539270854037, 0.003448562123202103, 0.0023417674279743246, 0.0049012095874055766, 0.009026865994101064, 0.005847253547681164, 0.012961172076188129, 0.02021467390341089, 0.010958190164915869, 0.020017420441628606, 0.016035078282700666, 0.01257739204341146, 0.008605495694781409, 0.009857254794645593, 0.010026541366673011, 0.008232142857142858, 0.003057889822595705, 0.0036255411255411256, 0.004169993789370953, 0.02937750060884389, 0.011564625850340135, 0.015949969876323026, 0.002962962962962963, 0.018371212121212118, 0.002490726020137785, 0.0025577889304024917, 0.0028160919540229884, 0.026241987179487173, 0.005602693602693603, 0.02264957264957265], \"yaxis\": \"y\"}, {\"mode\": \"lines\", \"type\": \"scatter\", \"x\": [\"2019-09-03T00:00:00\", \"2019-09-04T00:00:00\", \"2019-09-05T00:00:00\", \"2019-09-06T00:00:00\", \"2019-09-07T00:00:00\", \"2019-09-08T00:00:00\", \"2019-09-09T00:00:00\", \"2019-09-10T00:00:00\", \"2019-09-11T00:00:00\", \"2019-09-12T00:00:00\", \"2019-09-13T00:00:00\", \"2019-09-14T00:00:00\", \"2019-09-15T00:00:00\", \"2019-09-16T00:00:00\", \"2019-09-17T00:00:00\", \"2019-09-18T00:00:00\", \"2019-09-19T00:00:00\", \"2019-09-20T00:00:00\", \"2019-09-21T00:00:00\", \"2019-09-22T00:00:00\", \"2019-09-23T00:00:00\", \"2019-09-24T00:00:00\", \"2019-09-25T00:00:00\", \"2019-09-26T00:00:00\", \"2019-09-27T00:00:00\", \"2019-09-28T00:00:00\", \"2019-09-29T00:00:00\", \"2019-09-30T00:00:00\", \"2019-10-01T00:00:00\", \"2019-10-02T00:00:00\", \"2019-10-03T00:00:00\", \"2019-10-04T00:00:00\", \"2019-10-05T00:00:00\"], \"xaxis\": \"x3\", \"y\": [0.0, 0.010285134356341787, 0.004231690761754677, 0.02251648633767398, 0.016469783631439555, 0.011032373111645977, 0.022156211581891933, 0.02058490831887769, 0.032483999517306454, 0.03145192727936445, 0.03488509852246816, 0.031084737053539417, 0.029925456577558282, 0.03139350721671061, 0.029660047482503143, 0.01691901366285603, 0.0470134921530166, 0.02508009709212755, 0.04283910533910533, 0.03678685149273384, 0.01893023849856148, 0.015678989306288527, 0.04675134219549243, 0.04010670923936229, 0.04951385438764601, 0.018627010849233076, 0.029166666666666664, 0.019974169974169974, 0.08461869721851975, 0.017530682074292623, 0.03390088016624321, 0.026749082593072362, 0.02989777107424166], \"yaxis\": \"y3\"}, {\"mode\": \"lines\", \"type\": \"scatter\", \"x\": [\"2019-09-03T00:00:00\", \"2019-09-04T00:00:00\", \"2019-09-05T00:00:00\", \"2019-09-06T00:00:00\", \"2019-09-07T00:00:00\", \"2019-09-08T00:00:00\", \"2019-09-09T00:00:00\", \"2019-09-10T00:00:00\", \"2019-09-11T00:00:00\", \"2019-09-12T00:00:00\", \"2019-09-13T00:00:00\", \"2019-09-14T00:00:00\", \"2019-09-15T00:00:00\", \"2019-09-16T00:00:00\", \"2019-09-17T00:00:00\", \"2019-09-18T00:00:00\", \"2019-09-19T00:00:00\", \"2019-09-20T00:00:00\", \"2019-09-21T00:00:00\", \"2019-09-22T00:00:00\", \"2019-09-23T00:00:00\", \"2019-09-24T00:00:00\", \"2019-09-25T00:00:00\", \"2019-09-26T00:00:00\", \"2019-09-27T00:00:00\", \"2019-09-28T00:00:00\", \"2019-09-29T00:00:00\", \"2019-09-30T00:00:00\", \"2019-10-01T00:00:00\", \"2019-10-02T00:00:00\", \"2019-10-03T00:00:00\", \"2019-10-04T00:00:00\", \"2019-10-05T00:00:00\"], \"xaxis\": \"x5\", \"y\": [0.03125, 0.021713084213084224, 0.010110994848063814, 0.017535856054940423, 0.02120779689488501, 0.0234003962991032, 0.0134512606568906, 0.011654933819333406, 0.019372861673499525, 0.011753961616802033, 0.01624092048564473, 0.01122766696240625, 0.013471982810742203, 0.014592793548638164, 0.01217928242200087, 0.007695846481560765, 0.006586658665866586, 0.007089854631103594, 0.0, 0.004341736694677871, 0.0022367642709257615, 0.0015082956259426848, 0.02234910611776284, 0.012244897959183673, 0.016412092787425527, 0.0030864197530864196, 0.003787878787878788, 0.0022522522522522522, 0.00163014514561585, 0.009819595549818674, 0.03901129243245252, 0.006909883145177262, 0.008547008547008548], \"yaxis\": \"y5\"}, {\"mode\": \"lines\", \"type\": \"scatter\", \"x\": [\"2019-09-03T00:00:00\", \"2019-09-04T00:00:00\", \"2019-09-05T00:00:00\", \"2019-09-06T00:00:00\", \"2019-09-07T00:00:00\", \"2019-09-08T00:00:00\", \"2019-09-09T00:00:00\", \"2019-09-10T00:00:00\", \"2019-09-11T00:00:00\", \"2019-09-12T00:00:00\", \"2019-09-13T00:00:00\", \"2019-09-14T00:00:00\", \"2019-09-15T00:00:00\", \"2019-09-16T00:00:00\", \"2019-09-17T00:00:00\", \"2019-09-18T00:00:00\", \"2019-09-19T00:00:00\", \"2019-09-20T00:00:00\", \"2019-09-21T00:00:00\", \"2019-09-22T00:00:00\", \"2019-09-23T00:00:00\", \"2019-09-24T00:00:00\", \"2019-09-25T00:00:00\", \"2019-09-26T00:00:00\", \"2019-09-27T00:00:00\", \"2019-09-28T00:00:00\", \"2019-09-29T00:00:00\", \"2019-09-30T00:00:00\", \"2019-10-01T00:00:00\", \"2019-10-02T00:00:00\", \"2019-10-03T00:00:00\", \"2019-10-04T00:00:00\", \"2019-10-05T00:00:00\"], \"xaxis\": \"x7\", \"y\": [0.0, 0.022695126371596968, 0.0027435759652445425, 0.004646576875338646, 0.003849816551793608, 0.0038321352976525384, 0.02070348976636834, 0.029687173118044453, 0.012212839812342818, 0.020498979304434416, 0.030104059017396795, 0.01922553114731061, 0.03146917754591681, 0.025542489845535553, 0.032799093394614495, 0.01176883823020717, 0.013121516202471359, 0.012484188566915098, 0.023705357142857143, 0.02657832363714717, 0.007627517410126105, 0.030169609321858464, 0.062048060815095236, 0.03579987189681067, 0.022349164441001178, 0.004814814814814815, 0.020075757575757577, 0.003616852146263911, 0.011171624074849881, 0.006223799864773495, 0.03998588217338218, 0.008835016835016835, 0.050878642055112645], \"yaxis\": \"y7\"}, {\"mode\": \"lines\", \"type\": \"scatter\", \"x\": [\"2019-09-03T00:00:00\", \"2019-09-04T00:00:00\", \"2019-09-05T00:00:00\", \"2019-09-06T00:00:00\", \"2019-09-07T00:00:00\", \"2019-09-08T00:00:00\", \"2019-09-09T00:00:00\", \"2019-09-10T00:00:00\", \"2019-09-11T00:00:00\", \"2019-09-12T00:00:00\", \"2019-09-13T00:00:00\", \"2019-09-14T00:00:00\", \"2019-09-15T00:00:00\", \"2019-09-16T00:00:00\", \"2019-09-17T00:00:00\", \"2019-09-18T00:00:00\", \"2019-09-19T00:00:00\", \"2019-09-20T00:00:00\", \"2019-09-21T00:00:00\", \"2019-09-22T00:00:00\", \"2019-09-23T00:00:00\", \"2019-09-24T00:00:00\", \"2019-09-25T00:00:00\", \"2019-09-26T00:00:00\", \"2019-09-27T00:00:00\", \"2019-09-28T00:00:00\", \"2019-09-29T00:00:00\", \"2019-09-30T00:00:00\", \"2019-10-01T00:00:00\", \"2019-10-02T00:00:00\", \"2019-10-03T00:00:00\", \"2019-10-04T00:00:00\", \"2019-10-05T00:00:00\"], \"xaxis\": \"x2\", \"y\": [0.0, 0.0281246433723214, 0.027438352544748346, 0.01722866390632161, 0.005090507143547014, 0.007311298804039276, 0.014948429839348345, 0.02080065840632924, 0.02831939545431085, 0.030829588798890747, 0.032578230299771194, 0.025110403265120228, 0.030985612901868905, 0.030128319146483968, 0.036353429474239404, 0.018399325678882326, 0.04974322293552135, 0.027197881879331812, 0.040676363793211615, 0.04138018843901197, 0.009290565880791442, 0.009480451305710822, 0.02314655974742638, 0.02877127596515351, 0.026903602722614536, 0.013868312757201648, 0.03620823620823621, 0.013094563094563094, 0.04601828815127037, 0.005363984674329502, 0.026552337278484623, 0.011444444444444445, 0.01862745098039216], \"yaxis\": \"y2\"}, {\"mode\": \"lines\", \"type\": \"scatter\", \"x\": [\"2019-09-03T00:00:00\", \"2019-09-04T00:00:00\", \"2019-09-05T00:00:00\", \"2019-09-06T00:00:00\", \"2019-09-07T00:00:00\", \"2019-09-08T00:00:00\", \"2019-09-09T00:00:00\", \"2019-09-10T00:00:00\", \"2019-09-11T00:00:00\", \"2019-09-12T00:00:00\", \"2019-09-13T00:00:00\", \"2019-09-14T00:00:00\", \"2019-09-15T00:00:00\", \"2019-09-16T00:00:00\", \"2019-09-17T00:00:00\", \"2019-09-18T00:00:00\", \"2019-09-19T00:00:00\", \"2019-09-20T00:00:00\", \"2019-09-21T00:00:00\", \"2019-09-22T00:00:00\", \"2019-09-23T00:00:00\", \"2019-09-24T00:00:00\", \"2019-09-25T00:00:00\", \"2019-09-26T00:00:00\", \"2019-09-27T00:00:00\", \"2019-09-28T00:00:00\", \"2019-09-29T00:00:00\", \"2019-09-30T00:00:00\", \"2019-10-01T00:00:00\", \"2019-10-02T00:00:00\", \"2019-10-03T00:00:00\", \"2019-10-04T00:00:00\", \"2019-10-05T00:00:00\"], \"xaxis\": \"x4\", \"y\": [0.0, 0.020340470340470342, 0.003404062386020323, 0.011781449987289467, 0.006385934733506128, 0.003703919593211789, 0.007744312923929964, 0.014411485172385876, 0.010686834677826213, 0.016962859946561392, 0.03275878971897905, 0.025051487291103562, 0.02813535015774555, 0.025541225012892046, 0.029514560160697232, 0.01474761078040829, 0.011042499854381042, 0.01187623068903661, 0.03444509144237405, 0.025971414206708322, 0.007627517410126105, 0.02717578259373925, 0.04926375448763509, 0.023393230918741122, 0.03268406763304723, 0.00818181818181818, 0.03257575757575757, 0.005869104398516164, 0.0025577889304024917, 0.0081947261663286, 0.043397979335479335, 0.009213804713804714, 0.05741458976753095], \"yaxis\": \"y4\"}, {\"mode\": \"lines\", \"type\": \"scatter\", \"x\": [\"2019-09-03T00:00:00\", \"2019-09-04T00:00:00\", \"2019-09-05T00:00:00\", \"2019-09-06T00:00:00\", \"2019-09-07T00:00:00\", \"2019-09-08T00:00:00\", \"2019-09-09T00:00:00\", \"2019-09-10T00:00:00\", \"2019-09-11T00:00:00\", \"2019-09-12T00:00:00\", \"2019-09-13T00:00:00\", \"2019-09-14T00:00:00\", \"2019-09-15T00:00:00\", \"2019-09-16T00:00:00\", \"2019-09-17T00:00:00\", \"2019-09-18T00:00:00\", \"2019-09-19T00:00:00\", \"2019-09-20T00:00:00\", \"2019-09-21T00:00:00\", \"2019-09-22T00:00:00\", \"2019-09-23T00:00:00\", \"2019-09-24T00:00:00\", \"2019-09-25T00:00:00\", \"2019-09-26T00:00:00\", \"2019-09-27T00:00:00\", \"2019-09-28T00:00:00\", \"2019-09-29T00:00:00\", \"2019-09-30T00:00:00\", \"2019-10-01T00:00:00\", \"2019-10-02T00:00:00\", \"2019-10-03T00:00:00\", \"2019-10-04T00:00:00\", \"2019-10-05T00:00:00\"], \"xaxis\": \"x6\", \"y\": [0.0, 0.0028323778323778325, 0.0014687743934962427, 0.003745246688795076, 0.005137145012663686, 0.0018978605935127673, 0.005754655131892984, 0.00805586289888429, 0.006967766862480294, 0.00960297363107978, 0.01561570894612636, 0.011349954510775553, 0.01111661076018257, 0.010084379469969608, 0.011528850266936511, 0.0033288669002954716, 0.007283836081536823, 0.008409792466037019, 0.010496031746031744, 0.003034547152194211, 0.0036255411255411256, 0.01021637916101584, 0.02625378352990293, 0.017929458108029536, 0.014829728095034217, 0.002962962962962963, 0.006250000000000001, 0.006788256788256788, 0.001727675197062952, 0.00782703886152162, 0.015040296358231139, 0.004206349206349206, 0.014102564102564101], \"yaxis\": \"y6\"}, {\"mode\": \"lines\", \"type\": \"scatter\", \"x\": [\"2019-09-03T00:00:00\", \"2019-09-04T00:00:00\", \"2019-09-05T00:00:00\", \"2019-09-06T00:00:00\", \"2019-09-07T00:00:00\", \"2019-09-08T00:00:00\", \"2019-09-09T00:00:00\", \"2019-09-10T00:00:00\", \"2019-09-11T00:00:00\", \"2019-09-12T00:00:00\", \"2019-09-13T00:00:00\", \"2019-09-14T00:00:00\", \"2019-09-15T00:00:00\", \"2019-09-16T00:00:00\", \"2019-09-17T00:00:00\", \"2019-09-18T00:00:00\", \"2019-09-19T00:00:00\", \"2019-09-20T00:00:00\", \"2019-09-21T00:00:00\", \"2019-09-22T00:00:00\", \"2019-09-23T00:00:00\", \"2019-09-24T00:00:00\", \"2019-09-25T00:00:00\", \"2019-09-26T00:00:00\", \"2019-09-27T00:00:00\", \"2019-09-28T00:00:00\", \"2019-09-29T00:00:00\", \"2019-09-30T00:00:00\", \"2019-10-01T00:00:00\", \"2019-10-02T00:00:00\", \"2019-10-03T00:00:00\", \"2019-10-04T00:00:00\", \"2019-10-05T00:00:00\"], \"xaxis\": \"x8\", \"y\": [0.10416666666666666, 0.047469935860028754, 0.07287043563608739, 0.07075677770559481, 0.04759395804948753, 0.0517329055044572, 0.05191386380686927, 0.03520718261549728, 0.06887737796551957, 0.054953890863785625, 0.053725013761022906, 0.0479715419077053, 0.0558245602845154, 0.04715750180597943, 0.06533928314248678, 0.03361621488345625, 0.055409127305001304, 0.03642370341047991, 0.04630707517120561, 0.0688620972596632, 0.015105322673645654, 0.015329096124943877, 0.051330720616898425, 0.05041121010508765, 0.0494391847430889, 0.04142968142968143, 0.05259809634809636, 0.03523920876862052, 0.06953507637394095, 0.04569784719558979, 0.046116454473320766, 0.02126682250211662, 0.046279537456008046], \"yaxis\": \"y8\"}],\n",
       "                        {\"annotations\": [{\"font\": {\"size\": 16}, \"showarrow\": false, \"text\": \"Anger\", \"x\": 0.225, \"xanchor\": \"center\", \"xref\": \"paper\", \"y\": 1.0, \"yanchor\": \"bottom\", \"yref\": \"paper\"}, {\"font\": {\"size\": 16}, \"showarrow\": false, \"text\": \"Joy\", \"x\": 0.775, \"xanchor\": \"center\", \"xref\": \"paper\", \"y\": 1.0, \"yanchor\": \"bottom\", \"yref\": \"paper\"}, {\"font\": {\"size\": 16}, \"showarrow\": false, \"text\": \"Anticipation\", \"x\": 0.225, \"xanchor\": \"center\", \"xref\": \"paper\", \"y\": 0.71875, \"yanchor\": \"bottom\", \"yref\": \"paper\"}, {\"font\": {\"size\": 16}, \"showarrow\": false, \"text\": \"Sadness\", \"x\": 0.775, \"xanchor\": \"center\", \"xref\": \"paper\", \"y\": 0.71875, \"yanchor\": \"bottom\", \"yref\": \"paper\"}, {\"font\": {\"size\": 16}, \"showarrow\": false, \"text\": \"Disgust\", \"x\": 0.225, \"xanchor\": \"center\", \"xref\": \"paper\", \"y\": 0.4375, \"yanchor\": \"bottom\", \"yref\": \"paper\"}, {\"font\": {\"size\": 16}, \"showarrow\": false, \"text\": \"Surprise\", \"x\": 0.775, \"xanchor\": \"center\", \"xref\": \"paper\", \"y\": 0.4375, \"yanchor\": \"bottom\", \"yref\": \"paper\"}, {\"font\": {\"size\": 16}, \"showarrow\": false, \"text\": \"Fear\", \"x\": 0.225, \"xanchor\": \"center\", \"xref\": \"paper\", \"y\": 0.15625, \"yanchor\": \"bottom\", \"yref\": \"paper\"}, {\"font\": {\"size\": 16}, \"showarrow\": false, \"text\": \"Trust\", \"x\": 0.775, \"xanchor\": \"center\", \"xref\": \"paper\", \"y\": 0.15625, \"yanchor\": \"bottom\", \"yref\": \"paper\"}], \"height\": 800, \"showlegend\": false, \"template\": {\"data\": {\"bar\": [{\"error_x\": {\"color\": \"#2a3f5f\"}, \"error_y\": {\"color\": \"#2a3f5f\"}, \"marker\": {\"line\": {\"color\": \"#E5ECF6\", \"width\": 0.5}}, \"type\": \"bar\"}], \"barpolar\": [{\"marker\": {\"line\": {\"color\": \"#E5ECF6\", \"width\": 0.5}}, \"type\": \"barpolar\"}], \"carpet\": [{\"aaxis\": {\"endlinecolor\": \"#2a3f5f\", \"gridcolor\": \"white\", \"linecolor\": \"white\", \"minorgridcolor\": \"white\", \"startlinecolor\": \"#2a3f5f\"}, \"baxis\": {\"endlinecolor\": \"#2a3f5f\", \"gridcolor\": \"white\", \"linecolor\": \"white\", \"minorgridcolor\": \"white\", \"startlinecolor\": \"#2a3f5f\"}, \"type\": \"carpet\"}], \"choropleth\": [{\"colorbar\": {\"outlinewidth\": 0, \"ticks\": \"\"}, \"type\": \"choropleth\"}], \"contour\": [{\"colorbar\": {\"outlinewidth\": 0, \"ticks\": \"\"}, \"colorscale\": [[0.0, \"#0d0887\"], [0.1111111111111111, \"#46039f\"], [0.2222222222222222, \"#7201a8\"], [0.3333333333333333, \"#9c179e\"], [0.4444444444444444, \"#bd3786\"], [0.5555555555555556, \"#d8576b\"], [0.6666666666666666, \"#ed7953\"], [0.7777777777777778, \"#fb9f3a\"], [0.8888888888888888, \"#fdca26\"], [1.0, \"#f0f921\"]], \"type\": \"contour\"}], \"contourcarpet\": [{\"colorbar\": {\"outlinewidth\": 0, \"ticks\": \"\"}, \"type\": \"contourcarpet\"}], \"heatmap\": [{\"colorbar\": {\"outlinewidth\": 0, \"ticks\": \"\"}, \"colorscale\": [[0.0, \"#0d0887\"], [0.1111111111111111, \"#46039f\"], [0.2222222222222222, \"#7201a8\"], [0.3333333333333333, \"#9c179e\"], [0.4444444444444444, \"#bd3786\"], [0.5555555555555556, \"#d8576b\"], [0.6666666666666666, \"#ed7953\"], [0.7777777777777778, \"#fb9f3a\"], [0.8888888888888888, \"#fdca26\"], [1.0, \"#f0f921\"]], \"type\": \"heatmap\"}], \"heatmapgl\": [{\"colorbar\": {\"outlinewidth\": 0, \"ticks\": \"\"}, \"colorscale\": [[0.0, \"#0d0887\"], [0.1111111111111111, \"#46039f\"], [0.2222222222222222, \"#7201a8\"], [0.3333333333333333, \"#9c179e\"], [0.4444444444444444, \"#bd3786\"], [0.5555555555555556, \"#d8576b\"], [0.6666666666666666, \"#ed7953\"], [0.7777777777777778, \"#fb9f3a\"], [0.8888888888888888, \"#fdca26\"], [1.0, \"#f0f921\"]], \"type\": \"heatmapgl\"}], \"histogram\": [{\"marker\": {\"colorbar\": {\"outlinewidth\": 0, \"ticks\": \"\"}}, \"type\": \"histogram\"}], \"histogram2d\": [{\"colorbar\": {\"outlinewidth\": 0, \"ticks\": \"\"}, \"colorscale\": [[0.0, \"#0d0887\"], [0.1111111111111111, \"#46039f\"], [0.2222222222222222, \"#7201a8\"], [0.3333333333333333, \"#9c179e\"], [0.4444444444444444, \"#bd3786\"], [0.5555555555555556, \"#d8576b\"], [0.6666666666666666, \"#ed7953\"], [0.7777777777777778, \"#fb9f3a\"], [0.8888888888888888, \"#fdca26\"], [1.0, \"#f0f921\"]], \"type\": \"histogram2d\"}], \"histogram2dcontour\": [{\"colorbar\": {\"outlinewidth\": 0, \"ticks\": \"\"}, \"colorscale\": [[0.0, \"#0d0887\"], [0.1111111111111111, \"#46039f\"], [0.2222222222222222, \"#7201a8\"], [0.3333333333333333, \"#9c179e\"], [0.4444444444444444, \"#bd3786\"], [0.5555555555555556, \"#d8576b\"], [0.6666666666666666, \"#ed7953\"], [0.7777777777777778, \"#fb9f3a\"], [0.8888888888888888, \"#fdca26\"], [1.0, \"#f0f921\"]], \"type\": \"histogram2dcontour\"}], \"mesh3d\": [{\"colorbar\": {\"outlinewidth\": 0, \"ticks\": \"\"}, \"type\": \"mesh3d\"}], \"parcoords\": [{\"line\": {\"colorbar\": {\"outlinewidth\": 0, \"ticks\": \"\"}}, \"type\": \"parcoords\"}], \"scatter\": [{\"marker\": {\"colorbar\": {\"outlinewidth\": 0, \"ticks\": \"\"}}, \"type\": \"scatter\"}], \"scatter3d\": [{\"line\": {\"colorbar\": {\"outlinewidth\": 0, \"ticks\": \"\"}}, \"marker\": {\"colorbar\": {\"outlinewidth\": 0, \"ticks\": \"\"}}, \"type\": \"scatter3d\"}], \"scattercarpet\": [{\"marker\": {\"colorbar\": {\"outlinewidth\": 0, \"ticks\": \"\"}}, \"type\": \"scattercarpet\"}], \"scattergeo\": [{\"marker\": {\"colorbar\": {\"outlinewidth\": 0, \"ticks\": \"\"}}, \"type\": \"scattergeo\"}], \"scattergl\": [{\"marker\": {\"colorbar\": {\"outlinewidth\": 0, \"ticks\": \"\"}}, \"type\": \"scattergl\"}], \"scattermapbox\": [{\"marker\": {\"colorbar\": {\"outlinewidth\": 0, \"ticks\": \"\"}}, \"type\": \"scattermapbox\"}], \"scatterpolar\": [{\"marker\": {\"colorbar\": {\"outlinewidth\": 0, \"ticks\": \"\"}}, \"type\": \"scatterpolar\"}], \"scatterpolargl\": [{\"marker\": {\"colorbar\": {\"outlinewidth\": 0, \"ticks\": \"\"}}, \"type\": \"scatterpolargl\"}], \"scatterternary\": [{\"marker\": {\"colorbar\": {\"outlinewidth\": 0, \"ticks\": \"\"}}, \"type\": \"scatterternary\"}], \"surface\": [{\"colorbar\": {\"outlinewidth\": 0, \"ticks\": \"\"}, \"colorscale\": [[0.0, \"#0d0887\"], [0.1111111111111111, \"#46039f\"], [0.2222222222222222, \"#7201a8\"], [0.3333333333333333, \"#9c179e\"], [0.4444444444444444, \"#bd3786\"], [0.5555555555555556, \"#d8576b\"], [0.6666666666666666, \"#ed7953\"], [0.7777777777777778, \"#fb9f3a\"], [0.8888888888888888, \"#fdca26\"], [1.0, \"#f0f921\"]], \"type\": \"surface\"}], \"table\": [{\"cells\": {\"fill\": {\"color\": \"#EBF0F8\"}, \"line\": {\"color\": \"white\"}}, \"header\": {\"fill\": {\"color\": \"#C8D4E3\"}, \"line\": {\"color\": \"white\"}}, \"type\": \"table\"}]}, \"layout\": {\"annotationdefaults\": {\"arrowcolor\": \"#2a3f5f\", \"arrowhead\": 0, \"arrowwidth\": 1}, \"colorscale\": {\"diverging\": [[0, \"#8e0152\"], [0.1, \"#c51b7d\"], [0.2, \"#de77ae\"], [0.3, \"#f1b6da\"], [0.4, \"#fde0ef\"], [0.5, \"#f7f7f7\"], [0.6, \"#e6f5d0\"], [0.7, \"#b8e186\"], [0.8, \"#7fbc41\"], [0.9, \"#4d9221\"], [1, \"#276419\"]], \"sequential\": [[0.0, \"#0d0887\"], [0.1111111111111111, \"#46039f\"], [0.2222222222222222, \"#7201a8\"], [0.3333333333333333, \"#9c179e\"], [0.4444444444444444, \"#bd3786\"], [0.5555555555555556, \"#d8576b\"], [0.6666666666666666, \"#ed7953\"], [0.7777777777777778, \"#fb9f3a\"], [0.8888888888888888, \"#fdca26\"], [1.0, \"#f0f921\"]], \"sequentialminus\": [[0.0, \"#0d0887\"], [0.1111111111111111, \"#46039f\"], [0.2222222222222222, \"#7201a8\"], [0.3333333333333333, \"#9c179e\"], [0.4444444444444444, \"#bd3786\"], [0.5555555555555556, \"#d8576b\"], [0.6666666666666666, \"#ed7953\"], [0.7777777777777778, \"#fb9f3a\"], [0.8888888888888888, \"#fdca26\"], [1.0, \"#f0f921\"]]}, \"colorway\": [\"#636efa\", \"#EF553B\", \"#00cc96\", \"#ab63fa\", \"#FFA15A\", \"#19d3f3\", \"#FF6692\", \"#B6E880\", \"#FF97FF\", \"#FECB52\"], \"font\": {\"color\": \"#2a3f5f\"}, \"geo\": {\"bgcolor\": \"white\", \"lakecolor\": \"white\", \"landcolor\": \"#E5ECF6\", \"showlakes\": true, \"showland\": true, \"subunitcolor\": \"white\"}, \"hoverlabel\": {\"align\": \"left\"}, \"hovermode\": \"closest\", \"mapbox\": {\"style\": \"light\"}, \"paper_bgcolor\": \"white\", \"plot_bgcolor\": \"#E5ECF6\", \"polar\": {\"angularaxis\": {\"gridcolor\": \"white\", \"linecolor\": \"white\", \"ticks\": \"\"}, \"bgcolor\": \"#E5ECF6\", \"radialaxis\": {\"gridcolor\": \"white\", \"linecolor\": \"white\", \"ticks\": \"\"}}, \"scene\": {\"xaxis\": {\"backgroundcolor\": \"#E5ECF6\", \"gridcolor\": \"white\", \"gridwidth\": 2, \"linecolor\": \"white\", \"showbackground\": true, \"ticks\": \"\", \"zerolinecolor\": \"white\"}, \"yaxis\": {\"backgroundcolor\": \"#E5ECF6\", \"gridcolor\": \"white\", \"gridwidth\": 2, \"linecolor\": \"white\", \"showbackground\": true, \"ticks\": \"\", \"zerolinecolor\": \"white\"}, \"zaxis\": {\"backgroundcolor\": \"#E5ECF6\", \"gridcolor\": \"white\", \"gridwidth\": 2, \"linecolor\": \"white\", \"showbackground\": true, \"ticks\": \"\", \"zerolinecolor\": \"white\"}}, \"shapedefaults\": {\"line\": {\"color\": \"#2a3f5f\"}}, \"ternary\": {\"aaxis\": {\"gridcolor\": \"white\", \"linecolor\": \"white\", \"ticks\": \"\"}, \"baxis\": {\"gridcolor\": \"white\", \"linecolor\": \"white\", \"ticks\": \"\"}, \"bgcolor\": \"#E5ECF6\", \"caxis\": {\"gridcolor\": \"white\", \"linecolor\": \"white\", \"ticks\": \"\"}}, \"title\": {\"x\": 0.05}, \"xaxis\": {\"automargin\": true, \"gridcolor\": \"white\", \"linecolor\": \"white\", \"ticks\": \"\", \"zerolinecolor\": \"white\", \"zerolinewidth\": 2}, \"yaxis\": {\"automargin\": true, \"gridcolor\": \"white\", \"linecolor\": \"white\", \"ticks\": \"\", \"zerolinecolor\": \"white\", \"zerolinewidth\": 2}}}, \"width\": 700, \"xaxis\": {\"anchor\": \"y\", \"domain\": [0.0, 0.45]}, \"xaxis2\": {\"anchor\": \"y2\", \"domain\": [0.55, 1.0]}, \"xaxis3\": {\"anchor\": \"y3\", \"domain\": [0.0, 0.45]}, \"xaxis4\": {\"anchor\": \"y4\", \"domain\": [0.55, 1.0]}, \"xaxis5\": {\"anchor\": \"y5\", \"domain\": [0.0, 0.45]}, \"xaxis6\": {\"anchor\": \"y6\", \"domain\": [0.55, 1.0]}, \"xaxis7\": {\"anchor\": \"y7\", \"domain\": [0.0, 0.45]}, \"xaxis8\": {\"anchor\": \"y8\", \"domain\": [0.55, 1.0]}, \"yaxis\": {\"anchor\": \"x\", \"domain\": [0.84375, 1.0], \"range\": [0, 0.1]}, \"yaxis2\": {\"anchor\": \"x2\", \"domain\": [0.84375, 1.0], \"range\": [0, 0.1]}, \"yaxis3\": {\"anchor\": \"x3\", \"domain\": [0.5625, 0.71875], \"range\": [0, 0.1]}, \"yaxis4\": {\"anchor\": \"x4\", \"domain\": [0.5625, 0.71875], \"range\": [0, 0.1]}, \"yaxis5\": {\"anchor\": \"x5\", \"domain\": [0.28125, 0.4375], \"range\": [0, 0.1]}, \"yaxis6\": {\"anchor\": \"x6\", \"domain\": [0.28125, 0.4375], \"range\": [0, 0.1]}, \"yaxis7\": {\"anchor\": \"x7\", \"domain\": [0.0, 0.15625], \"range\": [0, 0.1]}, \"yaxis8\": {\"anchor\": \"x8\", \"domain\": [0.0, 0.15625], \"range\": [0, 0.1]}},\n",
       "                        {\"responsive\": true}\n",
       "                    ).then(function(){\n",
       "                            \n",
       "var gd = document.getElementById('20d53d64-f824-420c-ae8f-96817e7c4736');\n",
       "var x = new MutationObserver(function (mutations, observer) {{\n",
       "        var display = window.getComputedStyle(gd).display;\n",
       "        if (!display || display === 'none') {{\n",
       "            console.log([gd, 'removed!']);\n",
       "            Plotly.purge(gd);\n",
       "            observer.disconnect();\n",
       "        }}\n",
       "}});\n",
       "\n",
       "// Listen for the removal of the full notebook cells\n",
       "var notebookContainer = gd.closest('#notebook-container');\n",
       "if (notebookContainer) {{\n",
       "    x.observe(notebookContainer, {childList: true});\n",
       "}}\n",
       "\n",
       "// Listen for the clearing of the current output cell\n",
       "var outputEl = gd.closest('.output');\n",
       "if (outputEl) {{\n",
       "    x.observe(outputEl, {childList: true});\n",
       "}}\n",
       "\n",
       "                        })\n",
       "                };\n",
       "                });\n",
       "            </script>\n",
       "        </div>"
      ]
     },
     "metadata": {},
     "output_type": "display_data"
    }
   ],
   "source": [
    "#multi-facted line charts\n",
    "fig = make_subplots(rows=4, cols=2, subplot_titles=(\"Anger\", \"Joy\", \"Anticipation\", \n",
    "                                                    \"Sadness\",\"Disgust\",\"Surprise\",\n",
    "                                                   \"Fear\",\"Trust\"))\n",
    "\n",
    "fig.append_trace(go.Scatter(\n",
    "    x = nrc_anger.created_at_date,\n",
    "    y = nrc_anger.average_sentiment,\n",
    "    mode = \"lines\"), row=1, col=1)\n",
    "\n",
    "fig.append_trace(go.Scatter(\n",
    "    x = nrc_anticipation.created_at_date,\n",
    "    y = nrc_anticipation.average_sentiment,\n",
    "    mode = \"lines\"), row=2, col=1)\n",
    "\n",
    "fig.append_trace(go.Scatter(\n",
    "    x = nrc_disgust.created_at_date,\n",
    "    y = nrc_disgust.average_sentiment,\n",
    "    mode = \"lines\"), row=3, col=1)\n",
    "\n",
    "fig.append_trace(go.Scatter(\n",
    "    x = nrc_fear.created_at_date,\n",
    "    y = nrc_fear.average_sentiment,\n",
    "    mode = \"lines\"), row=4, col=1)\n",
    "\n",
    "fig.append_trace(go.Scatter(\n",
    "    x = nrc_joy.created_at_date,\n",
    "    y = nrc_joy.average_sentiment,\n",
    "    mode = \"lines\"), row=1, col=2)\n",
    "\n",
    "fig.append_trace(go.Scatter(\n",
    "    x = nrc_sadness.created_at_date,\n",
    "    y = nrc_sadness.average_sentiment,\n",
    "    mode = \"lines\"), row=2, col=2)\n",
    "\n",
    "fig.append_trace(go.Scatter(\n",
    "    x = nrc_surprise.created_at_date,\n",
    "    y = nrc_surprise.average_sentiment,\n",
    "    mode = \"lines\"), row=3, col=2)\n",
    "\n",
    "fig.append_trace(go.Scatter(\n",
    "    x = nrc_trust.created_at_date,\n",
    "    y = nrc_trust.average_sentiment,\n",
    "    mode = \"lines\"), row=4, col=2)\n",
    "\n",
    "fig.update_yaxes(range=[0,.1],row=1, col=1)\n",
    "fig.update_yaxes(range=[0,.1],row=2, col=1)\n",
    "fig.update_yaxes(range=[0,.1],row=3, col=1)\n",
    "fig.update_yaxes(range=[0,.1],row=4, col=1)\n",
    "fig.update_yaxes(range=[0,.1],row=1, col=2)\n",
    "fig.update_yaxes(range=[0,.1],row=2, col=2)\n",
    "fig.update_yaxes(range=[0,.1],row=3, col=2)\n",
    "fig.update_yaxes(range=[0,.1],row=4, col=2)\n",
    "\n",
    "fig.update_layout(height=800, width=700,showlegend=False)\n",
    "#fig.update_layout(height=800, width=700, title_text=\"NRC Lexicon: Emotions over Date\",showlegend=False)\n",
    "fig.show()"
   ]
  },
  {
   "cell_type": "code",
   "execution_count": 66,
   "metadata": {},
   "outputs": [],
   "source": [
    "nrc_city = nrc.merge(geo, how='inner', left_on='place_full_name', right_on='name')\n",
    "#nrc_date = pd.melt(nrc_date,id_vars='created_at_date',var_name='emotion',value_name='average_sentiment')"
   ]
  },
  {
   "cell_type": "code",
   "execution_count": 67,
   "metadata": {},
   "outputs": [
    {
     "data": {
      "text/plain": [
       "Sydney       124\n",
       "Melbourne    111\n",
       "Brisbane      61\n",
       "Perth         37\n",
       "Canberra      22\n",
       "Adelaide      11\n",
       "Name: place_name, dtype: int64"
      ]
     },
     "execution_count": 67,
     "metadata": {},
     "output_type": "execute_result"
    }
   ],
   "source": [
    "nrc_city=nrc_city[['place_name','anger', 'anticipation', 'disgust', 'fear', 'joy','sadness', 'surprise', 'trust']]\n",
    "#keep only the major cities for further visualisations\n",
    "cities = ['Sydney', 'Melbourne','Brisbane','Canberra','Adelaide','Perth (WA)','Perth']\n",
    "nrc_city= nrc_city[nrc_city.place_name.isin(cities)]\n",
    "nrc_city['place_name'].replace('Perth (WA)','Perth',inplace=True)\n",
    "nrc_city['place_name'].value_counts()"
   ]
  },
  {
   "cell_type": "code",
   "execution_count": 68,
   "metadata": {},
   "outputs": [],
   "source": [
    "nrc_city= pd.melt(nrc_city,id_vars='place_name',var_name='emotion',value_name='average_sentiment')\n",
    "nrc_city = nrc_city.groupby(['place_name', 'emotion']).agg({'average_sentiment': 'mean'}).reset_index()"
   ]
  },
  {
   "cell_type": "code",
   "execution_count": 69,
   "metadata": {},
   "outputs": [],
   "source": [
    "nrc_anger = nrc_city[nrc_city.emotion=='anger']\n",
    "nrc_anticipation = nrc_city[nrc_city.emotion=='anticipation']\n",
    "nrc_disgust = nrc_city[nrc_city.emotion=='disgust']\n",
    "nrc_fear = nrc_city[nrc_city.emotion=='fear']\n",
    "nrc_joy = nrc_city[nrc_city.emotion=='joy']\n",
    "nrc_sadness = nrc_city[nrc_city.emotion=='sadness']\n",
    "nrc_surprise = nrc_city[nrc_city.emotion=='surprise']\n",
    "nrc_trust = nrc_city[nrc_city.emotion=='trust']"
   ]
  },
  {
   "cell_type": "code",
   "execution_count": 70,
   "metadata": {},
   "outputs": [
    {
     "data": {
      "application/vnd.plotly.v1+json": {
       "config": {
        "plotlyServerURL": "https://plot.ly"
       },
       "data": [
        {
         "name": "Anger",
         "type": "bar",
         "x": [
          "Adelaide",
          "Brisbane",
          "Canberra",
          "Melbourne",
          "Perth",
          "Sydney"
         ],
         "y": [
          0.012954545454545456,
          0.01548571277723095,
          0.0037878787878787876,
          0.009735810549962297,
          0.0054600054600054595,
          0.006354822382356153
         ]
        },
        {
         "name": "Anticipation",
         "type": "bar",
         "x": [
          "Adelaide",
          "Brisbane",
          "Canberra",
          "Melbourne",
          "Perth",
          "Sydney"
         ],
         "y": [
          0.04164600982990831,
          0.04597533668839209,
          0.05089684963696821,
          0.03202053887633311,
          0.035919176163489,
          0.03462573090118966
         ]
        },
        {
         "name": "Disgust",
         "type": "bar",
         "x": [
          "Adelaide",
          "Brisbane",
          "Canberra",
          "Melbourne",
          "Perth",
          "Sydney"
         ],
         "y": [
          0.011775184275184276,
          0.011768497994442401,
          0.004166666666666667,
          0.009803344131988632,
          0.004692192192192192,
          0.006586665982888394
         ]
        },
        {
         "name": "Fear",
         "type": "bar",
         "x": [
          "Adelaide",
          "Brisbane",
          "Canberra",
          "Melbourne",
          "Perth",
          "Sydney"
         ],
         "y": [
          0.025351239669421488,
          0.022879013028535063,
          0.007747933884297522,
          0.01750861703165737,
          0.01744902661917065,
          0.013841411321619116
         ]
        },
        {
         "name": "Joy",
         "type": "bar",
         "x": [
          "Adelaide",
          "Brisbane",
          "Canberra",
          "Melbourne",
          "Perth",
          "Sydney"
         ],
         "y": [
          0.031884641085285985,
          0.04222251959965733,
          0.04091615455251819,
          0.033412045553624314,
          0.018354900127345943,
          0.032928638209449794
         ]
        },
        {
         "name": "Sadness",
         "type": "bar",
         "x": [
          "Adelaide",
          "Brisbane",
          "Canberra",
          "Melbourne",
          "Perth",
          "Sydney"
         ],
         "y": [
          0.021714876033057853,
          0.026405676822670813,
          0.005853994490358127,
          0.014190551499633029,
          0.008557470513992253,
          0.009860662287306563
         ]
        },
        {
         "name": "Surprise",
         "type": "bar",
         "x": [
          "Adelaide",
          "Brisbane",
          "Canberra",
          "Melbourne",
          "Perth",
          "Sydney"
         ],
         "y": [
          0.0036363636363636364,
          0.013025583564729975,
          0.019541695678059315,
          0.006605304610419699,
          0.01088832338832339,
          0.008391965739533467
         ]
        },
        {
         "name": "Trust",
         "type": "bar",
         "x": [
          "Adelaide",
          "Brisbane",
          "Canberra",
          "Melbourne",
          "Perth",
          "Sydney"
         ],
         "y": [
          0.05219878639943129,
          0.05596172661508849,
          0.07279910745819838,
          0.03560153616214844,
          0.05062580468590699,
          0.045660628409107
         ]
        }
       ],
       "layout": {
        "barmode": "stack",
        "template": {
         "data": {
          "bar": [
           {
            "error_x": {
             "color": "#2a3f5f"
            },
            "error_y": {
             "color": "#2a3f5f"
            },
            "marker": {
             "line": {
              "color": "#E5ECF6",
              "width": 0.5
             }
            },
            "type": "bar"
           }
          ],
          "barpolar": [
           {
            "marker": {
             "line": {
              "color": "#E5ECF6",
              "width": 0.5
             }
            },
            "type": "barpolar"
           }
          ],
          "carpet": [
           {
            "aaxis": {
             "endlinecolor": "#2a3f5f",
             "gridcolor": "white",
             "linecolor": "white",
             "minorgridcolor": "white",
             "startlinecolor": "#2a3f5f"
            },
            "baxis": {
             "endlinecolor": "#2a3f5f",
             "gridcolor": "white",
             "linecolor": "white",
             "minorgridcolor": "white",
             "startlinecolor": "#2a3f5f"
            },
            "type": "carpet"
           }
          ],
          "choropleth": [
           {
            "colorbar": {
             "outlinewidth": 0,
             "ticks": ""
            },
            "type": "choropleth"
           }
          ],
          "contour": [
           {
            "colorbar": {
             "outlinewidth": 0,
             "ticks": ""
            },
            "colorscale": [
             [
              0,
              "#0d0887"
             ],
             [
              0.1111111111111111,
              "#46039f"
             ],
             [
              0.2222222222222222,
              "#7201a8"
             ],
             [
              0.3333333333333333,
              "#9c179e"
             ],
             [
              0.4444444444444444,
              "#bd3786"
             ],
             [
              0.5555555555555556,
              "#d8576b"
             ],
             [
              0.6666666666666666,
              "#ed7953"
             ],
             [
              0.7777777777777778,
              "#fb9f3a"
             ],
             [
              0.8888888888888888,
              "#fdca26"
             ],
             [
              1,
              "#f0f921"
             ]
            ],
            "type": "contour"
           }
          ],
          "contourcarpet": [
           {
            "colorbar": {
             "outlinewidth": 0,
             "ticks": ""
            },
            "type": "contourcarpet"
           }
          ],
          "heatmap": [
           {
            "colorbar": {
             "outlinewidth": 0,
             "ticks": ""
            },
            "colorscale": [
             [
              0,
              "#0d0887"
             ],
             [
              0.1111111111111111,
              "#46039f"
             ],
             [
              0.2222222222222222,
              "#7201a8"
             ],
             [
              0.3333333333333333,
              "#9c179e"
             ],
             [
              0.4444444444444444,
              "#bd3786"
             ],
             [
              0.5555555555555556,
              "#d8576b"
             ],
             [
              0.6666666666666666,
              "#ed7953"
             ],
             [
              0.7777777777777778,
              "#fb9f3a"
             ],
             [
              0.8888888888888888,
              "#fdca26"
             ],
             [
              1,
              "#f0f921"
             ]
            ],
            "type": "heatmap"
           }
          ],
          "heatmapgl": [
           {
            "colorbar": {
             "outlinewidth": 0,
             "ticks": ""
            },
            "colorscale": [
             [
              0,
              "#0d0887"
             ],
             [
              0.1111111111111111,
              "#46039f"
             ],
             [
              0.2222222222222222,
              "#7201a8"
             ],
             [
              0.3333333333333333,
              "#9c179e"
             ],
             [
              0.4444444444444444,
              "#bd3786"
             ],
             [
              0.5555555555555556,
              "#d8576b"
             ],
             [
              0.6666666666666666,
              "#ed7953"
             ],
             [
              0.7777777777777778,
              "#fb9f3a"
             ],
             [
              0.8888888888888888,
              "#fdca26"
             ],
             [
              1,
              "#f0f921"
             ]
            ],
            "type": "heatmapgl"
           }
          ],
          "histogram": [
           {
            "marker": {
             "colorbar": {
              "outlinewidth": 0,
              "ticks": ""
             }
            },
            "type": "histogram"
           }
          ],
          "histogram2d": [
           {
            "colorbar": {
             "outlinewidth": 0,
             "ticks": ""
            },
            "colorscale": [
             [
              0,
              "#0d0887"
             ],
             [
              0.1111111111111111,
              "#46039f"
             ],
             [
              0.2222222222222222,
              "#7201a8"
             ],
             [
              0.3333333333333333,
              "#9c179e"
             ],
             [
              0.4444444444444444,
              "#bd3786"
             ],
             [
              0.5555555555555556,
              "#d8576b"
             ],
             [
              0.6666666666666666,
              "#ed7953"
             ],
             [
              0.7777777777777778,
              "#fb9f3a"
             ],
             [
              0.8888888888888888,
              "#fdca26"
             ],
             [
              1,
              "#f0f921"
             ]
            ],
            "type": "histogram2d"
           }
          ],
          "histogram2dcontour": [
           {
            "colorbar": {
             "outlinewidth": 0,
             "ticks": ""
            },
            "colorscale": [
             [
              0,
              "#0d0887"
             ],
             [
              0.1111111111111111,
              "#46039f"
             ],
             [
              0.2222222222222222,
              "#7201a8"
             ],
             [
              0.3333333333333333,
              "#9c179e"
             ],
             [
              0.4444444444444444,
              "#bd3786"
             ],
             [
              0.5555555555555556,
              "#d8576b"
             ],
             [
              0.6666666666666666,
              "#ed7953"
             ],
             [
              0.7777777777777778,
              "#fb9f3a"
             ],
             [
              0.8888888888888888,
              "#fdca26"
             ],
             [
              1,
              "#f0f921"
             ]
            ],
            "type": "histogram2dcontour"
           }
          ],
          "mesh3d": [
           {
            "colorbar": {
             "outlinewidth": 0,
             "ticks": ""
            },
            "type": "mesh3d"
           }
          ],
          "parcoords": [
           {
            "line": {
             "colorbar": {
              "outlinewidth": 0,
              "ticks": ""
             }
            },
            "type": "parcoords"
           }
          ],
          "scatter": [
           {
            "marker": {
             "colorbar": {
              "outlinewidth": 0,
              "ticks": ""
             }
            },
            "type": "scatter"
           }
          ],
          "scatter3d": [
           {
            "line": {
             "colorbar": {
              "outlinewidth": 0,
              "ticks": ""
             }
            },
            "marker": {
             "colorbar": {
              "outlinewidth": 0,
              "ticks": ""
             }
            },
            "type": "scatter3d"
           }
          ],
          "scattercarpet": [
           {
            "marker": {
             "colorbar": {
              "outlinewidth": 0,
              "ticks": ""
             }
            },
            "type": "scattercarpet"
           }
          ],
          "scattergeo": [
           {
            "marker": {
             "colorbar": {
              "outlinewidth": 0,
              "ticks": ""
             }
            },
            "type": "scattergeo"
           }
          ],
          "scattergl": [
           {
            "marker": {
             "colorbar": {
              "outlinewidth": 0,
              "ticks": ""
             }
            },
            "type": "scattergl"
           }
          ],
          "scattermapbox": [
           {
            "marker": {
             "colorbar": {
              "outlinewidth": 0,
              "ticks": ""
             }
            },
            "type": "scattermapbox"
           }
          ],
          "scatterpolar": [
           {
            "marker": {
             "colorbar": {
              "outlinewidth": 0,
              "ticks": ""
             }
            },
            "type": "scatterpolar"
           }
          ],
          "scatterpolargl": [
           {
            "marker": {
             "colorbar": {
              "outlinewidth": 0,
              "ticks": ""
             }
            },
            "type": "scatterpolargl"
           }
          ],
          "scatterternary": [
           {
            "marker": {
             "colorbar": {
              "outlinewidth": 0,
              "ticks": ""
             }
            },
            "type": "scatterternary"
           }
          ],
          "surface": [
           {
            "colorbar": {
             "outlinewidth": 0,
             "ticks": ""
            },
            "colorscale": [
             [
              0,
              "#0d0887"
             ],
             [
              0.1111111111111111,
              "#46039f"
             ],
             [
              0.2222222222222222,
              "#7201a8"
             ],
             [
              0.3333333333333333,
              "#9c179e"
             ],
             [
              0.4444444444444444,
              "#bd3786"
             ],
             [
              0.5555555555555556,
              "#d8576b"
             ],
             [
              0.6666666666666666,
              "#ed7953"
             ],
             [
              0.7777777777777778,
              "#fb9f3a"
             ],
             [
              0.8888888888888888,
              "#fdca26"
             ],
             [
              1,
              "#f0f921"
             ]
            ],
            "type": "surface"
           }
          ],
          "table": [
           {
            "cells": {
             "fill": {
              "color": "#EBF0F8"
             },
             "line": {
              "color": "white"
             }
            },
            "header": {
             "fill": {
              "color": "#C8D4E3"
             },
             "line": {
              "color": "white"
             }
            },
            "type": "table"
           }
          ]
         },
         "layout": {
          "annotationdefaults": {
           "arrowcolor": "#2a3f5f",
           "arrowhead": 0,
           "arrowwidth": 1
          },
          "colorscale": {
           "diverging": [
            [
             0,
             "#8e0152"
            ],
            [
             0.1,
             "#c51b7d"
            ],
            [
             0.2,
             "#de77ae"
            ],
            [
             0.3,
             "#f1b6da"
            ],
            [
             0.4,
             "#fde0ef"
            ],
            [
             0.5,
             "#f7f7f7"
            ],
            [
             0.6,
             "#e6f5d0"
            ],
            [
             0.7,
             "#b8e186"
            ],
            [
             0.8,
             "#7fbc41"
            ],
            [
             0.9,
             "#4d9221"
            ],
            [
             1,
             "#276419"
            ]
           ],
           "sequential": [
            [
             0,
             "#0d0887"
            ],
            [
             0.1111111111111111,
             "#46039f"
            ],
            [
             0.2222222222222222,
             "#7201a8"
            ],
            [
             0.3333333333333333,
             "#9c179e"
            ],
            [
             0.4444444444444444,
             "#bd3786"
            ],
            [
             0.5555555555555556,
             "#d8576b"
            ],
            [
             0.6666666666666666,
             "#ed7953"
            ],
            [
             0.7777777777777778,
             "#fb9f3a"
            ],
            [
             0.8888888888888888,
             "#fdca26"
            ],
            [
             1,
             "#f0f921"
            ]
           ],
           "sequentialminus": [
            [
             0,
             "#0d0887"
            ],
            [
             0.1111111111111111,
             "#46039f"
            ],
            [
             0.2222222222222222,
             "#7201a8"
            ],
            [
             0.3333333333333333,
             "#9c179e"
            ],
            [
             0.4444444444444444,
             "#bd3786"
            ],
            [
             0.5555555555555556,
             "#d8576b"
            ],
            [
             0.6666666666666666,
             "#ed7953"
            ],
            [
             0.7777777777777778,
             "#fb9f3a"
            ],
            [
             0.8888888888888888,
             "#fdca26"
            ],
            [
             1,
             "#f0f921"
            ]
           ]
          },
          "colorway": [
           "#636efa",
           "#EF553B",
           "#00cc96",
           "#ab63fa",
           "#FFA15A",
           "#19d3f3",
           "#FF6692",
           "#B6E880",
           "#FF97FF",
           "#FECB52"
          ],
          "font": {
           "color": "#2a3f5f"
          },
          "geo": {
           "bgcolor": "white",
           "lakecolor": "white",
           "landcolor": "#E5ECF6",
           "showlakes": true,
           "showland": true,
           "subunitcolor": "white"
          },
          "hoverlabel": {
           "align": "left"
          },
          "hovermode": "closest",
          "mapbox": {
           "style": "light"
          },
          "paper_bgcolor": "white",
          "plot_bgcolor": "#E5ECF6",
          "polar": {
           "angularaxis": {
            "gridcolor": "white",
            "linecolor": "white",
            "ticks": ""
           },
           "bgcolor": "#E5ECF6",
           "radialaxis": {
            "gridcolor": "white",
            "linecolor": "white",
            "ticks": ""
           }
          },
          "scene": {
           "xaxis": {
            "backgroundcolor": "#E5ECF6",
            "gridcolor": "white",
            "gridwidth": 2,
            "linecolor": "white",
            "showbackground": true,
            "ticks": "",
            "zerolinecolor": "white"
           },
           "yaxis": {
            "backgroundcolor": "#E5ECF6",
            "gridcolor": "white",
            "gridwidth": 2,
            "linecolor": "white",
            "showbackground": true,
            "ticks": "",
            "zerolinecolor": "white"
           },
           "zaxis": {
            "backgroundcolor": "#E5ECF6",
            "gridcolor": "white",
            "gridwidth": 2,
            "linecolor": "white",
            "showbackground": true,
            "ticks": "",
            "zerolinecolor": "white"
           }
          },
          "shapedefaults": {
           "line": {
            "color": "#2a3f5f"
           }
          },
          "ternary": {
           "aaxis": {
            "gridcolor": "white",
            "linecolor": "white",
            "ticks": ""
           },
           "baxis": {
            "gridcolor": "white",
            "linecolor": "white",
            "ticks": ""
           },
           "bgcolor": "#E5ECF6",
           "caxis": {
            "gridcolor": "white",
            "linecolor": "white",
            "ticks": ""
           }
          },
          "title": {
           "x": 0.05
          },
          "xaxis": {
           "automargin": true,
           "gridcolor": "white",
           "linecolor": "white",
           "ticks": "",
           "zerolinecolor": "white",
           "zerolinewidth": 2
          },
          "yaxis": {
           "automargin": true,
           "gridcolor": "white",
           "linecolor": "white",
           "ticks": "",
           "zerolinecolor": "white",
           "zerolinewidth": 2
          }
         }
        },
        "title": {
         "text": "NRC Lexicon: Emotions by City"
        },
        "xaxis": {
         "categoryorder": "category ascending"
        },
        "yaxis": {
         "title": {
          "text": "Ratio"
         }
        }
       }
      },
      "text/html": [
       "<div>\n",
       "        \n",
       "        \n",
       "            <div id=\"a465f37d-3e77-4cb3-8ee8-a55d237a10a0\" class=\"plotly-graph-div\" style=\"height:525px; width:100%;\"></div>\n",
       "            <script type=\"text/javascript\">\n",
       "                require([\"plotly\"], function(Plotly) {\n",
       "                    window.PLOTLYENV=window.PLOTLYENV || {};\n",
       "                    \n",
       "                if (document.getElementById(\"a465f37d-3e77-4cb3-8ee8-a55d237a10a0\")) {\n",
       "                    Plotly.newPlot(\n",
       "                        'a465f37d-3e77-4cb3-8ee8-a55d237a10a0',\n",
       "                        [{\"name\": \"Anger\", \"type\": \"bar\", \"x\": [\"Adelaide\", \"Brisbane\", \"Canberra\", \"Melbourne\", \"Perth\", \"Sydney\"], \"y\": [0.012954545454545456, 0.01548571277723095, 0.0037878787878787876, 0.009735810549962297, 0.0054600054600054595, 0.006354822382356153]}, {\"name\": \"Anticipation\", \"type\": \"bar\", \"x\": [\"Adelaide\", \"Brisbane\", \"Canberra\", \"Melbourne\", \"Perth\", \"Sydney\"], \"y\": [0.04164600982990831, 0.04597533668839209, 0.05089684963696821, 0.03202053887633311, 0.035919176163489, 0.03462573090118966]}, {\"name\": \"Disgust\", \"type\": \"bar\", \"x\": [\"Adelaide\", \"Brisbane\", \"Canberra\", \"Melbourne\", \"Perth\", \"Sydney\"], \"y\": [0.011775184275184276, 0.011768497994442401, 0.004166666666666667, 0.009803344131988632, 0.004692192192192192, 0.006586665982888394]}, {\"name\": \"Fear\", \"type\": \"bar\", \"x\": [\"Adelaide\", \"Brisbane\", \"Canberra\", \"Melbourne\", \"Perth\", \"Sydney\"], \"y\": [0.025351239669421488, 0.022879013028535063, 0.007747933884297522, 0.01750861703165737, 0.01744902661917065, 0.013841411321619116]}, {\"name\": \"Joy\", \"type\": \"bar\", \"x\": [\"Adelaide\", \"Brisbane\", \"Canberra\", \"Melbourne\", \"Perth\", \"Sydney\"], \"y\": [0.031884641085285985, 0.04222251959965733, 0.04091615455251819, 0.033412045553624314, 0.018354900127345943, 0.032928638209449794]}, {\"name\": \"Sadness\", \"type\": \"bar\", \"x\": [\"Adelaide\", \"Brisbane\", \"Canberra\", \"Melbourne\", \"Perth\", \"Sydney\"], \"y\": [0.021714876033057853, 0.026405676822670813, 0.005853994490358127, 0.014190551499633029, 0.008557470513992253, 0.009860662287306563]}, {\"name\": \"Surprise\", \"type\": \"bar\", \"x\": [\"Adelaide\", \"Brisbane\", \"Canberra\", \"Melbourne\", \"Perth\", \"Sydney\"], \"y\": [0.0036363636363636364, 0.013025583564729975, 0.019541695678059315, 0.006605304610419699, 0.01088832338832339, 0.008391965739533467]}, {\"name\": \"Trust\", \"type\": \"bar\", \"x\": [\"Adelaide\", \"Brisbane\", \"Canberra\", \"Melbourne\", \"Perth\", \"Sydney\"], \"y\": [0.05219878639943129, 0.05596172661508849, 0.07279910745819838, 0.03560153616214844, 0.05062580468590699, 0.045660628409107]}],\n",
       "                        {\"barmode\": \"stack\", \"template\": {\"data\": {\"bar\": [{\"error_x\": {\"color\": \"#2a3f5f\"}, \"error_y\": {\"color\": \"#2a3f5f\"}, \"marker\": {\"line\": {\"color\": \"#E5ECF6\", \"width\": 0.5}}, \"type\": \"bar\"}], \"barpolar\": [{\"marker\": {\"line\": {\"color\": \"#E5ECF6\", \"width\": 0.5}}, \"type\": \"barpolar\"}], \"carpet\": [{\"aaxis\": {\"endlinecolor\": \"#2a3f5f\", \"gridcolor\": \"white\", \"linecolor\": \"white\", \"minorgridcolor\": \"white\", \"startlinecolor\": \"#2a3f5f\"}, \"baxis\": {\"endlinecolor\": \"#2a3f5f\", \"gridcolor\": \"white\", \"linecolor\": \"white\", \"minorgridcolor\": \"white\", \"startlinecolor\": \"#2a3f5f\"}, \"type\": \"carpet\"}], \"choropleth\": [{\"colorbar\": {\"outlinewidth\": 0, \"ticks\": \"\"}, \"type\": \"choropleth\"}], \"contour\": [{\"colorbar\": {\"outlinewidth\": 0, \"ticks\": \"\"}, \"colorscale\": [[0.0, \"#0d0887\"], [0.1111111111111111, \"#46039f\"], [0.2222222222222222, \"#7201a8\"], [0.3333333333333333, \"#9c179e\"], [0.4444444444444444, \"#bd3786\"], [0.5555555555555556, \"#d8576b\"], [0.6666666666666666, \"#ed7953\"], [0.7777777777777778, \"#fb9f3a\"], [0.8888888888888888, \"#fdca26\"], [1.0, \"#f0f921\"]], \"type\": \"contour\"}], \"contourcarpet\": [{\"colorbar\": {\"outlinewidth\": 0, \"ticks\": \"\"}, \"type\": \"contourcarpet\"}], \"heatmap\": [{\"colorbar\": {\"outlinewidth\": 0, \"ticks\": \"\"}, \"colorscale\": [[0.0, \"#0d0887\"], [0.1111111111111111, \"#46039f\"], [0.2222222222222222, \"#7201a8\"], [0.3333333333333333, \"#9c179e\"], [0.4444444444444444, \"#bd3786\"], [0.5555555555555556, \"#d8576b\"], [0.6666666666666666, \"#ed7953\"], [0.7777777777777778, \"#fb9f3a\"], [0.8888888888888888, \"#fdca26\"], [1.0, \"#f0f921\"]], \"type\": \"heatmap\"}], \"heatmapgl\": [{\"colorbar\": {\"outlinewidth\": 0, \"ticks\": \"\"}, \"colorscale\": [[0.0, \"#0d0887\"], [0.1111111111111111, \"#46039f\"], [0.2222222222222222, \"#7201a8\"], [0.3333333333333333, \"#9c179e\"], [0.4444444444444444, \"#bd3786\"], [0.5555555555555556, \"#d8576b\"], [0.6666666666666666, \"#ed7953\"], [0.7777777777777778, \"#fb9f3a\"], [0.8888888888888888, \"#fdca26\"], [1.0, \"#f0f921\"]], \"type\": \"heatmapgl\"}], \"histogram\": [{\"marker\": {\"colorbar\": {\"outlinewidth\": 0, \"ticks\": \"\"}}, \"type\": \"histogram\"}], \"histogram2d\": [{\"colorbar\": {\"outlinewidth\": 0, \"ticks\": \"\"}, \"colorscale\": [[0.0, \"#0d0887\"], [0.1111111111111111, \"#46039f\"], [0.2222222222222222, \"#7201a8\"], [0.3333333333333333, \"#9c179e\"], [0.4444444444444444, \"#bd3786\"], [0.5555555555555556, \"#d8576b\"], [0.6666666666666666, \"#ed7953\"], [0.7777777777777778, \"#fb9f3a\"], [0.8888888888888888, \"#fdca26\"], [1.0, \"#f0f921\"]], \"type\": \"histogram2d\"}], \"histogram2dcontour\": [{\"colorbar\": {\"outlinewidth\": 0, \"ticks\": \"\"}, \"colorscale\": [[0.0, \"#0d0887\"], [0.1111111111111111, \"#46039f\"], [0.2222222222222222, \"#7201a8\"], [0.3333333333333333, \"#9c179e\"], [0.4444444444444444, \"#bd3786\"], [0.5555555555555556, \"#d8576b\"], [0.6666666666666666, \"#ed7953\"], [0.7777777777777778, \"#fb9f3a\"], [0.8888888888888888, \"#fdca26\"], [1.0, \"#f0f921\"]], \"type\": \"histogram2dcontour\"}], \"mesh3d\": [{\"colorbar\": {\"outlinewidth\": 0, \"ticks\": \"\"}, \"type\": \"mesh3d\"}], \"parcoords\": [{\"line\": {\"colorbar\": {\"outlinewidth\": 0, \"ticks\": \"\"}}, \"type\": \"parcoords\"}], \"scatter\": [{\"marker\": {\"colorbar\": {\"outlinewidth\": 0, \"ticks\": \"\"}}, \"type\": \"scatter\"}], \"scatter3d\": [{\"line\": {\"colorbar\": {\"outlinewidth\": 0, \"ticks\": \"\"}}, \"marker\": {\"colorbar\": {\"outlinewidth\": 0, \"ticks\": \"\"}}, \"type\": \"scatter3d\"}], \"scattercarpet\": [{\"marker\": {\"colorbar\": {\"outlinewidth\": 0, \"ticks\": \"\"}}, \"type\": \"scattercarpet\"}], \"scattergeo\": [{\"marker\": {\"colorbar\": {\"outlinewidth\": 0, \"ticks\": \"\"}}, \"type\": \"scattergeo\"}], \"scattergl\": [{\"marker\": {\"colorbar\": {\"outlinewidth\": 0, \"ticks\": \"\"}}, \"type\": \"scattergl\"}], \"scattermapbox\": [{\"marker\": {\"colorbar\": {\"outlinewidth\": 0, \"ticks\": \"\"}}, \"type\": \"scattermapbox\"}], \"scatterpolar\": [{\"marker\": {\"colorbar\": {\"outlinewidth\": 0, \"ticks\": \"\"}}, \"type\": \"scatterpolar\"}], \"scatterpolargl\": [{\"marker\": {\"colorbar\": {\"outlinewidth\": 0, \"ticks\": \"\"}}, \"type\": \"scatterpolargl\"}], \"scatterternary\": [{\"marker\": {\"colorbar\": {\"outlinewidth\": 0, \"ticks\": \"\"}}, \"type\": \"scatterternary\"}], \"surface\": [{\"colorbar\": {\"outlinewidth\": 0, \"ticks\": \"\"}, \"colorscale\": [[0.0, \"#0d0887\"], [0.1111111111111111, \"#46039f\"], [0.2222222222222222, \"#7201a8\"], [0.3333333333333333, \"#9c179e\"], [0.4444444444444444, \"#bd3786\"], [0.5555555555555556, \"#d8576b\"], [0.6666666666666666, \"#ed7953\"], [0.7777777777777778, \"#fb9f3a\"], [0.8888888888888888, \"#fdca26\"], [1.0, \"#f0f921\"]], \"type\": \"surface\"}], \"table\": [{\"cells\": {\"fill\": {\"color\": \"#EBF0F8\"}, \"line\": {\"color\": \"white\"}}, \"header\": {\"fill\": {\"color\": \"#C8D4E3\"}, \"line\": {\"color\": \"white\"}}, \"type\": \"table\"}]}, \"layout\": {\"annotationdefaults\": {\"arrowcolor\": \"#2a3f5f\", \"arrowhead\": 0, \"arrowwidth\": 1}, \"colorscale\": {\"diverging\": [[0, \"#8e0152\"], [0.1, \"#c51b7d\"], [0.2, \"#de77ae\"], [0.3, \"#f1b6da\"], [0.4, \"#fde0ef\"], [0.5, \"#f7f7f7\"], [0.6, \"#e6f5d0\"], [0.7, \"#b8e186\"], [0.8, \"#7fbc41\"], [0.9, \"#4d9221\"], [1, \"#276419\"]], \"sequential\": [[0.0, \"#0d0887\"], [0.1111111111111111, \"#46039f\"], [0.2222222222222222, \"#7201a8\"], [0.3333333333333333, \"#9c179e\"], [0.4444444444444444, \"#bd3786\"], [0.5555555555555556, \"#d8576b\"], [0.6666666666666666, \"#ed7953\"], [0.7777777777777778, \"#fb9f3a\"], [0.8888888888888888, \"#fdca26\"], [1.0, \"#f0f921\"]], \"sequentialminus\": [[0.0, \"#0d0887\"], [0.1111111111111111, \"#46039f\"], [0.2222222222222222, \"#7201a8\"], [0.3333333333333333, \"#9c179e\"], [0.4444444444444444, \"#bd3786\"], [0.5555555555555556, \"#d8576b\"], [0.6666666666666666, \"#ed7953\"], [0.7777777777777778, \"#fb9f3a\"], [0.8888888888888888, \"#fdca26\"], [1.0, \"#f0f921\"]]}, \"colorway\": [\"#636efa\", \"#EF553B\", \"#00cc96\", \"#ab63fa\", \"#FFA15A\", \"#19d3f3\", \"#FF6692\", \"#B6E880\", \"#FF97FF\", \"#FECB52\"], \"font\": {\"color\": \"#2a3f5f\"}, \"geo\": {\"bgcolor\": \"white\", \"lakecolor\": \"white\", \"landcolor\": \"#E5ECF6\", \"showlakes\": true, \"showland\": true, \"subunitcolor\": \"white\"}, \"hoverlabel\": {\"align\": \"left\"}, \"hovermode\": \"closest\", \"mapbox\": {\"style\": \"light\"}, \"paper_bgcolor\": \"white\", \"plot_bgcolor\": \"#E5ECF6\", \"polar\": {\"angularaxis\": {\"gridcolor\": \"white\", \"linecolor\": \"white\", \"ticks\": \"\"}, \"bgcolor\": \"#E5ECF6\", \"radialaxis\": {\"gridcolor\": \"white\", \"linecolor\": \"white\", \"ticks\": \"\"}}, \"scene\": {\"xaxis\": {\"backgroundcolor\": \"#E5ECF6\", \"gridcolor\": \"white\", \"gridwidth\": 2, \"linecolor\": \"white\", \"showbackground\": true, \"ticks\": \"\", \"zerolinecolor\": \"white\"}, \"yaxis\": {\"backgroundcolor\": \"#E5ECF6\", \"gridcolor\": \"white\", \"gridwidth\": 2, \"linecolor\": \"white\", \"showbackground\": true, \"ticks\": \"\", \"zerolinecolor\": \"white\"}, \"zaxis\": {\"backgroundcolor\": \"#E5ECF6\", \"gridcolor\": \"white\", \"gridwidth\": 2, \"linecolor\": \"white\", \"showbackground\": true, \"ticks\": \"\", \"zerolinecolor\": \"white\"}}, \"shapedefaults\": {\"line\": {\"color\": \"#2a3f5f\"}}, \"ternary\": {\"aaxis\": {\"gridcolor\": \"white\", \"linecolor\": \"white\", \"ticks\": \"\"}, \"baxis\": {\"gridcolor\": \"white\", \"linecolor\": \"white\", \"ticks\": \"\"}, \"bgcolor\": \"#E5ECF6\", \"caxis\": {\"gridcolor\": \"white\", \"linecolor\": \"white\", \"ticks\": \"\"}}, \"title\": {\"x\": 0.05}, \"xaxis\": {\"automargin\": true, \"gridcolor\": \"white\", \"linecolor\": \"white\", \"ticks\": \"\", \"zerolinecolor\": \"white\", \"zerolinewidth\": 2}, \"yaxis\": {\"automargin\": true, \"gridcolor\": \"white\", \"linecolor\": \"white\", \"ticks\": \"\", \"zerolinecolor\": \"white\", \"zerolinewidth\": 2}}}, \"title\": {\"text\": \"NRC Lexicon: Emotions by City\"}, \"xaxis\": {\"categoryorder\": \"category ascending\"}, \"yaxis\": {\"title\": {\"text\": \"Ratio\"}}},\n",
       "                        {\"responsive\": true}\n",
       "                    ).then(function(){\n",
       "                            \n",
       "var gd = document.getElementById('a465f37d-3e77-4cb3-8ee8-a55d237a10a0');\n",
       "var x = new MutationObserver(function (mutations, observer) {{\n",
       "        var display = window.getComputedStyle(gd).display;\n",
       "        if (!display || display === 'none') {{\n",
       "            console.log([gd, 'removed!']);\n",
       "            Plotly.purge(gd);\n",
       "            observer.disconnect();\n",
       "        }}\n",
       "}});\n",
       "\n",
       "// Listen for the removal of the full notebook cells\n",
       "var notebookContainer = gd.closest('#notebook-container');\n",
       "if (notebookContainer) {{\n",
       "    x.observe(notebookContainer, {childList: true});\n",
       "}}\n",
       "\n",
       "// Listen for the clearing of the current output cell\n",
       "var outputEl = gd.closest('.output');\n",
       "if (outputEl) {{\n",
       "    x.observe(outputEl, {childList: true});\n",
       "}}\n",
       "\n",
       "                        })\n",
       "                };\n",
       "                });\n",
       "            </script>\n",
       "        </div>"
      ]
     },
     "metadata": {},
     "output_type": "display_data"
    }
   ],
   "source": [
    "x=['Adelaide','Brisbane','Canberra','Melbourne','Perth','Sydney']\n",
    "fig = go.Figure(go.Bar(x =x, y=nrc_anger.average_sentiment, name='Anger'))\n",
    "fig.add_trace(go.Bar(x =x, y=nrc_anticipation.average_sentiment, name='Anticipation'))\n",
    "fig.add_trace(go.Bar(x =x, y=nrc_disgust.average_sentiment, name='Disgust'))\n",
    "fig.add_trace(go.Bar(x =x, y=nrc_fear.average_sentiment, name='Fear'))\n",
    "fig.add_trace(go.Bar(x =x, y=nrc_joy.average_sentiment, name='Joy'))\n",
    "fig.add_trace(go.Bar(x =x, y=nrc_sadness.average_sentiment, name='Sadness'))\n",
    "fig.add_trace(go.Bar(x =x, y=nrc_surprise.average_sentiment, name='Surprise'))\n",
    "fig.add_trace(go.Bar(x =x, y=nrc_trust.average_sentiment, name='Trust'))\n",
    "\n",
    "fig.update_yaxes(title='Ratio')\n",
    "\n",
    "fig.update_layout(barmode='stack', xaxis={'categoryorder':'category ascending'},\n",
    "                 title_text='NRC Lexicon: Emotions by City')\n",
    "fig.show()"
   ]
  },
  {
   "cell_type": "code",
   "execution_count": 71,
   "metadata": {},
   "outputs": [
    {
     "data": {
      "text/html": [
       "<div>\n",
       "<style scoped>\n",
       "    .dataframe tbody tr th:only-of-type {\n",
       "        vertical-align: middle;\n",
       "    }\n",
       "\n",
       "    .dataframe tbody tr th {\n",
       "        vertical-align: top;\n",
       "    }\n",
       "\n",
       "    .dataframe thead th {\n",
       "        text-align: right;\n",
       "    }\n",
       "</style>\n",
       "<table border=\"1\" class=\"dataframe\">\n",
       "  <thead>\n",
       "    <tr style=\"text-align: right;\">\n",
       "      <th></th>\n",
       "      <th>place_full_name</th>\n",
       "      <th>emotion</th>\n",
       "      <th>average_sentiment</th>\n",
       "    </tr>\n",
       "  </thead>\n",
       "  <tbody>\n",
       "    <tr>\n",
       "      <th>5160</th>\n",
       "      <td>Cronulla, Sydney</td>\n",
       "      <td>sadness</td>\n",
       "      <td>0.0</td>\n",
       "    </tr>\n",
       "    <tr>\n",
       "      <th>5161</th>\n",
       "      <td>Sydney, New South Wales</td>\n",
       "      <td>sadness</td>\n",
       "      <td>0.0</td>\n",
       "    </tr>\n",
       "    <tr>\n",
       "      <th>5162</th>\n",
       "      <td>Sydney, New South Wales</td>\n",
       "      <td>sadness</td>\n",
       "      <td>0.0</td>\n",
       "    </tr>\n",
       "  </tbody>\n",
       "</table>\n",
       "</div>"
      ],
      "text/plain": [
       "              place_full_name  emotion  average_sentiment\n",
       "5160         Cronulla, Sydney  sadness                0.0\n",
       "5161  Sydney, New South Wales  sadness                0.0\n",
       "5162  Sydney, New South Wales  sadness                0.0"
      ]
     },
     "execution_count": 71,
     "metadata": {},
     "output_type": "execute_result"
    }
   ],
   "source": [
    "# Sadness Map\n",
    "sad_map = nrc.merge(geo, how='inner', left_on='place_full_name', right_on='name')\n",
    "sad_map= pd.melt(sad_map,id_vars='place_full_name',var_name='emotion',value_name='average_sentiment')\n",
    "sad_map = sad_map[sad_map.emotion=='sadness']\n",
    "sad_map['average_sentiment']=pd.to_numeric(sad_map['average_sentiment'])\n",
    "sad_map.head(3)"
   ]
  },
  {
   "cell_type": "code",
   "execution_count": 72,
   "metadata": {},
   "outputs": [],
   "source": [
    "sad_map = sad_map.groupby(['place_full_name']).agg({'average_sentiment': 'mean'}).reset_index()"
   ]
  },
  {
   "cell_type": "code",
   "execution_count": 73,
   "metadata": {},
   "outputs": [
    {
     "data": {
      "text/plain": [
       "(81, 5)"
      ]
     },
     "execution_count": 73,
     "metadata": {},
     "output_type": "execute_result"
    }
   ],
   "source": [
    "sad_map = sad_map.merge(geo, how='inner', left_on='place_full_name', right_on='name')\n",
    "sad_map.shape"
   ]
  },
  {
   "cell_type": "code",
   "execution_count": 74,
   "metadata": {},
   "outputs": [],
   "source": [
    "sad_map=sad_map[sad_map.average_sentiment!=0]"
   ]
  },
  {
   "cell_type": "code",
   "execution_count": 75,
   "metadata": {},
   "outputs": [
    {
     "data": {
      "text/html": [
       "<div style=\"width:100%;\"><div style=\"position:relative;width:100%;height:0;padding-bottom:60%;\"><iframe src=\"data:text/html;charset=utf-8;base64,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\" style=\"position:absolute;width:100%;height:100%;left:0;top:0;border:none !important;\" allowfullscreen webkitallowfullscreen mozallowfullscreen></iframe></div></div>"
      ],
      "text/plain": [
       "<folium.folium.Map at 0x1a2b558ac8>"
      ]
     },
     "execution_count": 75,
     "metadata": {},
     "output_type": "execute_result"
    }
   ],
   "source": [
    "latitude = -25.734968\n",
    "longitude = 134.489563\n",
    "sentiment_map_sad = folium.Map(location=[latitude, longitude], zoom_start=3)\n",
    "for lat, lon,sentiment,place in zip(sad_map['lat'], sad_map['long'], \n",
    "                                         sad_map['average_sentiment'],sad_map['place_full_name']):\n",
    "    folium.CircleMarker(\n",
    "        [lat, lon],\n",
    "        radius=sentiment*50,\n",
    "        popup = (str(place)+\":\"+str(sentiment)),\n",
    "        color='b',\n",
    "        fill_color='red',\n",
    "        fill=True,\n",
    "        fill_opacity=0.7\n",
    "        ).add_to(sentiment_map_sad)\n",
    "#click on the circle marker to see the location name and the average proportion of sadness words in the tweets\n",
    "sentiment_map_sad"
   ]
  },
  {
   "cell_type": "code",
   "execution_count": null,
   "metadata": {},
   "outputs": [],
   "source": []
  }
 ],
 "metadata": {
  "kernelspec": {
   "display_name": "Python 3",
   "language": "python",
   "name": "python3"
  },
  "language_info": {
   "codemirror_mode": {
    "name": "ipython",
    "version": 3
   },
   "file_extension": ".py",
   "mimetype": "text/x-python",
   "name": "python",
   "nbconvert_exporter": "python",
   "pygments_lexer": "ipython3",
   "version": "3.7.3"
  }
 },
 "nbformat": 4,
 "nbformat_minor": 2
}
